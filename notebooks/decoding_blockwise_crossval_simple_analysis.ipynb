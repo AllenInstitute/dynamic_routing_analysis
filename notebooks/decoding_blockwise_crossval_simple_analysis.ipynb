{
 "cells": [
  {
   "cell_type": "code",
   "execution_count": null,
   "metadata": {},
   "outputs": [],
   "source": [
    "import pandas as pd\n",
    "import numpy as np\n",
    "import os\n",
    "import pickle\n",
    "import scipy.stats as st\n",
    "import matplotlib.pyplot as plt\n",
    "import matplotlib as mpl\n",
    "from npc_sessions import DynamicRoutingSession\n",
    "\n",
    "mpl.rcParams['pdf.fonttype'] = 42\n",
    "mpl.rcParams['ps.fonttype'] = 42\n"
   ]
  },
  {
   "cell_type": "code",
   "execution_count": null,
   "metadata": {},
   "outputs": [],
   "source": [
    "loadpath=r'C:\\Users\\ethan.mcbride\\OneDrive - Allen Institute\\DR decoding results\\by_session\\blockwise_crossval_no_autos'\n",
    "\n",
    "svc_results={}\n",
    "decoder_results=os.listdir(loadpath)"
   ]
  },
  {
   "cell_type": "code",
   "execution_count": null,
   "metadata": {},
   "outputs": [],
   "source": [
    "#TODO: add session decoder accuracy, add probe, add blockwise decoder accuracy??\n",
    "\n",
    "balanced_accuracy_by_session={}\n",
    "# loop through n units\n",
    "unit_nums=np.array([0, 1])\n",
    "for n_units in unit_nums:\n",
    "    balanced_accuracy_by_session[n_units]={}\n",
    "\n",
    "    balanced_accuracy_by_session[n_units]['structure']=[]\n",
    "    balanced_accuracy_by_session[n_units]['probe']=[]\n",
    "    balanced_accuracy_by_session[n_units]['session']=[]\n",
    "    balanced_accuracy_by_session[n_units]['total_units']=[]\n",
    "    balanced_accuracy_by_session[n_units]['session_balanced_accuracy']=[]\n",
    "    balanced_accuracy_by_session[n_units]['session_balanced_accuracy_shuffle']=[]\n",
    "\n",
    "\n",
    "#load session\n",
    "for ii,ff in enumerate(decoder_results[:]):\n",
    "    with open(os.path.join(loadpath,ff),'rb') as handle:\n",
    "        svc_results=pickle.load(handle)\n",
    "    print(ff)\n",
    "\n",
    "    all_areas=np.unique(list(svc_results['block_ids'].keys()))\n",
    "    timepoints=[0]\n",
    "    label_list=['vis','aud']\n",
    "    predict=['block_ids']\n",
    "    n_units=svc_results['unit_numbers']\n",
    "    unit_numbers=np.arange(0,len(n_units))\n",
    "    n_repeats=svc_results['n_repeats']\n",
    "\n",
    "    #extract decision functions\n",
    "    \n",
    "    timepoint=0\n",
    "    predict=['block_ids']\n",
    "\n",
    "    balanced_accuracy={}\n",
    "    balanced_accuracy_shuffle={}\n",
    "\n",
    "    for p in predict:\n",
    "        balanced_accuracy[p]={}\n",
    "        balanced_accuracy_shuffle[p]={}\n",
    "        for n_units in unit_numbers:\n",
    "            balanced_accuracy[p][n_units]={}\n",
    "            balanced_accuracy_shuffle[p][n_units]={}\n",
    "            for aa in all_areas:\n",
    "                if aa in svc_results[p].keys():\n",
    "                    balanced_accuracy[p][n_units][aa]={}\n",
    "                    balanced_accuracy_shuffle[p][n_units][aa]={}\n",
    "                    if len(svc_results[p][aa][timepoint][n_units])>0:\n",
    "                        balanced_accuracy_all=[]\n",
    "                        balanced_accuracy_shuffle_all=[]\n",
    "                        for repeat in range(0,n_repeats):\n",
    "\n",
    "                            balanced_accuracy[p][n_units][aa][repeat]=svc_results[p][aa][timepoint][n_units][repeat]['balanced_accuracy']\n",
    "                            balanced_accuracy_shuffle[p][n_units][aa][repeat]=svc_results[p][aa][timepoint][n_units][repeat]['shuffle']['balanced_accuracy']\n",
    "                            balanced_accuracy_all.append(balanced_accuracy[p][n_units][aa][repeat])\n",
    "                            balanced_accuracy_shuffle_all.append(balanced_accuracy_shuffle[p][n_units][aa][repeat])\n",
    "\n",
    "                        balanced_accuracy[p][n_units][aa]['average']=np.nanmean(np.vstack(balanced_accuracy_all))\n",
    "                        balanced_accuracy_shuffle[p][n_units][aa]['average']=np.nanmean(np.vstack(balanced_accuracy_shuffle_all))\n",
    "\n",
    "    #align results to switch times\n",
    "    all_areas=np.unique(np.hstack(all_areas))\n",
    "    unit_numbers=np.arange(0,len(svc_results['unit_numbers']))\n",
    "\n",
    "    # session_id=svc_results['metadata'].session_id\n",
    "    session_id=ff[:17]\n",
    "    print(session_id)\n",
    "\n",
    "    session=DynamicRoutingSession(session_id)\n",
    "\n",
    "    p='block_ids'\n",
    "\n",
    "    for aa in all_areas:\n",
    "        for n_units in unit_numbers:\n",
    "            if aa in balanced_accuracy[p][n_units].keys():\n",
    "                if len(balanced_accuracy[p][n_units][aa])>0:\n",
    "\n",
    "                    if 'probe' in aa:\n",
    "                        probe=aa.split('_')[1]\n",
    "                        temp_area=aa.split('_')[0]\n",
    "                    else:\n",
    "                        probe=None\n",
    "                        temp_area=aa\n",
    "                    balanced_accuracy_by_session[n_units]['structure'].append(temp_area)\n",
    "                    balanced_accuracy_by_session[n_units]['probe'].append(probe)\n",
    "                    balanced_accuracy_by_session[n_units]['session'].append(session_id)\n",
    "                    balanced_accuracy_by_session[n_units]['total_units'].append(svc_results[p][aa]['n_units'])\n",
    "                    balanced_accuracy_by_session[n_units]['session_balanced_accuracy'].append(balanced_accuracy[p][n_units][aa]['average'])\n",
    "                    balanced_accuracy_by_session[n_units]['session_balanced_accuracy_shuffle'].append(balanced_accuracy_shuffle[p][n_units][aa]['average'])\n",
    "\n",
    "\n",
    "\n"
   ]
  },
  {
   "cell_type": "code",
   "execution_count": null,
   "metadata": {},
   "outputs": [],
   "source": [
    "# ff[:17]"
   ]
  },
  {
   "cell_type": "code",
   "execution_count": null,
   "metadata": {},
   "outputs": [],
   "source": [
    "balanced_accuracy_by_session_df=pd.DataFrame.from_dict(balanced_accuracy_by_session[0])\n",
    "balanced_accuracy_by_session_df"
   ]
  },
  {
   "cell_type": "code",
   "execution_count": null,
   "metadata": {},
   "outputs": [],
   "source": [
    "balanced_accuracy_by_session_df.query('structure==\"ORBl\"')['session_balanced_accuracy'].mean()"
   ]
  },
  {
   "cell_type": "code",
   "execution_count": null,
   "metadata": {},
   "outputs": [],
   "source": [
    "balanced_accuracy_by_session_df.query('structure.str.contains(\"MOs\")')"
   ]
  },
  {
   "cell_type": "code",
   "execution_count": null,
   "metadata": {},
   "outputs": [],
   "source": [
    "balanced_accuracy_by_session_df.query('session_balanced_accuracy>0.7')"
   ]
  },
  {
   "cell_type": "code",
   "execution_count": null,
   "metadata": {},
   "outputs": [],
   "source": [
    "balanced_accuracy_by_session_df['structure'].unique()"
   ]
  },
  {
   "cell_type": "code",
   "execution_count": null,
   "metadata": {},
   "outputs": [],
   "source": [
    "block_shuffle_results=pd.read_csv(r\"\\\\allen\\programs\\mindscope\\workgroups\\templeton\\TTOC\\decoding results\\multi_shuffled_blocks\\processed\\multi_block_results_new.csv\")\n",
    "block_shuffle_results"
   ]
  },
  {
   "cell_type": "code",
   "execution_count": null,
   "metadata": {},
   "outputs": [],
   "source": [
    "templ_above_chance=block_shuffle_results.query('project.str.contains(\"Templeton\") and block_multiplier==2 and structure!=\"all\"')['test_distribution_median'].mean()-0.5"
   ]
  },
  {
   "cell_type": "code",
   "execution_count": null,
   "metadata": {},
   "outputs": [],
   "source": []
  }
 ],
 "metadata": {
  "kernelspec": {
   "display_name": "npc_analysis",
   "language": "python",
   "name": "python3"
  },
  "language_info": {
   "codemirror_mode": {
    "name": "ipython",
    "version": 3
   },
   "file_extension": ".py",
   "mimetype": "text/x-python",
   "name": "python",
   "nbconvert_exporter": "python",
   "pygments_lexer": "ipython3",
   "version": "3.11.5"
  }
 },
 "nbformat": 4,
 "nbformat_minor": 2
}
