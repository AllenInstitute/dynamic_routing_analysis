{
 "cells": [
  {
   "cell_type": "code",
   "execution_count": null,
   "id": "67703fa8",
   "metadata": {},
   "outputs": [],
   "source": [
    "import numpy as np\n",
    "import scipy.stats as stats\n",
    "import pandas as pd\n",
    "import polars as pl\n",
    "import matplotlib.pyplot as plt\n",
    "# from dynamic_routing_analysis import decoding_utils\n",
    "# from dynamic_routing_analysis import plot_utils\n",
    "# import dynamic_routing_analysis as dra\n",
    "# import pingouin as pg\n",
    "# import os\n",
    "# import random\n",
    "\n",
    "import matplotlib\n",
    "import matplotlib.font_manager as fm\n",
    "\n",
    "matplotlib.rcParams['font.size'] = 8\n",
    "matplotlib.rcParams['pdf.fonttype'] = 42\n",
    "matplotlib.rcParams['ps.fonttype'] = 42\n",
    "fm.FontProperties().set_family('arial')\n",
    "\n",
    "%load_ext autoreload\n",
    "%autoreload 2\n",
    "%matplotlib inline\n",
    "# %matplotlib widget\n",
    "# %matplotlib notebook"
   ]
  },
  {
   "cell_type": "code",
   "execution_count": 4,
   "id": "4db4e014",
   "metadata": {},
   "outputs": [],
   "source": [
    "session_table_path=r\"\\\\allen\\programs\\mindscope\\workgroups\\dynamicrouting\\Ethan\\CO decoding results\\session_table_v0.268.csv\"\n",
    "# session_table_path=\"/Users/ethan.mcbride/Data/DR/session_table_v0.265.csv\"\n",
    "session_table=pl.read_csv(session_table_path)\n",
    "\n",
    "dr_session_list=(\n",
    "    session_table.filter(\n",
    "    pl.col('project')==\"DynamicRouting\",\n",
    "    pl.col('is_production'),\n",
    "    pl.col('is_annotated'),\n",
    "    pl.col('issues')==\"\",\n",
    "    pl.col('is_good_behavior').eq(True),\n",
    "    )['session_id'].to_list()\n",
    "    )"
   ]
  },
  {
   "cell_type": "code",
   "execution_count": 2,
   "id": "a833b9c2",
   "metadata": {},
   "outputs": [],
   "source": [
    "loadpath=r\"\\\\allen\\programs\\mindscope\\workgroups\\dynamicrouting\\Ethan\\CO decoding results\\time_mod_keep_units_consistent_0_2025-06-15\\decoder_accuracy_by_session.parquet\"\n",
    "new_results_session_pd = pd.read_parquet(loadpath)"
   ]
  },
  {
   "cell_type": "code",
   "execution_count": 50,
   "id": "be8b7d05",
   "metadata": {},
   "outputs": [],
   "source": [
    "sel_bin_center=-0.25\n",
    "structure_excl_list=['root','lot','ECT2/3','ECT5','ECT6a','ECT6b','CTXsp','MB','OLF','TH','SCsg','SCzo','SCop','SCig','SCiw','SCdg','SCdw','STR','PAL','VL','V3','SEZ','out of brain']\n",
    "new_results_session_filtered=new_results_session_pd.query('bin_center==@sel_bin_center and session_id in @dr_session_list and structure not in @structure_excl_list')"
   ]
  },
  {
   "cell_type": "code",
   "execution_count": 51,
   "id": "e16583a4",
   "metadata": {},
   "outputs": [
    {
     "data": {
      "text/plain": [
       "array(['ACAd', 'ACAv', 'ACB', 'AD', 'AId', 'AIp', 'AIv', 'AMd', 'AMv',\n",
       "       'AON', 'APN', 'AUDd', 'AUDp', 'AUDpo', 'AUDv', 'AV', 'BST', 'CA1',\n",
       "       'CA2', 'CA3', 'CEAm', 'CL', 'CLA', 'CP', 'CS', 'DG', 'DP', 'DTN',\n",
       "       'ECT', 'ENTl', 'ENTm', 'EPd', 'Eth', 'FF', 'FRP', 'GPe', 'GPi',\n",
       "       'GRN', 'GU', 'IAD', 'ICd', 'ICe', 'IG', 'ILA', 'LA', 'LD', 'LGd',\n",
       "       'LGv', 'LH', 'LHA', 'LP', 'LSc', 'LSr', 'LSv', 'MD', 'MGd', 'MGm',\n",
       "       'MGv', 'MH', 'MOB', 'MOp', 'MOs', 'MPT', 'MRN', 'MS', 'NB', 'NOT',\n",
       "       'OP', 'ORBl', 'ORBm', 'ORBvl', 'OT', 'PAG', 'PAR', 'PCN', 'PERI',\n",
       "       'PF', 'PIR', 'PL', 'PO', 'POL', 'POST', 'PP', 'PPT', 'PR', 'PRE',\n",
       "       'PSTN', 'PoT', 'ProS', 'RN', 'RSPagl', 'RSPd', 'RSPv', 'RT', 'SAG',\n",
       "       'SCm', 'SCs', 'SF', 'SGN', 'SH', 'SMT', 'SNr', 'SSp', 'SSs', 'SUB',\n",
       "       'TEa', 'TRS', 'TTd', 'VAL', 'VISC', 'VISa', 'VISal', 'VISam',\n",
       "       'VISl', 'VISli', 'VISp', 'VISpl', 'VISpm', 'VISpor', 'VISrl', 'VM',\n",
       "       'VPL', 'VPLpc', 'VPM', 'VPMpc', 'VTA', 'ZI'], dtype=object)"
      ]
     },
     "execution_count": 51,
     "metadata": {},
     "output_type": "execute_result"
    }
   ],
   "source": [
    "unique_structures=new_results_session_filtered['structure'].unique()\n",
    "\n",
    "unique_structures"
   ]
  },
  {
   "cell_type": "code",
   "execution_count": 181,
   "id": "d05acbed",
   "metadata": {},
   "outputs": [],
   "source": [
    "###note: not exhaustive; update if new structures are added\n",
    "simplfied_structure_grouping = {\n",
    "    'Frontal':['FRP','ACAd','ACAv','ORBl','ORBvl','ORBm','PL','ILA','AId','MOs'],\n",
    "    # 'Somatomotor':['MOs','MOp','SSp','SSs'],\n",
    "    # 'Lateral':['AId','AIp','AIv','GU','VISC','TEa','PERI','ECT'],\n",
    "    'Somatomotor':['MOp','SSp','SSs'],\n",
    "    'Lateral':['AIp','AIv','GU','VISC','TEa','PERI','ECT'],\n",
    "    \n",
    "    'Visual':['VISp', 'VISl', 'VISal', 'VISli', 'VISpl', 'VISpor', 'VISrl'],\n",
    "    'Medial':['VISa', 'VISam', 'VISpm', 'RSPagl', 'RSPd', 'RSPv',],\n",
    "    'Auditory':['AUDp', 'AUDv', 'AUDd', 'AUDpo'],\n",
    "    'CTXsp':['CLA','EPd','EPv','LA','BLA','BMA','PA'],\n",
    "    'HPF': ['CA1', 'CA2', 'CA3', 'DG','IG','ENTl', 'ENTm', 'PAR', 'POST', 'PRE', 'SUB', 'ProS'],\n",
    "    'OLF': ['OLF','AON','AOB','MOB','TT','TTd','DP','PIR'],\n",
    "    'THALsm': ['VAL','VM','VPL','VPLpc','VPM','VPMpc','MGd','MGv','MGm','LGd','PP','PoT'],\n",
    "    'THALpm': ['LP','PO','POL','SGN','Eth', #\n",
    "               'AV','AMd','AMv','AD','IAM','IAD','LD', #\n",
    "               'IMD','MD','SMT','PR', #\n",
    "               'PVT','PT','RE','Xi', #\n",
    "               'RH','PCN','CM','CL','PF','PIL', #\n",
    "               'RT', #\n",
    "               'IGL','IntG','LGv','SubG', #\n",
    "               'MH','LH' #\n",
    "               ],\n",
    "    'Striatum':['CP','ACB','OT','LSc','LSr','LSv','CEAm','SF','SH'],\n",
    "    'Pallidum':['GPe','GPi','BST','MS','TRS'],\n",
    "    'Hypothalamus':['LHA','ZI','FF','PSTN'],\n",
    "    'Midbrain - sensory':['SCs','ICd','ICe','SAG','NB',],\n",
    "    'Midbrain - motor':['SCm','MRN','RN','APN','MPT','NOT','OP','PAG','PPT','VTA','SNr','SNc','PPN'],\n",
    "    'Hindbrain':['CS','DTN',],\n",
    "    'Medulla':['GRN']\n",
    "}"
   ]
  },
  {
   "cell_type": "code",
   "execution_count": 76,
   "id": "4a941d2b",
   "metadata": {},
   "outputs": [
    {
     "data": {
      "text/plain": [
       "Index(['total_n_units', 'structure', 'bin_size', 'unit_subsample_size',\n",
       "       'cross_modality_dprime_vis_blocks', 'n_passing_blocks',\n",
       "       'time_aligned_to', 'cross_modality_dprime_aud_blocks', 'session_id',\n",
       "       'bin_center', 'mean_true', 'median_null', 'balanced_accuracy_test',\n",
       "       'shift_idx', 'mean_diff'],\n",
       "      dtype='object')"
      ]
     },
     "execution_count": 76,
     "metadata": {},
     "output_type": "execute_result"
    }
   ],
   "source": [
    "new_results_session_filtered.columns"
   ]
  },
  {
   "cell_type": "code",
   "execution_count": 135,
   "id": "d3a3f9ee",
   "metadata": {},
   "outputs": [],
   "source": [
    "# new_results_session_filtered.query('structure==\"SNc\"')"
   ]
  },
  {
   "cell_type": "code",
   "execution_count": 194,
   "id": "33a2cd38",
   "metadata": {},
   "outputs": [
    {
     "name": "stderr",
     "output_type": "stream",
     "text": [
      "C:\\Users\\ethan.mcbride\\AppData\\Local\\Temp\\ipykernel_8592\\510326635.py:22: SmallSampleWarning: One or more sample arguments is too small; all returned values will be NaN. See documentation for sample size requirements.\n",
      "  structure_wise_dict['decoding_accuracy_sem'].append(stats.sem(decoding_accuracy_list))\n"
     ]
    }
   ],
   "source": [
    "## loop through the above dictionary, and use it to build a new dataframe in the desired order\n",
    "\n",
    "structure_wise_dict={\n",
    "    'structure':[],\n",
    "    'structure_group':[],\n",
    "    'decoding_accuracy_list':[],\n",
    "    'decoding_accuracy_mean':[],\n",
    "    'decoding_accuracy_sem':[],\n",
    "    'n_sessions':[],\n",
    "}\n",
    "\n",
    "track_structures_added=[]\n",
    "\n",
    "for structure_group, structure_list in simplfied_structure_grouping.items():\n",
    "    for structure in structure_list:\n",
    "        if structure in unique_structures:\n",
    "            structure_wise_dict['structure'].append(structure)\n",
    "            structure_wise_dict['structure_group'].append(structure_group)\n",
    "            decoding_accuracy_list=new_results_session_filtered.query('structure==@structure')['mean_diff'].to_list()\n",
    "            structure_wise_dict['decoding_accuracy_list'].append(decoding_accuracy_list)\n",
    "            structure_wise_dict['decoding_accuracy_mean'].append(np.mean(decoding_accuracy_list))\n",
    "            structure_wise_dict['decoding_accuracy_sem'].append(stats.sem(decoding_accuracy_list))\n",
    "            structure_wise_dict['n_sessions'].append(len(decoding_accuracy_list))\n",
    "            track_structures_added.append(structure)\n",
    "\n",
    "structure_wise_df=pd.DataFrame(structure_wise_dict)"
   ]
  },
  {
   "cell_type": "code",
   "execution_count": 177,
   "id": "e3cead9c",
   "metadata": {},
   "outputs": [
    {
     "data": {
      "text/plain": [
       "set()"
      ]
     },
     "execution_count": 177,
     "metadata": {},
     "output_type": "execute_result"
    }
   ],
   "source": [
    "#check if all structures were added\n",
    "set(unique_structures).difference(set(track_structures_added))"
   ]
  },
  {
   "cell_type": "code",
   "execution_count": 178,
   "id": "44deb69a",
   "metadata": {},
   "outputs": [
    {
     "data": {
      "text/plain": [
       "<Axes: xlabel='structure'>"
      ]
     },
     "execution_count": 178,
     "metadata": {},
     "output_type": "execute_result"
    },
    {
     "data": {
      "image/png": "[encoded data removed]",
      "text/plain": [
       "<Figure size 1050x250 with 1 Axes>"
      ]
     },
     "metadata": {},
     "output_type": "display_data"
    }
   ],
   "source": [
    "fig,ax=plt.subplots(1,1,figsize=(10.5,2.5))\n",
    "\n",
    "structure_wise_df.query('n_sessions>=4').plot.bar(x='structure', y='decoding_accuracy_mean', yerr='decoding_accuracy_sem', ax=ax, legend=False)\n"
   ]
  },
  {
   "cell_type": "code",
   "execution_count": 199,
   "id": "0033f271",
   "metadata": {},
   "outputs": [
    {
     "data": {
      "image/png": "[encoded data removed]",
      "text/plain": [
       "<Figure size 500x250 with 1 Axes>"
      ]
     },
     "metadata": {},
     "output_type": "display_data"
    }
   ],
   "source": [
    "# make a bar plot of mean decoding accuracy across structures. color bars by their structure group. add a label underneath the axis labels indicating the structure group\n",
    "\n",
    "min_n_sessions=4\n",
    "flag_limit_n_structures=False\n",
    "n_limited_structures=20\n",
    "use_custom_list=True\n",
    "\n",
    "#find the top 20 structures by mean decoding accuracy\n",
    "if flag_limit_n_structures:\n",
    "    sel_structures=structure_wise_df.query('n_sessions>=@min_n_sessions').sort_values(by='decoding_accuracy_mean', ascending=False).head(n_limited_structures)['structure'].to_list()\n",
    "    plot_structure_list = []\n",
    "    for structure in structure_wise_df['structure']:\n",
    "        if structure in sel_structures:\n",
    "            plot_structure_list.append(structure)\n",
    "elif use_custom_list:\n",
    "    # sel_structures=['FRP','ACAd','ACAv','ORBl','ORBm','PL','ILA',\n",
    "    #                 'MOs','MOp','SSp','SSs',\n",
    "    #                 'AId','AIv','TEa',\n",
    "    #                 'VISp', 'VISl', 'VISli', 'VISpor',\n",
    "    #                 'VISam', 'VISpm', 'RSPagl', 'RSPd', 'RSPv',\n",
    "    #                 'AUDp', 'AUDv', 'AUDd', 'AUDpo',\n",
    "    #                 'CA1','DG',\n",
    "    #                 'VAL','VPM','MGd','LGd',\n",
    "    #                 'LP','PO','LD','MD','RT',\n",
    "    #                 'CP','ACB','GPe',\n",
    "    #                 'SCs','SCm','MRN','PAG'\n",
    "    #                 ]\n",
    "    sel_structures=[\n",
    "        'FRP', 'ACAd', 'ACAv', 'ORBl', 'ORBm', 'PL', 'AId', 'MOs',\n",
    "        'MOp', 'SSs',\n",
    "        'RT',\n",
    "        'CP', 'GPe', 'GPi',\n",
    "        'SCm', 'MRN',\n",
    "    ]\n",
    "    \n",
    "    plot_structure_list = [structure for structure in sel_structures if structure in structure_wise_df.query('n_sessions>=@min_n_sessions')['structure'].to_list()]\n",
    "else:\n",
    "    plot_structure_list=structure_wise_df.query('n_sessions>=@min_n_sessions')['structure'].to_list()\n",
    "\n",
    "if flag_limit_n_structures:\n",
    "    color_list=['red','tomato','orange','slateblue','steelblue','dodgerblue','mediumturquoise','limegreen',\n",
    "                'forestgreen','darkgreen','orchid','mediumvioletred','crimson','maroon','saddlebrown']\n",
    "elif use_custom_list:\n",
    "    color_list=['red','tomato','orange','steelblue','dodgerblue','slateblue','mediumturquoise','limegreen',\n",
    "                'forestgreen','skyblue','thistle','orchid','mediumvioletred','crimson','maroon','saddlebrown']\n",
    "else:\n",
    "    color_list=['red','tomato','orange','steelblue','dodgerblue','slateblue','mediumturquoise','powderblue','limegreen',\n",
    "                'forestgreen','skyblue','thistle','lightpink','orchid','mediumvioletred','crimson','maroon','saddlebrown']\n",
    "color_idx=0\n",
    "use_color=''\n",
    "groups_color_dict={}\n",
    "\n",
    "if flag_limit_n_structures:\n",
    "    if n_limited_structures <= 20:\n",
    "        fig, ax = plt.subplots(1, 1, figsize=(5, 3))\n",
    "    else:\n",
    "        fig, ax = plt.subplots(1, 1, figsize=(7, 3))\n",
    "else:\n",
    "    # fig,ax=plt.subplots(1,1,figsize=(9.5,3))\n",
    "    fig,ax=plt.subplots(1,1,figsize=(5,2.5))\n",
    "\n",
    "for i, structure in enumerate(plot_structure_list):\n",
    "    structure_group = structure_wise_df.query('structure==@structure')['structure_group'].values[0]\n",
    "    if structure_group not in groups_color_dict:\n",
    "        groups_color_dict[structure_group] = color_list[color_idx]\n",
    "        color_idx += 1\n",
    "    use_color = groups_color_dict[structure_group]\n",
    "\n",
    "    ax.bar(i, structure_wise_df.query('structure==@structure')['decoding_accuracy_mean'].values[0],\n",
    "           yerr=structure_wise_df.query('structure==@structure')['decoding_accuracy_sem'].values[0],\n",
    "           color=use_color,\n",
    "           label=structure_group)\n",
    "\n",
    "# ax.set_ylim([0.5,0.78])\n",
    "ax.set_ylim([0,0.13])\n",
    "ax.set_xlim([-0.5, len(plot_structure_list)-0.5])\n",
    "ax.set_ylabel('decoding accuracy above null')\n",
    "ax.set_xticks(range(len(plot_structure_list)))\n",
    "ax.set_xticklabels(plot_structure_list, rotation=90, fontsize=8)\n",
    "\n",
    "#make separate legend for structure groups\n",
    "legend_handles = []\n",
    "for group, color in groups_color_dict.items():\n",
    "    legend_handles.append(plt.Line2D([0], [0], color=color, lw=4, label=group))\n",
    "ax.legend(handles=legend_handles, loc='upper left', bbox_to_anchor=(1, 1), fontsize=8)\n",
    "\n",
    "fig.tight_layout()"
   ]
  },
  {
   "cell_type": "code",
   "execution_count": 200,
   "id": "7684da50",
   "metadata": {},
   "outputs": [],
   "source": [
    "#save as editable pdf\n",
    "savepath=r'C:\\Users\\ethan.mcbride\\OneDrive - Allen Institute\\quick figures\\2025-08-01-predict_proba_corr_updates\\decoding_acc_above_null_across_structures_shawns_picks.pdf'\n",
    "fig.savefig(savepath, bbox_inches='tight', dpi=300,\n",
    "            transparent=True, format='pdf', pad_inches=0.1)"
   ]
  },
  {
   "cell_type": "code",
   "execution_count": 143,
   "id": "aca95521",
   "metadata": {},
   "outputs": [
    {
     "data": {
      "text/plain": [
       "['SCm',\n",
       " 'GPe',\n",
       " 'AId',\n",
       " 'CP',\n",
       " 'MRN',\n",
       " 'FRP',\n",
       " 'ACAd',\n",
       " 'RN',\n",
       " 'PL',\n",
       " 'RT',\n",
       " 'MOs',\n",
       " 'MOp',\n",
       " 'SSs',\n",
       " 'ZI',\n",
       " 'GU',\n",
       " 'ORBl',\n",
       " 'SSp',\n",
       " 'AIp',\n",
       " 'PAG',\n",
       " 'VM']"
      ]
     },
     "execution_count": 143,
     "metadata": {},
     "output_type": "execute_result"
    }
   ],
   "source": [
    "sel_structures"
   ]
  },
  {
   "cell_type": "code",
   "execution_count": null,
   "id": "d451023c",
   "metadata": {},
   "outputs": [],
   "source": [
    "#save figure\n",
    "# fig.savefig(r\"C:\\Users\\ethan.mcbride\\OneDrive - Allen Institute\\quick figures\\2025-08-01-predict_proba_corr_updates\\decoding_accuracy_across_structures_custom_order_linear_shift.pdf\", bbox_inches='tight', dpi=300)"
   ]
  },
  {
   "cell_type": "code",
   "execution_count": 101,
   "id": "c5c0537a",
   "metadata": {},
   "outputs": [
    {
     "data": {
      "text/plain": [
       "(15,)"
      ]
     },
     "execution_count": 101,
     "metadata": {},
     "output_type": "execute_result"
    }
   ],
   "source": [
    "structure_wise_df.query('n_sessions>=4')['structure_group'].unique().shape"
   ]
  },
  {
   "cell_type": "code",
   "execution_count": 31,
   "id": "578b6c26",
   "metadata": {},
   "outputs": [
    {
     "data": {
      "text/html": [
       "<div>\n",
       "<style scoped>\n",
       "    .dataframe tbody tr th:only-of-type {\n",
       "        vertical-align: middle;\n",
       "    }\n",
       "\n",
       "    .dataframe tbody tr th {\n",
       "        vertical-align: top;\n",
       "    }\n",
       "\n",
       "    .dataframe thead th {\n",
       "        text-align: right;\n",
       "    }\n",
       "</style>\n",
       "<table border=\"1\" class=\"dataframe\">\n",
       "  <thead>\n",
       "    <tr style=\"text-align: right;\">\n",
       "      <th></th>\n",
       "      <th>structure</th>\n",
       "      <th>structure_group</th>\n",
       "      <th>decoding_accuracy_list</th>\n",
       "      <th>decoding_accuracy_mean</th>\n",
       "      <th>decoding_accuracy_sem</th>\n",
       "      <th>n_sessions</th>\n",
       "    </tr>\n",
       "  </thead>\n",
       "  <tbody>\n",
       "    <tr>\n",
       "      <th>37</th>\n",
       "      <td>EPd</td>\n",
       "      <td>CTXsp</td>\n",
       "      <td>[0.8675024665257225, 0.6906793522267206, 0.496...</td>\n",
       "      <td>0.685016</td>\n",
       "      <td>0.107031</td>\n",
       "      <td>3</td>\n",
       "    </tr>\n",
       "  </tbody>\n",
       "</table>\n",
       "</div>"
      ],
      "text/plain": [
       "   structure structure_group  \\\n",
       "37       EPd           CTXsp   \n",
       "\n",
       "                               decoding_accuracy_list  decoding_accuracy_mean  \\\n",
       "37  [0.8675024665257225, 0.6906793522267206, 0.496...                0.685016   \n",
       "\n",
       "    decoding_accuracy_sem  n_sessions  \n",
       "37               0.107031           3  "
      ]
     },
     "execution_count": 31,
     "metadata": {},
     "output_type": "execute_result"
    }
   ],
   "source": [
    "structure_wise_df.query('structure==\"EPd\"')"
   ]
  },
  {
   "cell_type": "code",
   "execution_count": 201,
   "id": "6de82c62",
   "metadata": {},
   "outputs": [
    {
     "data": {
      "text/plain": [
       "array(['741148_2024-10-16', '668755_2023-08-30', '708016_2024-04-29',\n",
       "       '742903_2024-10-22', '686176_2023-12-07', '742903_2024-10-21'],\n",
       "      dtype=object)"
      ]
     },
     "execution_count": 201,
     "metadata": {},
     "output_type": "execute_result"
    }
   ],
   "source": [
    "new_results_session_pd.query('structure==\"GU\"')['session_id'].unique()"
   ]
  }
 ],
 "metadata": {
  "kernelspec": {
   "display_name": "dr_ibl_analysis",
   "language": "python",
   "name": "python3"
  },
  "language_info": {
   "codemirror_mode": {
    "name": "ipython",
    "version": 3
   },
   "file_extension": ".py",
   "mimetype": "text/x-python",
   "name": "python",
   "nbconvert_exporter": "python",
   "pygments_lexer": "ipython3",
   "version": "3.11.5"
  }
 },
 "nbformat": 4,
 "nbformat_minor": 5
}
