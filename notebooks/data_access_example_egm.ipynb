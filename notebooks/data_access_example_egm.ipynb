{
 "cells": [
  {
   "cell_type": "code",
   "execution_count": null,
   "metadata": {},
   "outputs": [],
   "source": [
    "import numpy as np\n",
    "import xarray as xr\n",
    "import matplotlib.pyplot as plt\n",
    "import npc_lims\n",
    "from npc_sessions import DynamicRoutingSession, get_sessions\n",
    "from dynamic_routing_analysis import spike_utils\n"
   ]
  },
  {
   "cell_type": "code",
   "execution_count": null,
   "metadata": {},
   "outputs": [],
   "source": [
    "tracked_sessions: tuple[npc_lims.SessionInfo, ...] = npc_lims.get_session_info()\n",
    "tracked_sessions[0]"
   ]
  },
  {
   "cell_type": "code",
   "execution_count": null,
   "metadata": {},
   "outputs": [],
   "source": [
    "session = DynamicRoutingSession('668755_2023-08-30')\n"
   ]
  },
  {
   "cell_type": "code",
   "execution_count": null,
   "metadata": {},
   "outputs": [],
   "source": [
    "session.id"
   ]
  },
  {
   "cell_type": "code",
   "execution_count": null,
   "metadata": {},
   "outputs": [],
   "source": [
    "if 'structure' in session.electrodes[:].columns:\n",
    "    print(session.electrodes[:]['structure'].unique())\n",
    "else:\n",
    "    print('no structure column found in electrodes table')"
   ]
  },
  {
   "cell_type": "code",
   "execution_count": null,
   "metadata": {},
   "outputs": [],
   "source": [
    "session.units[:].query('default_qc')['structure'].value_counts()"
   ]
  },
  {
   "cell_type": "code",
   "execution_count": null,
   "metadata": {},
   "outputs": [],
   "source": [
    "session.units[:].columns"
   ]
  },
  {
   "cell_type": "code",
   "execution_count": null,
   "metadata": {},
   "outputs": [],
   "source": [
    "session.trials[:].columns"
   ]
  },
  {
   "cell_type": "code",
   "execution_count": null,
   "metadata": {},
   "outputs": [],
   "source": [
    "#make trial aligned 3d spike tensor\n",
    "time_before = 0.5\n",
    "time_after = 1.0\n",
    "binsize = 0.025\n",
    "trial_da = spike_utils.make_neuron_time_trials_tensor(session.units, session.trials, time_before, time_after, binsize)"
   ]
  },
  {
   "cell_type": "code",
   "execution_count": null,
   "metadata": {},
   "outputs": [],
   "source": [
    "trial_da.shape"
   ]
  },
  {
   "cell_type": "code",
   "execution_count": null,
   "metadata": {},
   "outputs": [],
   "source": [
    "#calculate aud vs. vis context differences\n",
    "\n",
    "vis_context_fr = trial_da.sel(trials=session.trials[:].query('is_vis_context').index,\n",
    "                              time=slice(-0.2,0)).mean(dim=['trials','time'])\n",
    "\n",
    "aud_context_fr = trial_da.sel(trials=session.trials[:].query('is_aud_context').index,\n",
    "                              time=slice(-0.2,0)).mean(dim=['trials','time'])\n",
    "\n",
    "vis_vs_aud_diff = vis_context_fr - aud_context_fr\n"
   ]
  },
  {
   "cell_type": "code",
   "execution_count": null,
   "metadata": {},
   "outputs": [],
   "source": [
    "session.trials[:].columns"
   ]
  },
  {
   "cell_type": "code",
   "execution_count": null,
   "metadata": {},
   "outputs": [],
   "source": [
    "session.trials[:]['stim_name'].unique()"
   ]
  },
  {
   "cell_type": "code",
   "execution_count": null,
   "metadata": {},
   "outputs": [],
   "source": [
    "fig,ax=plt.subplots(1,1)\n",
    "ax.hist(vis_vs_aud_diff, bins=np.arange(-10,10,0.5))\n",
    "ax.set_xlabel('vis - aud context baseline FR')\n",
    "ax.set_ylabel('unit count')"
   ]
  },
  {
   "cell_type": "code",
   "execution_count": null,
   "metadata": {},
   "outputs": [],
   "source": [
    "##plot example units with context differences -- subplot for each stimulus\n",
    "\n",
    "sel_unit=np.random.permutation(np.where(vis_vs_aud_diff>5)[0])[0]\n",
    "# sel_unit=session.units[:].query('structure.str.contains(\"ORB\") and firing_rate>=5').index.values[5]\n",
    "# sel_unit=session.units[:].query('structure.str.contains(\"AI\") and firing_rate>=4').index.values[0]\n",
    "\n",
    "fig,ax=plt.subplots(2,2)\n",
    "\n",
    "ax=ax.flatten()\n",
    "\n",
    "stims=['vis1','vis2','sound1','sound2']\n",
    "\n",
    "for st,stim in enumerate(stims):\n",
    "\n",
    "    stim_trials=session.trials[:].query('stim_name==@stim')\n",
    "\n",
    "    vis_context_spikes=trial_da.sel(\n",
    "        trials=stim_trials.query('is_vis_context').index,\n",
    "        unit_id=sel_unit,).mean(dim=['trials'])\n",
    "\n",
    "    aud_context_spikes=trial_da.sel(\n",
    "        trials=stim_trials.query('is_aud_context').index,\n",
    "        unit_id=sel_unit,).mean(dim=['trials'])\n",
    "\n",
    "    ax[st].plot(vis_context_spikes.time, vis_context_spikes.values, label='vis context',color='g')\n",
    "    ax[st].plot(aud_context_spikes.time, aud_context_spikes.values, label='aud context',color='b')\n",
    "    ax[st].axvline(0, color='k', linestyle='--')\n",
    "    ax[st].set_title(stim)\n",
    "    ax[st].legend()\n",
    "\n",
    "    fig.suptitle('unit '+session.units[:].iloc[sel_unit]['unit_id']+'; '+session.units[:].iloc[sel_unit]['structure'])\n",
    "\n",
    "    fig.tight_layout()"
   ]
  },
  {
   "cell_type": "code",
   "execution_count": null,
   "metadata": {},
   "outputs": [],
   "source": [
    "session.units[:]['structure'].unique()"
   ]
  },
  {
   "cell_type": "code",
   "execution_count": null,
   "metadata": {},
   "outputs": [],
   "source": [
    "session.units[:].columns"
   ]
  },
  {
   "cell_type": "code",
   "execution_count": null,
   "metadata": {},
   "outputs": [],
   "source": [
    "#plot distribution of vis vs. aud context fr differences for each area\n",
    "xbins=np.arange(-10,10,1)\n",
    "\n",
    "for area in session.units[:]['structure'].unique():\n",
    "\n",
    "    fig,ax=plt.subplots(1,1)\n",
    "\n",
    "    area_vis_vs_aud_diff = vis_vs_aud_diff[session.units[:].query('structure==@area').index.values]\n",
    "\n",
    "    ax.hist(area_vis_vs_aud_diff, bins=xbins)\n",
    "    ax.set_xlabel('vis - aud context baseline FR')\n",
    "    ax.set_ylabel('unit count')\n",
    "    ax.set_title(area)\n",
    "\n",
    "    fig.tight_layout()"
   ]
  }
 ],
 "metadata": {
  "kernelspec": {
   "display_name": "npc_analysis",
   "language": "python",
   "name": "python3"
  },
  "language_info": {
   "codemirror_mode": {
    "name": "ipython",
    "version": 3
   },
   "file_extension": ".py",
   "mimetype": "text/x-python",
   "name": "python",
   "nbconvert_exporter": "python",
   "pygments_lexer": "ipython3",
   "version": "3.11.5"
  }
 },
 "nbformat": 4,
 "nbformat_minor": 2
}
