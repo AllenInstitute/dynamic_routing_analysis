{
 "cells": [
  {
   "cell_type": "code",
   "execution_count": 1,
   "metadata": {},
   "outputs": [],
   "source": [
    "import pandas as pd\n",
    "import matplotlib.pyplot as plt\n",
    "from dynamic_routing_analysis import spike_utils, plot_utils\n",
    "import dynamic_routing_analysis as dra\n",
    "import os\n",
    "\n",
    "%load_ext autoreload\n",
    "%autoreload 2\n",
    "%matplotlib widget"
   ]
  },
  {
   "cell_type": "code",
   "execution_count": 2,
   "metadata": {},
   "outputs": [],
   "source": [
    "# load data\n",
    "regenerate_table=False\n",
    "all_data_loadpath=dra.SINGLE_UNIT_METRICS_PATH / \"combined\" / \"all_data_plus_performance.pkl\"\n",
    "\n",
    "if regenerate_table:\n",
    "    savepath = dra.SINGLE_UNIT_METRICS_PATH / \"combined\"\n",
    "    stim_context_loadpath = dra.SINGLE_UNIT_METRICS_PATH\n",
    "    lick_loadpath = dra.SINGLE_UNIT_METRICS_PATH / \"lick_modulation\"\n",
    "    performance_loadpath = os.path.join(savepath,\"performance_dict.pkl\")\n",
    "    spike_utils.concat_single_unit_metrics_across_sessions(stim_context_loadpath=stim_context_loadpath,lick_loadpath=lick_loadpath,\n",
    "                                                           performance_loadpath=None,savepath=savepath)\n",
    "\n",
    "all_data = pd.read_pickle(all_data_loadpath)"
   ]
  },
  {
   "cell_type": "code",
   "execution_count": 3,
   "metadata": {},
   "outputs": [],
   "source": [
    "sel_project='DynamicRouting'\n",
    "sel_units=all_data.query('presence_ratio>=0.99 and \\\n",
    "                            isi_violations_ratio<=0.1 and \\\n",
    "                            amplitude_cutoff<=0.1 and \\\n",
    "                            project.str.contains(@sel_project) and \\\n",
    "                            ~structure.isna() and ~location.isna() and \\\n",
    "                            n_good_blocks>=4')\n",
    "\n",
    "adj_pvals=spike_utils.calculate_single_unit_metric_adjusted_pvals(sel_units,sel_project)"
   ]
  },
  {
   "cell_type": "markdown",
   "metadata": {},
   "source": [
    "## stimulus modulation"
   ]
  },
  {
   "cell_type": "code",
   "execution_count": null,
   "metadata": {},
   "outputs": [],
   "source": [
    "#plot overall stimulus modulation\n",
    "plot_utils.plot_stimulus_modulation_pie_chart(adj_pvals,sel_project)"
   ]
  },
  {
   "cell_type": "code",
   "execution_count": null,
   "metadata": {},
   "outputs": [],
   "source": [
    "#calculate stimulus modulation by region\n",
    "area_fraction_responsive_to_stim = spike_utils.calculate_stimulus_modulation_by_area(sel_units,sel_project,plot_figures=False,savepath=None)"
   ]
  },
  {
   "cell_type": "code",
   "execution_count": null,
   "metadata": {},
   "outputs": [],
   "source": [
    "#plot top 20 stimulus modulated regions\n",
    "\n",
    "#stimulus:\n",
    "fig,ax=plt.subplots(3,1,figsize=(10,8))\n",
    "#vis: vis1+vis1+both_vis\n",
    "vis_resp=area_fraction_responsive_to_stim[['vis1','vis2','both_vis']].sum(axis=1)\n",
    "area_fraction_responsive_to_stim['vis_only']=vis_resp\n",
    "sort_by_vis=area_fraction_responsive_to_stim.query('total_n>=30 and n_sessions>=3').sort_values(by='vis_only',ascending=False).head(20)\n",
    "sort_by_vis[['area','vis_only']].plot.bar(ax=ax[0],x='area',y='vis_only',color='tab:blue')\n",
    "ax[0].set_title('visual stimuli')\n",
    "ax[0].set_ylabel('fraction of units responsive')\n",
    "\n",
    "#aud: sound1+sound2+both_sound\n",
    "aud_resp=area_fraction_responsive_to_stim[['sound1','sound2','both_sound']].sum(axis=1)\n",
    "area_fraction_responsive_to_stim['aud_only']=aud_resp\n",
    "sort_by_aud=area_fraction_responsive_to_stim.query('total_n>=30 and n_sessions>=3').sort_values(by='aud_only',ascending=False).head(20)\n",
    "sort_by_aud[['area','aud_only']].plot.bar(ax=ax[1],x='area',y='aud_only',color='tab:orange')\n",
    "ax[1].set_title('auditory stimuli')\n",
    "ax[1].set_ylabel('fraction of units responsive')\n",
    "\n",
    "#mixed: mixed\n",
    "sort_by_mixed=area_fraction_responsive_to_stim.query('total_n>=30 and n_sessions>=3').sort_values(by='mixed',ascending=False).head(20)\n",
    "sort_by_mixed[['area','mixed']].plot.bar(ax=ax[2],x='area',y='mixed',color='tab:green')\n",
    "ax[2].set_title('multimodal')\n",
    "ax[2].set_ylabel('fraction of units responsive')\n",
    "\n",
    "fig.tight_layout()\n"
   ]
  },
  {
   "cell_type": "code",
   "execution_count": null,
   "metadata": {},
   "outputs": [],
   "source": [
    "#plot top 20 stimulus modulated areas, including sign of modulation\n",
    "\n",
    "#stimulus:\n",
    "fig,ax=plt.subplots(3,1,figsize=(10,8))\n",
    "#vis: vis1+vis1+both_vis\n",
    "vis_pos_resp=area_fraction_responsive_to_stim[['vis1_pos','vis2_pos','both_vis_pos']].sum(axis=1)\n",
    "area_fraction_responsive_to_stim['vis_pos_only']=vis_pos_resp\n",
    "vis_neg_resp=area_fraction_responsive_to_stim[['vis1_neg','vis2_neg','both_vis_neg']].sum(axis=1)\n",
    "area_fraction_responsive_to_stim['vis_neg_only']=vis_neg_resp\n",
    "vis_resp=area_fraction_responsive_to_stim[['vis1','vis2','both_vis']].sum(axis=1)\n",
    "area_fraction_responsive_to_stim['vis_only']=vis_resp\n",
    "\n",
    "sort_by_vis=area_fraction_responsive_to_stim.query('total_n>=30 and n_sessions>=4').sort_values(by='vis_only',ascending=False).head(20)\n",
    "sort_by_vis[['area','vis_pos_only','vis_neg_only']].plot.bar(ax=ax[0],x='area',stacked=True,color=['tab:blue','lightblue'])\n",
    "ax[0].set_title('visual stimuli')\n",
    "ax[0].set_ylabel('fraction of units responsive')\n",
    "ax[0].legend(['positive','negative'])\n",
    "\n",
    "#aud: sound1+sound2+both_sound\n",
    "aud_pos_resp=area_fraction_responsive_to_stim[['sound1_pos','sound2_pos','both_sound_pos']].sum(axis=1)\n",
    "area_fraction_responsive_to_stim['aud_pos_only']=aud_pos_resp\n",
    "aud_neg_resp=area_fraction_responsive_to_stim[['sound1_neg','sound2_neg','both_sound_neg']].sum(axis=1)\n",
    "area_fraction_responsive_to_stim['aud_neg_only']=aud_neg_resp\n",
    "aud_resp=area_fraction_responsive_to_stim[['sound1','sound2','both_sound']].sum(axis=1)\n",
    "area_fraction_responsive_to_stim['aud_only']=aud_resp\n",
    "\n",
    "sort_by_aud=area_fraction_responsive_to_stim.query('total_n>=30 and n_sessions>=4').sort_values(by='aud_only',ascending=False).head(20)\n",
    "sort_by_aud[['area','aud_pos_only','aud_neg_only']].plot.bar(ax=ax[1],x='area',stacked=True,color=['tab:orange','bisque'])\n",
    "ax[1].set_title('auditory stimuli')\n",
    "ax[1].set_ylabel('fraction of units responsive')\n",
    "ax[1].legend(['positive','negative'])\n",
    "\n",
    "#mixed: mixed\n",
    "mixed_pos_resp=area_fraction_responsive_to_stim[['mixed_pos']].sum(axis=1)\n",
    "area_fraction_responsive_to_stim['mixed_pos_only']=mixed_pos_resp\n",
    "mixed_neg_resp=area_fraction_responsive_to_stim[['mixed_neg']].sum(axis=1)\n",
    "area_fraction_responsive_to_stim['mixed_neg_only']=mixed_neg_resp\n",
    "mixed_resp=area_fraction_responsive_to_stim[['mixed']].sum(axis=1)\n",
    "area_fraction_responsive_to_stim['mixed_only']=mixed_resp\n",
    "\n",
    "sort_by_mixed=area_fraction_responsive_to_stim.query('total_n>=30 and n_sessions>=4').sort_values(by='mixed',ascending=False).head(20)\n",
    "sort_by_mixed[['area','mixed_pos_only','mixed_neg_only']].plot.bar(ax=ax[2],x='area',stacked=True,color=['tab:green','lightgreen'])\n",
    "ax[2].set_title('multimodal')\n",
    "ax[2].set_ylabel('fraction of units responsive')\n",
    "ax[2].legend(['positive','negative'])\n",
    "\n",
    "fig.tight_layout()\n"
   ]
  },
  {
   "cell_type": "markdown",
   "metadata": {},
   "source": [
    "## context, stimulus, and lick modulation"
   ]
  },
  {
   "cell_type": "code",
   "execution_count": null,
   "metadata": {},
   "outputs": [],
   "source": [
    "# #plot overall context, stim, lick modulation\n",
    "plot_utils.plot_context_stim_lick_modulation_pie_chart(adj_pvals,sel_project)"
   ]
  },
  {
   "cell_type": "code",
   "execution_count": null,
   "metadata": {},
   "outputs": [],
   "source": [
    "#calculate context, lick, stimulus modulation by region\n",
    "area_fraction_context_mod=spike_utils.compute_context_stim_lick_modulation_by_area(sel_units,sel_project,plot_figures=False,savepath=None)"
   ]
  },
  {
   "cell_type": "code",
   "execution_count": null,
   "metadata": {},
   "outputs": [],
   "source": [
    "#lick/context/stim:\n",
    "fig,ax=plt.subplots(3,1,figsize=(10,8))\n",
    "#lick: any lick\n",
    "sort_by_lick=area_fraction_context_mod.query('total_n>=30 and n_sessions>=3').sort_values(by='any_lick',ascending=False).head(20)\n",
    "sort_by_lick[['area','any_lick']].plot.bar(ax=ax[0],x='area',y='any_lick',color='tab:purple')\n",
    "ax[0].set_title('most lick responsive areas')\n",
    "ax[0].set_ylabel('fraction of units responsive')\n",
    "\n",
    "#context: any context\n",
    "sort_by_context=area_fraction_context_mod.query('total_n>=30 and n_sessions>=3').sort_values(by='any_context',ascending=False).head(20)\n",
    "sort_by_context[['area','any_context']].plot.bar(ax=ax[1],x='area',y='any_context',color='tab:brown')\n",
    "ax[1].set_title('most context responsive areas')\n",
    "ax[1].set_ylabel('fraction of units responsive')\n",
    "\n",
    "#stim: any stim\n",
    "sort_by_stim=area_fraction_context_mod.query('total_n>=30 and n_sessions>=3').sort_values(by='any_stim',ascending=False).head(20)\n",
    "sort_by_stim[['area','any_stim']].plot.bar(ax=ax[2],x='area',y='any_stim',color='tab:blue')\n",
    "ax[2].set_title('most stimulus responsive areas')\n",
    "ax[2].set_ylabel('fraction of units responsive')\n",
    "\n",
    "\n",
    "fig.tight_layout()"
   ]
  },
  {
   "cell_type": "markdown",
   "metadata": {},
   "source": [
    "## context modulation of stimulus responses"
   ]
  },
  {
   "cell_type": "code",
   "execution_count": null,
   "metadata": {},
   "outputs": [],
   "source": [
    "#plot stimulus responses modulated by context\n",
    "plot_utils.plot_context_mod_stim_resp_pie_chart(adj_pvals,sel_project,savepath=None)"
   ]
  },
  {
   "cell_type": "code",
   "execution_count": null,
   "metadata": {},
   "outputs": [],
   "source": [
    "area_fraction_context_stim_mod=spike_utils.calculate_context_mod_stim_resp_by_area(sel_units,sel_project,plot_figures=False,savepath=None)"
   ]
  },
  {
   "cell_type": "code",
   "execution_count": null,
   "metadata": {},
   "outputs": [],
   "source": [
    "#context modulation of stimulus\n",
    "fig,ax=plt.subplots(1,1,figsize=(8,4))\n",
    "#vis: vis1+vis2+both_vis\n",
    "vis_context_stim_mod=area_fraction_context_stim_mod[['vis1','vis2','both_vis']].sum(axis=1)\n",
    "area_fraction_context_stim_mod['vis_only']=vis_context_stim_mod\n",
    "\n",
    "#aud: sound1+sound2+both_sound\n",
    "aud_context_stim_mod=area_fraction_context_stim_mod[['sound1','sound2','both_sound']].sum(axis=1)\n",
    "area_fraction_context_stim_mod['aud_only']=aud_context_stim_mod\n",
    "\n",
    "#total frac responsive\n",
    "area_fraction_context_stim_mod['any_stim']=area_fraction_context_stim_mod[['vis1','vis2','sound1','sound2','mixed','both_vis','both_sound']].sum(axis=1)\n",
    "\n",
    "sort_by_any_context_mod_stim=area_fraction_context_stim_mod.query('n_stim_responsive>=40 and n_sessions>=4 and not area.str.islower()').sort_values(by='any_stim',ascending=False).head(20)\n",
    "sort_by_any_context_mod_stim[['area','vis_only','aud_only','mixed']].plot.bar(ax=ax,x='area',y=['vis_only','aud_only','mixed'],stacked=True)\n",
    "ax.set_title('context modulation of stimulus responses')\n",
    "ax.set_ylabel('fraction of units modulated')\n",
    "\n",
    "fig.tight_layout()"
   ]
  },
  {
   "cell_type": "code",
   "execution_count": null,
   "metadata": {},
   "outputs": [],
   "source": [
    "#context modulation of evoked stimulus\n",
    "fig,ax=plt.subplots(3,1,figsize=(10,8))\n",
    "#vis: vis1+vis2+both_vis\n",
    "vis_context_evoked_stim_mod=area_fraction_context_stim_mod[['vis1_evoked','vis2_evoked','both_vis_evoked']].sum(axis=1)\n",
    "area_fraction_context_stim_mod['vis_only_evoked']=vis_context_evoked_stim_mod\n",
    "sort_by_vis_context_evoked_stim=area_fraction_context_stim_mod.query('n_stim_responsive>=30 and n_sessions>=3').sort_values(by='vis_only_evoked',ascending=False).head(20)\n",
    "sort_by_vis_context_evoked_stim[['area','vis_only_evoked']].plot.bar(ax=ax[0],x='area',y='vis_only_evoked',color='tab:blue')\n",
    "ax[0].set_title('context modulation of evoked visual stim responses')\n",
    "ax[0].set_ylabel('fraction of units modulated')\n",
    "\n",
    "#aud: sound1+sound2+both_sound\n",
    "aud_context_evoked_stim_mod=area_fraction_context_stim_mod[['sound1_evoked','sound2_evoked','both_sound_evoked']].sum(axis=1)\n",
    "area_fraction_context_stim_mod['aud_only_evoked']=aud_context_evoked_stim_mod\n",
    "sort_by_aud_context_evoked_stim=area_fraction_context_stim_mod.query('n_stim_responsive>=30 and n_sessions>=3').sort_values(by='aud_only_evoked',ascending=False).head(20)\n",
    "sort_by_aud_context_evoked_stim[['area','aud_only_evoked']].plot.bar(ax=ax[1],x='area',y='aud_only_evoked',color='tab:orange')\n",
    "ax[1].set_title('context modulation of evoked auditory stim responses')\n",
    "ax[1].set_ylabel('fraction of units modulated')\n",
    "\n",
    "#mixed: mixed\n",
    "sort_by_mixed_context_evoked_stim=area_fraction_context_stim_mod.query('n_stim_responsive>=30 and n_sessions>=3').sort_values(by='mixed_evoked',ascending=False).head(20)\n",
    "sort_by_mixed_context_evoked_stim[['area','mixed_evoked']].plot.bar(ax=ax[2],x='area',y='mixed_evoked',color='tab:green')\n",
    "ax[2].set_title('context modulation of evoked multimodal stim responses')\n",
    "ax[2].set_ylabel('fraction of units modulated')\n",
    "\n",
    "fig.tight_layout()"
   ]
  },
  {
   "cell_type": "code",
   "execution_count": null,
   "metadata": {},
   "outputs": [],
   "source": []
  },
  {
   "cell_type": "code",
   "execution_count": null,
   "metadata": {},
   "outputs": [],
   "source": [
    "sel_units.columns"
   ]
  },
  {
   "cell_type": "code",
   "execution_count": null,
   "metadata": {},
   "outputs": [],
   "source": [
    "unit_counts=sel_units['structure'].value_counts()\n",
    "unit_counts=unit_counts[unit_counts>=50]\n",
    "\n",
    "fig,ax=plt.subplots(figsize=(12,6))\n",
    "unit_counts.plot.bar(ax=ax)\n",
    "fig.tight_layout()"
   ]
  }
 ],
 "metadata": {
  "kernelspec": {
   "display_name": "dr_analysis",
   "language": "python",
   "name": "python3"
  },
  "language_info": {
   "codemirror_mode": {
    "name": "ipython",
    "version": 3
   },
   "file_extension": ".py",
   "mimetype": "text/x-python",
   "name": "python",
   "nbconvert_exporter": "python",
   "pygments_lexer": "ipython3",
   "version": "3.11.5"
  }
 },
 "nbformat": 4,
 "nbformat_minor": 2
}
