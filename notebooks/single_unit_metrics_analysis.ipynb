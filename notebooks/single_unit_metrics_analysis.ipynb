{
 "cells": [
  {
   "cell_type": "code",
   "execution_count": 1,
   "metadata": {},
   "outputs": [],
   "source": [
    "import pandas as pd\n",
    "import polars as pl\n",
    "import matplotlib.pyplot as plt\n",
    "from dynamic_routing_analysis import spike_utils, plot_utils\n",
    "import dynamic_routing_analysis as dra\n",
    "import os\n",
    "\n",
    "%load_ext autoreload\n",
    "%autoreload 2\n",
    "%matplotlib widget"
   ]
  },
  {
   "cell_type": "code",
   "execution_count": 2,
   "metadata": {},
   "outputs": [],
   "source": [
    "# load data\n",
    "# regenerate_table=False\n",
    "# all_data_loadpath=dra.SINGLE_UNIT_METRICS_PATH / \"combined\" / \"all_data_plus_performance.pkl\"\n",
    "# all_data_loadpath=r\"\\\\allen\\programs\\mindscope\\workgroups\\dynamicrouting\\Ethan\\CO single unit metrics\\v272_2025-08-15\\stim_context_lick_modulation.parquet\"\n",
    "# all_data_loadpath=r\"D:\\CO single unit metrics\\v272_2025-08-15\\stim_context_lick_modulation.parquet\"\n",
    "all_data_loadpath='s3://aind-scratch-data/dynamic-routing/cache/nwb_components/v0.0.272/consolidated/units_with_activity_metrics_exclude_instruction_trials.parquet'\n",
    "\n",
    "# if regenerate_table:\n",
    "#     savepath = dra.SINGLE_UNIT_METRICS_PATH / \"combined\"\n",
    "#     stim_context_loadpath = dra.SINGLE_UNIT_METRICS_PATH\n",
    "#     lick_loadpath = dra.SINGLE_UNIT_METRICS_PATH / \"lick_modulation\"\n",
    "#     performance_loadpath = os.path.join(savepath,\"performance_dict.pkl\")\n",
    "#     spike_utils.concat_single_unit_metrics_across_sessions(stim_context_loadpath=stim_context_loadpath,lick_loadpath=lick_loadpath,\n",
    "#                                                            performance_loadpath=None,savepath=savepath)\n",
    "\n",
    "# all_data = pd.read_pickle(all_data_loadpath)\n",
    "\n",
    "all_data = pd.read_parquet(all_data_loadpath)\n",
    "\n",
    "# #temp hack take first x characters of session id to match with dr_session_list\n",
    "# all_data['session_id'] = all_data['session_id'].str.slice(0,17)"
   ]
  },
  {
   "cell_type": "code",
   "execution_count": 6,
   "metadata": {},
   "outputs": [],
   "source": [
    "session_table_path=r\"\\\\allen\\programs\\mindscope\\workgroups\\dynamicrouting\\Ethan\\CO decoding results\\session_table_v0.272.csv\"\n",
    "# session_table_path=\"/Users/ethan.mcbride/Data/DR/session_table_v0.265.csv\"\n",
    "session_table=pl.read_csv(session_table_path)\n",
    "\n",
    "dr_session_list=(\n",
    "    session_table.filter(\n",
    "    pl.col('project')==\"DynamicRouting\",\n",
    "    pl.col('is_production'),\n",
    "    pl.col('is_annotated'),\n",
    "    pl.col('issues')==\"\",\n",
    "    pl.col('is_good_behavior').eq(True),\n",
    "    )['session_id'].to_list()\n",
    "    )\n",
    "\n",
    "templeton_session_list=(\n",
    "    session_table.filter(\n",
    "    pl.col('project')==\"Templeton\",\n",
    "    pl.col('is_production'),\n",
    "    pl.col('is_annotated'),\n",
    "    pl.col('issues')==\"\",\n",
    "    )['session_id'].to_list()\n",
    ")"
   ]
  },
  {
   "cell_type": "code",
   "execution_count": null,
   "metadata": {},
   "outputs": [],
   "source": [
    "#temp hack take first x characters of session id to match with dr_session_list\n",
    "# all_data['session_id'] = all_data['session_id'].str.slice(0,17)"
   ]
  },
  {
   "cell_type": "code",
   "execution_count": 9,
   "metadata": {},
   "outputs": [],
   "source": [
    "# sel_project='DynamicRouting'\n",
    "sel_project='Templeton'\n",
    "sel_units=all_data.query('presence_ratio>=0.7 and \\\n",
    "                            isi_violations_ratio<=0.5 and \\\n",
    "                            amplitude_cutoff<=0.1 and \\\n",
    "                            activity_drift<=0.2 and \\\n",
    "                            project.str.contains(@sel_project) and \\\n",
    "                            ~structure.isna() and ~location.isna() and \\\n",
    "                            session_id in @templeton_session_list')  \n",
    "                            #session_id in @dr_session_list')\n",
    "\n",
    "structure_grouping = {\n",
    "    'SCop': 'SCs',\n",
    "    'SCsg': 'SCs',\n",
    "    'SCzo': 'SCs',\n",
    "    'SCig': 'SCm',\n",
    "    'SCiw': 'SCm',\n",
    "    'SCdg': 'SCm',\n",
    "    'SCdw': 'SCm',\n",
    "    \"ECT1\": 'ECT',\n",
    "    \"ECT2/3\": 'ECT',    \n",
    "    \"ECT6b\": 'ECT',\n",
    "    \"ECT5\": 'ECT',\n",
    "    \"ECT6a\": 'ECT', \n",
    "    \"ECT4\": 'ECT',\n",
    "}\n",
    "\n",
    "exclude_structure_list = [\n",
    "    'root','lot','ECT2/3','ECT5','ECT6a','ECT6b','CTXsp','MB','OLF','TH','HY','SCsg','SCzo',\n",
    "    'SCop','SCig','SCiw','SCdg','SCdw','STR','PAL','VL','V3','SEZ','out of brain']\n",
    "\n",
    "for structure, group in structure_grouping.items():\n",
    "    sel_units.loc[sel_units['structure'] == structure, 'structure'] = group\n",
    "\n",
    "sel_units=sel_units.query('structure not in @exclude_structure_list')\n",
    "\n",
    "adj_pvals=spike_utils.calculate_single_unit_metric_adjusted_pvals(sel_units,sel_project)"
   ]
  },
  {
   "cell_type": "code",
   "execution_count": 8,
   "metadata": {},
   "outputs": [
    {
     "data": {
      "text/plain": [
       "session_id\n",
       "636397_2022-09-27    74\n",
       "670180_2023-07-27    43\n",
       "668759_2023-07-11    12\n",
       "646318_2023-01-18     4\n",
       "644547_2022-12-06     3\n",
       "Name: count, dtype: int64"
      ]
     },
     "execution_count": 8,
     "metadata": {},
     "output_type": "execute_result"
    }
   ],
   "source": [
    "# all_data.query('(structure==\"VISam\") and session_id in @dr_session_list and activity_drift<=0.2 and \\\n",
    "#                 isi_violations_ratio<=0.5 and presence_ratio>=0.7 and amplitude_cutoff<=0.1')['session_id'].value_counts()\n",
    "\n",
    "all_data.query('(structure==\"VISam\" | structure==\"VISa\" | structure==\"VISrl\") and session_id in @templeton_session_list and activity_drift<=0.2 and \\\n",
    "                isi_violations_ratio<=0.5 and presence_ratio>=0.7 and amplitude_cutoff<=0.1')['session_id'].value_counts()"
   ]
  },
  {
   "cell_type": "code",
   "execution_count": null,
   "metadata": {},
   "outputs": [
    {
     "data": {
      "text/plain": [
       "0.11029411764705882"
      ]
     },
     "execution_count": 30,
     "metadata": {},
     "output_type": "execute_result"
    }
   ],
   "source": [
    "# ((all_data.query('(structure==\"VISp\") and session_id in @templeton_session_list and activity_drift<=0.2 and \\\n",
    "#                 isi_violations_ratio<=0.5 and presence_ratio>=0.7 and amplitude_cutoff<=0.1'\n",
    "#                  )[['vis1_stimulus_modulation_p_value','vis2_stimulus_modulation_p_value']]<0.05).sum(axis=1)>0).mean()\n",
    "\n",
    "((all_data.query('(structure==\"VISam\" | structure==\"VISa\" | structure==\"VISrl\") and \\\n",
    "                 session_id in @templeton_session_list and activity_drift<=0.2 and \\\n",
    "                isi_violations_ratio<=0.5 and presence_ratio>=0.7 and amplitude_cutoff<=0.1'\n",
    "                 )[['vis1_stimulus_modulation_p_value','vis2_stimulus_modulation_p_value']]<0.05).sum(axis=1)>0).mean()"
   ]
  },
  {
   "cell_type": "markdown",
   "metadata": {},
   "source": [
    "## stimulus modulation"
   ]
  },
  {
   "cell_type": "code",
   "execution_count": 10,
   "metadata": {},
   "outputs": [
    {
     "data": {
      "application/vnd.jupyter.widget-view+json": {
       "model_id": "bcd6de4dccea4e25946a268da7c4e447",
       "version_major": 2,
       "version_minor": 0
      },
      "image/png": "[encoded data removed]",
      "text/html": [
       "\n",
       "            <div style=\"display: inline-block;\">\n",
       "                <div class=\"jupyter-widgets widget-label\" style=\"text-align: center;\">\n",
       "                    Figure\n",
       "                </div>\n",
       "                <img src='data:image/png;base64,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' width=640.0/>\n",
       "            </div>\n",
       "        "
      ],
      "text/plain": [
       "Canvas(toolbar=Toolbar(toolitems=[('Home', 'Reset original view', 'home', 'home'), ('Back', 'Back to previous …"
      ]
     },
     "metadata": {},
     "output_type": "display_data"
    }
   ],
   "source": [
    "#plot overall stimulus modulation\n",
    "plot_utils.plot_stimulus_modulation_pie_chart(adj_pvals,sel_project)"
   ]
  },
  {
   "cell_type": "code",
   "execution_count": null,
   "metadata": {},
   "outputs": [],
   "source": [
    "#calculate stimulus modulation by region\n",
    "area_fraction_responsive_to_stim = spike_utils.calculate_stimulus_modulation_by_area(sel_units,sel_project,plot_figures=False,savepath=None)"
   ]
  },
  {
   "cell_type": "code",
   "execution_count": null,
   "metadata": {},
   "outputs": [],
   "source": [
    "#plot top 20 stimulus modulated regions\n",
    "\n",
    "#stimulus:\n",
    "fig,ax=plt.subplots(3,1,figsize=(10,8))\n",
    "#vis: vis1+vis1+both_vis\n",
    "vis_resp=area_fraction_responsive_to_stim[['vis1','vis2','both_vis']].sum(axis=1)\n",
    "area_fraction_responsive_to_stim['vis_only']=vis_resp\n",
    "sort_by_vis=area_fraction_responsive_to_stim.query('n_sessions_w_10_units>=3').sort_values(by='vis_only',ascending=False).head(20)\n",
    "sort_by_vis[['area','vis_only']].plot.bar(ax=ax[0],x='area',y='vis_only',color='tab:blue')\n",
    "ax[0].set_title('visual stimuli')\n",
    "ax[0].set_ylabel('fraction of units responsive')\n",
    "\n",
    "#aud: sound1+sound2+both_sound\n",
    "aud_resp=area_fraction_responsive_to_stim[['sound1','sound2','both_sound']].sum(axis=1)\n",
    "area_fraction_responsive_to_stim['aud_only']=aud_resp\n",
    "sort_by_aud=area_fraction_responsive_to_stim.query('n_sessions_w_10_units>=3').sort_values(by='aud_only',ascending=False).head(20)\n",
    "sort_by_aud[['area','aud_only']].plot.bar(ax=ax[1],x='area',y='aud_only',color='tab:orange')\n",
    "ax[1].set_title('auditory stimuli')\n",
    "ax[1].set_ylabel('fraction of units responsive')\n",
    "\n",
    "#mixed: mixed\n",
    "sort_by_mixed=area_fraction_responsive_to_stim.query('n_sessions_w_10_units>=3').sort_values(by='mixed',ascending=False).head(20)\n",
    "sort_by_mixed[['area','mixed']].plot.bar(ax=ax[2],x='area',y='mixed',color='tab:green')\n",
    "ax[2].set_title('multimodal')\n",
    "ax[2].set_ylabel('fraction of units responsive')\n",
    "\n",
    "fig.tight_layout()\n"
   ]
  },
  {
   "cell_type": "code",
   "execution_count": null,
   "metadata": {},
   "outputs": [],
   "source": [
    "#plot top 20 stimulus modulated areas, including sign of modulation\n",
    "\n",
    "#stimulus:\n",
    "fig,ax=plt.subplots(3,1,figsize=(10,8))\n",
    "#vis: vis1+vis1+both_vis\n",
    "vis_pos_resp=area_fraction_responsive_to_stim[['vis1_pos','vis2_pos','both_vis_pos']].sum(axis=1)\n",
    "area_fraction_responsive_to_stim['vis_pos_only']=vis_pos_resp\n",
    "vis_neg_resp=area_fraction_responsive_to_stim[['vis1_neg','vis2_neg','both_vis_neg']].sum(axis=1)\n",
    "area_fraction_responsive_to_stim['vis_neg_only']=vis_neg_resp\n",
    "vis_resp=area_fraction_responsive_to_stim[['vis1','vis2','both_vis']].sum(axis=1)\n",
    "area_fraction_responsive_to_stim['vis_only']=vis_resp\n",
    "\n",
    "sort_by_vis=area_fraction_responsive_to_stim.query('n_sessions_w_10_units>=3').sort_values(by='vis_only',ascending=False).head(20)\n",
    "sort_by_vis[['area','vis_pos_only','vis_neg_only']].plot.bar(ax=ax[0],x='area',stacked=True,color=['tab:blue','lightblue'])\n",
    "ax[0].set_title('visual stimuli')\n",
    "ax[0].set_ylabel('fraction of units responsive')\n",
    "ax[0].legend(['positive','negative'])\n",
    "\n",
    "#aud: sound1+sound2+both_sound\n",
    "aud_pos_resp=area_fraction_responsive_to_stim[['sound1_pos','sound2_pos','both_sound_pos']].sum(axis=1)\n",
    "area_fraction_responsive_to_stim['aud_pos_only']=aud_pos_resp\n",
    "aud_neg_resp=area_fraction_responsive_to_stim[['sound1_neg','sound2_neg','both_sound_neg']].sum(axis=1)\n",
    "area_fraction_responsive_to_stim['aud_neg_only']=aud_neg_resp\n",
    "aud_resp=area_fraction_responsive_to_stim[['sound1','sound2','both_sound']].sum(axis=1)\n",
    "area_fraction_responsive_to_stim['aud_only']=aud_resp\n",
    "\n",
    "sort_by_aud=area_fraction_responsive_to_stim.query('n_sessions_w_10_units>=3').sort_values(by='aud_only',ascending=False).head(20)\n",
    "sort_by_aud[['area','aud_pos_only','aud_neg_only']].plot.bar(ax=ax[1],x='area',stacked=True,color=['tab:orange','bisque'])\n",
    "ax[1].set_title('auditory stimuli')\n",
    "ax[1].set_ylabel('fraction of units responsive')\n",
    "ax[1].legend(['positive','negative'])\n",
    "\n",
    "#mixed: mixed\n",
    "mixed_pos_resp=area_fraction_responsive_to_stim[['mixed_pos']].sum(axis=1)\n",
    "area_fraction_responsive_to_stim['mixed_pos_only']=mixed_pos_resp\n",
    "mixed_neg_resp=area_fraction_responsive_to_stim[['mixed_neg']].sum(axis=1)\n",
    "area_fraction_responsive_to_stim['mixed_neg_only']=mixed_neg_resp\n",
    "mixed_resp=area_fraction_responsive_to_stim[['mixed']].sum(axis=1)\n",
    "area_fraction_responsive_to_stim['mixed_only']=mixed_resp\n",
    "\n",
    "sort_by_mixed=area_fraction_responsive_to_stim.query('n_sessions_w_10_units>=3').sort_values(by='mixed',ascending=False).head(20)\n",
    "sort_by_mixed[['area','mixed_pos_only','mixed_neg_only']].plot.bar(ax=ax[2],x='area',stacked=True,color=['tab:green','lightgreen'])\n",
    "ax[2].set_title('multimodal')\n",
    "ax[2].set_ylabel('fraction of units responsive')\n",
    "ax[2].legend(['positive','negative'])\n",
    "\n",
    "fig.tight_layout()\n"
   ]
  },
  {
   "cell_type": "markdown",
   "metadata": {},
   "source": [
    "## context, stimulus, and lick modulation"
   ]
  },
  {
   "cell_type": "code",
   "execution_count": null,
   "metadata": {},
   "outputs": [],
   "source": [
    "# #plot overall context, stim, lick modulation\n",
    "plot_utils.plot_context_stim_lick_modulation_pie_chart(adj_pvals,sel_project)"
   ]
  },
  {
   "cell_type": "code",
   "execution_count": null,
   "metadata": {},
   "outputs": [],
   "source": [
    "#calculate context, lick, stimulus modulation by region\n",
    "area_fraction_context_mod=spike_utils.compute_context_stim_lick_modulation_by_area(sel_units,sel_project,plot_figures=False,savepath=None)"
   ]
  },
  {
   "cell_type": "code",
   "execution_count": null,
   "metadata": {},
   "outputs": [],
   "source": [
    "#lick/context/stim:\n",
    "fig,ax=plt.subplots(3,1,figsize=(10,8))\n",
    "#lick: any lick\n",
    "sort_by_lick=area_fraction_context_mod.query('n_sessions_w_10_units>=3').sort_values(by='any_lick',ascending=False).head(20)\n",
    "sort_by_lick[['area','any_lick']].plot.bar(ax=ax[0],x='area',y='any_lick',color='tab:purple')\n",
    "ax[0].set_title('most lick responsive areas')\n",
    "ax[0].set_ylabel('fraction of units responsive')\n",
    "\n",
    "#context: any context\n",
    "sort_by_context=area_fraction_context_mod.query('n_sessions_w_10_units>=3').sort_values(by='any_context',ascending=False).head(20)\n",
    "sort_by_context[['area','any_context']].plot.bar(ax=ax[1],x='area',y='any_context',color='tab:brown')\n",
    "ax[1].set_title('most context responsive areas')\n",
    "ax[1].set_ylabel('fraction of units responsive')\n",
    "\n",
    "#stim: any stim\n",
    "sort_by_stim=area_fraction_context_mod.query('n_sessions_w_10_units>=3').sort_values(by='any_stim',ascending=False).head(20)\n",
    "sort_by_stim[['area','any_stim']].plot.bar(ax=ax[2],x='area',y='any_stim',color='tab:blue')\n",
    "ax[2].set_title('most stimulus responsive areas')\n",
    "ax[2].set_ylabel('fraction of units responsive')\n",
    "\n",
    "\n",
    "fig.tight_layout()"
   ]
  },
  {
   "cell_type": "markdown",
   "metadata": {},
   "source": [
    "## context modulation of stimulus responses"
   ]
  },
  {
   "cell_type": "code",
   "execution_count": null,
   "metadata": {},
   "outputs": [],
   "source": [
    "#plot stimulus responses modulated by context\n",
    "plot_utils.plot_context_mod_stim_resp_pie_chart(adj_pvals,sel_project,savepath=None)"
   ]
  },
  {
   "cell_type": "code",
   "execution_count": null,
   "metadata": {},
   "outputs": [],
   "source": [
    "sel_denominator='total_n'  # options: 'total_n', 'n_stim_responsive', 'n_late_stim_responsive'\n",
    "area_fraction_context_stim_mod=spike_utils.calculate_context_mod_stim_resp_by_area(sel_units,sel_project,plot_figures=False,savepath=None,denominator=sel_denominator)"
   ]
  },
  {
   "cell_type": "code",
   "execution_count": null,
   "metadata": {},
   "outputs": [],
   "source": [
    "# area_units=sel_units.query('structure==\"PIR\"')\n",
    "# n_units=10\n",
    "# area_units.groupby('session_id').filter(lambda x: len(x)>=n_units)['session_id'].unique()\n",
    "# area_units['vis1_stimulus'\n"
   ]
  },
  {
   "cell_type": "code",
   "execution_count": null,
   "metadata": {},
   "outputs": [],
   "source": [
    "#context modulation of stimulus\n",
    "fig,ax=plt.subplots(1,1,figsize=(8,4))\n",
    "#vis: vis1+vis2+both_vis\n",
    "vis_context_stim_mod=area_fraction_context_stim_mod[['vis1','vis2','both_vis']].sum(axis=1)\n",
    "area_fraction_context_stim_mod['vis_only']=vis_context_stim_mod\n",
    "\n",
    "#aud: sound1+sound2+both_sound\n",
    "aud_context_stim_mod=area_fraction_context_stim_mod[['sound1','sound2','both_sound']].sum(axis=1)\n",
    "area_fraction_context_stim_mod['aud_only']=aud_context_stim_mod\n",
    "\n",
    "#total frac responsive\n",
    "area_fraction_context_stim_mod['any_stim']=area_fraction_context_stim_mod[['vis1','vis2','sound1','sound2','mixed','both_vis','both_sound']].sum(axis=1)\n",
    "\n",
    "sort_by_any_context_mod_stim=area_fraction_context_stim_mod.query('n_sessions_w_5_units>=4 and not area.str.islower()').sort_values(by='any_stim',ascending=False).head(30)\n",
    "sort_by_any_context_mod_stim[['area','vis_only','aud_only','mixed']].plot.bar(ax=ax,x='area',y=['vis_only','aud_only','mixed'],stacked=True)\n",
    "ax.set_title('context modulation of stimulus responses; denominator='+sel_denominator)\n",
    "ax.set_ylabel('fraction of units modulated')\n",
    "\n",
    "fig.tight_layout()"
   ]
  },
  {
   "cell_type": "code",
   "execution_count": null,
   "metadata": {},
   "outputs": [],
   "source": [
    "# #context modulation of evoked stimulus\n",
    "# fig,ax=plt.subplots(3,1,figsize=(10,8))\n",
    "# #vis: vis1+vis2+both_vis\n",
    "# vis_context_evoked_stim_mod=area_fraction_context_stim_mod[['vis1_evoked','vis2_evoked','both_vis_evoked']].sum(axis=1)\n",
    "# area_fraction_context_stim_mod['vis_only_evoked']=vis_context_evoked_stim_mod\n",
    "# sort_by_vis_context_evoked_stim=area_fraction_context_stim_mod.query('n_sessions_w_10_units>=5').sort_values(by='vis_only_evoked',ascending=False).head(20)\n",
    "# sort_by_vis_context_evoked_stim[['area','vis_only_evoked']].plot.bar(ax=ax[0],x='area',y='vis_only_evoked',color='tab:blue')\n",
    "# ax[0].set_title('context modulation of evoked visual stim responses')\n",
    "# ax[0].set_ylabel('fraction of units modulated')\n",
    "\n",
    "# #aud: sound1+sound2+both_sound\n",
    "# aud_context_evoked_stim_mod=area_fraction_context_stim_mod[['sound1_evoked','sound2_evoked','both_sound_evoked']].sum(axis=1)\n",
    "# area_fraction_context_stim_mod['aud_only_evoked']=aud_context_evoked_stim_mod\n",
    "# sort_by_aud_context_evoked_stim=area_fraction_context_stim_mod.query('n_sessions_w_10_units>=5').sort_values(by='aud_only_evoked',ascending=False).head(20)\n",
    "# sort_by_aud_context_evoked_stim[['area','aud_only_evoked']].plot.bar(ax=ax[1],x='area',y='aud_only_evoked',color='tab:orange')\n",
    "# ax[1].set_title('context modulation of evoked auditory stim responses')\n",
    "# ax[1].set_ylabel('fraction of units modulated')\n",
    "\n",
    "# #mixed: mixed\n",
    "# sort_by_mixed_context_evoked_stim=area_fraction_context_stim_mod.query('n_sessions_w_10_units>=5').sort_values(by='mixed_evoked',ascending=False).head(20)\n",
    "# sort_by_mixed_context_evoked_stim[['area','mixed_evoked']].plot.bar(ax=ax[2],x='area',y='mixed_evoked',color='tab:green')\n",
    "# ax[2].set_title('context modulation of evoked multimodal stim responses')\n",
    "# ax[2].set_ylabel('fraction of units modulated')\n",
    "\n",
    "# fig.tight_layout()"
   ]
  },
  {
   "cell_type": "code",
   "execution_count": null,
   "metadata": {},
   "outputs": [],
   "source": [
    "#context modulation of evoked stimulus responses\n",
    "fig,ax=plt.subplots(1,1,figsize=(8,4))\n",
    "#vis: vis1+vis2+both_vis\n",
    "vis_context_stim_mod=area_fraction_context_stim_mod[['vis1_evoked','vis2_evoked','both_vis_evoked']].sum(axis=1)\n",
    "area_fraction_context_stim_mod['vis_only_evoked']=vis_context_stim_mod\n",
    "\n",
    "#aud: sound1+sound2+both_sound\n",
    "aud_context_stim_mod=area_fraction_context_stim_mod[['sound1_evoked','sound2_evoked','both_sound_evoked']].sum(axis=1)\n",
    "area_fraction_context_stim_mod['aud_only_evoked']=aud_context_stim_mod\n",
    "\n",
    "#total frac responsive\n",
    "area_fraction_context_stim_mod['any_stim_evoked']=area_fraction_context_stim_mod[\n",
    "    ['vis1_evoked','vis2_evoked','sound1_evoked','sound2_evoked','mixed_evoked','both_vis_evoked','both_sound_evoked']].sum(axis=1)\n",
    "\n",
    "sort_by_any_context_mod_stim=area_fraction_context_stim_mod.query(\n",
    "    'n_sessions_w_5_units>=4 and not area.str.islower()').sort_values(by='any_stim_evoked',ascending=False).head(30)\n",
    "sort_by_any_context_mod_stim[\n",
    "    ['area','vis_only_evoked','aud_only_evoked','mixed_evoked']\n",
    "    ].plot.bar(ax=ax,x='area',y=['vis_only_evoked','aud_only_evoked','mixed_evoked'],stacked=True)\n",
    "ax.set_title('context modulation of evoked stimulus responses; denominator='+sel_denominator)\n",
    "ax.set_ylabel('fraction of units modulated')\n",
    "\n",
    "fig.tight_layout()"
   ]
  },
  {
   "cell_type": "code",
   "execution_count": null,
   "metadata": {},
   "outputs": [],
   "source": [
    "#context modulation of late stimulus responses\n",
    "\n",
    "fig,ax=plt.subplots(1,1,figsize=(8,4))\n",
    "#vis: vis1+vis2+both_vis\n",
    "vis_context_stim_mod=area_fraction_context_stim_mod[['vis1_late','vis2_late','both_vis_late']].sum(axis=1)\n",
    "area_fraction_context_stim_mod['vis_only_late']=vis_context_stim_mod\n",
    "\n",
    "#aud: sound1+sound2+both_sound\n",
    "aud_context_stim_mod=area_fraction_context_stim_mod[['sound1_late','sound2_late','both_sound_late']].sum(axis=1)\n",
    "area_fraction_context_stim_mod['aud_only_late']=aud_context_stim_mod\n",
    "\n",
    "#total frac responsive\n",
    "area_fraction_context_stim_mod['any_stim_late']=area_fraction_context_stim_mod[\n",
    "    ['vis1_late','vis2_late','sound1_late','sound2_late','mixed_late','both_vis_late','both_sound_late']].sum(axis=1)\n",
    "\n",
    "sort_by_any_context_mod_stim=area_fraction_context_stim_mod.query('n_sessions_w_5_units>=5 and not area.str.islower()').sort_values(by='any_stim_late',ascending=False).head(30)\n",
    "sort_by_any_context_mod_stim[\n",
    "    ['area','vis_only_late','aud_only_late','mixed_late']].plot.bar(\n",
    "        ax=ax,x='area',y=['vis_only_late','aud_only_late','mixed_late'],stacked=True)\n",
    "ax.set_title('context modulation of late stimulus responses; denominator='+sel_denominator)\n",
    "ax.set_ylabel('fraction of units modulated')\n",
    "\n",
    "fig.tight_layout()"
   ]
  },
  {
   "cell_type": "code",
   "execution_count": null,
   "metadata": {},
   "outputs": [],
   "source": [
    "#context modulation of late stimulus responses\n",
    "\n",
    "fig,ax=plt.subplots(1,1,figsize=(8,4))\n",
    "#vis: vis1+vis2+both_vis\n",
    "vis_context_stim_mod=area_fraction_context_stim_mod[['vis1_late_evoked','vis2_late_evoked','both_vis_late_evoked']].sum(axis=1)\n",
    "area_fraction_context_stim_mod['vis_only_late_evoked']=vis_context_stim_mod\n",
    "\n",
    "#aud: sound1+sound2+both_sound\n",
    "aud_context_stim_mod=area_fraction_context_stim_mod[['sound1_late_evoked','sound2_late_evoked','both_sound_late_evoked']].sum(axis=1)\n",
    "area_fraction_context_stim_mod['aud_only_late_evoked']=aud_context_stim_mod\n",
    "\n",
    "#total frac responsive\n",
    "area_fraction_context_stim_mod['any_stim_late_evoked']=area_fraction_context_stim_mod[\n",
    "    ['vis1_late_evoked','vis2_late_evoked','sound1_late_evoked','sound2_late_evoked',\n",
    "     'mixed_late_evoked','both_vis_late_evoked','both_sound_late_evoked']].sum(axis=1)\n",
    "\n",
    "sort_by_any_context_mod_stim=area_fraction_context_stim_mod.query('n_sessions_w_5_units>=4 and not area.str.islower()').sort_values(by='any_stim_late_evoked',ascending=False).head(30)\n",
    "sort_by_any_context_mod_stim[\n",
    "    ['area','vis_only_late_evoked','aud_only_late_evoked','mixed_late_evoked']].plot.bar(\n",
    "        ax=ax,x='area',y=['vis_only_late_evoked','aud_only_late_evoked','mixed_late_evoked'],stacked=True)\n",
    "ax.set_title('context modulation of late evoked stimulus responses; denominator='+sel_denominator)\n",
    "ax.set_ylabel('fraction of units modulated')\n",
    "\n",
    "fig.tight_layout()"
   ]
  },
  {
   "cell_type": "code",
   "execution_count": null,
   "metadata": {},
   "outputs": [],
   "source": [
    "# plot selected structures\n",
    "#just visual responses\n",
    "import numpy as np\n",
    "sel_structures=['LGd','VISp','VISl','VISal','LP','VISrl','VISam','VISpm','ORBl','AId','MOs','FRP','CP','ACAd','SCs','SCm','MRN']\n",
    "\n",
    "#context modulation of stimulus\n",
    "fig,ax=plt.subplots(1,1,figsize=(5,3))\n",
    "#any vis: vis1+vis2+both_vis+mixed\n",
    "vis_context_stim_mod=area_fraction_context_stim_mod[['vis1','vis2','both_vis','mixed']].sum(axis=1)\n",
    "area_fraction_context_stim_mod['any_vis']=vis_context_stim_mod\n",
    "\n",
    "#total frac responsive\n",
    "area_fraction_context_stim_mod['any_stim']=area_fraction_context_stim_mod[['vis1','vis2','sound1','sound2','mixed','both_vis','both_sound']].sum(axis=1)\n",
    "\n",
    "#sort by list order\n",
    "sort_by_any_context_mod_stim=area_fraction_context_stim_mod.query('n_sessions_w_5_units>=4 and not area.str.islower() and area in @sel_structures')\n",
    "sort_by_any_context_mod_stim=sort_by_any_context_mod_stim.set_index('area').reindex(sel_structures).reset_index()\n",
    "\n",
    "# #sort by any_vis\n",
    "# sort_by_any_context_mod_stim=area_fraction_context_stim_mod.query(\n",
    "#     'n_sessions_w_5_units>=4 and not area.str.islower() and area in @sel_structures').sort_values(by='any_vis',ascending=True)\n",
    "\n",
    "bars=sort_by_any_context_mod_stim[['area','any_vis']].plot.bar(ax=ax,x='area',y='any_vis',legend=False,color='k')\n",
    "\n",
    "ax.set_title('context modulation of visual stimulus responses')\n",
    "ax.set_ylabel('fraction of units modulated')\n",
    "\n",
    "fig.tight_layout()"
   ]
  },
  {
   "cell_type": "code",
   "execution_count": null,
   "metadata": {},
   "outputs": [],
   "source": [
    "# save figure\n",
    "fig.savefig(r\"\\\\allen\\programs\\mindscope\\workgroups\\dynamicrouting\\Ethan\\CO single unit metrics\\v272_2025-08-15\\context_modulation_of_visual_stim_responses_selected_areas_w_CP.pdf\",dpi=300)"
   ]
  },
  {
   "cell_type": "code",
   "execution_count": null,
   "metadata": {},
   "outputs": [],
   "source": [
    "sort_by_any_context_mod_stim"
   ]
  },
  {
   "cell_type": "code",
   "execution_count": null,
   "metadata": {},
   "outputs": [],
   "source": []
  },
  {
   "cell_type": "code",
   "execution_count": null,
   "metadata": {},
   "outputs": [],
   "source": [
    "#Layer diffs"
   ]
  },
  {
   "cell_type": "code",
   "execution_count": null,
   "metadata": {},
   "outputs": [],
   "source": [
    "#RS vs FS"
   ]
  },
  {
   "cell_type": "code",
   "execution_count": null,
   "metadata": {},
   "outputs": [],
   "source": [
    "#raw vs evoked context modulation"
   ]
  },
  {
   "cell_type": "code",
   "execution_count": null,
   "metadata": {},
   "outputs": [],
   "source": [
    "#stim vs baseline context modulation"
   ]
  },
  {
   "cell_type": "code",
   "execution_count": null,
   "metadata": {},
   "outputs": [],
   "source": [
    "sel_units.columns"
   ]
  },
  {
   "cell_type": "code",
   "execution_count": null,
   "metadata": {},
   "outputs": [],
   "source": [
    "unit_counts=sel_units['structure'].value_counts()\n",
    "unit_counts=unit_counts[unit_counts>=50]\n",
    "\n",
    "fig,ax=plt.subplots(figsize=(12,6))\n",
    "unit_counts.plot.bar(ax=ax)\n",
    "fig.tight_layout()"
   ]
  },
  {
   "cell_type": "code",
   "execution_count": null,
   "metadata": {},
   "outputs": [],
   "source": [
    "top_context_mod_stim_structures=['GPe','MRN','SNr','SNc','RN','NPC','VTA','SCm','RT','PAG','VM','ZI',\n",
    "                                 'FRP','ACAd','VISrl','CP','VPL','MOs','VAL','APN','POL','AId','PCN',\n",
    "                                 'CL','MD','Eth','AUDd','NOT','SSs','PL']\n",
    "\n",
    "show_metric_name='stim_context_modulation_zscore'\n",
    "stimuli=['vis1','vis2','sound1','sound2']\n",
    "\n",
    "save_path=r\"\\\\allen\\programs\\mindscope\\workgroups\\dynamicrouting\\Ethan\\CO single unit metrics\\context_modulated_stimulus_response_example_PSTHs\"\n",
    "\n",
    "#loop through structures, find top 10 units by context modulation of stimulus response zscore, plot PSTHs\n",
    "for structure in top_context_mod_stim_structures:\n",
    "    area_units=sel_units.query('structure==@structure')\n",
    "\n",
    "    area_units['max_context_mod_stim_zscore']=area_units[['vis1_context_modulation_zscore',\n",
    "                                                  'vis2_context_modulation_zscore',\n",
    "                                                  'sound1_context_modulation_zscore',\n",
    "                                                  'sound2_context_modulation_zscore']].abs().max(axis=1)\n",
    "    \n",
    "    area_units['min_context_mod_stim_p_value']=area_units[['vis1_context_modulation_p_value',\n",
    "                                                    'vis2_context_modulation_p_value',\n",
    "                                                    'sound1_context_modulation_p_value',\n",
    "                                                    'sound2_context_modulation_p_value']].min(axis=1)\n",
    "\n",
    "    top_units=area_units.query(\n",
    "        'min_context_mod_stim_p_value<0.001'\n",
    "        ).sort_values(by='max_context_mod_stim_zscore', ascending=False).head(10)\n",
    "\n",
    "    for unit_id in top_units['unit_id'].unique():\n",
    "        # plot_utils.plot_unit_response_by_context_modulation(unit_id,savepath=None)\n",
    "        # plot_utils.plot_unit_response_by_task_performance_stim_aligned(unit_id)\n",
    "        metric_values_dict={}\n",
    "        for ss in stimuli:\n",
    "            metric_values_dict[ss]=top_units.query('unit_id==@unit_id')[show_metric_name.replace('stim',ss)].values[0]\n",
    "        plot_utils.plot_unit_by_id(unit_id, save_path=save_path,)\n",
    "        # break\n",
    "\n",
    "    # break\n"
   ]
  },
  {
   "cell_type": "code",
   "execution_count": null,
   "metadata": {},
   "outputs": [],
   "source": [
    "# plot vis pathway units example PSTHs\n",
    "\n",
    "# filter by responsiveness to vis1 or vis2, get both modulated and non modulated examples\n",
    "\n",
    "metric_1_name = 'stim_stimulus_modulation_p_value'\n",
    "\n",
    "metric_2_name = 'stim_context_modulation_p_value'\n",
    "\n",
    "stimuli=['vis1','vis2']\n",
    "\n",
    "vis_pathway_structures=['LGd','LP','VISp','VISl','VISal','VISpm','VISam','VISrl']\n",
    "\n",
    "non_mod_save_path=r\"\\\\allen\\programs\\mindscope\\workgroups\\dynamicrouting\\Ethan\\CO single unit metrics\\not_context_modulated_stimulus_response_example_PSTHs\"\n",
    "\n",
    "#loop through structures, find top 10 units by context modulation of stimulus response zscore, plot PSTHs\n",
    "for structure in vis_pathway_structures:\n",
    "    area_units=sel_units.query('structure==@structure')\n",
    "\n",
    "    area_units['max_context_mod_stim_zscore']=area_units[['vis1_context_modulation_zscore',\n",
    "                                                  'vis2_context_modulation_zscore']].abs().max(axis=1)\n",
    "    \n",
    "    area_units['min_context_mod_stim_p_value']=area_units[['vis1_context_modulation_p_value',\n",
    "                                                    'vis2_context_modulation_p_value']].min(axis=1)\n",
    "\n",
    "    top_units=area_units.query(\n",
    "        'min_context_mod_stim_p_value<0.001 and (vis1_stimulus_modulation_p_value<0.01 or vis2_stimulus_modulation_p_value<0.01)'\n",
    "        ).head(10)\n",
    "    \n",
    "    non_mod_units=area_units.query(\n",
    "        'min_context_mod_stim_p_value>0.5 and (vis1_stimulus_modulation_p_value<0.01 or vis2_stimulus_modulation_p_value<0.01)'\n",
    "        ).head(10)\n",
    "\n",
    "    for unit_id in top_units['unit_id'].unique():\n",
    "        # metric_values_dict={}\n",
    "        # for ss in stimuli:\n",
    "        #     metric_values_dict[ss]=top_units.query('unit_id==@unit_id')[metric_1_name.replace('stim',ss)].values[0]\n",
    "        plot_utils.plot_unit_by_id(unit_id, save_path=save_path,)\n",
    "        # break\n",
    "\n",
    "    for unit_id in non_mod_units['unit_id'].unique():\n",
    "        # metric_values_dict={}\n",
    "        # for ss in stimuli:\n",
    "        #     metric_values_dict[ss]=non_mod_units.query('unit_id==@unit_id')[show_metric_name.replace('stim',ss)].values[0]\n",
    "        plot_utils.plot_unit_by_id(unit_id, save_path=non_mod_save_path,)\n",
    "        # break\n",
    "\n",
    "    # break"
   ]
  },
  {
   "cell_type": "code",
   "execution_count": null,
   "metadata": {},
   "outputs": [],
   "source": [
    "# plot_utils.plot_unit_response_by_task_performance_stim_aligned()"
   ]
  },
  {
   "cell_type": "code",
   "execution_count": null,
   "metadata": {},
   "outputs": [],
   "source": []
  }
 ],
 "metadata": {
  "kernelspec": {
   "display_name": "dr_ibl_analysis",
   "language": "python",
   "name": "python3"
  },
  "language_info": {
   "codemirror_mode": {
    "name": "ipython",
    "version": 3
   },
   "file_extension": ".py",
   "mimetype": "text/x-python",
   "name": "python",
   "nbconvert_exporter": "python",
   "pygments_lexer": "ipython3",
   "version": "3.11.5"
  }
 },
 "nbformat": 4,
 "nbformat_minor": 2
}
