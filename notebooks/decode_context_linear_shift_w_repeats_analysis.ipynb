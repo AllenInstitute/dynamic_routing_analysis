{
 "cells": [
  {
   "cell_type": "code",
   "execution_count": 1,
   "metadata": {},
   "outputs": [],
   "source": [
    "import os\n",
    "import glob\n",
    "import numpy as np\n",
    "import pandas as pd\n",
    "import matplotlib.pyplot as plt\n",
    "from dynamic_routing_analysis import decoding_utils, plot_utils\n",
    "import dynamic_routing_analysis as dra\n",
    "\n",
    "import matplotlib\n",
    "import matplotlib.font_manager as fm\n",
    "\n",
    "matplotlib.rcParams['font.size'] = 8\n",
    "matplotlib.rcParams['pdf.fonttype'] = 42\n",
    "matplotlib.rcParams['ps.fonttype'] = 42\n",
    "fm.FontProperties().set_family('arial')\n",
    "\n",
    "%load_ext autoreload\n",
    "%autoreload 2\n",
    "%matplotlib inline\n",
    "# %matplotlib widget"
   ]
  },
  {
   "cell_type": "code",
   "execution_count": 2,
   "metadata": {},
   "outputs": [],
   "source": [
    "#set path to decoding results\n",
    "# loadpath=dra.DECODING_ROOT_PATH / \"new_annotations\" / \"linear_shift_20_units_re_run\"\n",
    "# loadpath=r\"\\\\allen\\programs\\mindscope\\workgroups\\templeton\\TTOC\\decoding results\\new_annotations\\linear_shift_20_units_plus_all\"\n",
    "loadpath=r\"\\\\allen\\programs\\mindscope\\workgroups\\dynamicrouting\\shailaja\\population_decoding\"\n",
    "files=glob.glob(os.path.join(loadpath,'*_decoding_results*.pkl'))"
   ]
  },
  {
   "cell_type": "markdown",
   "metadata": {},
   "source": [
    "## plot single session linear shift decoder results"
   ]
  },
  {
   "cell_type": "code",
   "execution_count": null,
   "metadata": {},
   "outputs": [],
   "source": [
    "files[90]"
   ]
  },
  {
   "cell_type": "code",
   "execution_count": null,
   "metadata": {},
   "outputs": [],
   "source": [
    "#plot decoding results from one session\n",
    "sel_session=90\n",
    "\n",
    "plot_utils.plot_single_session_decoding_results(path=files[sel_session])"
   ]
  },
  {
   "cell_type": "markdown",
   "metadata": {},
   "source": [
    "## load or concat decoder results across sessions"
   ]
  },
  {
   "cell_type": "code",
   "execution_count": 3,
   "metadata": {},
   "outputs": [],
   "source": [
    "# load all decoding results, option to concatenate all sessions\n",
    "concat_session_results=False\n",
    "save_table=False\n",
    "return_table=False\n",
    "\n",
    "# all_decoder_results_path=os.path.join(loadpath,'combined','all_unit_linear_shift_use_more_trials.csv')\n",
    "# all_decoder_results_path=loadpath / 'combined' / 'all_unit_linear_shift_use_more_trials.csv'\n",
    "\n",
    "all_decoder_results_path=r\"\\\\allen\\programs\\mindscope\\workgroups\\dynamicrouting\\shailaja\\population_decoding\\all_unit_linear_shift_use_more_trials.csv\"\n",
    "\n",
    "if save_table:\n",
    "    # savepath = (\n",
    "    #     dra.DECODING_ROOT_PATH\n",
    "    #     / \"new_annotations\"\n",
    "    #     / \"linear_shift_20_units_re_run\"\n",
    "    #     / \"combined\"\n",
    "    # )\n",
    "    savepath=all_decoder_results_path=os.path.join(loadpath,'combined')\n",
    "else:\n",
    "    savepath=None\n",
    "\n",
    "if concat_session_results:\n",
    "    all_decoder_results=decoding_utils.concat_decoder_results(files,savepath=savepath,return_table=return_table)\n",
    "else:\n",
    "    all_decoder_results=pd.read_csv(all_decoder_results_path)"
   ]
  },
  {
   "cell_type": "code",
   "execution_count": null,
   "metadata": {},
   "outputs": [],
   "source": [
    "all_decoder_results"
   ]
  },
  {
   "cell_type": "code",
   "execution_count": 4,
   "metadata": {},
   "outputs": [],
   "source": [
    "#compute fraction significant, difference from null for DynamicRouting and Templeton projects\n",
    "all_frac_sig_df,all_diff_from_null_df=decoding_utils.compute_significant_decoding_by_area(all_decoder_results)"
   ]
  },
  {
   "cell_type": "markdown",
   "metadata": {},
   "source": [
    "## plot decoding accuracy across areas for DR sessions"
   ]
  },
  {
   "cell_type": "code",
   "execution_count": null,
   "metadata": {},
   "outputs": [],
   "source": [
    "#barplot sorted by fraction significant\n",
    "min_n_expts=3\n",
    "\n",
    "n_units=[]\n",
    "for col in all_frac_sig_df.filter(like='frac_sig_DR').columns.values:\n",
    "    if len(col.split('_'))==4:\n",
    "        n_units.append('_'+col.split('_')[3])\n",
    "    else:\n",
    "        n_units.append('')\n",
    "\n",
    "for nu in n_units:\n",
    "    plot_DR_frac_sig_df=all_frac_sig_df.query('n_expts_DR>=@min_n_expts').sort_values('frac_sig_DR'+nu,ascending=False)\n",
    "    fig,ax=plt.subplots(1,1,figsize=(10,4))\n",
    "    plot_DR_frac_sig_df.plot.bar(x='area',y=['frac_sig_DR'+nu],ax=ax)\n",
    "    ax.set_ylabel('fraction significant decoding')\n",
    "\n",
    "    area_labels=[]\n",
    "    for i in range(plot_DR_frac_sig_df.shape[0]):\n",
    "        area_labels.append(plot_DR_frac_sig_df['area'].iloc[i]+' ('+str(int(plot_DR_frac_sig_df['n_expts_DR'].iloc[i]))+')')\n",
    "    ax.set_xticklabels(area_labels,rotation=90,ha='center')\n",
    "    ax.set_ylim([0,1])\n",
    "    fig.tight_layout()\n",
    "\n",
    "# plot_DR_frac_sig_df=all_frac_sig_df.query('n_expts_DR>=@min_n_expts').sort_values('frac_sig_DR',ascending=False)\n",
    "# fig,ax=plt.subplots(1,1,figsize=(8,4))\n",
    "# plot_DR_frac_sig_df.plot.bar(x='area',y=['frac_sig_DR'],ax=ax)\n",
    "# ax.set_ylabel('fraction significant decoding')\n",
    "\n",
    "# area_labels=[]\n",
    "# for i in range(plot_DR_frac_sig_df.shape[0]):\n",
    "#     area_labels.append(plot_DR_frac_sig_df['area'].iloc[i]+' ('+str(int(plot_DR_frac_sig_df['n_expts_DR'].iloc[i]))+')')\n",
    "# ax.set_xticklabels(area_labels,rotation=90,ha='center')\n",
    "# ax.set_ylim([0,1])\n",
    "# fig.tight_layout()"
   ]
  },
  {
   "cell_type": "code",
   "execution_count": null,
   "metadata": {},
   "outputs": [],
   "source": [
    "#barplot sorted by DR diff from median\n",
    "min_n_expts=3\n",
    "\n",
    "n_units=[]\n",
    "for col in all_frac_sig_df.filter(like='frac_sig_DR').columns.values:\n",
    "    if len(col.split('_'))==4:\n",
    "        n_units.append('_'+col.split('_')[3])\n",
    "    else:\n",
    "        n_units.append('')\n",
    "\n",
    "for nu in n_units[0:1]:\n",
    "    plot_DR_diff_from_null_df=all_diff_from_null_df.query('n_expts_DR>=@min_n_expts').sort_values('diff_from_null_median_DR'+nu,ascending=False)\n",
    "    fig,ax=plt.subplots(1,1,figsize=(10,4))\n",
    "    plot_DR_diff_from_null_df.plot.bar(x='area',y=['diff_from_null_median_DR'+nu],\n",
    "                                       yerr='diff_from_null_sem_DR'+nu,ax=ax)\n",
    "\n",
    "    ax.set_ylabel('median difference from null')\n",
    "    area_labels=[]\n",
    "    for i in range(plot_DR_diff_from_null_df.shape[0]):\n",
    "        area_labels.append(plot_DR_diff_from_null_df['area'].iloc[i]+' ('+str(int(plot_DR_diff_from_null_df['n_expts_DR'].iloc[i]))+')')\n",
    "    ax.set_xticklabels(area_labels,rotation=90,ha='center')\n",
    "\n",
    "    ax.set_ylim([0,0.17])\n",
    "    fig.tight_layout()\n",
    "\n",
    "# plot_DR_diff_from_null_df=all_diff_from_null_df.query('n_expts_DR>=@min_n_expts').sort_values('diff_from_null_median_DR',ascending=False)\n",
    "# fig,ax=plt.subplots(1,1,figsize=(8,4))\n",
    "# plot_DR_diff_from_null_df.plot.bar(x='area',y=['diff_from_null_median_DR'],ax=ax)\n",
    "\n",
    "# ax.set_ylabel('median difference from null')\n",
    "# area_labels=[]\n",
    "# for i in range(plot_DR_diff_from_null_df.shape[0]):\n",
    "#     area_labels.append(plot_DR_diff_from_null_df['area'].iloc[i]+' ('+str(int(plot_DR_diff_from_null_df['n_expts_DR'].iloc[i]))+')')\n",
    "# ax.set_xticklabels(area_labels,rotation=90,ha='center')\n",
    "\n",
    "# ax.set_ylim([0,0.17])\n",
    "# fig.tight_layout()\n",
    "\n"
   ]
  },
  {
   "cell_type": "code",
   "execution_count": null,
   "metadata": {},
   "outputs": [],
   "source": [
    "#plot only selected areas\n",
    "\n",
    "#lump SC motor areas together?\n",
    "min_n_expts=3\n",
    "\n",
    "selected_areas=['SCiw','MRN','FRP','AId','CP','ACAd','PL','MOs','ORBl','VISal','MOp','MD','AUDp','MGd','VISp','LGd','SCsg']\n",
    "\n",
    "for nu in n_units[0:1]:\n",
    "    plot_DR_diff_from_null_df=all_diff_from_null_df.query('n_expts_DR>=@min_n_expts').sort_values('diff_from_null_median_DR'+nu,ascending=False)\n",
    "    plot_DR_diff_from_null_df=plot_DR_diff_from_null_df[plot_DR_diff_from_null_df['area'].isin(selected_areas)]\n",
    "    fig,ax=plt.subplots(1,1,figsize=(4,2.3))\n",
    "    plot_DR_diff_from_null_df.plot.bar(x='area',y=['diff_from_null_median_DR'+nu],\n",
    "                                       yerr='diff_from_null_sem_DR'+nu,ax=ax,legend=False,color='k')\n",
    "\n",
    "    ax.set_ylabel('decoding accuracy \\n above null')\n",
    "    area_labels=[]\n",
    "    for i in range(plot_DR_diff_from_null_df.shape[0]):\n",
    "        area_labels.append(plot_DR_diff_from_null_df['area'].iloc[i]+' ('+str(int(plot_DR_diff_from_null_df['n_expts_DR'].iloc[i]))+')')\n",
    "    ax.set_xticklabels(area_labels,rotation=90,ha='center')\n",
    "\n",
    "    ax.set_ylim([0,0.17])\n",
    "    ax.set_xlabel('')\n",
    "    #remove right and top spines\n",
    "    ax.spines['right'].set_visible(False)\n",
    "    ax.spines['top'].set_visible(False)\n",
    "    fig.tight_layout()\n"
   ]
  },
  {
   "cell_type": "code",
   "execution_count": 10,
   "metadata": {},
   "outputs": [],
   "source": [
    "# #save figure\n",
    "# temp_loadpath=r\"C:\\Users\\ethan.mcbride\\OneDrive - Allen Institute\\quick figures\\2024-10-04-plots_for_paper\"\n",
    "# savepath=os.path.join(temp_loadpath,'selected_areas_diff_from_null_.pdf')\n",
    "# # fig.savefig(savepath,format='pdf',bbox_inches='tight',dpi=600)\n",
    "# fig.savefig(savepath,format='pdf',transparent=True, bbox_inches='tight', pad_inches=0,\n",
    "#             metadata=None, dpi=600)"
   ]
  },
  {
   "cell_type": "code",
   "execution_count": null,
   "metadata": {},
   "outputs": [],
   "source": [
    "plot_DR_diff_from_null_df.query('area==\"MRN\"')"
   ]
  },
  {
   "cell_type": "code",
   "execution_count": null,
   "metadata": {},
   "outputs": [],
   "source": [
    "#plot true accuracy and null median on same barplot\n",
    "\n",
    "min_n_expts=3\n",
    "\n",
    "plot_DR_diff_from_null_df=all_diff_from_null_df.query('n_expts_DR>=@min_n_expts').sort_values('diff_from_null_median_DR',ascending=False)\n",
    "fig,ax=plt.subplots(1,1,figsize=(10,4))\n",
    "plot_DR_diff_from_null_df.plot.bar(x='area',y=['true_accuracy_DR','null_median_DR'],ax=ax)\n",
    "\n",
    "ax.set_ylabel('accuracy')\n",
    "area_labels=[]\n",
    "for i in range(plot_DR_diff_from_null_df.shape[0]):\n",
    "    area_labels.append(plot_DR_diff_from_null_df['area'].iloc[i]+' ('+str(int(plot_DR_diff_from_null_df['n_expts_DR'].iloc[i]))+')')\n",
    "\n",
    "ax.set_xticklabels(area_labels,rotation=90,ha='center')\n",
    "\n",
    "ax.set_ylim([0.5,1.0])\n",
    "fig.tight_layout()"
   ]
  },
  {
   "cell_type": "markdown",
   "metadata": {},
   "source": [
    "## compare DR and Templeton"
   ]
  },
  {
   "cell_type": "code",
   "execution_count": null,
   "metadata": {},
   "outputs": [],
   "source": [
    "#barplot sorted by fraction significant\n",
    "min_n_expts=2\n",
    "\n",
    "plot_all_frac_sig_df=all_frac_sig_df.query('n_expts_DR>=@min_n_expts and n_expts_Templ>=@min_n_expts').sort_values('frac_sig_DR',ascending=False)\n",
    "fig,ax=plt.subplots(1,1,figsize=(8,4))\n",
    "plot_all_frac_sig_df.plot.bar(x='area',y=['frac_sig_DR','frac_sig_Templ'],ax=ax)\n",
    "ax.set_ylabel('fraction significant decoding')\n",
    "# ax.set_xlabel('area')\n",
    "ax.legend(['DR','Templ'])\n",
    "ax.set_ylim([0,1])\n",
    "fig.tight_layout()"
   ]
  },
  {
   "cell_type": "code",
   "execution_count": null,
   "metadata": {},
   "outputs": [],
   "source": [
    "#barplot sorted by DR diff from median\n",
    "min_n_expts=2\n",
    "\n",
    "plot_all_diff_from_null_df=all_diff_from_null_df.query('n_expts_DR>=@min_n_expts and n_expts_Templ>=@min_n_expts').sort_values('diff_from_null_median_DR',ascending=False)\n",
    "fig,ax=plt.subplots(1,1,figsize=(8,4))\n",
    "plot_all_diff_from_null_df.plot.bar(x='area',y=['diff_from_null_median_DR','diff_from_null_median_Templ'],ax=ax)\n",
    "\n",
    "ax.set_ylabel('median difference from null')\n",
    "# ax.set_xlabel('area')\n",
    "ax.legend(['DR','Templ'])\n",
    "\n",
    "ax.set_ylim([-0.03,0.18])\n",
    "fig.tight_layout()\n"
   ]
  },
  {
   "cell_type": "markdown",
   "metadata": {},
   "source": [
    "### compare 3 areas - DR"
   ]
  },
  {
   "cell_type": "code",
   "execution_count": null,
   "metadata": {},
   "outputs": [],
   "source": [
    "area1='MRN'\n",
    "area2='MOs'\n",
    "area3='VISp'\n",
    "\n",
    "x_spacing=1\n",
    "\n",
    "for nu in n_units:\n",
    "\n",
    "    fig,ax=plt.subplots(1,1,figsize=(2.5,2.8))\n",
    "\n",
    "    area1_df=all_decoder_results.query('project==\"DynamicRouting\" and area==@area1 and n_good_blocks>=4')[['true_accuracy'+nu,'null_accuracy_median'+nu]]\n",
    "    area1_values=np.vstack(area1_df.values)\n",
    "    area1_mean=area1_values.mean(axis=0)\n",
    "\n",
    "    area2_df=all_decoder_results.query('project==\"DynamicRouting\" and area==@area2 and n_good_blocks>=4')[['true_accuracy'+nu,'null_accuracy_median'+nu]]\n",
    "    area2_values=np.vstack(area2_df.values)\n",
    "    area2_mean=area2_values.mean(axis=0)\n",
    "\n",
    "    area3_df=all_decoder_results.query('project==\"DynamicRouting\" and area==@area3 and n_good_blocks>=4')[['true_accuracy'+nu,'null_accuracy_median'+nu]]\n",
    "    area3_values=np.vstack(area3_df.values)\n",
    "    area3_mean=area3_values.mean(axis=0)\n",
    "\n",
    "\n",
    "    ax.plot([0,1],area1_values.T,'-',linewidth=0.5,color='gray',alpha=0.5)\n",
    "    ax.plot([0,1],area1_mean,'ko-')\n",
    "    ax.plot([1.75,2.75],area2_values.T,'-',linewidth=0.5,color='gray',alpha=0.5)\n",
    "    ax.plot([1.75,2.75],area2_mean,'ko-')\n",
    "    ax.plot([3.5,4.5],area3_values.T,'-',linewidth=0.5,color='gray',alpha=0.5)\n",
    "    ax.plot([3.5,4.5],area3_mean,'ko-')\n",
    "\n",
    "    ax.set_xticks([0.1,0.9,1.75+0.1,2.75-0.1,3.5+0.1,4.5-0.1])\n",
    "    ax.set_xticklabels(['obs.','null','obs.','null','obs.','null'])\n",
    "\n",
    "    #label axis with areas\n",
    "    ax.set_ylabel('decoder accuracy')\n",
    "\n",
    "    # ax.set_title(area1+' vs. '+area2+' ('+nu+' units)')\n",
    "\n",
    "    #remove top and right spines\n",
    "    ax.spines['top'].set_visible(False)\n",
    "    ax.spines['right'].set_visible(False)\n",
    "\n",
    "    fig.tight_layout()"
   ]
  },
  {
   "cell_type": "code",
   "execution_count": 12,
   "metadata": {},
   "outputs": [],
   "source": [
    "# #save figure\n",
    "# savepath=r\"C:\\Users\\ethan.mcbride\\OneDrive - Allen Institute\\quick figures\\2024-10-04-plots_for_paper\"\n",
    "# fig.savefig(os.path.join(savepath,area1+'_'+area2+'_accuracy_comparison_.pdf'),format='pdf',bbox_inches='tight',dpi=600)"
   ]
  }
 ],
 "metadata": {
  "kernelspec": {
   "display_name": "npc_analysis",
   "language": "python",
   "name": "python3"
  },
  "language_info": {
   "codemirror_mode": {
    "name": "ipython",
    "version": 3
   },
   "file_extension": ".py",
   "mimetype": "text/x-python",
   "name": "python",
   "nbconvert_exporter": "python",
   "pygments_lexer": "ipython3",
   "version": "3.11.5"
  }
 },
 "nbformat": 4,
 "nbformat_minor": 2
}
