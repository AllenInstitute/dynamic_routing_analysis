{
 "cells": [
  {
   "cell_type": "code",
   "execution_count": 1,
   "metadata": {},
   "outputs": [],
   "source": [
    "import numpy as np\n",
    "import matplotlib.pyplot as plt\n",
    "import npc_lims\n",
    "from npc_sessions import DynamicRoutingSession\n",
    "from dynamic_routing_analysis import decoding_utils\n",
    "import dynamic_routing_analysis as dra\n",
    "\n",
    "\n",
    "import os"
   ]
  },
  {
   "cell_type": "code",
   "execution_count": 2,
   "metadata": {},
   "outputs": [
    {
     "name": "stderr",
     "output_type": "stream",
     "text": [
      "c:\\Anaconda3\\envs\\npc_analysis\\Lib\\site-packages\\npc_lims\\metadata\\codeocean.py:141: UserWarning: There is more than one asset for session = '644866_2023-02-08'. Defaulting to most recent: ('ecephys_644866_2023-02-08_16-01-11', 'ecephys_644866_2023-02-08_16-01-11')\n",
      "  warnings.warn(\n"
     ]
    },
    {
     "name": "stdout",
     "output_type": "stream",
     "text": [
      "681532_2023-10-18_0 loaded\n"
     ]
    },
    {
     "name": "stderr",
     "output_type": "stream",
     "text": [
      "fetching units: 100%|████████████████████████| 6/6 [04:23<00:00, 43.84s/devices]\n",
      "c:\\Anaconda3\\envs\\npc_analysis\\Lib\\site-packages\\numcodecs\\abc.py:107: UserWarning: Multi-threading is supported for wavpack version>=5.6.4, but current version is 5.5.0. Parallel decoding will not be available.\n",
      "  return cls(**config)\n",
      "c:\\Anaconda3\\envs\\npc_analysis\\Lib\\site-packages\\numcodecs\\abc.py:107: UserWarning: Multi-threading is supported for wavpack version>=5.6.4, but current version is 5.5.0. Parallel decoding will not be available.\n",
      "  return cls(**config)\n",
      "c:\\Anaconda3\\envs\\npc_analysis\\Lib\\site-packages\\numcodecs\\abc.py:107: UserWarning: Multi-threading is supported for wavpack version>=5.6.4, but current version is 5.5.0. Parallel decoding will not be available.\n",
      "  return cls(**config)\n",
      "c:\\Anaconda3\\envs\\npc_analysis\\Lib\\site-packages\\numcodecs\\abc.py:107: UserWarning: Multi-threading is supported for wavpack version>=5.6.4, but current version is 5.5.0. Parallel decoding will not be available.\n",
      "  return cls(**config)\n",
      "c:\\Anaconda3\\envs\\npc_analysis\\Lib\\site-packages\\numcodecs\\abc.py:107: UserWarning: Multi-threading is supported for wavpack version>=5.6.4, but current version is 5.5.0. Parallel decoding will not be available.\n",
      "  return cls(**config)\n",
      "c:\\Anaconda3\\envs\\npc_analysis\\Lib\\site-packages\\numcodecs\\abc.py:107: UserWarning: Multi-threading is supported for wavpack version>=5.6.4, but current version is 5.5.0. Parallel decoding will not be available.\n",
      "  return cls(**config)\n"
     ]
    },
    {
     "name": "stdout",
     "output_type": "stream",
     "text": [
      "all done\n",
      "CP done\n",
      "CA1 done\n",
      "ProS done\n",
      "CA3 done\n",
      "SSp done\n",
      "MOs done\n",
      "PO done\n",
      "RSPagl done\n",
      "VISp done\n",
      "DG done\n",
      "AUDd done\n",
      "VISli done\n",
      "LP done\n",
      "VISpor done\n",
      "POL done\n",
      "VISpm done\n",
      "681532_2023-10-18_0 done\n",
      "681532_2023-10-17_0 loaded\n"
     ]
    },
    {
     "name": "stderr",
     "output_type": "stream",
     "text": [
      "fetching units: 100%|████████████████████████| 4/4 [03:29<00:00, 52.31s/devices]\n",
      "c:\\Anaconda3\\envs\\npc_analysis\\Lib\\site-packages\\numcodecs\\abc.py:107: UserWarning: Multi-threading is supported for wavpack version>=5.6.4, but current version is 5.5.0. Parallel decoding will not be available.\n",
      "  return cls(**config)\n",
      "c:\\Anaconda3\\envs\\npc_analysis\\Lib\\site-packages\\numcodecs\\abc.py:107: UserWarning: Multi-threading is supported for wavpack version>=5.6.4, but current version is 5.5.0. Parallel decoding will not be available.\n",
      "  return cls(**config)\n",
      "c:\\Anaconda3\\envs\\npc_analysis\\Lib\\site-packages\\numcodecs\\abc.py:107: UserWarning: Multi-threading is supported for wavpack version>=5.6.4, but current version is 5.5.0. Parallel decoding will not be available.\n",
      "  return cls(**config)\n",
      "c:\\Anaconda3\\envs\\npc_analysis\\Lib\\site-packages\\numcodecs\\abc.py:107: UserWarning: Multi-threading is supported for wavpack version>=5.6.4, but current version is 5.5.0. Parallel decoding will not be available.\n",
      "  return cls(**config)\n",
      "c:\\Anaconda3\\envs\\npc_analysis\\Lib\\site-packages\\DynamicRoutingTask\\Analysis\\DynamicRoutingAnalysisUtils.py:213: RuntimeWarning: invalid value encountered in scalar divide\n",
      "  self.falseAlarmSameModal.append(self.falseAlarmTrials[sameModal].sum() / sameModal.sum())\n",
      "c:\\Anaconda3\\envs\\npc_analysis\\Lib\\site-packages\\DynamicRoutingTask\\Analysis\\DynamicRoutingAnalysisUtils.py:214: RuntimeWarning: invalid value encountered in scalar divide\n",
      "  self.falseAlarmOtherModalGo.append(self.falseAlarmTrials[otherModalGo].sum() / otherModalGo.sum())\n",
      "c:\\Anaconda3\\envs\\npc_analysis\\Lib\\site-packages\\DynamicRoutingTask\\Analysis\\DynamicRoutingAnalysisUtils.py:206: RuntimeWarning: invalid value encountered in scalar divide\n",
      "  self.catchResponseRate.append(self.catchResponseTrials[blockTrials].sum() / self.catchTrials[blockTrials].sum())\n",
      "c:\\Anaconda3\\envs\\npc_analysis\\Lib\\site-packages\\DynamicRoutingTask\\Analysis\\DynamicRoutingAnalysisUtils.py:207: RuntimeWarning: invalid value encountered in scalar divide\n",
      "  self.hitRate.append(self.hitTrials[blockTrials].sum() / self.goTrials[blockTrials].sum())\n",
      "c:\\Anaconda3\\envs\\npc_analysis\\Lib\\site-packages\\DynamicRoutingTask\\Analysis\\DynamicRoutingAnalysisUtils.py:209: RuntimeWarning: invalid value encountered in scalar divide\n",
      "  self.falseAlarmRate.append(self.falseAlarmTrials[blockTrials].sum() / self.nogoTrials[blockTrials].sum())\n",
      "c:\\Anaconda3\\envs\\npc_analysis\\Lib\\site-packages\\DynamicRoutingTask\\Analysis\\DynamicRoutingAnalysisUtils.py:215: RuntimeWarning: invalid value encountered in scalar divide\n",
      "  self.falseAlarmOtherModalNogo.append(self.falseAlarmTrials[otherModalNogo].sum() / otherModalNogo.sum())\n",
      "c:\\Anaconda3\\envs\\npc_analysis\\Lib\\site-packages\\DynamicRoutingTask\\Analysis\\DynamicRoutingAnalysisUtils.py:213: RuntimeWarning: invalid value encountered in scalar divide\n",
      "  self.falseAlarmSameModal.append(self.falseAlarmTrials[sameModal].sum() / sameModal.sum())\n",
      "c:\\Anaconda3\\envs\\npc_analysis\\Lib\\site-packages\\DynamicRoutingTask\\Analysis\\DynamicRoutingAnalysisUtils.py:214: RuntimeWarning: invalid value encountered in scalar divide\n",
      "  self.falseAlarmOtherModalGo.append(self.falseAlarmTrials[otherModalGo].sum() / otherModalGo.sum())\n",
      "c:\\Anaconda3\\envs\\npc_analysis\\Lib\\site-packages\\DynamicRoutingTask\\Analysis\\DynamicRoutingAnalysisUtils.py:206: RuntimeWarning: invalid value encountered in scalar divide\n",
      "  self.catchResponseRate.append(self.catchResponseTrials[blockTrials].sum() / self.catchTrials[blockTrials].sum())\n",
      "c:\\Anaconda3\\envs\\npc_analysis\\Lib\\site-packages\\DynamicRoutingTask\\Analysis\\DynamicRoutingAnalysisUtils.py:207: RuntimeWarning: invalid value encountered in scalar divide\n",
      "  self.hitRate.append(self.hitTrials[blockTrials].sum() / self.goTrials[blockTrials].sum())\n",
      "c:\\Anaconda3\\envs\\npc_analysis\\Lib\\site-packages\\DynamicRoutingTask\\Analysis\\DynamicRoutingAnalysisUtils.py:209: RuntimeWarning: invalid value encountered in scalar divide\n",
      "  self.falseAlarmRate.append(self.falseAlarmTrials[blockTrials].sum() / self.nogoTrials[blockTrials].sum())\n",
      "c:\\Anaconda3\\envs\\npc_analysis\\Lib\\site-packages\\DynamicRoutingTask\\Analysis\\DynamicRoutingAnalysisUtils.py:215: RuntimeWarning: invalid value encountered in scalar divide\n",
      "  self.falseAlarmOtherModalNogo.append(self.falseAlarmTrials[otherModalNogo].sum() / otherModalNogo.sum())\n"
     ]
    },
    {
     "name": "stdout",
     "output_type": "stream",
     "text": [
      "all done\n",
      "PRE done\n",
      "MOs done\n",
      "VISp done\n",
      "LP done\n",
      "SUB done\n",
      "AUDp done\n",
      "AUDpo done\n",
      "RSPagl done\n",
      "PO done\n",
      "ACAv done\n",
      "LSr done\n",
      "or done\n",
      "VISal done\n",
      "ACAd done\n",
      "TRS done\n",
      "CL done\n",
      "SF done\n",
      "CA1 done\n",
      "Eth done\n",
      "ar done\n",
      "DG done\n",
      "681532_2023-10-17_0 done\n",
      "681532_2023-10-16_0 loaded\n"
     ]
    },
    {
     "name": "stderr",
     "output_type": "stream",
     "text": [
      "c:\\Anaconda3\\envs\\npc_analysis\\Lib\\site-packages\\npc_lims\\metadata\\codeocean.py:141: UserWarning: There is more than one asset for session = '681532_2023-10-16'. Defaulting to most recent: ('ecephys_681532_2023-10-16_12-44-24_sorted_2023-10-19_21-13-38', 'ecephys_681532_2023-10-16_12-44-24_sorted-ks2.5_2023-10-26_10-37-17', 'ecephys_681532_2023-10-16_12-44-24_sorted-ks2.5_2023-10-24_02-51-49')\n",
      "  warnings.warn(\n",
      "fetching units: 100%|████████████████████████| 6/6 [04:23<00:00, 43.88s/devices]\n",
      "c:\\Anaconda3\\envs\\npc_analysis\\Lib\\site-packages\\numcodecs\\abc.py:107: UserWarning: Multi-threading is supported for wavpack version>=5.6.4, but current version is 5.5.0. Parallel decoding will not be available.\n",
      "  return cls(**config)\n",
      "c:\\Anaconda3\\envs\\npc_analysis\\Lib\\site-packages\\numcodecs\\abc.py:107: UserWarning: Multi-threading is supported for wavpack version>=5.6.4, but current version is 5.5.0. Parallel decoding will not be available.\n",
      "  return cls(**config)\n",
      "c:\\Anaconda3\\envs\\npc_analysis\\Lib\\site-packages\\numcodecs\\abc.py:107: UserWarning: Multi-threading is supported for wavpack version>=5.6.4, but current version is 5.5.0. Parallel decoding will not be available.\n",
      "  return cls(**config)\n",
      "c:\\Anaconda3\\envs\\npc_analysis\\Lib\\site-packages\\numcodecs\\abc.py:107: UserWarning: Multi-threading is supported for wavpack version>=5.6.4, but current version is 5.5.0. Parallel decoding will not be available.\n",
      "  return cls(**config)\n",
      "c:\\Anaconda3\\envs\\npc_analysis\\Lib\\site-packages\\numcodecs\\abc.py:107: UserWarning: Multi-threading is supported for wavpack version>=5.6.4, but current version is 5.5.0. Parallel decoding will not be available.\n",
      "  return cls(**config)\n",
      "c:\\Anaconda3\\envs\\npc_analysis\\Lib\\site-packages\\numcodecs\\abc.py:107: UserWarning: Multi-threading is supported for wavpack version>=5.6.4, but current version is 5.5.0. Parallel decoding will not be available.\n",
      "  return cls(**config)\n"
     ]
    },
    {
     "name": "stdout",
     "output_type": "stream",
     "text": [
      "all done\n",
      "MOs done\n",
      "ORBvl done\n",
      "VISp done\n",
      "SUB done\n",
      "CA1 done\n",
      "ACAd done\n",
      "MOp done\n",
      "VISl done\n",
      "ACAv done\n",
      "AV done\n",
      "VISli done\n",
      "LSr done\n",
      "ProS done\n",
      "FRP done\n",
      "AD done\n",
      "681532_2023-10-16_0 done\n",
      "674562_2023-10-05_0 loaded\n"
     ]
    },
    {
     "name": "stderr",
     "output_type": "stream",
     "text": [
      "fetching units: 100%|████████████████████████| 5/5 [03:34<00:00, 42.93s/devices]\n",
      "c:\\Anaconda3\\envs\\npc_analysis\\Lib\\site-packages\\numcodecs\\abc.py:107: UserWarning: Multi-threading is supported for wavpack version>=5.6.4, but current version is 5.5.0. Parallel decoding will not be available.\n",
      "  return cls(**config)\n",
      "c:\\Anaconda3\\envs\\npc_analysis\\Lib\\site-packages\\numcodecs\\abc.py:107: UserWarning: Multi-threading is supported for wavpack version>=5.6.4, but current version is 5.5.0. Parallel decoding will not be available.\n",
      "  return cls(**config)\n",
      "c:\\Anaconda3\\envs\\npc_analysis\\Lib\\site-packages\\numcodecs\\abc.py:107: UserWarning: Multi-threading is supported for wavpack version>=5.6.4, but current version is 5.5.0. Parallel decoding will not be available.\n",
      "  return cls(**config)\n",
      "c:\\Anaconda3\\envs\\npc_analysis\\Lib\\site-packages\\numcodecs\\abc.py:107: UserWarning: Multi-threading is supported for wavpack version>=5.6.4, but current version is 5.5.0. Parallel decoding will not be available.\n",
      "  return cls(**config)\n",
      "c:\\Anaconda3\\envs\\npc_analysis\\Lib\\site-packages\\numcodecs\\abc.py:107: UserWarning: Multi-threading is supported for wavpack version>=5.6.4, but current version is 5.5.0. Parallel decoding will not be available.\n",
      "  return cls(**config)\n"
     ]
    },
    {
     "name": "stdout",
     "output_type": "stream",
     "text": [
      "all done\n",
      "MOs done\n",
      "ACAd done\n",
      "ACAv done\n",
      "MOp done\n",
      "RSPd done\n",
      "ILA done\n",
      "CA1 done\n",
      "DP done\n",
      "LH done\n",
      "674562_2023-10-05_0 done\n",
      "674562_2023-10-04_0 loaded\n"
     ]
    },
    {
     "name": "stderr",
     "output_type": "stream",
     "text": [
      "fetching units: 100%|████████████████████████| 5/5 [03:10<00:00, 38.00s/devices]\n",
      "c:\\Anaconda3\\envs\\npc_analysis\\Lib\\site-packages\\numcodecs\\abc.py:107: UserWarning: Multi-threading is supported for wavpack version>=5.6.4, but current version is 5.5.0. Parallel decoding will not be available.\n",
      "  return cls(**config)\n",
      "c:\\Anaconda3\\envs\\npc_analysis\\Lib\\site-packages\\numcodecs\\abc.py:107: UserWarning: Multi-threading is supported for wavpack version>=5.6.4, but current version is 5.5.0. Parallel decoding will not be available.\n",
      "  return cls(**config)\n",
      "c:\\Anaconda3\\envs\\npc_analysis\\Lib\\site-packages\\numcodecs\\abc.py:107: UserWarning: Multi-threading is supported for wavpack version>=5.6.4, but current version is 5.5.0. Parallel decoding will not be available.\n",
      "  return cls(**config)\n",
      "c:\\Anaconda3\\envs\\npc_analysis\\Lib\\site-packages\\numcodecs\\abc.py:107: UserWarning: Multi-threading is supported for wavpack version>=5.6.4, but current version is 5.5.0. Parallel decoding will not be available.\n",
      "  return cls(**config)\n",
      "c:\\Anaconda3\\envs\\npc_analysis\\Lib\\site-packages\\numcodecs\\abc.py:107: UserWarning: Multi-threading is supported for wavpack version>=5.6.4, but current version is 5.5.0. Parallel decoding will not be available.\n",
      "  return cls(**config)\n"
     ]
    },
    {
     "name": "stdout",
     "output_type": "stream",
     "text": [
      "all done\n",
      "MOs done\n",
      "ACAd done\n",
      "MOp done\n",
      "CA1 done\n",
      "VISp done\n",
      "APN done\n",
      "ACAv done\n",
      "RSPagl done\n",
      "CA3 done\n",
      "LGv done\n",
      "ccg done\n",
      "DG done\n",
      "674562_2023-10-04_0 done\n",
      "674562_2023-10-03_0 loaded\n"
     ]
    },
    {
     "name": "stderr",
     "output_type": "stream",
     "text": [
      "fetching units: 100%|████████████████████████| 5/5 [02:25<00:00, 29.08s/devices]\n",
      "c:\\Anaconda3\\envs\\npc_analysis\\Lib\\site-packages\\numcodecs\\abc.py:107: UserWarning: Multi-threading is supported for wavpack version>=5.6.4, but current version is 5.5.0. Parallel decoding will not be available.\n",
      "  return cls(**config)\n",
      "c:\\Anaconda3\\envs\\npc_analysis\\Lib\\site-packages\\numcodecs\\abc.py:107: UserWarning: Multi-threading is supported for wavpack version>=5.6.4, but current version is 5.5.0. Parallel decoding will not be available.\n",
      "  return cls(**config)\n",
      "c:\\Anaconda3\\envs\\npc_analysis\\Lib\\site-packages\\numcodecs\\abc.py:107: UserWarning: Multi-threading is supported for wavpack version>=5.6.4, but current version is 5.5.0. Parallel decoding will not be available.\n",
      "  return cls(**config)\n",
      "c:\\Anaconda3\\envs\\npc_analysis\\Lib\\site-packages\\numcodecs\\abc.py:107: UserWarning: Multi-threading is supported for wavpack version>=5.6.4, but current version is 5.5.0. Parallel decoding will not be available.\n",
      "  return cls(**config)\n",
      "c:\\Anaconda3\\envs\\npc_analysis\\Lib\\site-packages\\numcodecs\\abc.py:107: UserWarning: Multi-threading is supported for wavpack version>=5.6.4, but current version is 5.5.0. Parallel decoding will not be available.\n",
      "  return cls(**config)\n",
      "No lick time found within response window on sync for trial 17, despite being marked as a response trial.\n",
      "No lick time found within response window on sync for trial 297, despite being marked as a response trial.\n"
     ]
    },
    {
     "name": "stdout",
     "output_type": "stream",
     "text": [
      "all done\n",
      "CP done\n",
      "MOs done\n",
      "SSp done\n",
      "ACAv done\n",
      "RSPv done\n",
      "VISal done\n",
      "MD done\n",
      "ACAd done\n",
      "MOp done\n",
      "RSPd done\n",
      "SSs done\n",
      "PAG done\n",
      "SF done\n",
      "674562_2023-10-03_0 done\n",
      "674562_2023-10-02_0 loaded\n"
     ]
    },
    {
     "name": "stderr",
     "output_type": "stream",
     "text": [
      "fetching units: 100%|████████████████████████| 6/6 [04:06<00:00, 41.16s/devices]\n",
      "c:\\Anaconda3\\envs\\npc_analysis\\Lib\\site-packages\\numcodecs\\abc.py:107: UserWarning: Multi-threading is supported for wavpack version>=5.6.4, but current version is 5.5.0. Parallel decoding will not be available.\n",
      "  return cls(**config)\n",
      "c:\\Anaconda3\\envs\\npc_analysis\\Lib\\site-packages\\numcodecs\\abc.py:107: UserWarning: Multi-threading is supported for wavpack version>=5.6.4, but current version is 5.5.0. Parallel decoding will not be available.\n",
      "  return cls(**config)\n",
      "c:\\Anaconda3\\envs\\npc_analysis\\Lib\\site-packages\\numcodecs\\abc.py:107: UserWarning: Multi-threading is supported for wavpack version>=5.6.4, but current version is 5.5.0. Parallel decoding will not be available.\n",
      "  return cls(**config)\n",
      "c:\\Anaconda3\\envs\\npc_analysis\\Lib\\site-packages\\numcodecs\\abc.py:107: UserWarning: Multi-threading is supported for wavpack version>=5.6.4, but current version is 5.5.0. Parallel decoding will not be available.\n",
      "  return cls(**config)\n",
      "c:\\Anaconda3\\envs\\npc_analysis\\Lib\\site-packages\\numcodecs\\abc.py:107: UserWarning: Multi-threading is supported for wavpack version>=5.6.4, but current version is 5.5.0. Parallel decoding will not be available.\n",
      "  return cls(**config)\n",
      "c:\\Anaconda3\\envs\\npc_analysis\\Lib\\site-packages\\numcodecs\\abc.py:107: UserWarning: Multi-threading is supported for wavpack version>=5.6.4, but current version is 5.5.0. Parallel decoding will not be available.\n",
      "  return cls(**config)\n",
      "No lick time found within response window on sync for trial 333, despite being marked as a response trial.\n",
      "No lick time found within response window on sync for trial 416, despite being marked as a response trial.\n"
     ]
    },
    {
     "name": "stdout",
     "output_type": "stream",
     "text": [
      "all done\n",
      "SSp done\n",
      "CP done\n",
      "MOs done\n",
      "RSPv done\n",
      "MOp done\n",
      "LSr done\n",
      "ACAv done\n",
      "RSPd done\n",
      "VISp done\n",
      "MD done\n",
      "VISrl done\n",
      "VISl done\n",
      "ACAd done\n"
     ]
    },
    {
     "name": "stderr",
     "output_type": "stream",
     "text": [
      "c:\\Anaconda3\\envs\\npc_analysis\\Lib\\site-packages\\sklearn\\metrics\\_classification.py:1469: UndefinedMetricWarning: Precision and F-score are ill-defined and being set to 0.0 in labels with no predicted samples. Use `zero_division` parameter to control this behavior.\n",
      "  _warn_prf(average, modifier, msg_start, len(result))\n",
      "c:\\Anaconda3\\envs\\npc_analysis\\Lib\\site-packages\\sklearn\\metrics\\_classification.py:1469: UndefinedMetricWarning: Precision and F-score are ill-defined and being set to 0.0 in labels with no predicted samples. Use `zero_division` parameter to control this behavior.\n",
      "  _warn_prf(average, modifier, msg_start, len(result))\n",
      "c:\\Anaconda3\\envs\\npc_analysis\\Lib\\site-packages\\sklearn\\metrics\\_classification.py:1469: UndefinedMetricWarning: Precision and F-score are ill-defined and being set to 0.0 in labels with no predicted samples. Use `zero_division` parameter to control this behavior.\n",
      "  _warn_prf(average, modifier, msg_start, len(result))\n"
     ]
    },
    {
     "name": "stdout",
     "output_type": "stream",
     "text": [
      "TRS done\n",
      "MRN done\n",
      "SCiw done\n",
      "MB done\n",
      "ccg done\n",
      "674562_2023-10-02_0 done\n",
      "667252_2023-09-28_0 loaded\n"
     ]
    },
    {
     "name": "stderr",
     "output_type": "stream",
     "text": [
      "fetching units: 100%|████████████████████████| 4/4 [01:04<00:00, 16.07s/devices]\n",
      "c:\\Anaconda3\\envs\\npc_analysis\\Lib\\site-packages\\numcodecs\\abc.py:107: UserWarning: Multi-threading is supported for wavpack version>=5.6.4, but current version is 5.5.0. Parallel decoding will not be available.\n",
      "  return cls(**config)\n",
      "c:\\Anaconda3\\envs\\npc_analysis\\Lib\\site-packages\\numcodecs\\abc.py:107: UserWarning: Multi-threading is supported for wavpack version>=5.6.4, but current version is 5.5.0. Parallel decoding will not be available.\n",
      "  return cls(**config)\n",
      "c:\\Anaconda3\\envs\\npc_analysis\\Lib\\site-packages\\numcodecs\\abc.py:107: UserWarning: Multi-threading is supported for wavpack version>=5.6.4, but current version is 5.5.0. Parallel decoding will not be available.\n",
      "  return cls(**config)\n",
      "c:\\Anaconda3\\envs\\npc_analysis\\Lib\\site-packages\\numcodecs\\abc.py:107: UserWarning: Multi-threading is supported for wavpack version>=5.6.4, but current version is 5.5.0. Parallel decoding will not be available.\n",
      "  return cls(**config)\n",
      "No lick time found within response window on sync for trial 204, despite being marked as a response trial.\n",
      "No lick time found within response window on sync for trial 437, despite being marked as a response trial.\n",
      "No lick time found within response window on sync for trial 461, despite being marked as a response trial.\n"
     ]
    },
    {
     "name": "stdout",
     "output_type": "stream",
     "text": [
      "all done\n",
      "MOs done\n",
      "ProS done\n",
      "MOp done\n",
      "VISp done\n",
      "DG done\n",
      "667252_2023-09-28_0 done\n"
     ]
    },
    {
     "name": "stderr",
     "output_type": "stream",
     "text": [
      "Session 667252_2023-09-27 has known issues: ['https://github.com/AllenInstitute/npc_sessions/issues/55']\n"
     ]
    },
    {
     "name": "stdout",
     "output_type": "stream",
     "text": [
      "667252_2023-09-27_0 loaded\n"
     ]
    },
    {
     "name": "stderr",
     "output_type": "stream",
     "text": [
      "fetching units: 100%|████████████████████████| 6/6 [02:30<00:00, 25.07s/devices]\n",
      "c:\\Anaconda3\\envs\\npc_analysis\\Lib\\site-packages\\numcodecs\\abc.py:107: UserWarning: Multi-threading is supported for wavpack version>=5.6.4, but current version is 5.5.0. Parallel decoding will not be available.\n",
      "  return cls(**config)\n",
      "c:\\Anaconda3\\envs\\npc_analysis\\Lib\\site-packages\\numcodecs\\abc.py:107: UserWarning: Multi-threading is supported for wavpack version>=5.6.4, but current version is 5.5.0. Parallel decoding will not be available.\n",
      "  return cls(**config)\n",
      "c:\\Anaconda3\\envs\\npc_analysis\\Lib\\site-packages\\numcodecs\\abc.py:107: UserWarning: Multi-threading is supported for wavpack version>=5.6.4, but current version is 5.5.0. Parallel decoding will not be available.\n",
      "  return cls(**config)\n",
      "c:\\Anaconda3\\envs\\npc_analysis\\Lib\\site-packages\\numcodecs\\abc.py:107: UserWarning: Multi-threading is supported for wavpack version>=5.6.4, but current version is 5.5.0. Parallel decoding will not be available.\n",
      "  return cls(**config)\n",
      "c:\\Anaconda3\\envs\\npc_analysis\\Lib\\site-packages\\numcodecs\\abc.py:107: UserWarning: Multi-threading is supported for wavpack version>=5.6.4, but current version is 5.5.0. Parallel decoding will not be available.\n",
      "  return cls(**config)\n",
      "c:\\Anaconda3\\envs\\npc_analysis\\Lib\\site-packages\\numcodecs\\abc.py:107: UserWarning: Multi-threading is supported for wavpack version>=5.6.4, but current version is 5.5.0. Parallel decoding will not be available.\n",
      "  return cls(**config)\n",
      "No lick time found within response window on sync for trial 135, despite being marked as a response trial.\n"
     ]
    },
    {
     "name": "stdout",
     "output_type": "stream",
     "text": [
      "all done\n",
      "MOs done\n",
      "ORBl done\n",
      "MOp done\n",
      "LSr done\n",
      "ProS done\n",
      "LP done\n",
      "VISp done\n",
      "DG done\n",
      "STR done\n",
      "SGN done\n",
      "OLF done\n",
      "667252_2023-09-27_0 done\n",
      "667252_2023-09-25_0 loaded\n"
     ]
    },
    {
     "name": "stderr",
     "output_type": "stream",
     "text": [
      "fetching units: 100%|████████████████████████| 6/6 [02:58<00:00, 29.71s/devices]\n",
      "c:\\Anaconda3\\envs\\npc_analysis\\Lib\\site-packages\\numcodecs\\abc.py:107: UserWarning: Multi-threading is supported for wavpack version>=5.6.4, but current version is 5.5.0. Parallel decoding will not be available.\n",
      "  return cls(**config)\n",
      "c:\\Anaconda3\\envs\\npc_analysis\\Lib\\site-packages\\numcodecs\\abc.py:107: UserWarning: Multi-threading is supported for wavpack version>=5.6.4, but current version is 5.5.0. Parallel decoding will not be available.\n",
      "  return cls(**config)\n",
      "c:\\Anaconda3\\envs\\npc_analysis\\Lib\\site-packages\\numcodecs\\abc.py:107: UserWarning: Multi-threading is supported for wavpack version>=5.6.4, but current version is 5.5.0. Parallel decoding will not be available.\n",
      "  return cls(**config)\n",
      "c:\\Anaconda3\\envs\\npc_analysis\\Lib\\site-packages\\numcodecs\\abc.py:107: UserWarning: Multi-threading is supported for wavpack version>=5.6.4, but current version is 5.5.0. Parallel decoding will not be available.\n",
      "  return cls(**config)\n",
      "c:\\Anaconda3\\envs\\npc_analysis\\Lib\\site-packages\\numcodecs\\abc.py:107: UserWarning: Multi-threading is supported for wavpack version>=5.6.4, but current version is 5.5.0. Parallel decoding will not be available.\n",
      "  return cls(**config)\n",
      "c:\\Anaconda3\\envs\\npc_analysis\\Lib\\site-packages\\numcodecs\\abc.py:107: UserWarning: Multi-threading is supported for wavpack version>=5.6.4, but current version is 5.5.0. Parallel decoding will not be available.\n",
      "  return cls(**config)\n"
     ]
    },
    {
     "name": "stdout",
     "output_type": "stream",
     "text": [
      "668755_2023-08-31_0 loaded\n"
     ]
    },
    {
     "name": "stderr",
     "output_type": "stream",
     "text": [
      "fetching units: 100%|████████████████████████| 6/6 [02:06<00:00, 21.15s/devices]\n",
      "c:\\Anaconda3\\envs\\npc_analysis\\Lib\\site-packages\\numcodecs\\abc.py:107: UserWarning: Multi-threading is supported for wavpack version>=5.6.4, but current version is 5.5.0. Parallel decoding will not be available.\n",
      "  return cls(**config)\n",
      "c:\\Anaconda3\\envs\\npc_analysis\\Lib\\site-packages\\numcodecs\\abc.py:107: UserWarning: Multi-threading is supported for wavpack version>=5.6.4, but current version is 5.5.0. Parallel decoding will not be available.\n",
      "  return cls(**config)\n",
      "c:\\Anaconda3\\envs\\npc_analysis\\Lib\\site-packages\\numcodecs\\abc.py:107: UserWarning: Multi-threading is supported for wavpack version>=5.6.4, but current version is 5.5.0. Parallel decoding will not be available.\n",
      "  return cls(**config)\n",
      "c:\\Anaconda3\\envs\\npc_analysis\\Lib\\site-packages\\numcodecs\\abc.py:107: UserWarning: Multi-threading is supported for wavpack version>=5.6.4, but current version is 5.5.0. Parallel decoding will not be available.\n",
      "  return cls(**config)\n",
      "c:\\Anaconda3\\envs\\npc_analysis\\Lib\\site-packages\\numcodecs\\abc.py:107: UserWarning: Multi-threading is supported for wavpack version>=5.6.4, but current version is 5.5.0. Parallel decoding will not be available.\n",
      "  return cls(**config)\n",
      "c:\\Anaconda3\\envs\\npc_analysis\\Lib\\site-packages\\numcodecs\\abc.py:107: UserWarning: Multi-threading is supported for wavpack version>=5.6.4, but current version is 5.5.0. Parallel decoding will not be available.\n",
      "  return cls(**config)\n"
     ]
    },
    {
     "name": "stdout",
     "output_type": "stream",
     "text": [
      "all done\n",
      "MOs done\n",
      "MOp done\n",
      "ACAv done\n",
      "SSp done\n",
      "CP done\n",
      "RSPv done\n",
      "VISam done\n",
      "ACAd done\n",
      "ORBl done\n",
      "VISp done\n",
      "AON done\n",
      "SCiw done\n",
      "ccg done\n",
      "SCig done\n",
      "MPT done\n",
      "OLF done\n",
      "LGv done\n",
      "668755_2023-08-31_0 done\n",
      "668755_2023-08-30_0 loaded\n"
     ]
    },
    {
     "name": "stderr",
     "output_type": "stream",
     "text": [
      "fetching units: 100%|████████████████████████| 6/6 [04:44<00:00, 47.46s/devices]\n",
      "c:\\Anaconda3\\envs\\npc_analysis\\Lib\\site-packages\\numcodecs\\abc.py:107: UserWarning: Multi-threading is supported for wavpack version>=5.6.4, but current version is 5.5.0. Parallel decoding will not be available.\n",
      "  return cls(**config)\n",
      "c:\\Anaconda3\\envs\\npc_analysis\\Lib\\site-packages\\numcodecs\\abc.py:107: UserWarning: Multi-threading is supported for wavpack version>=5.6.4, but current version is 5.5.0. Parallel decoding will not be available.\n",
      "  return cls(**config)\n",
      "c:\\Anaconda3\\envs\\npc_analysis\\Lib\\site-packages\\numcodecs\\abc.py:107: UserWarning: Multi-threading is supported for wavpack version>=5.6.4, but current version is 5.5.0. Parallel decoding will not be available.\n",
      "  return cls(**config)\n",
      "c:\\Anaconda3\\envs\\npc_analysis\\Lib\\site-packages\\numcodecs\\abc.py:107: UserWarning: Multi-threading is supported for wavpack version>=5.6.4, but current version is 5.5.0. Parallel decoding will not be available.\n",
      "  return cls(**config)\n",
      "c:\\Anaconda3\\envs\\npc_analysis\\Lib\\site-packages\\numcodecs\\abc.py:107: UserWarning: Multi-threading is supported for wavpack version>=5.6.4, but current version is 5.5.0. Parallel decoding will not be available.\n",
      "  return cls(**config)\n",
      "c:\\Anaconda3\\envs\\npc_analysis\\Lib\\site-packages\\numcodecs\\abc.py:107: UserWarning: Multi-threading is supported for wavpack version>=5.6.4, but current version is 5.5.0. Parallel decoding will not be available.\n",
      "  return cls(**config)\n",
      "c:\\Anaconda3\\envs\\npc_analysis\\Lib\\site-packages\\numcodecs\\abc.py:107: UserWarning: Multi-threading is supported for wavpack version>=5.6.4, but current version is 5.5.0. Parallel decoding will not be available.\n",
      "  return cls(**config)\n",
      "aligning sound waveforms: 100%|███████████| 513/513 [01:34<00:00,  5.41trials/s]\n"
     ]
    },
    {
     "name": "stdout",
     "output_type": "stream",
     "text": [
      "all done\n",
      "MOs done\n",
      "MOp done\n",
      "ACAv done\n",
      "VISam done\n",
      "RSPv done\n",
      "SSp done\n",
      "ACAd done\n",
      "ccg done\n",
      "GU done\n",
      "ORBl done\n",
      "ec done\n",
      "root done\n",
      "MB done\n",
      "ORBvl done\n",
      "SCsg done\n",
      "EPd done\n",
      "MPT done\n",
      "NPC done\n",
      "RSPd done\n",
      "FRP done\n",
      "668755_2023-08-30_0 done\n",
      "668755_2023-08-29_0 loaded\n"
     ]
    },
    {
     "name": "stderr",
     "output_type": "stream",
     "text": [
      "fetching units: 100%|████████████████████████| 5/5 [02:14<00:00, 26.81s/devices]\n",
      "c:\\Anaconda3\\envs\\npc_analysis\\Lib\\site-packages\\numcodecs\\abc.py:107: UserWarning: Multi-threading is supported for wavpack version>=5.6.4, but current version is 5.5.0. Parallel decoding will not be available.\n",
      "  return cls(**config)\n",
      "c:\\Anaconda3\\envs\\npc_analysis\\Lib\\site-packages\\numcodecs\\abc.py:107: UserWarning: Multi-threading is supported for wavpack version>=5.6.4, but current version is 5.5.0. Parallel decoding will not be available.\n",
      "  return cls(**config)\n",
      "c:\\Anaconda3\\envs\\npc_analysis\\Lib\\site-packages\\numcodecs\\abc.py:107: UserWarning: Multi-threading is supported for wavpack version>=5.6.4, but current version is 5.5.0. Parallel decoding will not be available.\n",
      "  return cls(**config)\n",
      "c:\\Anaconda3\\envs\\npc_analysis\\Lib\\site-packages\\numcodecs\\abc.py:107: UserWarning: Multi-threading is supported for wavpack version>=5.6.4, but current version is 5.5.0. Parallel decoding will not be available.\n",
      "  return cls(**config)\n",
      "c:\\Anaconda3\\envs\\npc_analysis\\Lib\\site-packages\\numcodecs\\abc.py:107: UserWarning: Multi-threading is supported for wavpack version>=5.6.4, but current version is 5.5.0. Parallel decoding will not be available.\n",
      "  return cls(**config)\n",
      "c:\\Anaconda3\\envs\\npc_analysis\\Lib\\site-packages\\numcodecs\\abc.py:107: UserWarning: Multi-threading is supported for wavpack version>=5.6.4, but current version is 5.5.0. Parallel decoding will not be available.\n",
      "  return cls(**config)\n",
      "aligning sound waveforms: 100%|███████████| 520/520 [01:39<00:00,  5.24trials/s]\n"
     ]
    },
    {
     "name": "stdout",
     "output_type": "stream",
     "text": [
      "all done\n",
      "MOp done\n",
      "VAL done\n",
      "CP done\n",
      "MS done\n",
      "MOs done\n",
      "AMv done\n",
      "PR done\n",
      "LSc done\n",
      "VM done\n",
      "TH done\n",
      "SF done\n",
      "RT done\n",
      "PVH done\n",
      "LSr done\n",
      "668755_2023-08-29_0 done\n",
      "668755_2023-08-28_0 loaded\n"
     ]
    },
    {
     "name": "stderr",
     "output_type": "stream",
     "text": [
      "fetching units: 100%|████████████████████████| 4/4 [01:17<00:00, 19.38s/devices]\n",
      "c:\\Anaconda3\\envs\\npc_analysis\\Lib\\site-packages\\numcodecs\\abc.py:107: UserWarning: Multi-threading is supported for wavpack version>=5.6.4, but current version is 5.5.0. Parallel decoding will not be available.\n",
      "  return cls(**config)\n",
      "c:\\Anaconda3\\envs\\npc_analysis\\Lib\\site-packages\\numcodecs\\abc.py:107: UserWarning: Multi-threading is supported for wavpack version>=5.6.4, but current version is 5.5.0. Parallel decoding will not be available.\n",
      "  return cls(**config)\n",
      "c:\\Anaconda3\\envs\\npc_analysis\\Lib\\site-packages\\numcodecs\\abc.py:107: UserWarning: Multi-threading is supported for wavpack version>=5.6.4, but current version is 5.5.0. Parallel decoding will not be available.\n",
      "  return cls(**config)\n",
      "c:\\Anaconda3\\envs\\npc_analysis\\Lib\\site-packages\\numcodecs\\abc.py:107: UserWarning: Multi-threading is supported for wavpack version>=5.6.4, but current version is 5.5.0. Parallel decoding will not be available.\n",
      "  return cls(**config)\n",
      "c:\\Anaconda3\\envs\\npc_analysis\\Lib\\site-packages\\numcodecs\\abc.py:107: UserWarning: Multi-threading is supported for wavpack version>=5.6.4, but current version is 5.5.0. Parallel decoding will not be available.\n",
      "  return cls(**config)\n",
      "aligning sound waveforms: 100%|███████████| 533/533 [01:32<00:00,  5.75trials/s]\n"
     ]
    },
    {
     "name": "stdout",
     "output_type": "stream",
     "text": [
      "all done\n",
      "MOp done\n",
      "CP done\n",
      "VPL done\n",
      "RT done\n",
      "668755_2023-08-28_0 done\n",
      "662892_2023-08-24_0 loaded\n"
     ]
    },
    {
     "name": "stderr",
     "output_type": "stream",
     "text": [
      "probe_insertions.json and annotation info do not match for 662892_2023-08-24 - using annotation info\n",
      "fetching units: 100%|████████████████████████| 5/5 [04:20<00:00, 52.15s/devices]\n",
      "c:\\Anaconda3\\envs\\npc_analysis\\Lib\\site-packages\\numcodecs\\abc.py:107: UserWarning: Multi-threading is supported for wavpack version>=5.6.4, but current version is 5.5.0. Parallel decoding will not be available.\n",
      "  return cls(**config)\n",
      "c:\\Anaconda3\\envs\\npc_analysis\\Lib\\site-packages\\numcodecs\\abc.py:107: UserWarning: Multi-threading is supported for wavpack version>=5.6.4, but current version is 5.5.0. Parallel decoding will not be available.\n",
      "  return cls(**config)\n",
      "c:\\Anaconda3\\envs\\npc_analysis\\Lib\\site-packages\\numcodecs\\abc.py:107: UserWarning: Multi-threading is supported for wavpack version>=5.6.4, but current version is 5.5.0. Parallel decoding will not be available.\n",
      "  return cls(**config)\n",
      "c:\\Anaconda3\\envs\\npc_analysis\\Lib\\site-packages\\numcodecs\\abc.py:107: UserWarning: Multi-threading is supported for wavpack version>=5.6.4, but current version is 5.5.0. Parallel decoding will not be available.\n",
      "  return cls(**config)\n",
      "c:\\Anaconda3\\envs\\npc_analysis\\Lib\\site-packages\\numcodecs\\abc.py:107: UserWarning: Multi-threading is supported for wavpack version>=5.6.4, but current version is 5.5.0. Parallel decoding will not be available.\n",
      "  return cls(**config)\n",
      "c:\\Anaconda3\\envs\\npc_analysis\\Lib\\site-packages\\numcodecs\\abc.py:107: UserWarning: Multi-threading is supported for wavpack version>=5.6.4, but current version is 5.5.0. Parallel decoding will not be available.\n",
      "  return cls(**config)\n",
      "aligning sound waveforms: 100%|███████████| 476/476 [01:25<00:00,  5.56trials/s]\n"
     ]
    },
    {
     "name": "stdout",
     "output_type": "stream",
     "text": [
      "all done\n",
      "PIR done\n",
      "root done\n",
      "ORBl done\n",
      "RSPd done\n",
      "PG done\n",
      "P done\n",
      "MOs done\n",
      "CS done\n",
      "DG done\n",
      "ml done\n",
      "TRN done\n",
      "PRNr done\n",
      "SCiw done\n",
      "662892_2023-08-24_0 done\n",
      "662892_2023-08-23_0 loaded\n"
     ]
    },
    {
     "name": "stderr",
     "output_type": "stream",
     "text": [
      "fetching units: 100%|████████████████████████| 6/6 [02:05<00:00, 20.93s/devices]\n",
      "c:\\Anaconda3\\envs\\npc_analysis\\Lib\\site-packages\\numcodecs\\abc.py:107: UserWarning: Multi-threading is supported for wavpack version>=5.6.4, but current version is 5.5.0. Parallel decoding will not be available.\n",
      "  return cls(**config)\n",
      "c:\\Anaconda3\\envs\\npc_analysis\\Lib\\site-packages\\numcodecs\\abc.py:107: UserWarning: Multi-threading is supported for wavpack version>=5.6.4, but current version is 5.5.0. Parallel decoding will not be available.\n",
      "  return cls(**config)\n",
      "c:\\Anaconda3\\envs\\npc_analysis\\Lib\\site-packages\\numcodecs\\abc.py:107: UserWarning: Multi-threading is supported for wavpack version>=5.6.4, but current version is 5.5.0. Parallel decoding will not be available.\n",
      "  return cls(**config)\n",
      "c:\\Anaconda3\\envs\\npc_analysis\\Lib\\site-packages\\numcodecs\\abc.py:107: UserWarning: Multi-threading is supported for wavpack version>=5.6.4, but current version is 5.5.0. Parallel decoding will not be available.\n",
      "  return cls(**config)\n",
      "c:\\Anaconda3\\envs\\npc_analysis\\Lib\\site-packages\\numcodecs\\abc.py:107: UserWarning: Multi-threading is supported for wavpack version>=5.6.4, but current version is 5.5.0. Parallel decoding will not be available.\n",
      "  return cls(**config)\n",
      "c:\\Anaconda3\\envs\\npc_analysis\\Lib\\site-packages\\numcodecs\\abc.py:107: UserWarning: Multi-threading is supported for wavpack version>=5.6.4, but current version is 5.5.0. Parallel decoding will not be available.\n",
      "  return cls(**config)\n",
      "c:\\Anaconda3\\envs\\npc_analysis\\Lib\\site-packages\\numcodecs\\abc.py:107: UserWarning: Multi-threading is supported for wavpack version>=5.6.4, but current version is 5.5.0. Parallel decoding will not be available.\n",
      "  return cls(**config)\n",
      "aligning sound waveforms: 100%|███████████| 470/470 [01:24<00:00,  5.54trials/s]\n",
      "No lick time found within response window on sync for trial 175, despite being marked as a response trial.\n"
     ]
    }
   ],
   "source": [
    "#find all DR sessions with ephys\n",
    "DR_ephys_sessions = tuple(s for s in npc_lims.get_session_info(is_ephys=True) \n",
    "                          if s.is_uploaded and s.is_annotated and \n",
    "                          s.project=='DynamicRouting')\n",
    "\n",
    "savepath= dra.DECODING_ROOTH_PATH / \"decode_timebins\"\n",
    "filename='decode_timebins.pkl'\n",
    "\n",
    "except_list={}\n",
    "\n",
    "binsize=0.1\n",
    "\n",
    "params={\n",
    "    'trnum':'all',\n",
    "    'n_units':[20,'all'],\n",
    "    'u_min':20,\n",
    "    'n_repeats':25,\n",
    "    'binsize':binsize,\n",
    "    'balance_labels':0,\n",
    "    'savepath':savepath,\n",
    "    'filename':filename,\n",
    "}\n",
    "\n",
    "\n",
    "for DR_session in DR_ephys_sessions[:]:\n",
    "    try:\n",
    "        session = DynamicRoutingSession(DR_session.id)\n",
    "        print(session.id+' loaded')\n",
    "        if 'structure' in session.electrodes[:].columns:\n",
    "            decoding_utils.decode_context_from_units_all_timebins(session,params)\n",
    "        else:\n",
    "            print('no structure column found in electrodes table, moving to next recording')\n",
    "        session=[]\n",
    "    except Exception as e:\n",
    "        except_list[session.id]=e\n"
   ]
  },
  {
   "cell_type": "code",
   "execution_count": null,
   "metadata": {},
   "outputs": [],
   "source": [
    "session.units[:]['unit_id'][session.units[:].index.values].values"
   ]
  },
  {
   "cell_type": "code",
   "execution_count": null,
   "metadata": {},
   "outputs": [],
   "source": [
    "session.units[:].index.values"
   ]
  },
  {
   "cell_type": "code",
   "execution_count": 5,
   "metadata": {},
   "outputs": [
    {
     "data": {
      "text/plain": [
       "'668755_2023-08-31'"
      ]
     },
     "execution_count": 5,
     "metadata": {},
     "output_type": "execute_result"
    }
   ],
   "source": [
    "DR_ephys_sessions[7].id"
   ]
  }
 ],
 "metadata": {
  "kernelspec": {
   "display_name": "npc_analysis",
   "language": "python",
   "name": "python3"
  },
  "language_info": {
   "codemirror_mode": {
    "name": "ipython",
    "version": 3
   },
   "file_extension": ".py",
   "mimetype": "text/x-python",
   "name": "python",
   "nbconvert_exporter": "python",
   "pygments_lexer": "ipython3",
   "version": "3.11.5"
  }
 },
 "nbformat": 4,
 "nbformat_minor": 2
}
