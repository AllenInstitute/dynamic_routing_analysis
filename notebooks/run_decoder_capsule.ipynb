{
 "cells": [
  {
   "cell_type": "code",
   "execution_count": 1,
   "metadata": {},
   "outputs": [],
   "source": [
    "import aind_session\n",
    "import codeocean.computation\n",
    "import codeocean.data_asset\n",
    "import time"
   ]
  },
  {
   "cell_type": "code",
   "execution_count": 2,
   "metadata": {},
   "outputs": [],
   "source": [
    "decoding_pipeline_id = '45d0369a-ba77-42d7-bfb1-fffe62c3bd4e'\n",
    "decoding_capsule_id = '19310e9d-daae-4e2c-8cb2-c066f0475e15'\n",
    "# datacube_asset_id = 'b59511ab-e888-4f96-8772-5627adc12e31' # v0.0.261\n",
    "datacube_asset_id = '45fc9444-71eb-4916-8673-2fba905985a0' # v0.0.265\n"
   ]
  },
  {
   "cell_type": "code",
   "execution_count": 3,
   "metadata": {},
   "outputs": [],
   "source": [
    "sel_session_ids=['703880_2024-04-15','742903_2024-10-22','686176_2023-12-07','664851_2023-11-15','726088_2024-06-21']\n",
    "unit_criteria_list=['loose_drift','medium_drift','strict_drift']\n",
    "# run_id='2025-03-18'\n",
    "run_id='test'\n",
    "folder_name='loose_drift_criteria'\n",
    "decoder_type='LogisticRegression'\n",
    "update_packages_from_source='1'\n",
    "skip_existing='0'\n",
    "test='0'\n",
    "session_table_query=\"is_ephys & is_task & is_annotated & is_production & issues=='[]'\"\n",
    "select_single_area='MOs'\n",
    "\n"
   ]
  },
  {
   "cell_type": "code",
   "execution_count": null,
   "metadata": {},
   "outputs": [],
   "source": [
    "# f'{{\"n_units\":[10,20,30,\"all\"],\"unit_criteria\":\"{unit_criteria_list[0]}\",\"select_single_area\":\"{select_single_area}\"}}'"
   ]
  },
  {
   "cell_type": "code",
   "execution_count": 4,
   "metadata": {},
   "outputs": [
    {
     "ename": "ValueError",
     "evalue": "CodeOcean API token was found in environment variables, but does not have permissions to read datasets: check `CODE_OCEAN_API_TOKEN`",
     "output_type": "error",
     "traceback": [
      "\u001b[1;31m---------------------------------------------------------------------------\u001b[0m",
      "\u001b[1;31mValueError\u001b[0m                                Traceback (most recent call last)",
      "Cell \u001b[1;32mIn[4], line 54\u001b[0m\n\u001b[0;32m      4\u001b[0m override_params_json\u001b[38;5;241m=\u001b[39m\u001b[38;5;124mf\u001b[39m\u001b[38;5;124m'\u001b[39m\u001b[38;5;130;01m{{\u001b[39;00m\u001b[38;5;124m\"\u001b[39m\u001b[38;5;124mn_units\u001b[39m\u001b[38;5;124m\"\u001b[39m\u001b[38;5;124m:[10,20,30,\u001b[39m\u001b[38;5;124m\"\u001b[39m\u001b[38;5;124mall\u001b[39m\u001b[38;5;124m\"\u001b[39m\u001b[38;5;124m],\u001b[39m\u001b[38;5;124m\"\u001b[39m\u001b[38;5;124munit_criteria\u001b[39m\u001b[38;5;124m\"\u001b[39m\u001b[38;5;124m:\u001b[39m\u001b[38;5;124m\"\u001b[39m\u001b[38;5;132;01m{\u001b[39;00munit_criteria_list[uu]\u001b[38;5;132;01m}\u001b[39;00m\u001b[38;5;124m\"\u001b[39m\u001b[38;5;124m,\u001b[39m\u001b[38;5;124m\"\u001b[39m\u001b[38;5;124mselect_single_area\u001b[39m\u001b[38;5;124m\"\u001b[39m\u001b[38;5;124m:\u001b[39m\u001b[38;5;124m\"\u001b[39m\u001b[38;5;132;01m{\u001b[39;00mselect_single_area\u001b[38;5;132;01m}\u001b[39;00m\u001b[38;5;124m\"\u001b[39m\u001b[38;5;130;01m}}\u001b[39;00m\u001b[38;5;124m'\u001b[39m\n\u001b[0;32m      6\u001b[0m run_params \u001b[38;5;241m=\u001b[39m codeocean\u001b[38;5;241m.\u001b[39mcomputation\u001b[38;5;241m.\u001b[39mRunParams(\n\u001b[0;32m      7\u001b[0m     \u001b[38;5;66;03m# pipeline_id=decoding_pipeline_id,\u001b[39;00m\n\u001b[0;32m      8\u001b[0m     capsule_id\u001b[38;5;241m=\u001b[39mdecoding_capsule_id,\n\u001b[1;32m   (...)\u001b[0m\n\u001b[0;32m     51\u001b[0m     ],\n\u001b[0;32m     52\u001b[0m )\n\u001b[1;32m---> 54\u001b[0m computation \u001b[38;5;241m=\u001b[39m \u001b[43maind_session\u001b[49m\u001b[38;5;241;43m.\u001b[39;49m\u001b[43mget_codeocean_client\u001b[49m\u001b[43m(\u001b[49m\u001b[43m)\u001b[49m\u001b[38;5;241m.\u001b[39mcomputations\u001b[38;5;241m.\u001b[39mrun_capsule(run_params)\n\u001b[0;32m     55\u001b[0m time\u001b[38;5;241m.\u001b[39msleep(\u001b[38;5;241m10\u001b[39m)\n",
      "File \u001b[1;32mc:\\Anaconda3\\envs\\dr_analysis\\Lib\\site-packages\\aind_session\\utils\\codeocean_utils.py:93\u001b[0m, in \u001b[0;36mget_codeocean_client\u001b[1;34m(check_credentials, retries)\u001b[0m\n\u001b[0;32m     91\u001b[0m \u001b[38;5;28;01mexcept\u001b[39;00m requests\u001b[38;5;241m.\u001b[39mHTTPError \u001b[38;5;28;01mas\u001b[39;00m exc:\n\u001b[0;32m     92\u001b[0m     \u001b[38;5;28;01mif\u001b[39;00m exc\u001b[38;5;241m.\u001b[39mresponse\u001b[38;5;241m.\u001b[39mstatus_code \u001b[38;5;241m==\u001b[39m \u001b[38;5;241m401\u001b[39m:\n\u001b[1;32m---> 93\u001b[0m         \u001b[38;5;28;01mraise\u001b[39;00m \u001b[38;5;167;01mValueError\u001b[39;00m(\n\u001b[0;32m     94\u001b[0m             \u001b[38;5;124m\"\u001b[39m\u001b[38;5;124mCodeOcean API token was found in environment variables, but does not have permissions to read datasets: check `CODE_OCEAN_API_TOKEN`\u001b[39m\u001b[38;5;124m\"\u001b[39m\n\u001b[0;32m     95\u001b[0m         ) \u001b[38;5;28;01mfrom\u001b[39;00m \u001b[38;5;28;01mNone\u001b[39;00m\n\u001b[0;32m     96\u001b[0m     \u001b[38;5;28;01melse\u001b[39;00m:\n\u001b[0;32m     97\u001b[0m         \u001b[38;5;28;01mraise\u001b[39;00m\n",
      "\u001b[1;31mValueError\u001b[0m: CodeOcean API token was found in environment variables, but does not have permissions to read datasets: check `CODE_OCEAN_API_TOKEN`"
     ]
    }
   ],
   "source": [
    "for session_id in sel_session_ids[:1]:\n",
    "\n",
    "    for uu in range(len(unit_criteria_list[:1])):\n",
    "        override_params_json=f'{{\"n_units\":[10,20,30,\"all\"],\"unit_criteria\":\"{unit_criteria_list[uu]}\",\"select_single_area\":\"{select_single_area}\"}}'\n",
    "\n",
    "        run_params = codeocean.computation.RunParams(\n",
    "            # pipeline_id=decoding_pipeline_id,\n",
    "            capsule_id=decoding_capsule_id,\n",
    "            # data_assets=[\n",
    "            #     codeocean.data_asset.DataAssetAttachParams(\n",
    "            #     id=datacube_asset_id,\n",
    "            #     mount=aind_session.get_codeocean_model(datacube_asset_id).mount,\n",
    "            #     ),\n",
    "            #     # add more DataAssetAttachParams as needed..\n",
    "            # ],\n",
    "            named_parameters=[\n",
    "                codeocean.computation.NamedRunParam(\n",
    "                    param_name='run_id',\n",
    "                    value=run_id, # required\n",
    "                ),\n",
    "                codeocean.computation.NamedRunParam(\n",
    "                    param_name='skip_existing',\n",
    "                    value=skip_existing,  # all values must be supplied as strings\n",
    "                ),\n",
    "                codeocean.computation.NamedRunParam(\n",
    "                    param_name='test',\n",
    "                    value=test,  \n",
    "                ),\n",
    "                codeocean.computation.NamedRunParam(\n",
    "                    param_name='session_id',\n",
    "                    value=session_id,  \n",
    "                ),\n",
    "                codeocean.computation.NamedRunParam(\n",
    "                    param_name='folder_name',\n",
    "                    value=unit_criteria_list[uu]+'_criteria', \n",
    "                ),\n",
    "                codeocean.computation.NamedRunParam(\n",
    "                    param_name='decoder_type',\n",
    "                    value=decoder_type,  \n",
    "                ),\n",
    "                codeocean.computation.NamedRunParam(\n",
    "                    param_name='update_packages_from_source',\n",
    "                    value=update_packages_from_source,  \n",
    "                ),\n",
    "                codeocean.computation.NamedRunParam(\n",
    "                    param_name='override_params_json',\n",
    "                    value=override_params_json,\n",
    "                ),\n",
    "\n",
    "                # add more NamedRunParams as needed..\n",
    "            ],\n",
    "        )\n",
    "\n",
    "        computation = aind_session.get_codeocean_client().computations.run_capsule(run_params)\n",
    "        time.sleep(10)"
   ]
  },
  {
   "cell_type": "code",
   "execution_count": null,
   "metadata": {},
   "outputs": [],
   "source": []
  },
  {
   "cell_type": "code",
   "execution_count": null,
   "metadata": {},
   "outputs": [],
   "source": []
  }
 ],
 "metadata": {
  "kernelspec": {
   "display_name": "dr_analysis",
   "language": "python",
   "name": "python3"
  },
  "language_info": {
   "codemirror_mode": {
    "name": "ipython",
    "version": 3
   },
   "file_extension": ".py",
   "mimetype": "text/x-python",
   "name": "python",
   "nbconvert_exporter": "python",
   "pygments_lexer": "ipython3",
   "version": "3.11.5"
  }
 },
 "nbformat": 4,
 "nbformat_minor": 2
}
