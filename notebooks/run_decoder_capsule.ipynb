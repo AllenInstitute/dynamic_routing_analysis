{
 "cells": [
  {
   "cell_type": "code",
   "execution_count": 2,
   "metadata": {},
   "outputs": [],
   "source": [
    "import aind_session\n",
    "import codeocean.computation\n",
    "import codeocean.data_asset\n",
    "import time\n",
    "import json"
   ]
  },
  {
   "cell_type": "code",
   "execution_count": 5,
   "metadata": {},
   "outputs": [],
   "source": [
    "decoding_pipeline_id = '45d0369a-ba77-42d7-bfb1-fffe62c3bd4e'\n",
    "decoding_capsule_id = '19310e9d-daae-4e2c-8cb2-c066f0475e15'\n",
    "# datacube_asset_id = 'b59511ab-e888-4f96-8772-5627adc12e31' # v0.0.261\n",
    "datacube_asset_id = '45fc9444-71eb-4916-8673-2fba905985a0' # v0.0.265\n"
   ]
  },
  {
   "cell_type": "code",
   "execution_count": null,
   "metadata": {},
   "outputs": [],
   "source": [
    "# all_session_ids=['703880_2024-04-15','742903_2024-10-22','686176_2023-12-07','664851_2023-11-15','742903_2024-10-21',\n",
    "#                  '681532_2023-10-18','733891_2024-09-17','737403_2024-09-24','715710_2024-07-16','733891_2024-09-19',\n",
    "#                  '743199_2024-12-03','741137_2024-10-11','733891_2024-09-18','741137_2024-10-08','712815_2024-05-23']\n",
    "\n",
    "# unique_session_ids = np.array(all_session_ids).unique()\n",
    "# unique_session_ids"
   ]
  },
  {
   "cell_type": "code",
   "execution_count": 6,
   "metadata": {},
   "outputs": [],
   "source": [
    "# sel_session_ids=['703880_2024-04-15','742903_2024-10-22','686176_2023-12-07','664851_2023-11-15','726088_2024-06-21']\n",
    "# sel_session_ids=['703880_2024-04-15','686176_2023-12-07','664851_2023-11-15']\n",
    "\n",
    "sel_areas=['MOs','VISp','MRN']\n",
    "\n",
    "sel_session_ids={}\n",
    "sel_session_ids['MOs']=['703880_2024-04-15','742903_2024-10-22','686176_2023-12-07','664851_2023-11-15','742903_2024-10-21']\n",
    "sel_session_ids['VISp']=['681532_2023-10-18','733891_2024-09-17','737403_2024-09-24','715710_2024-07-16','733891_2024-09-19']\n",
    "sel_session_ids['MRN']=['743199_2024-12-03','741137_2024-10-11','733891_2024-09-18','741137_2024-10-08','712815_2024-05-23']\n",
    "\n",
    "\n",
    "unit_criteria_list=['no_drift','loose_drift','medium_drift','strict_drift']\n",
    "run_id='2025-03-21'\n",
    "# run_id='test'\n",
    "# folder_name='loose_drift_criteria'\n",
    "decoder_type='LogisticRegression'\n",
    "update_packages_from_source='1'\n",
    "skip_existing='0'\n",
    "test='0'\n",
    "session_table_query=\"is_ephys & is_task & is_annotated & is_production & issues=='[]'\"\n",
    "# select_single_area='MOs'\n",
    "\n"
   ]
  },
  {
   "cell_type": "code",
   "execution_count": 4,
   "metadata": {},
   "outputs": [],
   "source": [
    "# f'{{\"n_units\":[10,20,30,\"all\"],\"unit_criteria\":\"{unit_criteria_list[0]}\",\"select_single_area\":\"{select_single_area}\"}}'\n",
    "# override_params_dict={\n",
    "#     \"n_units\": [10, 20, 30, \"all\"],\n",
    "#     \"unit_criteria\": unit_criteria_list[uu],\n",
    "#     \"select_single_area\": select_single_area,\n",
    "#     \"split_area_by_probe\": False\n",
    "# }\n",
    "# import json\n",
    "# override_params_json=json.dumps(override_params_dict)\n",
    "\n",
    "# override_params_json"
   ]
  },
  {
   "cell_type": "code",
   "execution_count": null,
   "metadata": {},
   "outputs": [],
   "source": [
    "for area in sel_areas[:]:\n",
    "    select_single_area=area\n",
    "\n",
    "    for session_id in sel_session_ids[area][:]:\n",
    "\n",
    "        for uu in range(len(unit_criteria_list[:])):\n",
    "            override_params_dict={\n",
    "                \"n_units\": [10, 20, 30, \"all\"],\n",
    "                \"unit_criteria\": unit_criteria_list[uu],\n",
    "                \"select_single_area\": select_single_area,\n",
    "                \"split_area_by_probe\": 0\n",
    "            }\n",
    "            override_params_json=json.dumps(override_params_dict)\n",
    "\n",
    "            run_params = codeocean.computation.RunParams(\n",
    "                # pipeline_id=decoding_pipeline_id,\n",
    "                capsule_id=decoding_capsule_id,\n",
    "                # data_assets=[\n",
    "                #     codeocean.data_asset.DataAssetAttachParams(\n",
    "                #     id=datacube_asset_id,\n",
    "                #     mount=aind_session.get_codeocean_model(datacube_asset_id).mount,\n",
    "                #     ),\n",
    "                #     # add more DataAssetAttachParams as needed..\n",
    "                # ],\n",
    "                named_parameters=[\n",
    "                    codeocean.computation.NamedRunParam(\n",
    "                        param_name='run_id',\n",
    "                        value=run_id, # required\n",
    "                    ),\n",
    "                    codeocean.computation.NamedRunParam(\n",
    "                        param_name='skip_existing',\n",
    "                        value=skip_existing,  # all values must be supplied as strings\n",
    "                    ),\n",
    "                    codeocean.computation.NamedRunParam(\n",
    "                        param_name='test',\n",
    "                        value=test,  \n",
    "                    ),\n",
    "                    codeocean.computation.NamedRunParam(\n",
    "                        param_name='session_id',\n",
    "                        value=session_id,  \n",
    "                    ),\n",
    "                    codeocean.computation.NamedRunParam(\n",
    "                        param_name='folder_name',\n",
    "                        value=unit_criteria_list[uu]+'_criteria_'+area, \n",
    "                    ),\n",
    "                    codeocean.computation.NamedRunParam(\n",
    "                        param_name='decoder_type',\n",
    "                        value=decoder_type,  \n",
    "                    ),\n",
    "                    codeocean.computation.NamedRunParam(\n",
    "                        param_name='update_packages_from_source',\n",
    "                        value=update_packages_from_source,  \n",
    "                    ),\n",
    "                    codeocean.computation.NamedRunParam(\n",
    "                        param_name='override_params_json',\n",
    "                        value=override_params_json,\n",
    "                    ),\n",
    "\n",
    "                    # add more NamedRunParams as needed..\n",
    "                ],\n",
    "            )\n",
    "\n",
    "            computation = aind_session.get_codeocean_client().computations.run_capsule(run_params)\n",
    "            time.sleep(600)"
   ]
  },
  {
   "cell_type": "code",
   "execution_count": null,
   "metadata": {},
   "outputs": [],
   "source": []
  },
  {
   "cell_type": "code",
   "execution_count": null,
   "metadata": {},
   "outputs": [],
   "source": []
  }
 ],
 "metadata": {
  "kernelspec": {
   "display_name": "dr_analysis",
   "language": "python",
   "name": "python3"
  },
  "language_info": {
   "codemirror_mode": {
    "name": "ipython",
    "version": 3
   },
   "file_extension": ".py",
   "mimetype": "text/x-python",
   "name": "python",
   "nbconvert_exporter": "python",
   "pygments_lexer": "ipython3",
   "version": "3.11.5"
  }
 },
 "nbformat": 4,
 "nbformat_minor": 2
}
