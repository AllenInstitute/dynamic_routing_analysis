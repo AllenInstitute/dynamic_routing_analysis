{
 "cells": [
  {
   "cell_type": "code",
   "execution_count": null,
   "metadata": {},
   "outputs": [],
   "source": [
    "import numpy as np\n",
    "import pandas as pd\n",
    "import matplotlib.pyplot as plt\n",
    "\n",
    "import os\n",
    "\n",
    "%load_ext autoreload\n",
    "%autoreload 2\n",
    "%matplotlib widget"
   ]
  },
  {
   "cell_type": "code",
   "execution_count": null,
   "metadata": {},
   "outputs": [],
   "source": [
    "context_stim_lick_mod=pd.read_csv(r\"\\\\allen\\programs\\mindscope\\workgroups\\dynamicrouting\\Ethan\\single unit metrics\\combined\\area_fraction_context_stim_lick_mod.csv\")"
   ]
  },
  {
   "cell_type": "code",
   "execution_count": null,
   "metadata": {},
   "outputs": [],
   "source": [
    "context_stim_lick_mod"
   ]
  },
  {
   "cell_type": "code",
   "execution_count": null,
   "metadata": {},
   "outputs": [],
   "source": [
    "all_areas={\n",
    "    'area':['all']\n",
    "}\n",
    "grand_total_n=context_stim_lick_mod['total_n'].sum()\n",
    "area_total_n=context_stim_lick_mod['total_n'].values\n",
    "\n",
    "for label in ['only_stim','stim_and_context','only_context','lick_and_context',\n",
    "                'only_lick','lick_and_stim','lick_and_stim_and_context','none']:\n",
    "    \n",
    "    temp_frac=context_stim_lick_mod[label]\n",
    "\n",
    "    n_affected=temp_frac*area_total_n\n",
    "\n",
    "    sum_affected=n_affected.sum()\n",
    "\n",
    "    frac_affected=sum_affected/grand_total_n\n",
    "\n",
    "    all_areas[label]=[frac_affected]\n",
    "\n",
    "all_areas = pd.DataFrame.from_dict(all_areas)\n"
   ]
  },
  {
   "cell_type": "code",
   "execution_count": null,
   "metadata": {},
   "outputs": [],
   "source": [
    "sel_areas=['all', 'AUDp', 'VISp', 'VISam', 'MOs', 'ACAd', 'ORBm', 'SCop', 'SCiw', 'MRN']\n",
    "\n",
    "area_fractions=context_stim_lick_mod[context_stim_lick_mod['area'].isin(sel_areas)]\n",
    "\n",
    "area_fractions=pd.concat([area_fractions,all_areas],axis=0)\n",
    "\n",
    "area_fractions['area'] = pd.Categorical(area_fractions['area'], categories=sel_areas)\n",
    "\n",
    "area_fractions=area_fractions.sort_values('area')\n",
    "\n",
    "fig,ax=plt.subplots(figsize=(9,4))\n",
    "\n",
    "plot_data=['none',\n",
    " 'lick_and_stim_and_context',\n",
    " 'lick_and_stim',\n",
    " 'only_lick',\n",
    " 'lick_and_context',\n",
    " 'only_context',\n",
    " 'stim_and_context',\n",
    " 'only_stim']\n",
    "\n",
    "colors=['grey','tab:brown','tab:pink','tab:purple','tab:red','tab:green','tab:orange','tab:blue']\n",
    "\n",
    "area_fractions[['area','only_stim','stim_and_context','only_context','lick_and_context',\n",
    "                'only_lick','lick_and_stim','lick_and_stim_and_context','none'\n",
    "                ]].plot.bar(ax=ax,x='area',y=plot_data,color=colors,stacked=True)\n",
    "\n",
    "handles, labels = ax.get_legend_handles_labels()\n",
    "labels=['none','lick & stim & context','lick & stim','lick only','lick & context','context only','stim & context','stim only'\n",
    "]\n",
    "ax.legend(reversed(handles), reversed(labels),loc='center left', bbox_to_anchor=(1, 0.5))\n",
    "\n",
    "ax.set_ylabel('fraction of units responsive')\n",
    "ax.set_xlabel('')\n",
    "fig.tight_layout()\n",
    "\n",
    "fig.savefig(os.path.join(r'C:\\Users\\ethan.mcbride\\OneDrive - Allen Institute\\quick figures\\2024-03-12-DR-plots_for_shawn_uo_talk\\fraction_units_responsive_bar.png'),\n",
    "            dpi=300, facecolor='w', edgecolor='w',\n",
    "            orientation='portrait', format='png',\n",
    "            transparent=True, bbox_inches='tight', pad_inches=0.1,\n",
    "            metadata=None)"
   ]
  },
  {
   "cell_type": "code",
   "execution_count": null,
   "metadata": {},
   "outputs": [],
   "source": [
    "x=['only_stim','stim_and_context','only_context','lick_and_context','only_lick','lick_and_stim','lick_and_stim_and_context','none']"
   ]
  },
  {
   "cell_type": "code",
   "execution_count": null,
   "metadata": {},
   "outputs": [],
   "source": [
    "x.reverse()"
   ]
  },
  {
   "cell_type": "code",
   "execution_count": null,
   "metadata": {},
   "outputs": [],
   "source": [
    "x"
   ]
  }
 ],
 "metadata": {
  "kernelspec": {
   "display_name": "npc_analysis",
   "language": "python",
   "name": "python3"
  },
  "language_info": {
   "codemirror_mode": {
    "name": "ipython",
    "version": 3
   },
   "file_extension": ".py",
   "mimetype": "text/x-python",
   "name": "python",
   "nbconvert_exporter": "python",
   "pygments_lexer": "ipython3",
   "version": "3.11.5"
  }
 },
 "nbformat": 4,
 "nbformat_minor": 2
}
