{
 "cells": [
  {
   "cell_type": "code",
   "execution_count": null,
   "metadata": {},
   "outputs": [],
   "source": [
    "import numpy as np\n",
    "import scipy.stats as stats\n",
    "import pandas as pd\n",
    "import polars as pl\n",
    "import matplotlib.pyplot as plt\n",
    "# from dynamic_routing_analysis import decoding_utils\n",
    "from dynamic_routing_analysis import plot_utils\n",
    "# import dynamic_routing_analysis as dra\n",
    "import pingouin as pg\n",
    "\n",
    "import matplotlib\n",
    "import matplotlib.font_manager as fm\n",
    "\n",
    "matplotlib.rcParams['font.size'] = 8\n",
    "matplotlib.rcParams['pdf.fonttype'] = 42\n",
    "matplotlib.rcParams['ps.fonttype'] = 42\n",
    "fm.FontProperties().set_family('arial')\n",
    "\n",
    "%load_ext autoreload\n",
    "%autoreload 2\n",
    "# %matplotlib inline\n",
    "%matplotlib widget"
   ]
  },
  {
   "cell_type": "code",
   "execution_count": null,
   "metadata": {},
   "outputs": [],
   "source": [
    "#compare across different time bins\n",
    "\n",
    "#load results\n",
    "\n",
    "binsize_02_by_structure=pd.read_csv(r\"\\\\allen\\programs\\mindscope\\workgroups\\dynamicrouting\\Ethan\\CO decoding results\\new_decoder_run_2025-04-04\\structure_wise_decoding_accuracy.csv\")\n",
    "binsize_02_by_structure['bin_size'] = 0.2\n",
    "binsize_02_by_structure = binsize_02_by_structure[~binsize_02_by_structure['structure'].str.contains('SCzo|SCop|SCsg|SCiw|SCig|SCdw|SCdg')]\n",
    "binsize_02_by_structure = binsize_02_by_structure.query('unit_subsample_size == 20').reset_index(drop=True)\n",
    "binsize_05_by_structure=pd.read_csv(r\"\\\\allen\\programs\\mindscope\\workgroups\\dynamicrouting\\Ethan\\CO decoding results\\binsize testing\\structure_wise_decoding_accuracy_binsize_05.csv\")\n",
    "binsize_15_by_structure=pd.read_csv(r\"\\\\allen\\programs\\mindscope\\workgroups\\dynamicrouting\\Ethan\\CO decoding results\\binsize testing\\structure_wise_decoding_accuracy_binsize_15.csv\")\n"
   ]
  },
  {
   "cell_type": "code",
   "execution_count": null,
   "metadata": {},
   "outputs": [],
   "source": [
    "binsize_02_by_structure"
   ]
  },
  {
   "cell_type": "code",
   "execution_count": null,
   "metadata": {},
   "outputs": [],
   "source": [
    "#merge the 3 dataframes on structure and unit_subsample_size\n",
    "\n",
    "temp_02=binsize_02_by_structure[['structure','num_sessions']].copy()\n",
    "temp_02['mean_diff_02'] = binsize_02_by_structure['mean_diff']\n",
    "temp_02['sem_diff_02'] = binsize_02_by_structure['sem_diff']\n",
    "\n",
    "temp_05=binsize_05_by_structure[['structure']].copy()\n",
    "temp_05['mean_diff_05'] = binsize_05_by_structure['mean_diff']\n",
    "temp_05['sem_diff_05'] = binsize_05_by_structure['sem_diff']\n",
    "\n",
    "temp_15=binsize_15_by_structure[['structure']].copy()\n",
    "temp_15['mean_diff_15'] = binsize_15_by_structure['mean_diff']\n",
    "temp_15['sem_diff_15'] = binsize_15_by_structure['sem_diff']\n",
    "\n",
    "binsize_02_05_15_by_structure = temp_02.merge(temp_05, on='structure').merge(temp_15, on='structure')\n",
    "\n",
    "fig,ax=plt.subplots(figsize=(12,4))\n",
    "binsize_02_05_15_by_structure=binsize_02_05_15_by_structure.query('num_sessions>=3').sort_values(by='mean_diff_02', ascending=False)\n",
    "binsize_02_05_15_by_structure.reset_index(drop=True, inplace=True)\n",
    "\n",
    "# errors_df=binsize_02_05_15_by_structure.copy()\n",
    "# errors_df['mean_diff_02'] = binsize_02_05_15_by_structure['sem_diff_02']\n",
    "# errors_df['mean_diff_05'] = binsize_02_05_15_by_structure['sem_diff_05']\n",
    "# errors_df['mean_diff_15'] = binsize_02_05_15_by_structure['sem_diff_15']\n",
    "\n",
    "binsize_02_05_15_by_structure.plot.bar(x='structure', y=['mean_diff_02', 'mean_diff_05', 'mean_diff_15'], \n",
    "                                       ax=ax, color=['#1f77b4', '#ff7f0e', '#2ca02c'], alpha=0.8, width=0.8)\n",
    "ax.set_ylabel('Mean Decoding Accuracy Difference')\n",
    "ax.set_xlabel('Structure')"
   ]
  },
  {
   "cell_type": "code",
   "execution_count": null,
   "metadata": {},
   "outputs": [],
   "source": [
    "binsize_02_05_15_by_structure"
   ]
  },
  {
   "cell_type": "code",
   "execution_count": null,
   "metadata": {},
   "outputs": [],
   "source": []
  },
  {
   "cell_type": "code",
   "execution_count": null,
   "metadata": {},
   "outputs": [],
   "source": [
    "response_type_02=pd.read_parquet(r\"\\\\allen\\programs\\mindscope\\workgroups\\dynamicrouting\\Ethan\\CO decoding results\\new_decoder_run_2025-04-04\\response_type_predict_proba.parquet\")\n",
    "response_type_02=response_type_02.query('unit_subsample_size == 20').reset_index(drop=True)\n",
    "response_type_02['bin_size'] = 0.2\n",
    "response_type_05=pd.read_parquet(r\"\\\\allen\\programs\\mindscope\\workgroups\\dynamicrouting\\Ethan\\CO decoding results\\binsize testing\\response_type_predict_proba_binsize_05.parquet\")\n",
    "response_type_15=pd.read_parquet(r\"\\\\allen\\programs\\mindscope\\workgroups\\dynamicrouting\\Ethan\\CO decoding results\\binsize testing\\response_type_predict_proba_binsize_15.parquet\")\n"
   ]
  },
  {
   "cell_type": "code",
   "execution_count": null,
   "metadata": {},
   "outputs": [],
   "source": [
    "response_type_02"
   ]
  },
  {
   "cell_type": "code",
   "execution_count": null,
   "metadata": {},
   "outputs": [],
   "source": [
    "# single structure CR vs. FA\n",
    "\n",
    "dprime_threshold=0.5\n",
    "sel_project='DynamicRouting'\n",
    "sel_unit_subsample_size=20\n",
    "min_n_recs=3\n",
    "use_median=False\n",
    "if use_median:\n",
    "    median_str='_median'\n",
    "else:\n",
    "    median_str=''\n",
    "\n",
    "ss='MOs'\n",
    "\n",
    "sel_structure_02=response_type_02.query('structure==@ss and vis_context_dprime>=@dprime_threshold and aud_context_dprime>=@dprime_threshold and \\\n",
    "                                        unit_subsample_size==@sel_unit_subsample_size and project.str.contains(@sel_project)')\n",
    "\n",
    "sel_structure_05=response_type_05.query('structure==@ss and vis_context_dprime>=@dprime_threshold and aud_context_dprime>=@dprime_threshold and \\\n",
    "                                        unit_subsample_size==@sel_unit_subsample_size and project.str.contains(@sel_project)')\n",
    "\n",
    "sel_structure_15=response_type_15.query('structure==@ss and vis_context_dprime>=@dprime_threshold and aud_context_dprime>=@dprime_threshold and \\\n",
    "                                        unit_subsample_size==@sel_unit_subsample_size and project.str.contains(@sel_project)')\n",
    "\n",
    "fig,ax=plt.subplots(1,3,figsize=(10,4),sharex=True,sharey=True)\n",
    "#make boxplot of each response type\n",
    "bplot=ax[0].boxplot(sel_structure_02[['vis_hit_predict_proba'+median_str,'vis_cr_predict_proba'+median_str,'vis_fa_predict_proba'+median_str,\n",
    "                    'aud_hit_predict_proba'+median_str,'aud_cr_predict_proba'+median_str,'aud_fa_predict_proba'+median_str]].values,\n",
    "                    positions=[0,1,2,3,4,5],patch_artist=True,medianprops={\"color\": \"white\", \"linewidth\": 1.0},)\n",
    "\n",
    "ax[0].set_xticks([0,1,2,3,4,5])\n",
    "ax[0].set_xticklabels(['vis_HIT','vis_CR','vis_FA','aud_HIT','aud_CR','aud_FA'],rotation=90)\n",
    "fill_colors=['tab:green','tab:blue','tab:red','tab:green','tab:blue','tab:red']\n",
    "# fill with colors\n",
    "for patch, color in zip(bplot['boxes'], fill_colors):\n",
    "    patch.set_facecolor(color)\n",
    "\n",
    "ax[0].axhline(0.5,color='k',linewidth=0.5)\n",
    "ax[0].set_title('binsize = 0.2 sec')\n",
    "ax[0].set_ylabel('p(vis context)')\n",
    "# ax.set_ylim([0,1])\n",
    "\n",
    "#make boxplot of each response type\n",
    "bplot=ax[1].boxplot(sel_structure_05[['vis_hit_predict_proba'+median_str,'vis_cr_predict_proba'+median_str,'vis_fa_predict_proba'+median_str,\n",
    "                    'aud_hit_predict_proba'+median_str,'aud_cr_predict_proba'+median_str,'aud_fa_predict_proba'+median_str]].values,\n",
    "                    positions=[0,1,2,3,4,5],patch_artist=True,medianprops={\"color\": \"white\", \"linewidth\": 1.0},)\n",
    "ax[1].set_xticks([0,1,2,3,4,5])\n",
    "ax[1].set_xticklabels(['vis_HIT','vis_CR','vis_FA','aud_HIT','aud_CR','aud_FA'],rotation=90)\n",
    "fill_colors=['tab:green','tab:blue','tab:red','tab:green','tab:blue','tab:red']\n",
    "# fill with colors\n",
    "for patch, color in zip(bplot['boxes'], fill_colors):\n",
    "    patch.set_facecolor(color)\n",
    "ax[1].axhline(0.5,color='k',linewidth=0.5)\n",
    "ax[1].set_title('binsize = 0.5 sec')\n",
    "# ax.set_ylim([0,1])\n",
    "\n",
    "#make boxplot of each response type\n",
    "bplot=ax[2].boxplot(sel_structure_15[['vis_hit_predict_proba'+median_str,'vis_cr_predict_proba'+median_str,'vis_fa_predict_proba'+median_str,\n",
    "                    'aud_hit_predict_proba'+median_str,'aud_cr_predict_proba'+median_str,'aud_fa_predict_proba'+median_str]].values,\n",
    "                    positions=[0,1,2,3,4,5],patch_artist=True,medianprops={\"color\": \"white\", \"linewidth\": 1.0},)\n",
    "ax[2].set_xticks([0,1,2,3,4,5])\n",
    "ax[2].set_xticklabels(['vis_HIT','vis_CR','vis_FA','aud_HIT','aud_CR','aud_FA'],rotation=90)\n",
    "fill_colors=['tab:green','tab:blue','tab:red','tab:green','tab:blue','tab:red']\n",
    "# fill with colors\n",
    "for patch, color in zip(bplot['boxes'], fill_colors):\n",
    "    patch.set_facecolor(color)\n",
    "ax[2].axhline(0.5,color='k',linewidth=0.5)\n",
    "ax[2].set_title('binsize = 1.5 sec')\n",
    "# ax.set_ylim([0,1])\n",
    "\n",
    "fig.suptitle(str(ss)+' n='+str(len(sel_structure_02))+'; context dprime>='+str(dprime_threshold))\n",
    "fig.tight_layout()"
   ]
  }
 ],
 "metadata": {
  "kernelspec": {
   "display_name": "dr_ibl_analysis",
   "language": "python",
   "name": "python3"
  },
  "language_info": {
   "codemirror_mode": {
    "name": "ipython",
    "version": 3
   },
   "file_extension": ".py",
   "mimetype": "text/x-python",
   "name": "python",
   "nbconvert_exporter": "python",
   "pygments_lexer": "ipython3",
   "version": "3.11.5"
  }
 },
 "nbformat": 4,
 "nbformat_minor": 2
}
