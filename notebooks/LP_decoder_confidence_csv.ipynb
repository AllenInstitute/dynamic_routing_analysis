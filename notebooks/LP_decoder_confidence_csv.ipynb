{
 "cells": [
  {
   "cell_type": "code",
   "execution_count": 1,
   "id": "6aa96b02-7af4-48be-9676-2b22d3ab6d3c",
   "metadata": {},
   "outputs": [],
   "source": [
    "import sys\n",
    "sys.path.append(r\"C:\\Users\\shailaja.akella\\Dropbox (Personal)\\DR\\dynamic_routing_analysis_ethan\\src\")\n",
    "\n",
    "import npc_lims\n",
    "from npc_sessions import DynamicRoutingSession\n",
    "import numpy as np\n",
    "import matplotlib.pyplot as plt\n",
    "import os\n",
    "import glob\n",
    "from dynamic_routing_analysis import decoding_utils\n",
    "import pandas as pd"
   ]
  },
  {
   "cell_type": "code",
   "execution_count": 11,
   "id": "c5844b5c-12db-4abe-80bf-fa7d03cbfc4c",
   "metadata": {},
   "outputs": [],
   "source": [
    "savepath = r\"C:\\Users\\shailaja.akella\\Dropbox (Personal)\\DR\\dynamic_routing_analysis_ethan\\results\\all_features_LP_updated/\""
   ]
  },
  {
   "cell_type": "code",
   "execution_count": 32,
   "id": "871b0fb1-9aa4-43c7-aa33-7113a12f6114",
   "metadata": {},
   "outputs": [],
   "source": [
    "files=glob.glob(os.path.join(savepath,'*LP.pkl'))"
   ]
  },
  {
   "cell_type": "code",
   "execution_count": 33,
   "id": "33f557e9-671e-4982-8bd2-6d6726a7768d",
   "metadata": {},
   "outputs": [
    {
     "name": "stderr",
     "output_type": "stream",
     "text": [
      "C:\\Users\\shailaja.akella\\Anaconda3\\envs\\npc_sessions2\\lib\\site-packages\\numpy\\core\\fromnumeric.py:3504: RuntimeWarning: Mean of empty slice.\n",
      "  return _methods._mean(a, axis=axis, dtype=dtype,\n",
      "C:\\Users\\shailaja.akella\\Anaconda3\\envs\\npc_sessions2\\lib\\site-packages\\numpy\\core\\fromnumeric.py:3504: RuntimeWarning: Mean of empty slice.\n",
      "  return _methods._mean(a, axis=axis, dtype=dtype,\n",
      "C:\\Users\\shailaja.akella\\Anaconda3\\envs\\npc_sessions2\\lib\\site-packages\\numpy\\core\\fromnumeric.py:3504: RuntimeWarning: Mean of empty slice.\n",
      "  return _methods._mean(a, axis=axis, dtype=dtype,\n",
      "C:\\Users\\shailaja.akella\\Anaconda3\\envs\\npc_sessions2\\lib\\site-packages\\numpy\\core\\fromnumeric.py:3504: RuntimeWarning: Mean of empty slice.\n",
      "  return _methods._mean(a, axis=axis, dtype=dtype,\n",
      "C:\\Users\\shailaja.akella\\Anaconda3\\envs\\npc_sessions2\\lib\\site-packages\\numpy\\core\\fromnumeric.py:3504: RuntimeWarning: Mean of empty slice.\n",
      "  return _methods._mean(a, axis=axis, dtype=dtype,\n",
      "C:\\Users\\shailaja.akella\\Anaconda3\\envs\\npc_sessions2\\lib\\site-packages\\numpy\\core\\fromnumeric.py:3504: RuntimeWarning: Mean of empty slice.\n",
      "  return _methods._mean(a, axis=axis, dtype=dtype,\n",
      "C:\\Users\\shailaja.akella\\Anaconda3\\envs\\npc_sessions2\\lib\\site-packages\\numpy\\core\\fromnumeric.py:3504: RuntimeWarning: Mean of empty slice.\n",
      "  return _methods._mean(a, axis=axis, dtype=dtype,\n"
     ]
    },
    {
     "name": "stdout",
     "output_type": "stream",
     "text": [
      "finished session: 620263_2022-07-26\n",
      "session time:  88.48084568977356  seconds;  total time: 88.48084568977356  seconds\n"
     ]
    },
    {
     "name": "stderr",
     "output_type": "stream",
     "text": [
      "C:\\Users\\shailaja.akella\\Anaconda3\\envs\\npc_sessions2\\lib\\site-packages\\numpy\\core\\fromnumeric.py:3504: RuntimeWarning: Mean of empty slice.\n",
      "  return _methods._mean(a, axis=axis, dtype=dtype,\n",
      "C:\\Users\\shailaja.akella\\Anaconda3\\envs\\npc_sessions2\\lib\\site-packages\\numpy\\core\\fromnumeric.py:3504: RuntimeWarning: Mean of empty slice.\n",
      "  return _methods._mean(a, axis=axis, dtype=dtype,\n",
      "C:\\Users\\shailaja.akella\\Anaconda3\\envs\\npc_sessions2\\lib\\site-packages\\numpy\\core\\fromnumeric.py:3504: RuntimeWarning: Mean of empty slice.\n",
      "  return _methods._mean(a, axis=axis, dtype=dtype,\n",
      "C:\\Users\\shailaja.akella\\Anaconda3\\envs\\npc_sessions2\\lib\\site-packages\\numpy\\core\\fromnumeric.py:3504: RuntimeWarning: Mean of empty slice.\n",
      "  return _methods._mean(a, axis=axis, dtype=dtype,\n",
      "C:\\Users\\shailaja.akella\\Anaconda3\\envs\\npc_sessions2\\lib\\site-packages\\numpy\\core\\fromnumeric.py:3504: RuntimeWarning: Mean of empty slice.\n",
      "  return _methods._mean(a, axis=axis, dtype=dtype,\n",
      "C:\\Users\\shailaja.akella\\Anaconda3\\envs\\npc_sessions2\\lib\\site-packages\\numpy\\core\\fromnumeric.py:3504: RuntimeWarning: Mean of empty slice.\n",
      "  return _methods._mean(a, axis=axis, dtype=dtype,\n",
      "C:\\Users\\shailaja.akella\\Anaconda3\\envs\\npc_sessions2\\lib\\site-packages\\numpy\\core\\fromnumeric.py:3504: RuntimeWarning: Mean of empty slice.\n",
      "  return _methods._mean(a, axis=axis, dtype=dtype,\n"
     ]
    },
    {
     "name": "stdout",
     "output_type": "stream",
     "text": [
      "finished session: 620263_2022-07-27\n",
      "session time:  11.786842584609985  seconds;  total time: 100.26768827438354  seconds\n"
     ]
    },
    {
     "name": "stderr",
     "output_type": "stream",
     "text": [
      "C:\\Users\\shailaja.akella\\Anaconda3\\envs\\npc_sessions2\\lib\\site-packages\\numpy\\core\\fromnumeric.py:3504: RuntimeWarning: Mean of empty slice.\n",
      "  return _methods._mean(a, axis=axis, dtype=dtype,\n",
      "C:\\Users\\shailaja.akella\\Anaconda3\\envs\\npc_sessions2\\lib\\site-packages\\numpy\\core\\fromnumeric.py:3504: RuntimeWarning: Mean of empty slice.\n",
      "  return _methods._mean(a, axis=axis, dtype=dtype,\n",
      "C:\\Users\\shailaja.akella\\Anaconda3\\envs\\npc_sessions2\\lib\\site-packages\\numpy\\core\\fromnumeric.py:3504: RuntimeWarning: Mean of empty slice.\n",
      "  return _methods._mean(a, axis=axis, dtype=dtype,\n",
      "C:\\Users\\shailaja.akella\\Anaconda3\\envs\\npc_sessions2\\lib\\site-packages\\numpy\\core\\fromnumeric.py:3504: RuntimeWarning: Mean of empty slice.\n",
      "  return _methods._mean(a, axis=axis, dtype=dtype,\n",
      "C:\\Users\\shailaja.akella\\Anaconda3\\envs\\npc_sessions2\\lib\\site-packages\\numpy\\core\\fromnumeric.py:3504: RuntimeWarning: Mean of empty slice.\n",
      "  return _methods._mean(a, axis=axis, dtype=dtype,\n",
      "C:\\Users\\shailaja.akella\\Anaconda3\\envs\\npc_sessions2\\lib\\site-packages\\numpy\\core\\fromnumeric.py:3504: RuntimeWarning: Mean of empty slice.\n",
      "  return _methods._mean(a, axis=axis, dtype=dtype,\n",
      "C:\\Users\\shailaja.akella\\Anaconda3\\envs\\npc_sessions2\\lib\\site-packages\\numpy\\core\\fromnumeric.py:3504: RuntimeWarning: Mean of empty slice.\n",
      "  return _methods._mean(a, axis=axis, dtype=dtype,\n",
      "C:\\Users\\shailaja.akella\\Anaconda3\\envs\\npc_sessions2\\lib\\site-packages\\numpy\\core\\fromnumeric.py:3504: RuntimeWarning: Mean of empty slice.\n",
      "  return _methods._mean(a, axis=axis, dtype=dtype,\n"
     ]
    },
    {
     "name": "stdout",
     "output_type": "stream",
     "text": [
      "finished session: 620264_2022-08-02\n",
      "session time:  3.409822940826416  seconds;  total time: 103.67751121520996  seconds\n",
      "finished session: 626791_2022-08-15\n",
      "session time:  2.1655218601226807  seconds;  total time: 105.84303307533264  seconds\n",
      "finished session: 626791_2022-08-16\n",
      "session time:  2.1055080890655518  seconds;  total time: 107.9485411643982  seconds\n",
      "finished session: 626791_2022-08-17\n",
      "session time:  2.7696681022644043  seconds;  total time: 110.7182092666626  seconds\n",
      "628801_2022-09-19 failed to stack decision functions; skipping\n",
      "finished session: 628801_2022-09-19\n",
      "session time:  2.0494940280914307  seconds;  total time: 112.76770329475403  seconds\n"
     ]
    },
    {
     "name": "stderr",
     "output_type": "stream",
     "text": [
      "C:\\Users\\shailaja.akella\\Anaconda3\\envs\\npc_sessions2\\lib\\site-packages\\numpy\\core\\fromnumeric.py:3504: RuntimeWarning: Mean of empty slice.\n",
      "  return _methods._mean(a, axis=axis, dtype=dtype,\n",
      "C:\\Users\\shailaja.akella\\Anaconda3\\envs\\npc_sessions2\\lib\\site-packages\\numpy\\core\\fromnumeric.py:3504: RuntimeWarning: Mean of empty slice.\n",
      "  return _methods._mean(a, axis=axis, dtype=dtype,\n",
      "C:\\Users\\shailaja.akella\\Anaconda3\\envs\\npc_sessions2\\lib\\site-packages\\numpy\\core\\fromnumeric.py:3504: RuntimeWarning: Mean of empty slice.\n",
      "  return _methods._mean(a, axis=axis, dtype=dtype,\n",
      "C:\\Users\\shailaja.akella\\Anaconda3\\envs\\npc_sessions2\\lib\\site-packages\\numpy\\core\\fromnumeric.py:3504: RuntimeWarning: Mean of empty slice.\n",
      "  return _methods._mean(a, axis=axis, dtype=dtype,\n",
      "C:\\Users\\shailaja.akella\\Anaconda3\\envs\\npc_sessions2\\lib\\site-packages\\numpy\\core\\fromnumeric.py:3504: RuntimeWarning: Mean of empty slice.\n",
      "  return _methods._mean(a, axis=axis, dtype=dtype,\n",
      "C:\\Users\\shailaja.akella\\Anaconda3\\envs\\npc_sessions2\\lib\\site-packages\\numpy\\core\\fromnumeric.py:3504: RuntimeWarning: Mean of empty slice.\n",
      "  return _methods._mean(a, axis=axis, dtype=dtype,\n",
      "C:\\Users\\shailaja.akella\\Anaconda3\\envs\\npc_sessions2\\lib\\site-packages\\numpy\\core\\fromnumeric.py:3504: RuntimeWarning: Mean of empty slice.\n",
      "  return _methods._mean(a, axis=axis, dtype=dtype,\n"
     ]
    },
    {
     "name": "stdout",
     "output_type": "stream",
     "text": [
      "finished session: 636397_2022-09-26\n",
      "session time:  2.7636666297912598  seconds;  total time: 115.53136992454529  seconds\n"
     ]
    },
    {
     "name": "stderr",
     "output_type": "stream",
     "text": [
      "C:\\Users\\shailaja.akella\\Anaconda3\\envs\\npc_sessions2\\lib\\site-packages\\numpy\\core\\fromnumeric.py:3504: RuntimeWarning: Mean of empty slice.\n",
      "  return _methods._mean(a, axis=axis, dtype=dtype,\n",
      "C:\\Users\\shailaja.akella\\Anaconda3\\envs\\npc_sessions2\\lib\\site-packages\\numpy\\core\\fromnumeric.py:3504: RuntimeWarning: Mean of empty slice.\n",
      "  return _methods._mean(a, axis=axis, dtype=dtype,\n",
      "C:\\Users\\shailaja.akella\\Anaconda3\\envs\\npc_sessions2\\lib\\site-packages\\numpy\\core\\fromnumeric.py:3504: RuntimeWarning: Mean of empty slice.\n",
      "  return _methods._mean(a, axis=axis, dtype=dtype,\n",
      "C:\\Users\\shailaja.akella\\Anaconda3\\envs\\npc_sessions2\\lib\\site-packages\\numpy\\core\\fromnumeric.py:3504: RuntimeWarning: Mean of empty slice.\n",
      "  return _methods._mean(a, axis=axis, dtype=dtype,\n",
      "C:\\Users\\shailaja.akella\\Anaconda3\\envs\\npc_sessions2\\lib\\site-packages\\numpy\\core\\fromnumeric.py:3504: RuntimeWarning: Mean of empty slice.\n",
      "  return _methods._mean(a, axis=axis, dtype=dtype,\n",
      "C:\\Users\\shailaja.akella\\Anaconda3\\envs\\npc_sessions2\\lib\\site-packages\\numpy\\core\\fromnumeric.py:3504: RuntimeWarning: Mean of empty slice.\n",
      "  return _methods._mean(a, axis=axis, dtype=dtype,\n",
      "C:\\Users\\shailaja.akella\\Anaconda3\\envs\\npc_sessions2\\lib\\site-packages\\numpy\\core\\fromnumeric.py:3504: RuntimeWarning: Mean of empty slice.\n",
      "  return _methods._mean(a, axis=axis, dtype=dtype,\n"
     ]
    },
    {
     "name": "stdout",
     "output_type": "stream",
     "text": [
      "finished session: 636397_2022-09-27\n",
      "session time:  2.274548292160034  seconds;  total time: 117.80591821670532  seconds\n",
      "finished session: 636766_2023-01-23\n",
      "session time:  2.559617519378662  seconds;  total time: 120.36553573608398  seconds\n",
      "finished session: 636766_2023-01-24\n",
      "session time:  1.4363462924957275  seconds;  total time: 121.80188202857971  seconds\n",
      "finished session: 636766_2023-01-25\n",
      "session time:  2.2285375595092773  seconds;  total time: 124.0314199924469  seconds\n",
      "finished session: 636766_2023-01-26\n",
      "session time:  2.0114846229553223  seconds;  total time: 126.04290461540222  seconds\n",
      "finished session: 644864_2023-01-30\n",
      "session time:  1.969475269317627  seconds;  total time: 128.01237988471985  seconds\n",
      "finished session: 644864_2023-01-31\n",
      "session time:  1.7424204349517822  seconds;  total time: 129.75480031967163  seconds\n",
      "skipping session: 644864_2023-02-02\n",
      "finished session: 644866_2023-02-07\n",
      "session time:  1.4683542251586914  seconds;  total time: 133.4136826992035  seconds\n",
      "finished session: 644866_2023-02-08\n",
      "session time:  2.0024826526641846  seconds;  total time: 135.41616535186768  seconds\n",
      "finished session: 644866_2023-02-09\n",
      "session time:  2.0344908237457275  seconds;  total time: 137.45165634155273  seconds\n",
      "finished session: 644866_2023-02-10\n",
      "session time:  1.903458833694458  seconds;  total time: 139.3551151752472  seconds\n",
      "finished session: 644867_2023-02-20\n",
      "session time:  1.5683784484863281  seconds;  total time: 140.92349362373352  seconds\n",
      "finished session: 644867_2023-02-22\n",
      "session time:  2.4235846996307373  seconds;  total time: 143.34707832336426  seconds\n",
      "finished session: 644867_2023-02-23\n",
      "session time:  2.1625211238861084  seconds;  total time: 145.50959944725037  seconds\n"
     ]
    },
    {
     "name": "stderr",
     "output_type": "stream",
     "text": [
      "C:\\Users\\shailaja.akella\\Anaconda3\\envs\\npc_sessions2\\lib\\site-packages\\numpy\\core\\fromnumeric.py:3504: RuntimeWarning: Mean of empty slice.\n",
      "  return _methods._mean(a, axis=axis, dtype=dtype,\n",
      "C:\\Users\\shailaja.akella\\Anaconda3\\envs\\npc_sessions2\\lib\\site-packages\\numpy\\core\\fromnumeric.py:3504: RuntimeWarning: Mean of empty slice.\n",
      "  return _methods._mean(a, axis=axis, dtype=dtype,\n",
      "C:\\Users\\shailaja.akella\\Anaconda3\\envs\\npc_sessions2\\lib\\site-packages\\numpy\\core\\fromnumeric.py:3504: RuntimeWarning: Mean of empty slice.\n",
      "  return _methods._mean(a, axis=axis, dtype=dtype,\n",
      "C:\\Users\\shailaja.akella\\Anaconda3\\envs\\npc_sessions2\\lib\\site-packages\\numpy\\core\\fromnumeric.py:3504: RuntimeWarning: Mean of empty slice.\n",
      "  return _methods._mean(a, axis=axis, dtype=dtype,\n",
      "C:\\Users\\shailaja.akella\\Anaconda3\\envs\\npc_sessions2\\lib\\site-packages\\numpy\\core\\fromnumeric.py:3504: RuntimeWarning: Mean of empty slice.\n",
      "  return _methods._mean(a, axis=axis, dtype=dtype,\n",
      "C:\\Users\\shailaja.akella\\Anaconda3\\envs\\npc_sessions2\\lib\\site-packages\\numpy\\core\\fromnumeric.py:3504: RuntimeWarning: Mean of empty slice.\n",
      "  return _methods._mean(a, axis=axis, dtype=dtype,\n",
      "C:\\Users\\shailaja.akella\\Anaconda3\\envs\\npc_sessions2\\lib\\site-packages\\numpy\\core\\fromnumeric.py:3504: RuntimeWarning: Mean of empty slice.\n",
      "  return _methods._mean(a, axis=axis, dtype=dtype,\n"
     ]
    },
    {
     "name": "stdout",
     "output_type": "stream",
     "text": [
      "finished session: 646318_2023-01-17\n",
      "session time:  2.0454933643341064  seconds;  total time: 147.55509281158447  seconds\n"
     ]
    },
    {
     "name": "stderr",
     "output_type": "stream",
     "text": [
      "C:\\Users\\shailaja.akella\\Anaconda3\\envs\\npc_sessions2\\lib\\site-packages\\numpy\\core\\fromnumeric.py:3504: RuntimeWarning: Mean of empty slice.\n",
      "  return _methods._mean(a, axis=axis, dtype=dtype,\n",
      "C:\\Users\\shailaja.akella\\Anaconda3\\envs\\npc_sessions2\\lib\\site-packages\\numpy\\core\\fromnumeric.py:3504: RuntimeWarning: Mean of empty slice.\n",
      "  return _methods._mean(a, axis=axis, dtype=dtype,\n",
      "C:\\Users\\shailaja.akella\\Anaconda3\\envs\\npc_sessions2\\lib\\site-packages\\numpy\\core\\fromnumeric.py:3504: RuntimeWarning: Mean of empty slice.\n",
      "  return _methods._mean(a, axis=axis, dtype=dtype,\n",
      "C:\\Users\\shailaja.akella\\Anaconda3\\envs\\npc_sessions2\\lib\\site-packages\\numpy\\core\\fromnumeric.py:3504: RuntimeWarning: Mean of empty slice.\n",
      "  return _methods._mean(a, axis=axis, dtype=dtype,\n",
      "C:\\Users\\shailaja.akella\\Anaconda3\\envs\\npc_sessions2\\lib\\site-packages\\numpy\\core\\fromnumeric.py:3504: RuntimeWarning: Mean of empty slice.\n",
      "  return _methods._mean(a, axis=axis, dtype=dtype,\n",
      "C:\\Users\\shailaja.akella\\Anaconda3\\envs\\npc_sessions2\\lib\\site-packages\\numpy\\core\\fromnumeric.py:3504: RuntimeWarning: Mean of empty slice.\n",
      "  return _methods._mean(a, axis=axis, dtype=dtype,\n",
      "C:\\Users\\shailaja.akella\\Anaconda3\\envs\\npc_sessions2\\lib\\site-packages\\numpy\\core\\fromnumeric.py:3504: RuntimeWarning: Mean of empty slice.\n",
      "  return _methods._mean(a, axis=axis, dtype=dtype,\n"
     ]
    },
    {
     "name": "stdout",
     "output_type": "stream",
     "text": [
      "finished session: 646318_2023-01-18\n",
      "session time:  2.4255850315093994  seconds;  total time: 149.98067784309387  seconds\n",
      "649943_2023-02-13 failed to stack decision functions; skipping\n",
      "finished session: 649943_2023-02-13\n",
      "session time:  1.2302970886230469  seconds;  total time: 151.21097493171692  seconds\n",
      "finished session: 649943_2023-02-14\n",
      "session time:  5.744385242462158  seconds;  total time: 156.95536017417908  seconds\n",
      "finished session: 649943_2023-02-15\n",
      "session time:  1.9234633445739746  seconds;  total time: 158.87882351875305  seconds\n",
      "finished session: 649943_2023-02-16\n",
      "session time:  1.5963854789733887  seconds;  total time: 160.47520899772644  seconds\n",
      "649944_2023-02-27 failed to stack decision functions; skipping\n",
      "finished session: 649944_2023-02-27\n",
      "session time:  1.9674742221832275  seconds;  total time: 162.44268321990967  seconds\n"
     ]
    },
    {
     "name": "stderr",
     "output_type": "stream",
     "text": [
      "C:\\Users\\shailaja.akella\\Anaconda3\\envs\\npc_sessions2\\lib\\site-packages\\numpy\\core\\fromnumeric.py:3504: RuntimeWarning: Mean of empty slice.\n",
      "  return _methods._mean(a, axis=axis, dtype=dtype,\n",
      "C:\\Users\\shailaja.akella\\Anaconda3\\envs\\npc_sessions2\\lib\\site-packages\\numpy\\core\\fromnumeric.py:3504: RuntimeWarning: Mean of empty slice.\n",
      "  return _methods._mean(a, axis=axis, dtype=dtype,\n",
      "C:\\Users\\shailaja.akella\\Anaconda3\\envs\\npc_sessions2\\lib\\site-packages\\numpy\\core\\fromnumeric.py:3504: RuntimeWarning: Mean of empty slice.\n",
      "  return _methods._mean(a, axis=axis, dtype=dtype,\n",
      "C:\\Users\\shailaja.akella\\Anaconda3\\envs\\npc_sessions2\\lib\\site-packages\\numpy\\core\\fromnumeric.py:3504: RuntimeWarning: Mean of empty slice.\n",
      "  return _methods._mean(a, axis=axis, dtype=dtype,\n",
      "C:\\Users\\shailaja.akella\\Anaconda3\\envs\\npc_sessions2\\lib\\site-packages\\numpy\\core\\fromnumeric.py:3504: RuntimeWarning: Mean of empty slice.\n",
      "  return _methods._mean(a, axis=axis, dtype=dtype,\n",
      "C:\\Users\\shailaja.akella\\Anaconda3\\envs\\npc_sessions2\\lib\\site-packages\\numpy\\core\\fromnumeric.py:3504: RuntimeWarning: Mean of empty slice.\n",
      "  return _methods._mean(a, axis=axis, dtype=dtype,\n",
      "C:\\Users\\shailaja.akella\\Anaconda3\\envs\\npc_sessions2\\lib\\site-packages\\numpy\\core\\fromnumeric.py:3504: RuntimeWarning: Mean of empty slice.\n",
      "  return _methods._mean(a, axis=axis, dtype=dtype,\n"
     ]
    },
    {
     "name": "stdout",
     "output_type": "stream",
     "text": [
      "finished session: 649944_2023-02-28\n",
      "session time:  2.2865514755249023  seconds;  total time: 164.72923469543457  seconds\n",
      "finished session: 660023_2023-08-09\n",
      "session time:  2.431586265563965  seconds;  total time: 167.16082096099854  seconds\n",
      "finished session: 662892_2023-08-21\n",
      "session time:  1.7714276313781738  seconds;  total time: 168.9322485923767  seconds\n",
      "finished session: 662892_2023-08-22\n",
      "session time:  2.122511386871338  seconds;  total time: 171.05475997924805  seconds\n",
      "finished session: 662892_2023-08-23\n",
      "session time:  1.7824304103851318  seconds;  total time: 172.83719038963318  seconds\n",
      "finished session: 662892_2023-08-24\n",
      "session time:  2.345564603805542  seconds;  total time: 175.18275499343872  seconds\n"
     ]
    },
    {
     "name": "stderr",
     "output_type": "stream",
     "text": [
      "C:\\Users\\shailaja.akella\\Anaconda3\\envs\\npc_sessions2\\lib\\site-packages\\numpy\\core\\fromnumeric.py:3504: RuntimeWarning: Mean of empty slice.\n",
      "  return _methods._mean(a, axis=axis, dtype=dtype,\n",
      "C:\\Users\\shailaja.akella\\Anaconda3\\envs\\npc_sessions2\\lib\\site-packages\\numpy\\core\\fromnumeric.py:3504: RuntimeWarning: Mean of empty slice.\n",
      "  return _methods._mean(a, axis=axis, dtype=dtype,\n",
      "C:\\Users\\shailaja.akella\\Anaconda3\\envs\\npc_sessions2\\lib\\site-packages\\numpy\\core\\fromnumeric.py:3504: RuntimeWarning: Mean of empty slice.\n",
      "  return _methods._mean(a, axis=axis, dtype=dtype,\n",
      "C:\\Users\\shailaja.akella\\Anaconda3\\envs\\npc_sessions2\\lib\\site-packages\\numpy\\core\\fromnumeric.py:3504: RuntimeWarning: Mean of empty slice.\n",
      "  return _methods._mean(a, axis=axis, dtype=dtype,\n",
      "C:\\Users\\shailaja.akella\\Anaconda3\\envs\\npc_sessions2\\lib\\site-packages\\numpy\\core\\fromnumeric.py:3504: RuntimeWarning: Mean of empty slice.\n",
      "  return _methods._mean(a, axis=axis, dtype=dtype,\n",
      "C:\\Users\\shailaja.akella\\Anaconda3\\envs\\npc_sessions2\\lib\\site-packages\\numpy\\core\\fromnumeric.py:3504: RuntimeWarning: Mean of empty slice.\n",
      "  return _methods._mean(a, axis=axis, dtype=dtype,\n",
      "C:\\Users\\shailaja.akella\\Anaconda3\\envs\\npc_sessions2\\lib\\site-packages\\numpy\\core\\fromnumeric.py:3504: RuntimeWarning: Mean of empty slice.\n",
      "  return _methods._mean(a, axis=axis, dtype=dtype,\n"
     ]
    },
    {
     "name": "stdout",
     "output_type": "stream",
     "text": [
      "finished session: 662983_2023-05-15\n",
      "session time:  2.263545513153076  seconds;  total time: 177.4463005065918  seconds\n"
     ]
    },
    {
     "name": "stderr",
     "output_type": "stream",
     "text": [
      "C:\\Users\\shailaja.akella\\Anaconda3\\envs\\npc_sessions2\\lib\\site-packages\\numpy\\core\\fromnumeric.py:3504: RuntimeWarning: Mean of empty slice.\n",
      "  return _methods._mean(a, axis=axis, dtype=dtype,\n",
      "C:\\Users\\shailaja.akella\\Anaconda3\\envs\\npc_sessions2\\lib\\site-packages\\numpy\\core\\fromnumeric.py:3504: RuntimeWarning: Mean of empty slice.\n",
      "  return _methods._mean(a, axis=axis, dtype=dtype,\n",
      "C:\\Users\\shailaja.akella\\Anaconda3\\envs\\npc_sessions2\\lib\\site-packages\\numpy\\core\\fromnumeric.py:3504: RuntimeWarning: Mean of empty slice.\n",
      "  return _methods._mean(a, axis=axis, dtype=dtype,\n",
      "C:\\Users\\shailaja.akella\\Anaconda3\\envs\\npc_sessions2\\lib\\site-packages\\numpy\\core\\fromnumeric.py:3504: RuntimeWarning: Mean of empty slice.\n",
      "  return _methods._mean(a, axis=axis, dtype=dtype,\n",
      "C:\\Users\\shailaja.akella\\Anaconda3\\envs\\npc_sessions2\\lib\\site-packages\\numpy\\core\\fromnumeric.py:3504: RuntimeWarning: Mean of empty slice.\n",
      "  return _methods._mean(a, axis=axis, dtype=dtype,\n",
      "C:\\Users\\shailaja.akella\\Anaconda3\\envs\\npc_sessions2\\lib\\site-packages\\numpy\\core\\fromnumeric.py:3504: RuntimeWarning: Mean of empty slice.\n",
      "  return _methods._mean(a, axis=axis, dtype=dtype,\n",
      "C:\\Users\\shailaja.akella\\Anaconda3\\envs\\npc_sessions2\\lib\\site-packages\\numpy\\core\\fromnumeric.py:3504: RuntimeWarning: Mean of empty slice.\n",
      "  return _methods._mean(a, axis=axis, dtype=dtype,\n"
     ]
    },
    {
     "name": "stdout",
     "output_type": "stream",
     "text": [
      "finished session: 662983_2023-05-16\n",
      "session time:  2.8036770820617676  seconds;  total time: 180.24997758865356  seconds\n",
      "finished session: 664851_2023-11-13\n",
      "session time:  1.6533989906311035  seconds;  total time: 181.904376745224  seconds\n",
      "finished session: 664851_2023-11-14\n",
      "session time:  2.078500270843506  seconds;  total time: 183.9828770160675  seconds\n",
      "finished session: 664851_2023-11-15\n",
      "session time:  2.226536989212036  seconds;  total time: 186.21041440963745  seconds\n",
      "finished session: 664851_2023-11-16\n",
      "session time:  2.195530414581299  seconds;  total time: 188.40694499015808  seconds\n",
      "finished session: 666986_2023-08-14\n",
      "session time:  1.4633533954620361  seconds;  total time: 189.87029838562012  seconds\n",
      "finished session: 666986_2023-08-15\n",
      "session time:  2.1585190296173096  seconds;  total time: 192.02881741523743  seconds\n",
      "finished session: 666986_2023-08-16\n",
      "session time:  2.300555944442749  seconds;  total time: 194.32937335968018  seconds\n",
      "finished session: 666986_2023-08-17\n",
      "session time:  1.2843098640441895  seconds;  total time: 195.61368322372437  seconds\n",
      "finished session: 667252_2023-09-26\n",
      "session time:  2.3155581951141357  seconds;  total time: 197.9292414188385  seconds\n",
      "finished session: 667252_2023-09-27\n",
      "session time:  1.8564479351043701  seconds;  total time: 199.78668975830078  seconds\n",
      "finished session: 667252_2023-09-28\n",
      "session time:  1.3763318061828613  seconds;  total time: 201.16302156448364  seconds\n",
      "skipping session: 668755_2023-08-28\n",
      "finished session: 668755_2023-08-29\n",
      "session time:  2.649639129638672  seconds;  total time: 205.6300985813141  seconds\n",
      "finished session: 668755_2023-08-30\n",
      "session time:  1.6153898239135742  seconds;  total time: 207.24548840522766  seconds\n",
      "finished session: 668755_2023-08-31\n",
      "session time:  1.9314658641815186  seconds;  total time: 209.17695426940918  seconds\n"
     ]
    },
    {
     "name": "stderr",
     "output_type": "stream",
     "text": [
      "C:\\Users\\shailaja.akella\\Anaconda3\\envs\\npc_sessions2\\lib\\site-packages\\numpy\\core\\fromnumeric.py:3504: RuntimeWarning: Mean of empty slice.\n",
      "  return _methods._mean(a, axis=axis, dtype=dtype,\n",
      "C:\\Users\\shailaja.akella\\Anaconda3\\envs\\npc_sessions2\\lib\\site-packages\\numpy\\core\\fromnumeric.py:3504: RuntimeWarning: Mean of empty slice.\n",
      "  return _methods._mean(a, axis=axis, dtype=dtype,\n",
      "C:\\Users\\shailaja.akella\\Anaconda3\\envs\\npc_sessions2\\lib\\site-packages\\numpy\\core\\fromnumeric.py:3504: RuntimeWarning: Mean of empty slice.\n",
      "  return _methods._mean(a, axis=axis, dtype=dtype,\n",
      "C:\\Users\\shailaja.akella\\Anaconda3\\envs\\npc_sessions2\\lib\\site-packages\\numpy\\core\\fromnumeric.py:3504: RuntimeWarning: Mean of empty slice.\n",
      "  return _methods._mean(a, axis=axis, dtype=dtype,\n",
      "C:\\Users\\shailaja.akella\\Anaconda3\\envs\\npc_sessions2\\lib\\site-packages\\numpy\\core\\fromnumeric.py:3504: RuntimeWarning: Mean of empty slice.\n",
      "  return _methods._mean(a, axis=axis, dtype=dtype,\n",
      "C:\\Users\\shailaja.akella\\Anaconda3\\envs\\npc_sessions2\\lib\\site-packages\\numpy\\core\\fromnumeric.py:3504: RuntimeWarning: Mean of empty slice.\n",
      "  return _methods._mean(a, axis=axis, dtype=dtype,\n",
      "C:\\Users\\shailaja.akella\\Anaconda3\\envs\\npc_sessions2\\lib\\site-packages\\numpy\\core\\fromnumeric.py:3504: RuntimeWarning: Mean of empty slice.\n",
      "  return _methods._mean(a, axis=axis, dtype=dtype,\n"
     ]
    },
    {
     "name": "stdout",
     "output_type": "stream",
     "text": [
      "finished session: 668759_2023-07-11\n",
      "session time:  2.212533473968506  seconds;  total time: 211.38948774337769  seconds\n"
     ]
    },
    {
     "name": "stderr",
     "output_type": "stream",
     "text": [
      "C:\\Users\\shailaja.akella\\Anaconda3\\envs\\npc_sessions2\\lib\\site-packages\\numpy\\core\\fromnumeric.py:3504: RuntimeWarning: Mean of empty slice.\n",
      "  return _methods._mean(a, axis=axis, dtype=dtype,\n",
      "C:\\Users\\shailaja.akella\\Anaconda3\\envs\\npc_sessions2\\lib\\site-packages\\numpy\\core\\fromnumeric.py:3504: RuntimeWarning: Mean of empty slice.\n",
      "  return _methods._mean(a, axis=axis, dtype=dtype,\n",
      "C:\\Users\\shailaja.akella\\Anaconda3\\envs\\npc_sessions2\\lib\\site-packages\\numpy\\core\\fromnumeric.py:3504: RuntimeWarning: Mean of empty slice.\n",
      "  return _methods._mean(a, axis=axis, dtype=dtype,\n",
      "C:\\Users\\shailaja.akella\\Anaconda3\\envs\\npc_sessions2\\lib\\site-packages\\numpy\\core\\fromnumeric.py:3504: RuntimeWarning: Mean of empty slice.\n",
      "  return _methods._mean(a, axis=axis, dtype=dtype,\n",
      "C:\\Users\\shailaja.akella\\Anaconda3\\envs\\npc_sessions2\\lib\\site-packages\\numpy\\core\\fromnumeric.py:3504: RuntimeWarning: Mean of empty slice.\n",
      "  return _methods._mean(a, axis=axis, dtype=dtype,\n",
      "C:\\Users\\shailaja.akella\\Anaconda3\\envs\\npc_sessions2\\lib\\site-packages\\numpy\\core\\fromnumeric.py:3504: RuntimeWarning: Mean of empty slice.\n",
      "  return _methods._mean(a, axis=axis, dtype=dtype,\n",
      "C:\\Users\\shailaja.akella\\Anaconda3\\envs\\npc_sessions2\\lib\\site-packages\\numpy\\core\\fromnumeric.py:3504: RuntimeWarning: Mean of empty slice.\n",
      "  return _methods._mean(a, axis=axis, dtype=dtype,\n",
      "C:\\Users\\shailaja.akella\\Anaconda3\\envs\\npc_sessions2\\lib\\site-packages\\numpy\\core\\fromnumeric.py:3504: RuntimeWarning: Mean of empty slice.\n",
      "  return _methods._mean(a, axis=axis, dtype=dtype,\n"
     ]
    },
    {
     "name": "stdout",
     "output_type": "stream",
     "text": [
      "finished session: 668759_2023-07-12\n",
      "session time:  2.6026270389556885  seconds;  total time: 213.99211478233337  seconds\n"
     ]
    },
    {
     "name": "stderr",
     "output_type": "stream",
     "text": [
      "C:\\Users\\shailaja.akella\\Anaconda3\\envs\\npc_sessions2\\lib\\site-packages\\numpy\\core\\fromnumeric.py:3504: RuntimeWarning: Mean of empty slice.\n",
      "  return _methods._mean(a, axis=axis, dtype=dtype,\n",
      "C:\\Users\\shailaja.akella\\Anaconda3\\envs\\npc_sessions2\\lib\\site-packages\\numpy\\core\\fromnumeric.py:3504: RuntimeWarning: Mean of empty slice.\n",
      "  return _methods._mean(a, axis=axis, dtype=dtype,\n",
      "C:\\Users\\shailaja.akella\\Anaconda3\\envs\\npc_sessions2\\lib\\site-packages\\numpy\\core\\fromnumeric.py:3504: RuntimeWarning: Mean of empty slice.\n",
      "  return _methods._mean(a, axis=axis, dtype=dtype,\n",
      "C:\\Users\\shailaja.akella\\Anaconda3\\envs\\npc_sessions2\\lib\\site-packages\\numpy\\core\\fromnumeric.py:3504: RuntimeWarning: Mean of empty slice.\n",
      "  return _methods._mean(a, axis=axis, dtype=dtype,\n",
      "C:\\Users\\shailaja.akella\\Anaconda3\\envs\\npc_sessions2\\lib\\site-packages\\numpy\\core\\fromnumeric.py:3504: RuntimeWarning: Mean of empty slice.\n",
      "  return _methods._mean(a, axis=axis, dtype=dtype,\n",
      "C:\\Users\\shailaja.akella\\Anaconda3\\envs\\npc_sessions2\\lib\\site-packages\\numpy\\core\\fromnumeric.py:3504: RuntimeWarning: Mean of empty slice.\n",
      "  return _methods._mean(a, axis=axis, dtype=dtype,\n",
      "C:\\Users\\shailaja.akella\\Anaconda3\\envs\\npc_sessions2\\lib\\site-packages\\numpy\\core\\fromnumeric.py:3504: RuntimeWarning: Mean of empty slice.\n",
      "  return _methods._mean(a, axis=axis, dtype=dtype,\n"
     ]
    },
    {
     "name": "stdout",
     "output_type": "stream",
     "text": [
      "finished session: 668759_2023-07-13\n",
      "session time:  1.9754760265350342  seconds;  total time: 215.9675908088684  seconds\n"
     ]
    },
    {
     "name": "stderr",
     "output_type": "stream",
     "text": [
      "C:\\Users\\shailaja.akella\\Anaconda3\\envs\\npc_sessions2\\lib\\site-packages\\numpy\\core\\fromnumeric.py:3504: RuntimeWarning: Mean of empty slice.\n",
      "  return _methods._mean(a, axis=axis, dtype=dtype,\n",
      "C:\\Users\\shailaja.akella\\Anaconda3\\envs\\npc_sessions2\\lib\\site-packages\\numpy\\core\\fromnumeric.py:3504: RuntimeWarning: Mean of empty slice.\n",
      "  return _methods._mean(a, axis=axis, dtype=dtype,\n",
      "C:\\Users\\shailaja.akella\\Anaconda3\\envs\\npc_sessions2\\lib\\site-packages\\numpy\\core\\fromnumeric.py:3504: RuntimeWarning: Mean of empty slice.\n",
      "  return _methods._mean(a, axis=axis, dtype=dtype,\n",
      "C:\\Users\\shailaja.akella\\Anaconda3\\envs\\npc_sessions2\\lib\\site-packages\\numpy\\core\\fromnumeric.py:3504: RuntimeWarning: Mean of empty slice.\n",
      "  return _methods._mean(a, axis=axis, dtype=dtype,\n",
      "C:\\Users\\shailaja.akella\\Anaconda3\\envs\\npc_sessions2\\lib\\site-packages\\numpy\\core\\fromnumeric.py:3504: RuntimeWarning: Mean of empty slice.\n",
      "  return _methods._mean(a, axis=axis, dtype=dtype,\n",
      "C:\\Users\\shailaja.akella\\Anaconda3\\envs\\npc_sessions2\\lib\\site-packages\\numpy\\core\\fromnumeric.py:3504: RuntimeWarning: Mean of empty slice.\n",
      "  return _methods._mean(a, axis=axis, dtype=dtype,\n",
      "C:\\Users\\shailaja.akella\\Anaconda3\\envs\\npc_sessions2\\lib\\site-packages\\numpy\\core\\fromnumeric.py:3504: RuntimeWarning: Mean of empty slice.\n",
      "  return _methods._mean(a, axis=axis, dtype=dtype,\n",
      "C:\\Users\\shailaja.akella\\Anaconda3\\envs\\npc_sessions2\\lib\\site-packages\\numpy\\core\\fromnumeric.py:3504: RuntimeWarning: Mean of empty slice.\n",
      "  return _methods._mean(a, axis=axis, dtype=dtype,\n"
     ]
    },
    {
     "name": "stdout",
     "output_type": "stream",
     "text": [
      "finished session: 670180_2023-07-26\n",
      "session time:  2.485600233078003  seconds;  total time: 218.4531910419464  seconds\n"
     ]
    },
    {
     "name": "stderr",
     "output_type": "stream",
     "text": [
      "C:\\Users\\shailaja.akella\\Anaconda3\\envs\\npc_sessions2\\lib\\site-packages\\numpy\\core\\fromnumeric.py:3504: RuntimeWarning: Mean of empty slice.\n",
      "  return _methods._mean(a, axis=axis, dtype=dtype,\n",
      "C:\\Users\\shailaja.akella\\Anaconda3\\envs\\npc_sessions2\\lib\\site-packages\\numpy\\core\\fromnumeric.py:3504: RuntimeWarning: Mean of empty slice.\n",
      "  return _methods._mean(a, axis=axis, dtype=dtype,\n",
      "C:\\Users\\shailaja.akella\\Anaconda3\\envs\\npc_sessions2\\lib\\site-packages\\numpy\\core\\fromnumeric.py:3504: RuntimeWarning: Mean of empty slice.\n",
      "  return _methods._mean(a, axis=axis, dtype=dtype,\n",
      "C:\\Users\\shailaja.akella\\Anaconda3\\envs\\npc_sessions2\\lib\\site-packages\\numpy\\core\\fromnumeric.py:3504: RuntimeWarning: Mean of empty slice.\n",
      "  return _methods._mean(a, axis=axis, dtype=dtype,\n",
      "C:\\Users\\shailaja.akella\\Anaconda3\\envs\\npc_sessions2\\lib\\site-packages\\numpy\\core\\fromnumeric.py:3504: RuntimeWarning: Mean of empty slice.\n",
      "  return _methods._mean(a, axis=axis, dtype=dtype,\n",
      "C:\\Users\\shailaja.akella\\Anaconda3\\envs\\npc_sessions2\\lib\\site-packages\\numpy\\core\\fromnumeric.py:3504: RuntimeWarning: Mean of empty slice.\n",
      "  return _methods._mean(a, axis=axis, dtype=dtype,\n",
      "C:\\Users\\shailaja.akella\\Anaconda3\\envs\\npc_sessions2\\lib\\site-packages\\numpy\\core\\fromnumeric.py:3504: RuntimeWarning: Mean of empty slice.\n",
      "  return _methods._mean(a, axis=axis, dtype=dtype,\n",
      "C:\\Users\\shailaja.akella\\Anaconda3\\envs\\npc_sessions2\\lib\\site-packages\\numpy\\core\\fromnumeric.py:3504: RuntimeWarning: Mean of empty slice.\n",
      "  return _methods._mean(a, axis=axis, dtype=dtype,\n"
     ]
    },
    {
     "name": "stdout",
     "output_type": "stream",
     "text": [
      "finished session: 670180_2023-07-27\n",
      "session time:  2.257544755935669  seconds;  total time: 220.71073579788208  seconds\n"
     ]
    },
    {
     "name": "stderr",
     "output_type": "stream",
     "text": [
      "C:\\Users\\shailaja.akella\\Anaconda3\\envs\\npc_sessions2\\lib\\site-packages\\numpy\\core\\fromnumeric.py:3504: RuntimeWarning: Mean of empty slice.\n",
      "  return _methods._mean(a, axis=axis, dtype=dtype,\n",
      "C:\\Users\\shailaja.akella\\Anaconda3\\envs\\npc_sessions2\\lib\\site-packages\\numpy\\core\\fromnumeric.py:3504: RuntimeWarning: Mean of empty slice.\n",
      "  return _methods._mean(a, axis=axis, dtype=dtype,\n",
      "C:\\Users\\shailaja.akella\\Anaconda3\\envs\\npc_sessions2\\lib\\site-packages\\numpy\\core\\fromnumeric.py:3504: RuntimeWarning: Mean of empty slice.\n",
      "  return _methods._mean(a, axis=axis, dtype=dtype,\n",
      "C:\\Users\\shailaja.akella\\Anaconda3\\envs\\npc_sessions2\\lib\\site-packages\\numpy\\core\\fromnumeric.py:3504: RuntimeWarning: Mean of empty slice.\n",
      "  return _methods._mean(a, axis=axis, dtype=dtype,\n",
      "C:\\Users\\shailaja.akella\\Anaconda3\\envs\\npc_sessions2\\lib\\site-packages\\numpy\\core\\fromnumeric.py:3504: RuntimeWarning: Mean of empty slice.\n",
      "  return _methods._mean(a, axis=axis, dtype=dtype,\n",
      "C:\\Users\\shailaja.akella\\Anaconda3\\envs\\npc_sessions2\\lib\\site-packages\\numpy\\core\\fromnumeric.py:3504: RuntimeWarning: Mean of empty slice.\n",
      "  return _methods._mean(a, axis=axis, dtype=dtype,\n",
      "C:\\Users\\shailaja.akella\\Anaconda3\\envs\\npc_sessions2\\lib\\site-packages\\numpy\\core\\fromnumeric.py:3504: RuntimeWarning: Mean of empty slice.\n",
      "  return _methods._mean(a, axis=axis, dtype=dtype,\n"
     ]
    },
    {
     "name": "stdout",
     "output_type": "stream",
     "text": [
      "finished session: 670181_2023-07-18\n",
      "session time:  2.538611650466919  seconds;  total time: 223.249347448349  seconds\n"
     ]
    },
    {
     "name": "stderr",
     "output_type": "stream",
     "text": [
      "C:\\Users\\shailaja.akella\\Anaconda3\\envs\\npc_sessions2\\lib\\site-packages\\numpy\\core\\fromnumeric.py:3504: RuntimeWarning: Mean of empty slice.\n",
      "  return _methods._mean(a, axis=axis, dtype=dtype,\n",
      "C:\\Users\\shailaja.akella\\Anaconda3\\envs\\npc_sessions2\\lib\\site-packages\\numpy\\core\\fromnumeric.py:3504: RuntimeWarning: Mean of empty slice.\n",
      "  return _methods._mean(a, axis=axis, dtype=dtype,\n",
      "C:\\Users\\shailaja.akella\\Anaconda3\\envs\\npc_sessions2\\lib\\site-packages\\numpy\\core\\fromnumeric.py:3504: RuntimeWarning: Mean of empty slice.\n",
      "  return _methods._mean(a, axis=axis, dtype=dtype,\n",
      "C:\\Users\\shailaja.akella\\Anaconda3\\envs\\npc_sessions2\\lib\\site-packages\\numpy\\core\\fromnumeric.py:3504: RuntimeWarning: Mean of empty slice.\n",
      "  return _methods._mean(a, axis=axis, dtype=dtype,\n",
      "C:\\Users\\shailaja.akella\\Anaconda3\\envs\\npc_sessions2\\lib\\site-packages\\numpy\\core\\fromnumeric.py:3504: RuntimeWarning: Mean of empty slice.\n",
      "  return _methods._mean(a, axis=axis, dtype=dtype,\n",
      "C:\\Users\\shailaja.akella\\Anaconda3\\envs\\npc_sessions2\\lib\\site-packages\\numpy\\core\\fromnumeric.py:3504: RuntimeWarning: Mean of empty slice.\n",
      "  return _methods._mean(a, axis=axis, dtype=dtype,\n",
      "C:\\Users\\shailaja.akella\\Anaconda3\\envs\\npc_sessions2\\lib\\site-packages\\numpy\\core\\fromnumeric.py:3504: RuntimeWarning: Mean of empty slice.\n",
      "  return _methods._mean(a, axis=axis, dtype=dtype,\n"
     ]
    },
    {
     "name": "stdout",
     "output_type": "stream",
     "text": [
      "finished session: 670181_2023-07-20\n",
      "session time:  2.316559076309204  seconds;  total time: 225.5659065246582  seconds\n"
     ]
    },
    {
     "name": "stderr",
     "output_type": "stream",
     "text": [
      "C:\\Users\\shailaja.akella\\Anaconda3\\envs\\npc_sessions2\\lib\\site-packages\\numpy\\core\\fromnumeric.py:3504: RuntimeWarning: Mean of empty slice.\n",
      "  return _methods._mean(a, axis=axis, dtype=dtype,\n",
      "C:\\Users\\shailaja.akella\\Anaconda3\\envs\\npc_sessions2\\lib\\site-packages\\numpy\\core\\fromnumeric.py:3504: RuntimeWarning: Mean of empty slice.\n",
      "  return _methods._mean(a, axis=axis, dtype=dtype,\n",
      "C:\\Users\\shailaja.akella\\Anaconda3\\envs\\npc_sessions2\\lib\\site-packages\\numpy\\core\\fromnumeric.py:3504: RuntimeWarning: Mean of empty slice.\n",
      "  return _methods._mean(a, axis=axis, dtype=dtype,\n",
      "C:\\Users\\shailaja.akella\\Anaconda3\\envs\\npc_sessions2\\lib\\site-packages\\numpy\\core\\fromnumeric.py:3504: RuntimeWarning: Mean of empty slice.\n",
      "  return _methods._mean(a, axis=axis, dtype=dtype,\n",
      "C:\\Users\\shailaja.akella\\Anaconda3\\envs\\npc_sessions2\\lib\\site-packages\\numpy\\core\\fromnumeric.py:3504: RuntimeWarning: Mean of empty slice.\n",
      "  return _methods._mean(a, axis=axis, dtype=dtype,\n",
      "C:\\Users\\shailaja.akella\\Anaconda3\\envs\\npc_sessions2\\lib\\site-packages\\numpy\\core\\fromnumeric.py:3504: RuntimeWarning: Mean of empty slice.\n",
      "  return _methods._mean(a, axis=axis, dtype=dtype,\n",
      "C:\\Users\\shailaja.akella\\Anaconda3\\envs\\npc_sessions2\\lib\\site-packages\\numpy\\core\\fromnumeric.py:3504: RuntimeWarning: Mean of empty slice.\n",
      "  return _methods._mean(a, axis=axis, dtype=dtype,\n",
      "C:\\Users\\shailaja.akella\\Anaconda3\\envs\\npc_sessions2\\lib\\site-packages\\numpy\\core\\fromnumeric.py:3504: RuntimeWarning: Mean of empty slice.\n",
      "  return _methods._mean(a, axis=axis, dtype=dtype,\n"
     ]
    },
    {
     "name": "stdout",
     "output_type": "stream",
     "text": [
      "finished session: 670248_2023-08-01\n",
      "session time:  1.638395071029663  seconds;  total time: 227.20430159568787  seconds\n"
     ]
    },
    {
     "name": "stderr",
     "output_type": "stream",
     "text": [
      "C:\\Users\\shailaja.akella\\Anaconda3\\envs\\npc_sessions2\\lib\\site-packages\\numpy\\core\\fromnumeric.py:3504: RuntimeWarning: Mean of empty slice.\n",
      "  return _methods._mean(a, axis=axis, dtype=dtype,\n",
      "C:\\Users\\shailaja.akella\\Anaconda3\\envs\\npc_sessions2\\lib\\site-packages\\numpy\\core\\fromnumeric.py:3504: RuntimeWarning: Mean of empty slice.\n",
      "  return _methods._mean(a, axis=axis, dtype=dtype,\n",
      "C:\\Users\\shailaja.akella\\Anaconda3\\envs\\npc_sessions2\\lib\\site-packages\\numpy\\core\\fromnumeric.py:3504: RuntimeWarning: Mean of empty slice.\n",
      "  return _methods._mean(a, axis=axis, dtype=dtype,\n",
      "C:\\Users\\shailaja.akella\\Anaconda3\\envs\\npc_sessions2\\lib\\site-packages\\numpy\\core\\fromnumeric.py:3504: RuntimeWarning: Mean of empty slice.\n",
      "  return _methods._mean(a, axis=axis, dtype=dtype,\n",
      "C:\\Users\\shailaja.akella\\Anaconda3\\envs\\npc_sessions2\\lib\\site-packages\\numpy\\core\\fromnumeric.py:3504: RuntimeWarning: Mean of empty slice.\n",
      "  return _methods._mean(a, axis=axis, dtype=dtype,\n",
      "C:\\Users\\shailaja.akella\\Anaconda3\\envs\\npc_sessions2\\lib\\site-packages\\numpy\\core\\fromnumeric.py:3504: RuntimeWarning: Mean of empty slice.\n",
      "  return _methods._mean(a, axis=axis, dtype=dtype,\n",
      "C:\\Users\\shailaja.akella\\Anaconda3\\envs\\npc_sessions2\\lib\\site-packages\\numpy\\core\\fromnumeric.py:3504: RuntimeWarning: Mean of empty slice.\n",
      "  return _methods._mean(a, axis=axis, dtype=dtype,\n"
     ]
    },
    {
     "name": "stdout",
     "output_type": "stream",
     "text": [
      "finished session: 670248_2023-08-03\n",
      "session time:  2.071499824523926  seconds;  total time: 229.27680206298828  seconds\n",
      "finished session: 674562_2023-10-02\n",
      "session time:  1.3843333721160889  seconds;  total time: 230.66113543510437  seconds\n",
      "finished session: 674562_2023-10-03\n",
      "session time:  1.6063868999481201  seconds;  total time: 232.2675223350525  seconds\n",
      "finished session: 674562_2023-10-04\n",
      "session time:  1.760423183441162  seconds;  total time: 234.02794551849365  seconds\n",
      "finished session: 674562_2023-10-05\n",
      "session time:  1.6083884239196777  seconds;  total time: 235.63633394241333  seconds\n"
     ]
    },
    {
     "name": "stderr",
     "output_type": "stream",
     "text": [
      "C:\\Users\\shailaja.akella\\Anaconda3\\envs\\npc_sessions2\\lib\\site-packages\\numpy\\core\\fromnumeric.py:3504: RuntimeWarning: Mean of empty slice.\n",
      "  return _methods._mean(a, axis=axis, dtype=dtype,\n"
     ]
    },
    {
     "name": "stdout",
     "output_type": "stream",
     "text": [
      "finished session: 676909_2023-12-11\n",
      "session time:  1.687406301498413  seconds;  total time: 237.32374024391174  seconds\n"
     ]
    },
    {
     "name": "stderr",
     "output_type": "stream",
     "text": [
      "C:\\Users\\shailaja.akella\\Anaconda3\\envs\\npc_sessions2\\lib\\site-packages\\numpy\\core\\fromnumeric.py:3504: RuntimeWarning: Mean of empty slice.\n",
      "  return _methods._mean(a, axis=axis, dtype=dtype,\n",
      "C:\\Users\\shailaja.akella\\Anaconda3\\envs\\npc_sessions2\\lib\\site-packages\\numpy\\core\\fromnumeric.py:3504: RuntimeWarning: Mean of empty slice.\n",
      "  return _methods._mean(a, axis=axis, dtype=dtype,\n",
      "C:\\Users\\shailaja.akella\\Anaconda3\\envs\\npc_sessions2\\lib\\site-packages\\numpy\\core\\fromnumeric.py:3504: RuntimeWarning: Mean of empty slice.\n",
      "  return _methods._mean(a, axis=axis, dtype=dtype,\n"
     ]
    },
    {
     "name": "stdout",
     "output_type": "stream",
     "text": [
      "finished session: 676909_2023-12-12\n",
      "session time:  2.3585681915283203  seconds;  total time: 239.68230843544006  seconds\n",
      "finished session: 676909_2023-12-13\n",
      "session time:  1.5023620128631592  seconds;  total time: 241.18467044830322  seconds\n"
     ]
    },
    {
     "name": "stderr",
     "output_type": "stream",
     "text": [
      "C:\\Users\\shailaja.akella\\Anaconda3\\envs\\npc_sessions2\\lib\\site-packages\\numpy\\core\\fromnumeric.py:3504: RuntimeWarning: Mean of empty slice.\n",
      "  return _methods._mean(a, axis=axis, dtype=dtype,\n"
     ]
    },
    {
     "name": "stdout",
     "output_type": "stream",
     "text": [
      "finished session: 676909_2023-12-14\n",
      "session time:  2.3155574798583984  seconds;  total time: 243.50022792816162  seconds\n",
      "finished session: 681532_2023-10-16\n",
      "session time:  1.8954567909240723  seconds;  total time: 245.3956847190857  seconds\n",
      "finished session: 681532_2023-10-17\n",
      "session time:  1.7584233283996582  seconds;  total time: 247.15410804748535  seconds\n",
      "finished session: 681532_2023-10-18\n",
      "session time:  2.300554037094116  seconds;  total time: 249.45466208457947  seconds\n",
      "finished session: 681532_2023-10-19\n",
      "session time:  1.926464319229126  seconds;  total time: 251.3811264038086  seconds\n",
      "finished session: 686176_2023-12-04\n",
      "session time:  1.5543742179870605  seconds;  total time: 252.93550062179565  seconds\n",
      "finished session: 686176_2023-12-05\n",
      "session time:  2.169522762298584  seconds;  total time: 255.10502338409424  seconds\n",
      "finished session: 686176_2023-12-06\n",
      "session time:  1.8434436321258545  seconds;  total time: 256.9484670162201  seconds\n",
      "finished session: 686176_2023-12-07\n",
      "session time:  1.604386568069458  seconds;  total time: 258.55285358428955  seconds\n",
      "finished session: 686740_2023-10-23\n",
      "session time:  1.9964807033538818  seconds;  total time: 260.5503349304199  seconds\n",
      "finished session: 686740_2023-10-24\n",
      "session time:  2.067497730255127  seconds;  total time: 262.628835439682  seconds\n",
      "finished session: 686740_2023-10-25\n",
      "session time:  1.3803322315216064  seconds;  total time: 264.01016783714294  seconds\n",
      "finished session: 686740_2023-10-26\n",
      "session time:  2.134514570236206  seconds;  total time: 266.14468240737915  seconds\n",
      "finished session: 690706_2023-11-27\n",
      "session time:  2.1015055179595947  seconds;  total time: 268.2471888065338  seconds\n",
      "finished session: 690706_2023-11-28\n",
      "session time:  1.5083630084991455  seconds;  total time: 269.75555181503296  seconds\n",
      "finished session: 690706_2023-11-29\n",
      "session time:  2.064497232437134  seconds;  total time: 271.8200490474701  seconds\n",
      "finished session: 690706_2023-11-30\n",
      "session time:  1.315316915512085  seconds;  total time: 273.1353659629822  seconds\n",
      "finished session: 702131_2024-02-26\n",
      "session time:  1.8164377212524414  seconds;  total time: 274.9518036842346  seconds\n",
      "finished session: 702136_2024-03-05\n",
      "session time:  2.390575408935547  seconds;  total time: 277.34237909317017  seconds\n",
      "finished session: 702136_2024-03-06\n",
      "session time:  1.9074599742889404  seconds;  total time: 279.2498390674591  seconds\n",
      "finished session: 702136_2024-03-07\n",
      "session time:  1.327319622039795  seconds;  total time: 280.5771586894989  seconds\n"
     ]
    },
    {
     "name": "stderr",
     "output_type": "stream",
     "text": [
      "C:\\Users\\shailaja.akella\\Anaconda3\\envs\\npc_sessions2\\lib\\site-packages\\numpy\\core\\fromnumeric.py:3504: RuntimeWarning: Mean of empty slice.\n",
      "  return _methods._mean(a, axis=axis, dtype=dtype,\n"
     ]
    },
    {
     "name": "stdout",
     "output_type": "stream",
     "text": [
      "finished session: 703333_2024-04-08\n",
      "session time:  1.2422993183135986  seconds;  total time: 281.8194580078125  seconds\n"
     ]
    },
    {
     "name": "stderr",
     "output_type": "stream",
     "text": [
      "C:\\Users\\shailaja.akella\\Anaconda3\\envs\\npc_sessions2\\lib\\site-packages\\numpy\\core\\fromnumeric.py:3504: RuntimeWarning: Mean of empty slice.\n",
      "  return _methods._mean(a, axis=axis, dtype=dtype,\n"
     ]
    },
    {
     "name": "stdout",
     "output_type": "stream",
     "text": [
      "failed to load session: 703333_2024-04-09\n",
      "finished session: 703880_2024-04-15\n",
      "session time:  1.847444772720337  seconds;  total time: 285.29729533195496  seconds\n",
      "finished session: 703880_2024-04-17\n",
      "session time:  1.4123401641845703  seconds;  total time: 286.7096354961395  seconds\n",
      "finished session: 703880_2024-04-18\n",
      "session time:  2.1645214557647705  seconds;  total time: 288.8741569519043  seconds\n",
      "finished session: 703882_2024-04-25\n",
      "session time:  2.076500177383423  seconds;  total time: 290.9506571292877  seconds\n",
      "finished session: 706401_2024-04-22\n",
      "session time:  2.0464932918548584  seconds;  total time: 292.99815034866333  seconds\n",
      "finished session: 708016_2024-04-29\n",
      "session time:  1.2983124256134033  seconds;  total time: 294.29646277427673  seconds\n",
      "finished session: 708016_2024-04-30\n",
      "session time:  2.342564582824707  seconds;  total time: 296.63902735710144  seconds\n",
      "finished session: 708016_2024-05-01\n",
      "session time:  1.8754518032073975  seconds;  total time: 298.51547932624817  seconds\n",
      "finished session: 708016_2024-05-02\n",
      "session time:  1.2172932624816895  seconds;  total time: 299.7337727546692  seconds\n",
      "finished session: 712815_2024-05-21\n",
      "session time:  1.8954567909240723  seconds;  total time: 301.62922954559326  seconds\n",
      "finished session: 712815_2024-05-22\n",
      "session time:  2.0314888954162598  seconds;  total time: 303.6607184410095  seconds\n",
      "finished session: 712815_2024-05-23\n",
      "session time:  1.4923591613769531  seconds;  total time: 305.1530776023865  seconds\n",
      "finished session: 713655_2024-08-05\n",
      "session time:  1.8414428234100342  seconds;  total time: 306.9945204257965  seconds\n",
      "finished session: 713655_2024-08-06\n",
      "session time:  2.2745487689971924  seconds;  total time: 309.2700698375702  seconds\n",
      "finished session: 713655_2024-08-07\n",
      "session time:  1.211292028427124  seconds;  total time: 310.48236179351807  seconds\n",
      "finished session: 713655_2024-08-08\n",
      "session time:  2.140514373779297  seconds;  total time: 312.62287616729736  seconds\n",
      "finished session: 714748_2024-06-24\n",
      "session time:  1.6724040508270264  seconds;  total time: 314.2952802181244  seconds\n",
      "finished session: 714748_2024-06-26\n",
      "session time:  1.8534457683563232  seconds;  total time: 316.1487259864807  seconds\n",
      "finished session: 714748_2024-06-27\n",
      "session time:  1.602386713027954  seconds;  total time: 317.75111269950867  seconds\n",
      "finished session: 714753_2024-07-01\n",
      "session time:  2.068498373031616  seconds;  total time: 319.8206112384796  seconds\n",
      "finished session: 714753_2024-07-02\n",
      "session time:  1.950469732284546  seconds;  total time: 321.77108097076416  seconds\n",
      "finished session: 715710_2024-07-15\n",
      "session time:  1.755422592163086  seconds;  total time: 323.52650356292725  seconds\n",
      "finished session: 715710_2024-07-16\n",
      "session time:  2.0244877338409424  seconds;  total time: 325.5509912967682  seconds\n",
      "finished session: 715710_2024-07-17\n",
      "session time:  2.3725717067718506  seconds;  total time: 327.92456316947937  seconds\n",
      "finished session: 715710_2024-07-18\n",
      "session time:  1.6654009819030762  seconds;  total time: 329.58996415138245  seconds\n",
      "finished session: 715710_2024-07-19\n",
      "session time:  1.939467430114746  seconds;  total time: 331.5294315814972  seconds\n",
      "finished session: 726088_2024-06-17\n",
      "session time:  1.673403024673462  seconds;  total time: 333.20283460617065  seconds\n",
      "finished session: 726088_2024-06-18\n",
      "session time:  1.5843818187713623  seconds;  total time: 334.787216424942  seconds\n"
     ]
    },
    {
     "name": "stderr",
     "output_type": "stream",
     "text": [
      "C:\\Users\\shailaja.akella\\Anaconda3\\envs\\npc_sessions2\\lib\\site-packages\\numpy\\core\\fromnumeric.py:3504: RuntimeWarning: Mean of empty slice.\n",
      "  return _methods._mean(a, axis=axis, dtype=dtype,\n"
     ]
    },
    {
     "name": "stdout",
     "output_type": "stream",
     "text": [
      "finished session: 726088_2024-06-20\n",
      "session time:  2.100506067276001  seconds;  total time: 336.88872265815735  seconds\n",
      "finished session: 726088_2024-06-21\n",
      "session time:  1.4173412322998047  seconds;  total time: 338.30606389045715  seconds\n"
     ]
    }
   ],
   "source": [
    "# load all trialwise decoding results, option to concatenate all sessions\n",
    "concat_session_results=True\n",
    "save_tables=True\n",
    "return_table=True\n",
    "if save_tables:\n",
    "    savepath=savepath\n",
    "else:\n",
    "    savepath=None\n",
    "\n",
    "if concat_session_results:\n",
    "    combined_results=decoding_utils.concat_trialwise_decoder_results(files,savepath=savepath,return_table=return_table)\n",
    "    if return_table:\n",
    "        decoder_confidence_versus_response_type=combined_results[0]\n",
    "        decoder_confidence_dprime_by_block=combined_results[1]\n",
    "        decoder_confidence_by_switch=combined_results[2]\n",
    "        decoder_confidence_versus_trials_since_rewarded_target=combined_results[3]\n",
    "        decoder_confidence_before_after_target=combined_results[4]\n",
    "else:\n",
    "    decoder_confidence_versus_response_type=pd.read_csv(os.path.join(savepath,'decoder_confidence_versus_response_type.csv'))\n",
    "    decoder_confidence_dprime_by_block=pd.read_csv(os.path.join(savepath,'decoder_confidence_dprime_by_block.csv'))\n",
    "    decoder_confidence_by_switch=pd.read_csv(os.path.join(savepath,'decoder_confidence_by_switch.csv'))\n",
    "    decoder_confidence_versus_trials_since_rewarded_target=pd.read_csv(os.path.join(loadpath,'decoder_confidence_versus_trials_since_rewarded_target.csv'))\n",
    "    decoder_confidence_before_after_target=pd.read_csv(os.path.join(loadpath,'decoder_confidence_before_after_target.csv'))"
   ]
  },
  {
   "cell_type": "code",
   "execution_count": 9,
   "id": "d1962724-4274-460a-8fc8-f29d5e3d207d",
   "metadata": {},
   "outputs": [],
   "source": [
    "decoder_confidence_versus_response_type=combined_results[0]\n",
    "decoder_confidence_dprime_by_block=combined_results[1]\n",
    "decoder_confidence_by_switch=combined_results[2]\n",
    "decoder_confidence_versus_trials_since_rewarded_target=combined_results[3]\n",
    "decoder_confidence_before_after_target=combined_results[4]"
   ]
  },
  {
   "cell_type": "code",
   "execution_count": 10,
   "id": "586b3cb6-c24a-4994-acaf-2f3dca2fc419",
   "metadata": {},
   "outputs": [
    {
     "data": {
      "text/html": [
       "<div>\n",
       "<style scoped>\n",
       "    .dataframe tbody tr th:only-of-type {\n",
       "        vertical-align: middle;\n",
       "    }\n",
       "\n",
       "    .dataframe tbody tr th {\n",
       "        vertical-align: top;\n",
       "    }\n",
       "\n",
       "    .dataframe thead th {\n",
       "        text-align: right;\n",
       "    }\n",
       "</style>\n",
       "<table border=\"1\" class=\"dataframe\">\n",
       "  <thead>\n",
       "    <tr style=\"text-align: right;\">\n",
       "      <th></th>\n",
       "      <th>session</th>\n",
       "      <th>area</th>\n",
       "      <th>project</th>\n",
       "      <th>vis_context_dprime</th>\n",
       "      <th>vis_hit_confidence</th>\n",
       "      <th>vis_fa_confidence</th>\n",
       "      <th>vis_cr_confidence</th>\n",
       "      <th>aud_context_dprime</th>\n",
       "      <th>aud_hit_confidence</th>\n",
       "      <th>aud_fa_confidence</th>\n",
       "      <th>...</th>\n",
       "      <th>n_good_blocks</th>\n",
       "      <th>correct_confidence</th>\n",
       "      <th>incorrect_confidence</th>\n",
       "      <th>cr_all_confidence</th>\n",
       "      <th>fa_all_condfidence</th>\n",
       "      <th>hit_all_confidence</th>\n",
       "      <th>ccf_ap_mean</th>\n",
       "      <th>ccf_dv_mean</th>\n",
       "      <th>ccf_ml_mean</th>\n",
       "      <th>n_units</th>\n",
       "    </tr>\n",
       "  </thead>\n",
       "  <tbody>\n",
       "    <tr>\n",
       "      <th>0</th>\n",
       "      <td>620263_2022-07-26</td>\n",
       "      <td>0</td>\n",
       "      <td>TempletonPilotSession</td>\n",
       "      <td>NaN</td>\n",
       "      <td>0.004754</td>\n",
       "      <td>NaN</td>\n",
       "      <td>NaN</td>\n",
       "      <td>NaN</td>\n",
       "      <td>NaN</td>\n",
       "      <td>NaN</td>\n",
       "      <td>...</td>\n",
       "      <td>0</td>\n",
       "      <td>0.004754</td>\n",
       "      <td>-0.083236</td>\n",
       "      <td>NaN</td>\n",
       "      <td>NaN</td>\n",
       "      <td>0.004754</td>\n",
       "      <td>NaN</td>\n",
       "      <td>NaN</td>\n",
       "      <td>NaN</td>\n",
       "      <td>NaN</td>\n",
       "    </tr>\n",
       "    <tr>\n",
       "      <th>1</th>\n",
       "      <td>620263_2022-07-27</td>\n",
       "      <td>0</td>\n",
       "      <td>TempletonPilotSession</td>\n",
       "      <td>NaN</td>\n",
       "      <td>-0.017688</td>\n",
       "      <td>NaN</td>\n",
       "      <td>NaN</td>\n",
       "      <td>NaN</td>\n",
       "      <td>NaN</td>\n",
       "      <td>NaN</td>\n",
       "      <td>...</td>\n",
       "      <td>0</td>\n",
       "      <td>-0.017688</td>\n",
       "      <td>0.064370</td>\n",
       "      <td>NaN</td>\n",
       "      <td>NaN</td>\n",
       "      <td>-0.017688</td>\n",
       "      <td>NaN</td>\n",
       "      <td>NaN</td>\n",
       "      <td>NaN</td>\n",
       "      <td>NaN</td>\n",
       "    </tr>\n",
       "    <tr>\n",
       "      <th>2</th>\n",
       "      <td>620264_2022-08-02</td>\n",
       "      <td>0</td>\n",
       "      <td>TempletonPilotSession</td>\n",
       "      <td>NaN</td>\n",
       "      <td>NaN</td>\n",
       "      <td>NaN</td>\n",
       "      <td>NaN</td>\n",
       "      <td>NaN</td>\n",
       "      <td>0.008507</td>\n",
       "      <td>NaN</td>\n",
       "      <td>...</td>\n",
       "      <td>0</td>\n",
       "      <td>-0.008507</td>\n",
       "      <td>NaN</td>\n",
       "      <td>NaN</td>\n",
       "      <td>NaN</td>\n",
       "      <td>-0.008507</td>\n",
       "      <td>NaN</td>\n",
       "      <td>NaN</td>\n",
       "      <td>NaN</td>\n",
       "      <td>NaN</td>\n",
       "    </tr>\n",
       "    <tr>\n",
       "      <th>3</th>\n",
       "      <td>626791_2022-08-15</td>\n",
       "      <td>0</td>\n",
       "      <td>DynamicRouting</td>\n",
       "      <td>2.974365</td>\n",
       "      <td>0.149266</td>\n",
       "      <td>-0.185916</td>\n",
       "      <td>0.114593</td>\n",
       "      <td>1.991225</td>\n",
       "      <td>-0.039765</td>\n",
       "      <td>-0.152170</td>\n",
       "      <td>...</td>\n",
       "      <td>5</td>\n",
       "      <td>0.104878</td>\n",
       "      <td>0.001110</td>\n",
       "      <td>0.120724</td>\n",
       "      <td>0.001110</td>\n",
       "      <td>0.097814</td>\n",
       "      <td>NaN</td>\n",
       "      <td>NaN</td>\n",
       "      <td>NaN</td>\n",
       "      <td>NaN</td>\n",
       "    </tr>\n",
       "    <tr>\n",
       "      <th>4</th>\n",
       "      <td>626791_2022-08-16</td>\n",
       "      <td>0</td>\n",
       "      <td>DynamicRouting</td>\n",
       "      <td>2.417437</td>\n",
       "      <td>-0.018506</td>\n",
       "      <td>-0.073512</td>\n",
       "      <td>0.339289</td>\n",
       "      <td>1.240016</td>\n",
       "      <td>-0.108612</td>\n",
       "      <td>0.015081</td>\n",
       "      <td>...</td>\n",
       "      <td>4</td>\n",
       "      <td>0.098966</td>\n",
       "      <td>-0.065386</td>\n",
       "      <td>0.240208</td>\n",
       "      <td>-0.047161</td>\n",
       "      <td>0.040402</td>\n",
       "      <td>NaN</td>\n",
       "      <td>NaN</td>\n",
       "      <td>NaN</td>\n",
       "      <td>NaN</td>\n",
       "    </tr>\n",
       "    <tr>\n",
       "      <th>...</th>\n",
       "      <td>...</td>\n",
       "      <td>...</td>\n",
       "      <td>...</td>\n",
       "      <td>...</td>\n",
       "      <td>...</td>\n",
       "      <td>...</td>\n",
       "      <td>...</td>\n",
       "      <td>...</td>\n",
       "      <td>...</td>\n",
       "      <td>...</td>\n",
       "      <td>...</td>\n",
       "      <td>...</td>\n",
       "      <td>...</td>\n",
       "      <td>...</td>\n",
       "      <td>...</td>\n",
       "      <td>...</td>\n",
       "      <td>...</td>\n",
       "      <td>...</td>\n",
       "      <td>...</td>\n",
       "      <td>...</td>\n",
       "      <td>...</td>\n",
       "    </tr>\n",
       "    <tr>\n",
       "      <th>107</th>\n",
       "      <td>715710_2024-07-19</td>\n",
       "      <td>0</td>\n",
       "      <td>DynamicRouting</td>\n",
       "      <td>2.003943</td>\n",
       "      <td>0.145836</td>\n",
       "      <td>0.056292</td>\n",
       "      <td>0.192564</td>\n",
       "      <td>1.834303</td>\n",
       "      <td>-0.067567</td>\n",
       "      <td>0.043008</td>\n",
       "      <td>...</td>\n",
       "      <td>5</td>\n",
       "      <td>0.127265</td>\n",
       "      <td>0.035620</td>\n",
       "      <td>0.153253</td>\n",
       "      <td>0.011371</td>\n",
       "      <td>0.110342</td>\n",
       "      <td>NaN</td>\n",
       "      <td>NaN</td>\n",
       "      <td>NaN</td>\n",
       "      <td>NaN</td>\n",
       "    </tr>\n",
       "    <tr>\n",
       "      <th>108</th>\n",
       "      <td>726088_2024-06-17</td>\n",
       "      <td>0</td>\n",
       "      <td>DynamicRouting</td>\n",
       "      <td>0.910772</td>\n",
       "      <td>-0.003553</td>\n",
       "      <td>0.017521</td>\n",
       "      <td>0.098794</td>\n",
       "      <td>0.000000</td>\n",
       "      <td>-0.077922</td>\n",
       "      <td>-0.044372</td>\n",
       "      <td>...</td>\n",
       "      <td>0</td>\n",
       "      <td>0.049312</td>\n",
       "      <td>0.006053</td>\n",
       "      <td>0.066890</td>\n",
       "      <td>0.032213</td>\n",
       "      <td>0.038639</td>\n",
       "      <td>NaN</td>\n",
       "      <td>NaN</td>\n",
       "      <td>NaN</td>\n",
       "      <td>NaN</td>\n",
       "    </tr>\n",
       "    <tr>\n",
       "      <th>109</th>\n",
       "      <td>726088_2024-06-18</td>\n",
       "      <td>0</td>\n",
       "      <td>DynamicRouting</td>\n",
       "      <td>0.992542</td>\n",
       "      <td>0.162414</td>\n",
       "      <td>0.392218</td>\n",
       "      <td>0.268592</td>\n",
       "      <td>-0.063641</td>\n",
       "      <td>-0.476348</td>\n",
       "      <td>-0.328085</td>\n",
       "      <td>...</td>\n",
       "      <td>0</td>\n",
       "      <td>0.315313</td>\n",
       "      <td>0.369237</td>\n",
       "      <td>0.437295</td>\n",
       "      <td>0.360152</td>\n",
       "      <td>0.301129</td>\n",
       "      <td>NaN</td>\n",
       "      <td>NaN</td>\n",
       "      <td>NaN</td>\n",
       "      <td>NaN</td>\n",
       "    </tr>\n",
       "    <tr>\n",
       "      <th>110</th>\n",
       "      <td>726088_2024-06-20</td>\n",
       "      <td>0</td>\n",
       "      <td>DynamicRouting</td>\n",
       "      <td>-0.610612</td>\n",
       "      <td>0.110972</td>\n",
       "      <td>0.114010</td>\n",
       "      <td>NaN</td>\n",
       "      <td>0.342748</td>\n",
       "      <td>-0.038394</td>\n",
       "      <td>-0.206645</td>\n",
       "      <td>...</td>\n",
       "      <td>1</td>\n",
       "      <td>0.103385</td>\n",
       "      <td>0.163373</td>\n",
       "      <td>0.558072</td>\n",
       "      <td>0.155051</td>\n",
       "      <td>0.075995</td>\n",
       "      <td>NaN</td>\n",
       "      <td>NaN</td>\n",
       "      <td>NaN</td>\n",
       "      <td>NaN</td>\n",
       "    </tr>\n",
       "    <tr>\n",
       "      <th>111</th>\n",
       "      <td>726088_2024-06-21</td>\n",
       "      <td>0</td>\n",
       "      <td>DynamicRouting</td>\n",
       "      <td>1.915192</td>\n",
       "      <td>0.156107</td>\n",
       "      <td>0.269513</td>\n",
       "      <td>0.133308</td>\n",
       "      <td>0.678412</td>\n",
       "      <td>-0.031664</td>\n",
       "      <td>-0.154825</td>\n",
       "      <td>...</td>\n",
       "      <td>4</td>\n",
       "      <td>0.101714</td>\n",
       "      <td>0.180534</td>\n",
       "      <td>0.117939</td>\n",
       "      <td>0.188188</td>\n",
       "      <td>0.094540</td>\n",
       "      <td>NaN</td>\n",
       "      <td>NaN</td>\n",
       "      <td>NaN</td>\n",
       "      <td>NaN</td>\n",
       "    </tr>\n",
       "  </tbody>\n",
       "</table>\n",
       "<p>112 rows × 22 columns</p>\n",
       "</div>"
      ],
      "text/plain": [
       "               session  area                project  vis_context_dprime  \\\n",
       "0    620263_2022-07-26     0  TempletonPilotSession                 NaN   \n",
       "1    620263_2022-07-27     0  TempletonPilotSession                 NaN   \n",
       "2    620264_2022-08-02     0  TempletonPilotSession                 NaN   \n",
       "3    626791_2022-08-15     0         DynamicRouting            2.974365   \n",
       "4    626791_2022-08-16     0         DynamicRouting            2.417437   \n",
       "..                 ...   ...                    ...                 ...   \n",
       "107  715710_2024-07-19     0         DynamicRouting            2.003943   \n",
       "108  726088_2024-06-17     0         DynamicRouting            0.910772   \n",
       "109  726088_2024-06-18     0         DynamicRouting            0.992542   \n",
       "110  726088_2024-06-20     0         DynamicRouting           -0.610612   \n",
       "111  726088_2024-06-21     0         DynamicRouting            1.915192   \n",
       "\n",
       "     vis_hit_confidence  vis_fa_confidence  vis_cr_confidence  \\\n",
       "0              0.004754                NaN                NaN   \n",
       "1             -0.017688                NaN                NaN   \n",
       "2                   NaN                NaN                NaN   \n",
       "3              0.149266          -0.185916           0.114593   \n",
       "4             -0.018506          -0.073512           0.339289   \n",
       "..                  ...                ...                ...   \n",
       "107            0.145836           0.056292           0.192564   \n",
       "108           -0.003553           0.017521           0.098794   \n",
       "109            0.162414           0.392218           0.268592   \n",
       "110            0.110972           0.114010                NaN   \n",
       "111            0.156107           0.269513           0.133308   \n",
       "\n",
       "     aud_context_dprime  aud_hit_confidence  aud_fa_confidence  ...  \\\n",
       "0                   NaN                 NaN                NaN  ...   \n",
       "1                   NaN                 NaN                NaN  ...   \n",
       "2                   NaN            0.008507                NaN  ...   \n",
       "3              1.991225           -0.039765          -0.152170  ...   \n",
       "4              1.240016           -0.108612           0.015081  ...   \n",
       "..                  ...                 ...                ...  ...   \n",
       "107            1.834303           -0.067567           0.043008  ...   \n",
       "108            0.000000           -0.077922          -0.044372  ...   \n",
       "109           -0.063641           -0.476348          -0.328085  ...   \n",
       "110            0.342748           -0.038394          -0.206645  ...   \n",
       "111            0.678412           -0.031664          -0.154825  ...   \n",
       "\n",
       "     n_good_blocks  correct_confidence  incorrect_confidence  \\\n",
       "0                0            0.004754             -0.083236   \n",
       "1                0           -0.017688              0.064370   \n",
       "2                0           -0.008507                   NaN   \n",
       "3                5            0.104878              0.001110   \n",
       "4                4            0.098966             -0.065386   \n",
       "..             ...                 ...                   ...   \n",
       "107              5            0.127265              0.035620   \n",
       "108              0            0.049312              0.006053   \n",
       "109              0            0.315313              0.369237   \n",
       "110              1            0.103385              0.163373   \n",
       "111              4            0.101714              0.180534   \n",
       "\n",
       "     cr_all_confidence  fa_all_condfidence  hit_all_confidence  ccf_ap_mean  \\\n",
       "0                  NaN                 NaN            0.004754          NaN   \n",
       "1                  NaN                 NaN           -0.017688          NaN   \n",
       "2                  NaN                 NaN           -0.008507          NaN   \n",
       "3             0.120724            0.001110            0.097814          NaN   \n",
       "4             0.240208           -0.047161            0.040402          NaN   \n",
       "..                 ...                 ...                 ...          ...   \n",
       "107           0.153253            0.011371            0.110342          NaN   \n",
       "108           0.066890            0.032213            0.038639          NaN   \n",
       "109           0.437295            0.360152            0.301129          NaN   \n",
       "110           0.558072            0.155051            0.075995          NaN   \n",
       "111           0.117939            0.188188            0.094540          NaN   \n",
       "\n",
       "     ccf_dv_mean  ccf_ml_mean  n_units  \n",
       "0            NaN          NaN      NaN  \n",
       "1            NaN          NaN      NaN  \n",
       "2            NaN          NaN      NaN  \n",
       "3            NaN          NaN      NaN  \n",
       "4            NaN          NaN      NaN  \n",
       "..           ...          ...      ...  \n",
       "107          NaN          NaN      NaN  \n",
       "108          NaN          NaN      NaN  \n",
       "109          NaN          NaN      NaN  \n",
       "110          NaN          NaN      NaN  \n",
       "111          NaN          NaN      NaN  \n",
       "\n",
       "[112 rows x 22 columns]"
      ]
     },
     "execution_count": 10,
     "metadata": {},
     "output_type": "execute_result"
    }
   ],
   "source": [
    "combined_results[0]"
   ]
  },
  {
   "cell_type": "code",
   "execution_count": 26,
   "id": "e1fb8b0c-c586-42e4-8f45-6b1fe092f0c1",
   "metadata": {},
   "outputs": [
    {
     "data": {
      "text/plain": [
       "31"
      ]
     },
     "execution_count": 26,
     "metadata": {},
     "output_type": "execute_result"
    }
   ],
   "source": [
    "len(np.unique([s[:6] for s in combined_results[0][combined_results[0].project == 'DynamicRouting'].session]))"
   ]
  },
  {
   "cell_type": "code",
   "execution_count": 17,
   "id": "94b69da0-11c7-4c1d-bc8d-8362a86c2abb",
   "metadata": {},
   "outputs": [],
   "source": [
    "mouse_ids_all = ['626791', '636766', '644864', '644866', '644867', '649943',\n",
    "       '660023', '662892', '664851', '666986', '668755', '674562',\n",
    "       '676909', '681532', '686176', '686740', '690706', '699847',\n",
    "       '702131', '702136', '703333', '703880', '703882', '706401',\n",
    "       '708016', '712815', '713655', '714748', '714753', '715710',\n",
    "       '726088']"
   ]
  },
  {
   "cell_type": "code",
   "execution_count": 19,
   "id": "925d15d2-fdaa-4138-947c-aac581b524fa",
   "metadata": {},
   "outputs": [
    {
     "data": {
      "text/plain": [
       "array(['626791', '636766', '644864', '644866', '644867', '649943',\n",
       "       '660023', '662892', '664851', '666986', '667252', '668755',\n",
       "       '674562', '676909', '681532', '686176', '686740', '690706',\n",
       "       '702131', '702136', '703333', '703882', '708016', '712815',\n",
       "       '713655', '714748', '714753', '715710', '726088'], dtype='<U6')"
      ]
     },
     "execution_count": 19,
     "metadata": {},
     "output_type": "execute_result"
    }
   ],
   "source": [
    "np.unique([s[:6] for s in combined_results[0][combined_results[0].project == 'DynamicRouting'].session])"
   ]
  },
  {
   "cell_type": "code",
   "execution_count": 28,
   "id": "c39d4352-dfdc-4e28-a98b-366da78accde",
   "metadata": {},
   "outputs": [
    {
     "data": {
      "text/plain": [
       "97"
      ]
     },
     "execution_count": 28,
     "metadata": {},
     "output_type": "execute_result"
    }
   ],
   "source": [
    "len(combined_results[0][combined_results[0].project == 'DynamicRouting'])"
   ]
  },
  {
   "cell_type": "code",
   "execution_count": 31,
   "id": "96e20c6c-61e1-4d1f-88cd-de92c277113d",
   "metadata": {},
   "outputs": [
    {
     "data": {
      "text/plain": [
       "array(['626791_2022-08-15', '626791_2022-08-16', '626791_2022-08-17',\n",
       "       '636766_2023-01-23', '636766_2023-01-24', '636766_2023-01-25',\n",
       "       '636766_2023-01-26', '644864_2023-01-30', '644864_2023-01-31',\n",
       "       '644866_2023-02-07', '644866_2023-02-08', '644866_2023-02-09',\n",
       "       '644866_2023-02-10', '644867_2023-02-20', '644867_2023-02-22',\n",
       "       '649943_2023-02-14', '649943_2023-02-15', '649943_2023-02-16',\n",
       "       '660023_2023-08-09', '662892_2023-08-21', '662892_2023-08-22',\n",
       "       '662892_2023-08-23', '662892_2023-08-24', '664851_2023-11-13',\n",
       "       '664851_2023-11-14', '664851_2023-11-15', '664851_2023-11-16',\n",
       "       '666986_2023-08-14', '666986_2023-08-15', '666986_2023-08-16',\n",
       "       '666986_2023-08-17', '667252_2023-09-26', '667252_2023-09-27',\n",
       "       '667252_2023-09-28', '668755_2023-08-29', '668755_2023-08-30',\n",
       "       '668755_2023-08-31', '674562_2023-10-02', '674562_2023-10-03',\n",
       "       '674562_2023-10-04', '674562_2023-10-05', '676909_2023-12-11',\n",
       "       '676909_2023-12-12', '676909_2023-12-13', '676909_2023-12-14',\n",
       "       '681532_2023-10-16', '681532_2023-10-17', '681532_2023-10-18',\n",
       "       '681532_2023-10-19', '686176_2023-12-04', '686176_2023-12-05',\n",
       "       '686176_2023-12-06', '686176_2023-12-07', '686740_2023-10-23',\n",
       "       '686740_2023-10-24', '686740_2023-10-25', '686740_2023-10-26',\n",
       "       '690706_2023-11-27', '690706_2023-11-28', '690706_2023-11-29',\n",
       "       '690706_2023-11-30', '702131_2024-02-26', '702136_2024-03-05',\n",
       "       '702136_2024-03-06', '702136_2024-03-07', '703333_2024-04-08',\n",
       "       '703333_2024-04-09', '703880_2024-04-15', '703880_2024-04-17',\n",
       "       '703880_2024-04-18', '703882_2024-04-25', '706401_2024-04-22',\n",
       "       '708016_2024-04-29', '708016_2024-04-30', '708016_2024-05-01',\n",
       "       '708016_2024-05-02', '712815_2024-05-21', '712815_2024-05-22',\n",
       "       '712815_2024-05-23', '713655_2024-08-05', '713655_2024-08-06',\n",
       "       '713655_2024-08-07', '713655_2024-08-08', '714748_2024-06-24',\n",
       "       '714748_2024-06-26', '714748_2024-06-27', '714753_2024-07-01',\n",
       "       '714753_2024-07-02', '715710_2024-07-15', '715710_2024-07-16',\n",
       "       '715710_2024-07-17', '715710_2024-07-18', '715710_2024-07-19',\n",
       "       '726088_2024-06-17', '726088_2024-06-18', '726088_2024-06-20',\n",
       "       '726088_2024-06-21'], dtype=object)"
      ]
     },
     "execution_count": 31,
     "metadata": {},
     "output_type": "execute_result"
    }
   ],
   "source": [
    "combined_results[0][combined_results[0].project == 'DynamicRouting'].session.unique()"
   ]
  },
  {
   "cell_type": "code",
   "execution_count": null,
   "id": "eebb7ea7-efa1-4fde-a31b-2852fee89a0a",
   "metadata": {},
   "outputs": [],
   "source": []
  }
 ],
 "metadata": {
  "kernelspec": {
   "display_name": "Python 3 (ipykernel)",
   "language": "python",
   "name": "python3"
  },
  "language_info": {
   "codemirror_mode": {
    "name": "ipython",
    "version": 3
   },
   "file_extension": ".py",
   "mimetype": "text/x-python",
   "name": "python",
   "nbconvert_exporter": "python",
   "pygments_lexer": "ipython3",
   "version": "3.10.13"
  }
 },
 "nbformat": 4,
 "nbformat_minor": 5
}
