{
 "cells": [
  {
   "cell_type": "code",
   "execution_count": 1,
   "id": "f4ca6535",
   "metadata": {},
   "outputs": [],
   "source": [
    "import numpy as np\n",
    "import scipy.stats as stats\n",
    "import pandas as pd\n",
    "import polars as pl\n",
    "import matplotlib.pyplot as plt\n",
    "# from dynamic_routing_analysis import decoding_utils\n",
    "# from dynamic_routing_analysis import plot_utils\n",
    "# import dynamic_routing_analysis as dra\n",
    "import pingouin as pg\n",
    "import os\n",
    "import random\n",
    "\n",
    "import matplotlib\n",
    "import matplotlib.font_manager as fm\n",
    "\n",
    "matplotlib.rcParams['font.size'] = 8\n",
    "matplotlib.rcParams['pdf.fonttype'] = 42\n",
    "matplotlib.rcParams['ps.fonttype'] = 42\n",
    "fm.FontProperties().set_family('arial')\n",
    "\n",
    "%load_ext autoreload\n",
    "%autoreload 2\n",
    "%matplotlib inline\n",
    "# %matplotlib widget\n",
    "# %matplotlib notebook"
   ]
  },
  {
   "cell_type": "code",
   "execution_count": 2,
   "id": "09d6df6e",
   "metadata": {},
   "outputs": [],
   "source": [
    "results_path=\"s3://aind-scratch-data/dynamic-routing/decoding/results/time_mod_keep_units_consistent_0/\""
   ]
  },
  {
   "cell_type": "code",
   "execution_count": 3,
   "id": "0b93c2c1",
   "metadata": {},
   "outputs": [],
   "source": [
    "session_table_path=r\"\\\\allen\\programs\\mindscope\\workgroups\\dynamicrouting\\Ethan\\CO decoding results\\session_table_v0.268.csv\"\n",
    "# session_table_path=\"/Users/ethan.mcbride/Data/DR/session_table_v0.265.csv\"\n",
    "session_table=pl.read_csv(session_table_path)\n",
    "\n",
    "dr_session_list=(\n",
    "    session_table.filter(\n",
    "    pl.col('project')==\"DynamicRouting\",\n",
    "    pl.col('is_production'),\n",
    "    pl.col('is_annotated'),\n",
    "    pl.col('issues')==\"\",\n",
    "    pl.col('is_good_behavior').eq(True),\n",
    "    )['session_id'].to_list()\n",
    "    )"
   ]
  },
  {
   "cell_type": "code",
   "execution_count": 18,
   "id": "fba864b7",
   "metadata": {},
   "outputs": [],
   "source": [
    "# session_table.columns"
   ]
  },
  {
   "cell_type": "code",
   "execution_count": 4,
   "id": "feaa1af0",
   "metadata": {},
   "outputs": [],
   "source": [
    "#define grouping columns\n",
    "grouping_cols = {\n",
    "    'session_id',\n",
    "    'structure',\n",
    "    'electrode_group_names',\n",
    "    'unit_subsample_size',\n",
    "    'bin_center',\n",
    "    'bin_size',\n",
    "    'time_aligned_to',\n",
    "    # 'unit_criteria',\n",
    "}\n",
    "\n",
    "#toggle combine_multi_probe_rec\n",
    "combine_multi_probe_rec = False\n",
    "\n",
    "if combine_multi_probe_rec:\n",
    "    combine_multi_probe_expr = pl.col('electrode_group_names').list.len().gt(1) | pl.col('is_sole_recording').eq(True)\n",
    "else:\n",
    "    combine_multi_probe_expr = pl.col('electrode_group_names').list.len().eq(1) | pl.col('is_sole_recording').eq(True)\n"
   ]
  },
  {
   "cell_type": "code",
   "execution_count": 5,
   "id": "826670a1",
   "metadata": {},
   "outputs": [],
   "source": [
    "# session-wise average decoding accuracy\n",
    "structure_grouping = {\n",
    "    'SCop': 'SCs',\n",
    "    'SCsg': 'SCs',\n",
    "    'SCzo': 'SCs',\n",
    "    'SCig': 'SCm',\n",
    "    'SCiw': 'SCm',\n",
    "    'SCdg': 'SCm',\n",
    "    'SCdw': 'SCm',\n",
    "    \"ECT1\": 'ECT',\n",
    "    \"ECT2/3\": 'ECT',    \n",
    "    \"ECT6b\": 'ECT',\n",
    "    \"ECT5\": 'ECT',\n",
    "    \"ECT6a\": 'ECT', \n",
    "    \"ECT4\": 'ECT',\n",
    "}\n",
    "keep_original_structure = False\n",
    "if keep_original_structure:\n",
    "    n_repeats = 2\n",
    "else:\n",
    "    n_repeats = 1\n",
    "\n",
    "#add total n units, cross-modal dprime, n good blocks?\n",
    "\n",
    "new_results_session_df = (\n",
    "    pl.scan_parquet(results_path)\n",
    "    .filter(\n",
    "        pl.col('session_id').is_in(dr_session_list),\n",
    "    )\n",
    "    .with_columns(\n",
    "        pl.col('electrode_group_names').flatten().n_unique().eq(1).over(grouping_cols - {'electrode_group_names'}).alias('is_sole_recording'),\n",
    "    )\n",
    "    .filter(\n",
    "        combine_multi_probe_expr,\n",
    "        pl.col('is_all_trials').not_(),\n",
    "    )\n",
    "    #get total n units\n",
    "    .join(\n",
    "        other=(\n",
    "            pl.scan_parquet('s3://aind-scratch-data/dynamic-routing/cache/nwb_components/v0.0.268/consolidated/units.parquet')\n",
    "            .with_columns(\n",
    "                pl.col('session_id').str.split('_').list.slice(0, 2).list.join('_'),\n",
    "            )\n",
    "            #make new rows according to structure_grouping\n",
    "            .with_columns(\n",
    "                pl.when(pl.col('structure').is_in(structure_grouping.keys()))\n",
    "                .then(pl.col('structure').repeat_by(n_repeats))\n",
    "                .otherwise(pl.col('structure').repeat_by(1))\n",
    "            )\n",
    "            .explode('structure')\n",
    "            .with_columns(\n",
    "                pl.when(pl.col('structure').is_in(structure_grouping.keys()).is_first_distinct().over('unit_id'))\n",
    "                .then(pl.col('structure').replace(structure_grouping))\n",
    "                .otherwise(pl.col('structure'))\n",
    "            )\n",
    "            .group_by('session_id','structure')\n",
    "            .agg(\n",
    "                pl.col('unit_id').len().alias('total_n_units')\n",
    "            )\n",
    "        ),\n",
    "        on=['session_id','structure'],\n",
    "        how='left',\n",
    "    )\n",
    "    #join on session table to get cross-modal dprime, etc.\n",
    "    .join(\n",
    "        other=session_table.filter(\n",
    "            pl.col('session_id').is_in(dr_session_list)\n",
    "        ).select(\n",
    "            'session_id',\n",
    "            'n_passing_blocks',\n",
    "            'cross_modality_dprime_vis_blocks',\n",
    "            'cross_modality_dprime_aud_blocks',\n",
    "        ).lazy(),\n",
    "        on='session_id',\n",
    "        how='left',\n",
    "    )\n",
    "    # get the means for each recording over repeats:\n",
    "    .group_by(grouping_cols | {'shift_idx', 'n_passing_blocks', 'cross_modality_dprime_vis_blocks', \n",
    "                               'cross_modality_dprime_aud_blocks', 'total_n_units', 'is_sole_recording'}, maintain_order=True)\n",
    "    .agg(\n",
    "        pl.col('balanced_accuracy_test').mean(), # over repeats\n",
    "    )\n",
    "    # get the aligned result and median over shifts:\n",
    "    # .group_by(grouping_cols - {'electrode_group_names'} | {'n_passing_blocks', 'cross_modality_dprime_vis_blocks', \n",
    "    #                                                        'cross_modality_dprime_aud_blocks', 'total_n_units'})\n",
    "    .group_by(grouping_cols| {'n_passing_blocks', 'cross_modality_dprime_vis_blocks',\n",
    "                              'cross_modality_dprime_aud_blocks', 'total_n_units', 'is_sole_recording'})\n",
    "    .agg(\n",
    "        pl.col('balanced_accuracy_test').filter(pl.col('shift_idx') == 0).first().alias('mean_true'),\n",
    "        pl.col('balanced_accuracy_test').filter(pl.col('shift_idx') != 0).median().alias('median_null'),\n",
    "        pl.col('balanced_accuracy_test', 'shift_idx').sort_by('shift_idx'),\n",
    "    )\n",
    "    # get the difference between true and null:\n",
    "    .with_columns(\n",
    "        pl.col('mean_true').sub(pl.col('median_null')).alias('mean_diff'),\n",
    "        #assumes each row is one probe\n",
    "        pl.col('electrode_group_names').list.first().alias('electrode_group_names'),\n",
    "    )\n",
    "    .sort('session_id', 'structure', 'bin_center', 'electrode_group_names', 'unit_subsample_size', descending=False)\n",
    "    .collect()\n",
    ")\n"
   ]
  },
  {
   "cell_type": "code",
   "execution_count": 6,
   "id": "fbb1b278",
   "metadata": {},
   "outputs": [
    {
     "data": {
      "text/html": [
       "<div><style>\n",
       ".dataframe > thead > tr,\n",
       ".dataframe > tbody > tr {\n",
       "  text-align: right;\n",
       "  white-space: pre-wrap;\n",
       "}\n",
       "</style>\n",
       "<small>shape: (18_970, 17)</small><table border=\"1\" class=\"dataframe\"><thead><tr><th>cross_modality_dprime_vis_blocks</th><th>structure</th><th>bin_center</th><th>total_n_units</th><th>n_passing_blocks</th><th>time_aligned_to</th><th>electrode_group_names</th><th>cross_modality_dprime_aud_blocks</th><th>unit_subsample_size</th><th>is_sole_recording</th><th>bin_size</th><th>session_id</th><th>mean_true</th><th>median_null</th><th>balanced_accuracy_test</th><th>shift_idx</th><th>mean_diff</th></tr><tr><td>str</td><td>str</td><td>f64</td><td>u32</td><td>i64</td><td>enum</td><td>str</td><td>str</td><td>u16</td><td>bool</td><td>f64</td><td>str</td><td>f64</td><td>f64</td><td>list[f64]</td><td>list[i16]</td><td>f64</td></tr></thead><tbody><tr><td>&quot;3.0732675211951777;1.491975985…</td><td>&quot;AUDp&quot;</td><td>-1.25</td><td>67</td><td>5</td><td>&quot;stim_start_time&quot;</td><td>&quot;probeC&quot;</td><td>&quot;1.438862250154771;0.1260493487…</td><td>20</td><td>true</td><td>0.5</td><td>&quot;626791_2022-08-15&quot;</td><td>0.683742</td><td>0.6381</td><td>[0.578339, 0.577407, … 0.592953]</td><td>[-44, -43, … 37]</td><td>0.045642</td></tr><tr><td>&quot;3.0732675211951777;1.491975985…</td><td>&quot;AUDp&quot;</td><td>-0.75</td><td>67</td><td>5</td><td>&quot;stim_start_time&quot;</td><td>&quot;probeC&quot;</td><td>&quot;1.438862250154771;0.1260493487…</td><td>20</td><td>true</td><td>0.5</td><td>&quot;626791_2022-08-15&quot;</td><td>0.676873</td><td>0.616516</td><td>[0.566918, 0.568284, … 0.566496]</td><td>[-44, -43, … 37]</td><td>0.060358</td></tr><tr><td>&quot;3.0732675211951777;1.491975985…</td><td>&quot;AUDp&quot;</td><td>-0.25</td><td>67</td><td>5</td><td>&quot;stim_start_time&quot;</td><td>&quot;probeC&quot;</td><td>&quot;1.438862250154771;0.1260493487…</td><td>20</td><td>true</td><td>0.5</td><td>&quot;626791_2022-08-15&quot;</td><td>0.673035</td><td>0.607159</td><td>[0.554119, 0.566995, … 0.561141]</td><td>[-44, -43, … 37]</td><td>0.065875</td></tr><tr><td>&quot;3.0732675211951777;1.491975985…</td><td>&quot;AUDp&quot;</td><td>0.25</td><td>67</td><td>5</td><td>&quot;stim_start_time&quot;</td><td>&quot;probeC&quot;</td><td>&quot;1.438862250154771;0.1260493487…</td><td>20</td><td>true</td><td>0.5</td><td>&quot;626791_2022-08-15&quot;</td><td>0.665332</td><td>0.588383</td><td>[0.561355, 0.56813, … 0.565382]</td><td>[-44, -43, … 37]</td><td>0.076949</td></tr><tr><td>&quot;3.0732675211951777;1.491975985…</td><td>&quot;AUDp&quot;</td><td>0.75</td><td>67</td><td>5</td><td>&quot;stim_start_time&quot;</td><td>&quot;probeC&quot;</td><td>&quot;1.438862250154771;0.1260493487…</td><td>20</td><td>true</td><td>0.5</td><td>&quot;626791_2022-08-15&quot;</td><td>0.668968</td><td>0.613054</td><td>[0.599712, 0.601363, … 0.562407]</td><td>[-44, -43, … 37]</td><td>0.055914</td></tr><tr><td>&hellip;</td><td>&hellip;</td><td>&hellip;</td><td>&hellip;</td><td>&hellip;</td><td>&hellip;</td><td>&hellip;</td><td>&hellip;</td><td>&hellip;</td><td>&hellip;</td><td>&hellip;</td><td>&hellip;</td><td>&hellip;</td><td>&hellip;</td><td>&hellip;</td><td>&hellip;</td><td>&hellip;</td></tr><tr><td>&quot;2.2932255512267474;2.536260776…</td><td>&quot;VPM&quot;</td><td>3.25</td><td>222</td><td>5</td><td>&quot;stim_start_time&quot;</td><td>&quot;probeC&quot;</td><td>&quot;1.9877370982559819;2.147703800…</td><td>20</td><td>true</td><td>0.5</td><td>&quot;761583_2024-12-17&quot;</td><td>0.517473</td><td>0.511535</td><td>[0.502503, 0.493203, … 0.520453]</td><td>[-45, -44, … 25]</td><td>0.005938</td></tr><tr><td>&quot;2.2932255512267474;2.536260776…</td><td>&quot;VPM&quot;</td><td>3.75</td><td>222</td><td>5</td><td>&quot;stim_start_time&quot;</td><td>&quot;probeC&quot;</td><td>&quot;1.9877370982559819;2.147703800…</td><td>20</td><td>true</td><td>0.5</td><td>&quot;761583_2024-12-17&quot;</td><td>0.522831</td><td>0.516185</td><td>[0.508239, 0.510186, … 0.527407]</td><td>[-45, -44, … 25]</td><td>0.006646</td></tr><tr><td>&quot;2.2932255512267474;2.536260776…</td><td>&quot;VPM&quot;</td><td>4.25</td><td>222</td><td>5</td><td>&quot;stim_start_time&quot;</td><td>&quot;probeC&quot;</td><td>&quot;1.9877370982559819;2.147703800…</td><td>20</td><td>true</td><td>0.5</td><td>&quot;761583_2024-12-17&quot;</td><td>0.511531</td><td>0.515621</td><td>[0.514576, 0.513974, … 0.51327]</td><td>[-45, -44, … 25]</td><td>-0.00409</td></tr><tr><td>&quot;2.2932255512267474;2.536260776…</td><td>&quot;VPM&quot;</td><td>4.75</td><td>222</td><td>5</td><td>&quot;stim_start_time&quot;</td><td>&quot;probeC&quot;</td><td>&quot;1.9877370982559819;2.147703800…</td><td>20</td><td>true</td><td>0.5</td><td>&quot;761583_2024-12-17&quot;</td><td>0.523659</td><td>0.525731</td><td>[0.525496, 0.525938, … 0.532944]</td><td>[-45, -44, … 25]</td><td>-0.002073</td></tr><tr><td>&quot;2.2932255512267474;2.536260776…</td><td>&quot;VPM&quot;</td><td>5.25</td><td>222</td><td>5</td><td>&quot;stim_start_time&quot;</td><td>&quot;probeC&quot;</td><td>&quot;1.9877370982559819;2.147703800…</td><td>20</td><td>true</td><td>0.5</td><td>&quot;761583_2024-12-17&quot;</td><td>0.521051</td><td>0.5095</td><td>[0.52336, 0.509523, … 0.510857]</td><td>[-45, -44, … 25]</td><td>0.011551</td></tr></tbody></table></div>"
      ],
      "text/plain": [
       "shape: (18_970, 17)\n",
       "┌───────────┬───────────┬───────────┬───────────┬───┬───────────┬───────────┬───────────┬──────────┐\n",
       "│ cross_mod ┆ structure ┆ bin_cente ┆ total_n_u ┆ … ┆ median_nu ┆ balanced_ ┆ shift_idx ┆ mean_dif │\n",
       "│ ality_dpr ┆ ---       ┆ r         ┆ nits      ┆   ┆ ll        ┆ accuracy_ ┆ ---       ┆ f        │\n",
       "│ ime_vis_b ┆ str       ┆ ---       ┆ ---       ┆   ┆ ---       ┆ test      ┆ list[i16] ┆ ---      │\n",
       "│ loc…      ┆           ┆ f64       ┆ u32       ┆   ┆ f64       ┆ ---       ┆           ┆ f64      │\n",
       "│ ---       ┆           ┆           ┆           ┆   ┆           ┆ list[f64] ┆           ┆          │\n",
       "│ str       ┆           ┆           ┆           ┆   ┆           ┆           ┆           ┆          │\n",
       "╞═══════════╪═══════════╪═══════════╪═══════════╪═══╪═══════════╪═══════════╪═══════════╪══════════╡\n",
       "│ 3.0732675 ┆ AUDp      ┆ -1.25     ┆ 67        ┆ … ┆ 0.6381    ┆ [0.578339 ┆ [-44,     ┆ 0.045642 │\n",
       "│ 211951777 ┆           ┆           ┆           ┆   ┆           ┆ ,         ┆ -43, …    ┆          │\n",
       "│ ;1.491975 ┆           ┆           ┆           ┆   ┆           ┆ 0.577407, ┆ 37]       ┆          │\n",
       "│ 985…      ┆           ┆           ┆           ┆   ┆           ┆ …         ┆           ┆          │\n",
       "│           ┆           ┆           ┆           ┆   ┆           ┆ 0.59295…  ┆           ┆          │\n",
       "│ 3.0732675 ┆ AUDp      ┆ -0.75     ┆ 67        ┆ … ┆ 0.616516  ┆ [0.566918 ┆ [-44,     ┆ 0.060358 │\n",
       "│ 211951777 ┆           ┆           ┆           ┆   ┆           ┆ ,         ┆ -43, …    ┆          │\n",
       "│ ;1.491975 ┆           ┆           ┆           ┆   ┆           ┆ 0.568284, ┆ 37]       ┆          │\n",
       "│ 985…      ┆           ┆           ┆           ┆   ┆           ┆ …         ┆           ┆          │\n",
       "│           ┆           ┆           ┆           ┆   ┆           ┆ 0.56649…  ┆           ┆          │\n",
       "│ 3.0732675 ┆ AUDp      ┆ -0.25     ┆ 67        ┆ … ┆ 0.607159  ┆ [0.554119 ┆ [-44,     ┆ 0.065875 │\n",
       "│ 211951777 ┆           ┆           ┆           ┆   ┆           ┆ ,         ┆ -43, …    ┆          │\n",
       "│ ;1.491975 ┆           ┆           ┆           ┆   ┆           ┆ 0.566995, ┆ 37]       ┆          │\n",
       "│ 985…      ┆           ┆           ┆           ┆   ┆           ┆ …         ┆           ┆          │\n",
       "│           ┆           ┆           ┆           ┆   ┆           ┆ 0.56114…  ┆           ┆          │\n",
       "│ 3.0732675 ┆ AUDp      ┆ 0.25      ┆ 67        ┆ … ┆ 0.588383  ┆ [0.561355 ┆ [-44,     ┆ 0.076949 │\n",
       "│ 211951777 ┆           ┆           ┆           ┆   ┆           ┆ ,         ┆ -43, …    ┆          │\n",
       "│ ;1.491975 ┆           ┆           ┆           ┆   ┆           ┆ 0.56813,  ┆ 37]       ┆          │\n",
       "│ 985…      ┆           ┆           ┆           ┆   ┆           ┆ …         ┆           ┆          │\n",
       "│           ┆           ┆           ┆           ┆   ┆           ┆ 0.565382… ┆           ┆          │\n",
       "│ 3.0732675 ┆ AUDp      ┆ 0.75      ┆ 67        ┆ … ┆ 0.613054  ┆ [0.599712 ┆ [-44,     ┆ 0.055914 │\n",
       "│ 211951777 ┆           ┆           ┆           ┆   ┆           ┆ ,         ┆ -43, …    ┆          │\n",
       "│ ;1.491975 ┆           ┆           ┆           ┆   ┆           ┆ 0.601363, ┆ 37]       ┆          │\n",
       "│ 985…      ┆           ┆           ┆           ┆   ┆           ┆ …         ┆           ┆          │\n",
       "│           ┆           ┆           ┆           ┆   ┆           ┆ 0.56240…  ┆           ┆          │\n",
       "│ …         ┆ …         ┆ …         ┆ …         ┆ … ┆ …         ┆ …         ┆ …         ┆ …        │\n",
       "│ 2.2932255 ┆ VPM       ┆ 3.25      ┆ 222       ┆ … ┆ 0.511535  ┆ [0.502503 ┆ [-45,     ┆ 0.005938 │\n",
       "│ 512267474 ┆           ┆           ┆           ┆   ┆           ┆ ,         ┆ -44, …    ┆          │\n",
       "│ ;2.536260 ┆           ┆           ┆           ┆   ┆           ┆ 0.493203, ┆ 25]       ┆          │\n",
       "│ 776…      ┆           ┆           ┆           ┆   ┆           ┆ …         ┆           ┆          │\n",
       "│           ┆           ┆           ┆           ┆   ┆           ┆ 0.52045…  ┆           ┆          │\n",
       "│ 2.2932255 ┆ VPM       ┆ 3.75      ┆ 222       ┆ … ┆ 0.516185  ┆ [0.508239 ┆ [-45,     ┆ 0.006646 │\n",
       "│ 512267474 ┆           ┆           ┆           ┆   ┆           ┆ ,         ┆ -44, …    ┆          │\n",
       "│ ;2.536260 ┆           ┆           ┆           ┆   ┆           ┆ 0.510186, ┆ 25]       ┆          │\n",
       "│ 776…      ┆           ┆           ┆           ┆   ┆           ┆ …         ┆           ┆          │\n",
       "│           ┆           ┆           ┆           ┆   ┆           ┆ 0.52740…  ┆           ┆          │\n",
       "│ 2.2932255 ┆ VPM       ┆ 4.25      ┆ 222       ┆ … ┆ 0.515621  ┆ [0.514576 ┆ [-45,     ┆ -0.00409 │\n",
       "│ 512267474 ┆           ┆           ┆           ┆   ┆           ┆ ,         ┆ -44, …    ┆          │\n",
       "│ ;2.536260 ┆           ┆           ┆           ┆   ┆           ┆ 0.513974, ┆ 25]       ┆          │\n",
       "│ 776…      ┆           ┆           ┆           ┆   ┆           ┆ …         ┆           ┆          │\n",
       "│           ┆           ┆           ┆           ┆   ┆           ┆ 0.51327…  ┆           ┆          │\n",
       "│ 2.2932255 ┆ VPM       ┆ 4.75      ┆ 222       ┆ … ┆ 0.525731  ┆ [0.525496 ┆ [-45,     ┆ -0.00207 │\n",
       "│ 512267474 ┆           ┆           ┆           ┆   ┆           ┆ ,         ┆ -44, …    ┆ 3        │\n",
       "│ ;2.536260 ┆           ┆           ┆           ┆   ┆           ┆ 0.525938, ┆ 25]       ┆          │\n",
       "│ 776…      ┆           ┆           ┆           ┆   ┆           ┆ …         ┆           ┆          │\n",
       "│           ┆           ┆           ┆           ┆   ┆           ┆ 0.53294…  ┆           ┆          │\n",
       "│ 2.2932255 ┆ VPM       ┆ 5.25      ┆ 222       ┆ … ┆ 0.5095    ┆ [0.52336, ┆ [-45,     ┆ 0.011551 │\n",
       "│ 512267474 ┆           ┆           ┆           ┆   ┆           ┆ 0.509523, ┆ -44, …    ┆          │\n",
       "│ ;2.536260 ┆           ┆           ┆           ┆   ┆           ┆ …         ┆ 25]       ┆          │\n",
       "│ 776…      ┆           ┆           ┆           ┆   ┆           ┆ 0.510857… ┆           ┆          │\n",
       "└───────────┴───────────┴───────────┴───────────┴───┴───────────┴───────────┴───────────┴──────────┘"
      ]
     },
     "execution_count": 6,
     "metadata": {},
     "output_type": "execute_result"
    }
   ],
   "source": [
    "new_results_session_df"
   ]
  },
  {
   "cell_type": "code",
   "execution_count": 7,
   "id": "d3385148",
   "metadata": {},
   "outputs": [],
   "source": [
    "new_results_session_pd = new_results_session_df.to_pandas().query('bin_center==-0.25')"
   ]
  },
  {
   "cell_type": "code",
   "execution_count": 22,
   "id": "545dd9f3",
   "metadata": {},
   "outputs": [
    {
     "data": {
      "text/plain": [
       "array(['probeC', 'probeB', 'probeF', 'probeA', 'probeD', 'probeE'],\n",
       "      dtype=object)"
      ]
     },
     "execution_count": 22,
     "metadata": {},
     "output_type": "execute_result"
    }
   ],
   "source": [
    "new_results_session_pd['electrode_group_names'].unique()"
   ]
  },
  {
   "cell_type": "code",
   "execution_count": 10,
   "id": "c010ca85",
   "metadata": {},
   "outputs": [],
   "source": [
    "# new_results_session_pd\n",
    "# all_units_table_path='s3://aind-scratch-data/dynamic-routing/cache/nwb_components/v0.0.268/consolidated/units.parquet'\n",
    "all_units_table_path=r\"D:\\units_v0.272.parquet\"\n",
    "all_units_table=pd.read_parquet(all_units_table_path)\n"
   ]
  },
  {
   "cell_type": "code",
   "execution_count": 12,
   "id": "50f79572",
   "metadata": {},
   "outputs": [
    {
     "data": {
      "text/plain": [
       "session_id\n",
       "703880_2024-04-15    35\n",
       "649943_2023-02-15    16\n",
       "708016_2024-04-29    15\n",
       "737403_2024-09-26    15\n",
       "686176_2023-12-07    12\n",
       "733891_2024-09-19    12\n",
       "733891_2024-09-17    10\n",
       "733891_2024-09-18    10\n",
       "714748_2024-06-26     9\n",
       "649943_2023-02-16     8\n",
       "750329_2024-11-27     8\n",
       "733891_2024-09-16     7\n",
       "660023_2023-08-09     3\n",
       "741148_2024-10-18     2\n",
       "743199_2024-12-04     2\n",
       "737403_2024-09-24     1\n",
       "Name: count, dtype: int64"
      ]
     },
     "execution_count": 12,
     "metadata": {},
     "output_type": "execute_result"
    }
   ],
   "source": [
    "all_units_table.query('(structure==\"SNr\") and session_id in @dr_session_list and activity_drift<=0.2 and \\\n",
    "                      isi_violations_ratio<=0.5 and presence_ratio>=0.7 and amplitude_cutoff<=0.1')['session_id'].value_counts()"
   ]
  },
  {
   "cell_type": "code",
   "execution_count": 69,
   "id": "e8828641",
   "metadata": {},
   "outputs": [
    {
     "name": "stderr",
     "output_type": "stream",
     "text": [
      "C:\\Users\\ethan.mcbride\\AppData\\Local\\Temp\\ipykernel_15364\\3100135760.py:25: RuntimeWarning: Mean of empty slice\n",
      "  ccf_dv=np.nanmean(session_structure_units['ccf_dv'].values)\n",
      "C:\\Users\\ethan.mcbride\\AppData\\Local\\Temp\\ipykernel_15364\\3100135760.py:26: RuntimeWarning: Mean of empty slice\n",
      "  ccf_ml=np.nanmean(session_structure_units['ccf_ml'].values)\n",
      "C:\\Users\\ethan.mcbride\\AppData\\Local\\Temp\\ipykernel_15364\\3100135760.py:27: RuntimeWarning: Mean of empty slice\n",
      "  ccf_ap=np.nanmean(session_structure_units['ccf_ap'].values)\n",
      "C:\\Users\\ethan.mcbride\\AppData\\Local\\Temp\\ipykernel_15364\\3100135760.py:25: RuntimeWarning: Mean of empty slice\n",
      "  ccf_dv=np.nanmean(session_structure_units['ccf_dv'].values)\n",
      "C:\\Users\\ethan.mcbride\\AppData\\Local\\Temp\\ipykernel_15364\\3100135760.py:26: RuntimeWarning: Mean of empty slice\n",
      "  ccf_ml=np.nanmean(session_structure_units['ccf_ml'].values)\n",
      "C:\\Users\\ethan.mcbride\\AppData\\Local\\Temp\\ipykernel_15364\\3100135760.py:27: RuntimeWarning: Mean of empty slice\n",
      "  ccf_ap=np.nanmean(session_structure_units['ccf_ap'].values)\n"
     ]
    }
   ],
   "source": [
    "#get mean ccf for each session-structure AND probe\n",
    "\n",
    "session_structure_ccf_coords={\n",
    "    'session_id':[],\n",
    "    'structure':[],\n",
    "    'probe':[],\n",
    "    'ccf_dv':[],\n",
    "    'ccf_ml':[],\n",
    "    'ccf_ap':[]\n",
    "}\n",
    "\n",
    "for session_id in new_results_session_pd['session_id'].unique():\n",
    "    session_pd=new_results_session_pd.query('session_id==@session_id')\n",
    "    for structure in session_pd['structure'].unique():\n",
    "        for probe in session_pd.query('structure==@structure')['electrode_group_names'].unique():\n",
    "            \n",
    "            if structure=='SCs':\n",
    "                structure_query='(structure==\"SCop\" | structure==\"SCsg\" | structure==\"SCzo\")'\n",
    "            elif structure=='SCm':\n",
    "                structure_query='(structure==\"SCig\" | structure==\"SCiw\" | structure==\"SCdg\" | structure==\"SCdw\")'\n",
    "            else:\n",
    "                structure_query='structure==@structure'\n",
    "\n",
    "            session_structure_units=all_units_table.query(f'session_id==@session_id & {structure_query} & electrode_group_name==@probe')\n",
    "            ccf_dv=np.nanmean(session_structure_units['ccf_dv'].values)\n",
    "            ccf_ml=np.nanmean(session_structure_units['ccf_ml'].values)\n",
    "            ccf_ap=np.nanmean(session_structure_units['ccf_ap'].values)\n",
    "\n",
    "            session_structure_ccf_coords['session_id'].append(session_id)\n",
    "            session_structure_ccf_coords['structure'].append(structure)\n",
    "            session_structure_ccf_coords['probe'].append(probe)\n",
    "            session_structure_ccf_coords['ccf_dv'].append(ccf_dv)\n",
    "            session_structure_ccf_coords['ccf_ml'].append(ccf_ml)\n",
    "            session_structure_ccf_coords['ccf_ap'].append(ccf_ap)\n",
    "\n",
    "session_structure_ccf_coords_df=pd.DataFrame(session_structure_ccf_coords)\n"
   ]
  },
  {
   "cell_type": "code",
   "execution_count": 70,
   "id": "d2559089",
   "metadata": {},
   "outputs": [],
   "source": [
    "new_results_session_w_ccf_pd=(\n",
    "    new_results_session_pd\n",
    "    .merge(\n",
    "        session_structure_ccf_coords_df,\n",
    "        left_on=['session_id', 'structure', 'electrode_group_names'],\n",
    "        right_on=['session_id', 'structure', 'probe'],\n",
    "        how='left',\n",
    "    )\n",
    ")"
   ]
  },
  {
   "cell_type": "code",
   "execution_count": 83,
   "id": "3daa5479",
   "metadata": {},
   "outputs": [
    {
     "data": {
      "text/plain": [
       "Index(['electrode_group_names', 'cross_modality_dprime_aud_blocks',\n",
       "       'total_n_units', 'unit_subsample_size', 'n_passing_blocks',\n",
       "       'time_aligned_to', 'is_sole_recording', 'structure', 'session_id',\n",
       "       'bin_size', 'bin_center', 'cross_modality_dprime_vis_blocks',\n",
       "       'mean_true', 'median_null', 'balanced_accuracy_test', 'shift_idx',\n",
       "       'mean_diff', 'probe', 'ccf_dv', 'ccf_ml', 'ccf_ap'],\n",
       "      dtype='object')"
      ]
     },
     "execution_count": 83,
     "metadata": {},
     "output_type": "execute_result"
    }
   ],
   "source": [
    "new_results_session_w_ccf_pd.columns"
   ]
  },
  {
   "cell_type": "code",
   "execution_count": 120,
   "id": "b5f49082",
   "metadata": {},
   "outputs": [
    {
     "name": "stdout",
     "output_type": "stream",
     "text": [
      "Pearson r=0.204, p=0.046\n"
     ]
    },
    {
     "data": {
      "text/plain": [
       "(0.5, 1.0)"
      ]
     },
     "execution_count": 120,
     "metadata": {},
     "output_type": "execute_result"
    },
    {
     "data": {
      "image/png": "[encoded data removed]",
      "text/plain": [
       "<Figure size 600x300 with 1 Axes>"
      ]
     },
     "metadata": {},
     "output_type": "display_data"
    }
   ],
   "source": [
    "sel_structure='SSp'\n",
    "\n",
    "decoding_accuracy=new_results_session_w_ccf_pd.query('structure==@sel_structure and session_id in @dr_session_list')['mean_true'].values\n",
    "ap_coords=new_results_session_w_ccf_pd.query('structure==@sel_structure and session_id in @dr_session_list')['ccf_ap'].values\n",
    "ml_coords=new_results_session_w_ccf_pd.query('structure==@sel_structure and session_id in @dr_session_list')['ccf_ml'].values\n",
    "\n",
    "#AP\n",
    "r,p=stats.pearsonr(ap_coords, decoding_accuracy)\n",
    "print(f'Pearson r={r:.3f}, p={p:.3f}')\n",
    "\n",
    "fig,ax=plt.subplots(figsize=(6,3))\n",
    "ax.plot(ap_coords, decoding_accuracy, 'k.')\n",
    "ax.set_xlabel('CCF AP coordinate (um)')\n",
    "ax.set_ylabel('Decoding accuracy')\n",
    "ax.set_title(f'{sel_structure} decoding accuracy vs CCF AP coordinate \\n r={r:.3f}, p={p:.3f}')\n",
    "ax.set_ylim(0.5,1)"
   ]
  },
  {
   "cell_type": "code",
   "execution_count": null,
   "id": "483eb777",
   "metadata": {},
   "outputs": [],
   "source": [
    "# #save as editable pdf\n",
    "# savepath=r'C:\\Users\\ethan.mcbride\\OneDrive - Allen Institute\\quick figures\\2025-08-01-predict_proba_corr_updates\\MOs_decoding_accuracy_vs_CCF_AP.pdf'\n",
    "# fig.savefig(savepath, bbox_inches='tight', dpi=300,\n",
    "#             transparent=True, format='pdf', pad_inches=0.1)"
   ]
  },
  {
   "cell_type": "code",
   "execution_count": 121,
   "id": "bd977d30",
   "metadata": {},
   "outputs": [
    {
     "name": "stdout",
     "output_type": "stream",
     "text": [
      "Pearson r=0.024, p=0.813\n"
     ]
    },
    {
     "data": {
      "text/plain": [
       "(0.5, 1.0)"
      ]
     },
     "execution_count": 121,
     "metadata": {},
     "output_type": "execute_result"
    },
    {
     "data": {
      "image/png": "[encoded data removed]",
      "text/plain": [
       "<Figure size 300x300 with 1 Axes>"
      ]
     },
     "metadata": {},
     "output_type": "display_data"
    }
   ],
   "source": [
    "#ML \n",
    "r,p=stats.pearsonr(ml_coords, decoding_accuracy)\n",
    "print(f'Pearson r={r:.3f}, p={p:.3f}')\n",
    "fig,ax=plt.subplots(figsize=(3,3))\n",
    "ax.plot(ml_coords-5700, decoding_accuracy, 'k.')\n",
    "ax.set_xlabel('CCF ML coordinate (um)')\n",
    "ax.set_ylabel('Decoding accuracy')\n",
    "ax.set_title(f'{sel_structure} decoding accuracy vs CCF ML coordinate \\n r={r:.3f}, p={p:.3f}')\n",
    "ax.set_ylim(0.5,1)"
   ]
  },
  {
   "cell_type": "code",
   "execution_count": null,
   "id": "552e6acc",
   "metadata": {},
   "outputs": [],
   "source": [
    "# #save as editable pdf\n",
    "# savepath=r'C:\\Users\\ethan.mcbride\\OneDrive - Allen Institute\\quick figures\\2025-08-01-predict_proba_corr_updates\\MOs_decoding_accuracy_vs_CCF_ML.pdf'\n",
    "# fig.savefig(savepath, bbox_inches='tight', dpi=300,\n",
    "#             transparent=True, format='pdf', pad_inches=0.1)"
   ]
  },
  {
   "cell_type": "code",
   "execution_count": 122,
   "id": "dd9370bf",
   "metadata": {},
   "outputs": [
    {
     "data": {
      "text/plain": [
       "Text(0.5, 0, 'CCF ML coordinate (um)')"
      ]
     },
     "execution_count": 122,
     "metadata": {},
     "output_type": "execute_result"
    },
    {
     "data": {
      "image/png": "[encoded data removed]",
      "text/plain": [
       "<Figure size 400x600 with 2 Axes>"
      ]
     },
     "metadata": {},
     "output_type": "display_data"
    }
   ],
   "source": [
    "fig,ax=plt.subplots(figsize=(4,6))\n",
    "ax.scatter(ml_coords-5700, ap_coords, c=decoding_accuracy, vmin=0.5, vmax=0.85, cmap='YlOrRd')\n",
    "ax.invert_yaxis()\n",
    "colorbar = plt.colorbar(ax.collections[0], ax=ax)\n",
    "colorbar.set_label('Decoding accuracy')\n",
    "ax.set_ylabel('CCF AP coordinate (um)')\n",
    "ax.set_xlabel('CCF ML coordinate (um)')"
   ]
  },
  {
   "cell_type": "code",
   "execution_count": 93,
   "id": "ad6da9bc",
   "metadata": {},
   "outputs": [],
   "source": [
    "#save as editable pdf\n",
    "savepath=r'C:\\Users\\ethan.mcbride\\OneDrive - Allen Institute\\quick figures\\2025-08-01-predict_proba_corr_updates\\MOs_decoding_accuracy_vs_CCF_AP_ML_diff_colors.pdf'\n",
    "fig.savefig(savepath, bbox_inches='tight', dpi=300,\n",
    "            transparent=True, format='pdf', pad_inches=0.1)"
   ]
  },
  {
   "cell_type": "code",
   "execution_count": 114,
   "id": "ae723717",
   "metadata": {},
   "outputs": [],
   "source": [
    "# #boxplot of decoding accuracy for MOs, plus individual points for each experiment\n",
    "# fig,ax=plt.subplots(figsize=(1.5,6))\n",
    "# ax.boxplot(new_results_session_w_ccf_pd.query('structure==@sel_structure and session_id in @dr_session_list')['mean_true'].values, \n",
    "#            positions=[1], widths=0.5, showfliers=False, medianprops={'color':'k'})\n",
    "# #generate random x values around 1 for scatter\n",
    "# x_jitter=np.random.normal(0,0.1,size=len(decoding_accuracy))\n",
    "# ax.plot(np.ones_like(decoding_accuracy)+x_jitter, decoding_accuracy, 'k.', alpha=0.2, markersize=8)\n",
    "\n",
    "# ax.set_ylim(0.5,1)\n"
   ]
  },
  {
   "cell_type": "code",
   "execution_count": 115,
   "id": "be71eb26",
   "metadata": {},
   "outputs": [
    {
     "data": {
      "text/plain": [
       "(0.5, 1.0)"
      ]
     },
     "execution_count": 115,
     "metadata": {},
     "output_type": "execute_result"
    },
    {
     "data": {
      "image/png": "[encoded data removed]",
      "text/plain": [
       "<Figure size 150x600 with 1 Axes>"
      ]
     },
     "metadata": {},
     "output_type": "display_data"
    }
   ],
   "source": [
    "import seaborn as sns\n",
    "\n",
    "fig,ax=plt.subplots(figsize=(1.5,6))\n",
    "\n",
    "sns.swarmplot(data=new_results_session_w_ccf_pd.query('structure==@sel_structure and session_id in @dr_session_list'), \n",
    "            x=\"structure\", y=\"mean_true\", ax=ax)\n",
    "\n",
    "ax.set_ylabel('decoding accuracy')\n",
    "ax.set_ylim(0.5,1)\n",
    "\n",
    "# fig=sns.catplot(data=new_results_session_w_ccf_pd.query('structure==@sel_structure and session_id in @dr_session_list'), \n",
    "#             x=\"structure\", y=\"mean_true\", kind=\"swarm\")\n",
    "\n",
    "#change figure props"
   ]
  },
  {
   "cell_type": "code",
   "execution_count": null,
   "id": "c9dfd5d4",
   "metadata": {},
   "outputs": [
    {
     "data": {
      "text/plain": [
       "(54,)"
      ]
     },
     "execution_count": 125,
     "metadata": {},
     "output_type": "execute_result"
    }
   ],
   "source": [
    "new_results_session_w_ccf_pd.query('structure==@sel_structure and session_id in @dr_session_list')['session_id'].unique().shape"
   ]
  },
  {
   "cell_type": "code",
   "execution_count": 116,
   "id": "02fcab56",
   "metadata": {},
   "outputs": [],
   "source": [
    "#save as editable pdf\n",
    "savepath=r'C:\\Users\\ethan.mcbride\\OneDrive - Allen Institute\\quick figures\\2025-08-01-predict_proba_corr_updates\\MOs_decoding_accuracy_swarm_plot.pdf'\n",
    "fig.savefig(savepath, bbox_inches='tight', dpi=300,\n",
    "            transparent=True, format='pdf', pad_inches=0.1)"
   ]
  },
  {
   "cell_type": "code",
   "execution_count": 140,
   "id": "2a3261ea",
   "metadata": {},
   "outputs": [],
   "source": [
    "# new_results_session_w_ccf_pd.query('structure==@sel_structure and session_id in @dr_session_list')\n",
    "\n",
    "mouseid=[]\n",
    "for rr,row in new_results_session_w_ccf_pd.iterrows():\n",
    "    mouseid.append(row.session_id.split('_')[0])\n",
    "\n",
    "new_results_session_w_ccf_pd['mouseid']=mouseid"
   ]
  },
  {
   "cell_type": "code",
   "execution_count": 142,
   "id": "550ea6de",
   "metadata": {},
   "outputs": [
    {
     "data": {
      "text/plain": [
       "(31,)"
      ]
     },
     "execution_count": 142,
     "metadata": {},
     "output_type": "execute_result"
    }
   ],
   "source": [
    "new_results_session_w_ccf_pd.query('structure==@sel_structure and session_id in @dr_session_list')['mouseid'].unique().shape"
   ]
  }
 ],
 "metadata": {
  "kernelspec": {
   "display_name": "dr_ibl_analysis",
   "language": "python",
   "name": "python3"
  },
  "language_info": {
   "codemirror_mode": {
    "name": "ipython",
    "version": 3
   },
   "file_extension": ".py",
   "mimetype": "text/x-python",
   "name": "python",
   "nbconvert_exporter": "python",
   "pygments_lexer": "ipython3",
   "version": "3.11.5"
  }
 },
 "nbformat": 4,
 "nbformat_minor": 5
}
