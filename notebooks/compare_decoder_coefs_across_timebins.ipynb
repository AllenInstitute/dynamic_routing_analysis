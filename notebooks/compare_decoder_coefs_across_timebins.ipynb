{
 "cells": [
  {
   "cell_type": "code",
   "execution_count": 20,
   "metadata": {},
   "outputs": [
    {
     "name": "stdout",
     "output_type": "stream",
     "text": [
      "The autoreload extension is already loaded. To reload it, use:\n",
      "  %reload_ext autoreload\n"
     ]
    }
   ],
   "source": [
    "import numpy as np\n",
    "import scipy.stats as stats\n",
    "import pandas as pd\n",
    "import polars as pl\n",
    "import matplotlib.pyplot as plt\n",
    "# from dynamic_routing_analysis import decoding_utils\n",
    "# from dynamic_routing_analysis import plot_utils\n",
    "# import dynamic_routing_analysis as dra\n",
    "import pingouin as pg\n",
    "import os\n",
    "\n",
    "import matplotlib\n",
    "import matplotlib.font_manager as fm\n",
    "\n",
    "matplotlib.rcParams['font.size'] = 8\n",
    "matplotlib.rcParams['pdf.fonttype'] = 42\n",
    "matplotlib.rcParams['ps.fonttype'] = 42\n",
    "fm.FontProperties().set_family('arial')\n",
    "\n",
    "%load_ext autoreload\n",
    "%autoreload 2\n",
    "%matplotlib inline\n",
    "# %matplotlib widget"
   ]
  },
  {
   "cell_type": "code",
   "execution_count": 50,
   "metadata": {},
   "outputs": [],
   "source": [
    "# results_path=\"s3://aind-scratch-data/dynamic-routing/decoding/results/keep_units_consistent_test_20250605_170828/\"\n",
    "results_path=\"s3://aind-scratch-data/dynamic-routing/decoding/results/keep_units_consistent_test_20250605_185958/\""
   ]
  },
  {
   "cell_type": "code",
   "execution_count": 51,
   "metadata": {},
   "outputs": [],
   "source": [
    "# session_table_path=r\"\\\\allen\\programs\\mindscope\\workgroups\\dynamicrouting\\Ethan\\CO decoding results\\session_table_v0.265.csv\"\n",
    "session_table_path=\"/Users/ethan.mcbride/Data/DR/session_table_v0.265.csv\"\n",
    "session_table=pl.read_csv(session_table_path)\n",
    "\n",
    "dr_session_list=(\n",
    "    session_table.filter(\n",
    "    pl.col('project')==\"DynamicRouting\",\n",
    "    pl.col('is_production'),\n",
    "    pl.col('is_annotated'),\n",
    "    pl.col('issues')==\"\",\n",
    "    # pl.col('is_good_behavior').eq(True),\n",
    "    )['session_id'].to_list()\n",
    "    )"
   ]
  },
  {
   "cell_type": "code",
   "execution_count": 52,
   "metadata": {},
   "outputs": [],
   "source": [
    "#define grouping columns\n",
    "grouping_cols = {\n",
    "    'session_id',\n",
    "    'structure',\n",
    "    'electrode_group_names',\n",
    "    'unit_subsample_size',\n",
    "    'bin_center',\n",
    "    'bin_size',\n",
    "    'time_aligned_to',\n",
    "    'coefs',\n",
    "    'unit_ids',\n",
    "}\n",
    "\n",
    "#toggle combine_multi_probe_rec\n",
    "combine_multi_probe_rec = True\n",
    "\n",
    "if combine_multi_probe_rec:\n",
    "    combine_multi_probe_expr = pl.col('electrode_group_names').list.len().gt(1) | pl.col('is_sole_recording').eq(True)\n",
    "else:\n",
    "    combine_multi_probe_expr = pl.col('electrode_group_names').list.len().eq(1) | pl.col('is_sole_recording').eq(True)\n"
   ]
  },
  {
   "cell_type": "code",
   "execution_count": 53,
   "metadata": {},
   "outputs": [],
   "source": [
    "#get single session, keep coefs (and unit ids?)\n",
    "\n",
    "#include repeats, but don't need predict_proba\n",
    "\n",
    "#one row per repeat, with coefs and unit ids\n",
    "\n",
    "### make separate query to include repeats - specify session\n",
    "sel_session='742903_2024-10-22' #the golden session\n",
    "# sel_session='670180_2023-07-27' #a templeton session\n",
    "decoder_coefs = (\n",
    "    pl.scan_parquet(results_path)\n",
    "    .filter(\n",
    "        pl.col('session_id').eq(sel_session),\n",
    "    )\n",
    "    .with_columns(\n",
    "        pl.col('electrode_group_names').flatten().n_unique().eq(1).over(grouping_cols - {'electrode_group_names'}).alias('is_sole_recording'),     \n",
    "    )\n",
    "    .filter(\n",
    "        combine_multi_probe_expr,\n",
    "        pl.col('is_all_trials').not_(),\n",
    "        \n",
    "        # pl.col('shift_idx').eq(0)\n",
    "    )\n",
    "    # .drop('electrode_group_names', 'is_all_trials', 'is_sole_recording')\n",
    "    # .group_by(grouping_cols | {'shift_idx'}, maintain_order=True)\n",
    "    # .agg(\n",
    "    #     pl.col('balanced_accuracy_test').mean(), # over repeats\n",
    "    # )\n",
    "    # # get the aligned result and median over shifts:\n",
    "    # .group_by(grouping_cols - {'electrode_group_names'})\n",
    "    # .agg(\n",
    "    #     pl.col('balanced_accuracy_test').filter(pl.col('shift_idx') == 0).first().alias('mean_true'),\n",
    "    #     pl.col('balanced_accuracy_test').filter(pl.col('shift_idx') != 0).median().alias('median_null'),\n",
    "    #     pl.col('balanced_accuracy_test', 'shift_idx').sort_by('shift_idx'),\n",
    "    # )\n",
    "    # # get the difference between true and null:\n",
    "    # .with_columns(\n",
    "    #     pl.col('mean_true').sub(pl.col('median_null')).alias('mean_diff'),\n",
    "    # )\n",
    "    .sort('structure', 'shift_idx', 'repeat_idx', 'time_aligned_to', 'bin_center', descending=False, maintain_order=True)\n",
    "    .collect()\n",
    "\n",
    "    # .drop('shift_idx', 'is_all_trials', 'electrode_group_names', 'unit_criteria', 'is_sole_recording')\n",
    "    # .group_by('session_id', 'structure', 'unit_subsample_size', 'repeat_idx')\n",
    "    # .agg(\n",
    "    #     pl.col('balanced_accuracy_test', 'total_n_units').first(),\n",
    "    #     pl.col('predict_proba', 'trial_index', 'is_vis_context', 'stim_name', 'is_response', 'trial_index_in_block', 'block_index'),\n",
    "    # )\n",
    "    # .sort('session_id','structure', 'unit_subsample_size', 'repeat_idx')\n",
    "    # # .group_by('session_id','structure')\n",
    "    # .collect()\n",
    ")"
   ]
  },
  {
   "cell_type": "code",
   "execution_count": 54,
   "metadata": {},
   "outputs": [
    {
     "data": {
      "text/html": [
       "<div><style>\n",
       ".dataframe > thead > tr,\n",
       ".dataframe > tbody > tr {\n",
       "  text-align: right;\n",
       "  white-space: pre-wrap;\n",
       "}\n",
       "</style>\n",
       "<small>shape: (823_200, 18)</small><table border=\"1\" class=\"dataframe\"><thead><tr><th>balanced_accuracy_test</th><th>balanced_accuracy_train</th><th>time_aligned_to</th><th>bin_size</th><th>bin_center</th><th>shift_idx</th><th>repeat_idx</th><th>predict_proba</th><th>trial_indices</th><th>unit_ids</th><th>coefs</th><th>is_all_trials</th><th>session_id</th><th>structure</th><th>electrode_group_names</th><th>unit_subsample_size</th><th>unit_criteria</th><th>is_sole_recording</th></tr><tr><td>f64</td><td>f64</td><td>enum</td><td>f64</td><td>f64</td><td>i16</td><td>u16</td><td>list[f64]</td><td>list[u16]</td><td>list[str]</td><td>list[f64]</td><td>bool</td><td>str</td><td>str</td><td>list[str]</td><td>u16</td><td>str</td><td>bool</td></tr></thead><tbody><tr><td>0.652029</td><td>0.757818</td><td>&quot;stim_start_time&quot;</td><td>0.5</td><td>-1.25</td><td>-43</td><td>0</td><td>null</td><td>null</td><td>[&quot;742903_2024-10-22_A-127&quot;, &quot;742903_2024-10-22_A-328&quot;, … &quot;742903_2024-10-22_A-79&quot;]</td><td>[0.521531, 0.014124, … -0.619226]</td><td>false</td><td>&quot;742903_2024-10-22&quot;</td><td>&quot;ACAd&quot;</td><td>[&quot;probeA&quot;]</td><td>null</td><td>&quot;loose_drift&quot;</td><td>true</td></tr><tr><td>0.630193</td><td>0.77442</td><td>&quot;stim_start_time&quot;</td><td>0.5</td><td>-0.75</td><td>-43</td><td>0</td><td>null</td><td>null</td><td>[&quot;742903_2024-10-22_A-95&quot;, &quot;742903_2024-10-22_A-366&quot;, … &quot;742903_2024-10-22_A-365&quot;]</td><td>[0.005938, 0.042261, … -0.420054]</td><td>false</td><td>&quot;742903_2024-10-22&quot;</td><td>&quot;ACAd&quot;</td><td>[&quot;probeA&quot;]</td><td>null</td><td>&quot;loose_drift&quot;</td><td>true</td></tr><tr><td>0.623188</td><td>0.756123</td><td>&quot;stim_start_time&quot;</td><td>0.5</td><td>-0.25</td><td>-43</td><td>0</td><td>null</td><td>null</td><td>[&quot;742903_2024-10-22_A-94&quot;, &quot;742903_2024-10-22_A-106&quot;, … &quot;742903_2024-10-22_A-111&quot;]</td><td>[0.236025, -0.012707, … -0.45723]</td><td>false</td><td>&quot;742903_2024-10-22&quot;</td><td>&quot;ACAd&quot;</td><td>[&quot;probeA&quot;]</td><td>null</td><td>&quot;loose_drift&quot;</td><td>true</td></tr><tr><td>0.618599</td><td>0.758889</td><td>&quot;stim_start_time&quot;</td><td>0.5</td><td>0.25</td><td>-43</td><td>0</td><td>null</td><td>null</td><td>[&quot;742903_2024-10-22_A-326&quot;, &quot;742903_2024-10-22_A-102&quot;, … &quot;742903_2024-10-22_A-85&quot;]</td><td>[0.068896, 0.171747, … -0.314964]</td><td>false</td><td>&quot;742903_2024-10-22&quot;</td><td>&quot;ACAd&quot;</td><td>[&quot;probeA&quot;]</td><td>null</td><td>&quot;loose_drift&quot;</td><td>true</td></tr><tr><td>0.643333</td><td>0.751108</td><td>&quot;stim_start_time&quot;</td><td>0.5</td><td>0.75</td><td>-43</td><td>0</td><td>null</td><td>null</td><td>[&quot;742903_2024-10-22_A-358&quot;, &quot;742903_2024-10-22_A-328&quot;, … &quot;742903_2024-10-22_A-109&quot;]</td><td>[0.474754, 0.149302, … -0.427833]</td><td>false</td><td>&quot;742903_2024-10-22&quot;</td><td>&quot;ACAd&quot;</td><td>[&quot;probeA&quot;]</td><td>null</td><td>&quot;loose_drift&quot;</td><td>true</td></tr><tr><td>&hellip;</td><td>&hellip;</td><td>&hellip;</td><td>&hellip;</td><td>&hellip;</td><td>&hellip;</td><td>&hellip;</td><td>&hellip;</td><td>&hellip;</td><td>&hellip;</td><td>&hellip;</td><td>&hellip;</td><td>&hellip;</td><td>&hellip;</td><td>&hellip;</td><td>&hellip;</td><td>&hellip;</td><td>&hellip;</td></tr><tr><td>0.56744</td><td>0.758818</td><td>&quot;stim_start_time&quot;</td><td>0.5</td><td>4.25</td><td>44</td><td>24</td><td>null</td><td>null</td><td>[&quot;742903_2024-10-22_E-61&quot;, &quot;742903_2024-10-22_E-559&quot;, … &quot;742903_2024-10-22_E-52&quot;]</td><td>[0.545426, 0.074064, … -0.062898]</td><td>false</td><td>&quot;742903_2024-10-22&quot;</td><td>&quot;TTd&quot;</td><td>[&quot;probeE&quot;]</td><td>null</td><td>&quot;loose_drift&quot;</td><td>true</td></tr><tr><td>0.498792</td><td>0.753874</td><td>&quot;stim_start_time&quot;</td><td>0.5</td><td>4.75</td><td>44</td><td>24</td><td>null</td><td>null</td><td>[&quot;742903_2024-10-22_E-57&quot;, &quot;742903_2024-10-22_E-66&quot;, … &quot;742903_2024-10-22_E-54&quot;]</td><td>[-0.131496, 0.321597, … 0.285106]</td><td>false</td><td>&quot;742903_2024-10-22&quot;</td><td>&quot;TTd&quot;</td><td>[&quot;probeE&quot;, &quot;probeF&quot;]</td><td>null</td><td>&quot;loose_drift&quot;</td><td>false</td></tr><tr><td>0.51657</td><td>0.73392</td><td>&quot;stim_start_time&quot;</td><td>0.5</td><td>4.75</td><td>44</td><td>24</td><td>null</td><td>null</td><td>[&quot;742903_2024-10-22_E-1005&quot;, &quot;742903_2024-10-22_E-557&quot;, … &quot;742903_2024-10-22_E-1219&quot;]</td><td>[-0.132133, 0.312828, … 0.020117]</td><td>false</td><td>&quot;742903_2024-10-22&quot;</td><td>&quot;TTd&quot;</td><td>[&quot;probeE&quot;]</td><td>null</td><td>&quot;loose_drift&quot;</td><td>true</td></tr><tr><td>0.509855</td><td>0.758877</td><td>&quot;stim_start_time&quot;</td><td>0.5</td><td>5.25</td><td>44</td><td>24</td><td>null</td><td>null</td><td>[&quot;742903_2024-10-22_E-557&quot;, &quot;742903_2024-10-22_E-12&quot;, … &quot;742903_2024-10-22_E-529&quot;]</td><td>[-0.102315, -0.052704, … 0.409219]</td><td>false</td><td>&quot;742903_2024-10-22&quot;</td><td>&quot;TTd&quot;</td><td>[&quot;probeE&quot;, &quot;probeF&quot;]</td><td>null</td><td>&quot;loose_drift&quot;</td><td>false</td></tr><tr><td>0.527729</td><td>0.754405</td><td>&quot;stim_start_time&quot;</td><td>0.5</td><td>5.25</td><td>44</td><td>24</td><td>null</td><td>null</td><td>[&quot;742903_2024-10-22_E-58&quot;, &quot;742903_2024-10-22_E-61&quot;, … &quot;742903_2024-10-22_E-51&quot;]</td><td>[-0.099092, -0.041274, … 0.946354]</td><td>false</td><td>&quot;742903_2024-10-22&quot;</td><td>&quot;TTd&quot;</td><td>[&quot;probeE&quot;]</td><td>null</td><td>&quot;loose_drift&quot;</td><td>true</td></tr></tbody></table></div>"
      ],
      "text/plain": [
       "shape: (823_200, 18)\n",
       "┌───────────┬───────────┬───────────┬──────────┬───┬───────────┬───────────┬───────────┬───────────┐\n",
       "│ balanced_ ┆ balanced_ ┆ time_alig ┆ bin_size ┆ … ┆ electrode ┆ unit_subs ┆ unit_crit ┆ is_sole_r │\n",
       "│ accuracy_ ┆ accuracy_ ┆ ned_to    ┆ ---      ┆   ┆ _group_na ┆ ample_siz ┆ eria      ┆ ecording  │\n",
       "│ test      ┆ train     ┆ ---       ┆ f64      ┆   ┆ mes       ┆ e         ┆ ---       ┆ ---       │\n",
       "│ ---       ┆ ---       ┆ enum      ┆          ┆   ┆ ---       ┆ ---       ┆ str       ┆ bool      │\n",
       "│ f64       ┆ f64       ┆           ┆          ┆   ┆ list[str] ┆ u16       ┆           ┆           │\n",
       "╞═══════════╪═══════════╪═══════════╪══════════╪═══╪═══════════╪═══════════╪═══════════╪═══════════╡\n",
       "│ 0.652029  ┆ 0.757818  ┆ stim_star ┆ 0.5      ┆ … ┆ [\"probeA\" ┆ null      ┆ loose_dri ┆ true      │\n",
       "│           ┆           ┆ t_time    ┆          ┆   ┆ ]         ┆           ┆ ft        ┆           │\n",
       "│ 0.630193  ┆ 0.77442   ┆ stim_star ┆ 0.5      ┆ … ┆ [\"probeA\" ┆ null      ┆ loose_dri ┆ true      │\n",
       "│           ┆           ┆ t_time    ┆          ┆   ┆ ]         ┆           ┆ ft        ┆           │\n",
       "│ 0.623188  ┆ 0.756123  ┆ stim_star ┆ 0.5      ┆ … ┆ [\"probeA\" ┆ null      ┆ loose_dri ┆ true      │\n",
       "│           ┆           ┆ t_time    ┆          ┆   ┆ ]         ┆           ┆ ft        ┆           │\n",
       "│ 0.618599  ┆ 0.758889  ┆ stim_star ┆ 0.5      ┆ … ┆ [\"probeA\" ┆ null      ┆ loose_dri ┆ true      │\n",
       "│           ┆           ┆ t_time    ┆          ┆   ┆ ]         ┆           ┆ ft        ┆           │\n",
       "│ 0.643333  ┆ 0.751108  ┆ stim_star ┆ 0.5      ┆ … ┆ [\"probeA\" ┆ null      ┆ loose_dri ┆ true      │\n",
       "│           ┆           ┆ t_time    ┆          ┆   ┆ ]         ┆           ┆ ft        ┆           │\n",
       "│ …         ┆ …         ┆ …         ┆ …        ┆ … ┆ …         ┆ …         ┆ …         ┆ …         │\n",
       "│ 0.56744   ┆ 0.758818  ┆ stim_star ┆ 0.5      ┆ … ┆ [\"probeE\" ┆ null      ┆ loose_dri ┆ true      │\n",
       "│           ┆           ┆ t_time    ┆          ┆   ┆ ]         ┆           ┆ ft        ┆           │\n",
       "│ 0.498792  ┆ 0.753874  ┆ stim_star ┆ 0.5      ┆ … ┆ [\"probeE\" ┆ null      ┆ loose_dri ┆ false     │\n",
       "│           ┆           ┆ t_time    ┆          ┆   ┆ ,         ┆           ┆ ft        ┆           │\n",
       "│           ┆           ┆           ┆          ┆   ┆ \"probeF\"] ┆           ┆           ┆           │\n",
       "│ 0.51657   ┆ 0.73392   ┆ stim_star ┆ 0.5      ┆ … ┆ [\"probeE\" ┆ null      ┆ loose_dri ┆ true      │\n",
       "│           ┆           ┆ t_time    ┆          ┆   ┆ ]         ┆           ┆ ft        ┆           │\n",
       "│ 0.509855  ┆ 0.758877  ┆ stim_star ┆ 0.5      ┆ … ┆ [\"probeE\" ┆ null      ┆ loose_dri ┆ false     │\n",
       "│           ┆           ┆ t_time    ┆          ┆   ┆ ,         ┆           ┆ ft        ┆           │\n",
       "│           ┆           ┆           ┆          ┆   ┆ \"probeF\"] ┆           ┆           ┆           │\n",
       "│ 0.527729  ┆ 0.754405  ┆ stim_star ┆ 0.5      ┆ … ┆ [\"probeE\" ┆ null      ┆ loose_dri ┆ true      │\n",
       "│           ┆           ┆ t_time    ┆          ┆   ┆ ]         ┆           ┆ ft        ┆           │\n",
       "└───────────┴───────────┴───────────┴──────────┴───┴───────────┴───────────┴───────────┴───────────┘"
      ]
     },
     "execution_count": 54,
     "metadata": {},
     "output_type": "execute_result"
    }
   ],
   "source": [
    "decoder_coefs"
   ]
  },
  {
   "cell_type": "code",
   "execution_count": 55,
   "metadata": {},
   "outputs": [],
   "source": [
    "decoder_coefs_pd=decoder_coefs.to_pandas()"
   ]
  },
  {
   "cell_type": "code",
   "execution_count": 57,
   "metadata": {},
   "outputs": [],
   "source": [
    "# savepath=r\"\\\\allen\\programs\\mindscope\\workgroups\\dynamicrouting\\Ethan\\CO decoding results\\keep_units_consistent_test_2025-06-05_170828\\decoder_coefs.parquet\"\n",
    "# savepath=\"/Users/ethan.mcbride/Data/DR/keep_units_consistent_test_2025-06-05_170828/decoder_coefs.parquet\"\n",
    "savepath=\"/Users/ethan.mcbride/Data/DR/keep_units_consistent_test_20250605_185958/decoder_coefs.parquet\"\n",
    "decoder_coefs_pd.to_parquet(savepath)"
   ]
  },
  {
   "cell_type": "code",
   "execution_count": null,
   "metadata": {},
   "outputs": [],
   "source": [
    "decoder_coefs_pd=pd.read_parquet(\"/Users/ethan.mcbride/Data/DR/keep_units_consistent_test_2025-06-05_170828/decoder_coefs.parquet\")"
   ]
  },
  {
   "cell_type": "code",
   "execution_count": 62,
   "metadata": {},
   "outputs": [],
   "source": [
    "# for each repeat, \n",
    "\n",
    "# get the balanced accuracy test & train, plus the coefs and unit ids across timebins\n",
    "\n",
    "# check the unit ids are the same across all timebins\n",
    "\n",
    "# compute the correlation of the coefs to the first timebin\n",
    "\n",
    "\n",
    "# start with one repeat, one structure\n",
    "\n",
    "sel_structure='ACAd'\n",
    "sel_repeat=0\n",
    "sel_shift_idx=0\n",
    "# sel_time_bin=-0.25\n",
    "sel_time_aligned_to='stim_start_time'\n"
   ]
  },
  {
   "cell_type": "code",
   "execution_count": 34,
   "metadata": {},
   "outputs": [],
   "source": [
    "# decoder_coefs_pd.query(f'structure == \"{sel_structure}\" and repeat_idx == {sel_repeat} and time_aligned_to == \"{sel_time_aligned_to}\"')['unit_ids']\n",
    "# decoder_coefs_pd.query(f'structure == \"{sel_structure}\" and bin_center == {sel_time_bin}')"
   ]
  },
  {
   "cell_type": "code",
   "execution_count": 63,
   "metadata": {},
   "outputs": [
    {
     "data": {
      "text/plain": [
       "array([[ True,  True,  True,  True,  True,  True,  True,  True,  True,\n",
       "         True,  True,  True,  True,  True,  True,  True,  True,  True,\n",
       "         True,  True,  True,  True,  True,  True,  True,  True,  True,\n",
       "         True,  True,  True,  True,  True,  True,  True,  True,  True,\n",
       "         True,  True,  True,  True,  True,  True,  True,  True,  True,\n",
       "         True,  True,  True,  True,  True,  True,  True,  True,  True,\n",
       "         True,  True,  True,  True,  True,  True,  True,  True,  True,\n",
       "         True,  True,  True,  True],\n",
       "       [ True,  True,  True,  True,  True,  True,  True,  True,  True,\n",
       "         True,  True,  True,  True,  True,  True,  True,  True,  True,\n",
       "         True,  True,  True,  True,  True,  True,  True,  True,  True,\n",
       "         True,  True,  True,  True,  True,  True,  True,  True,  True,\n",
       "         True,  True,  True,  True,  True,  True,  True,  True,  True,\n",
       "         True,  True,  True,  True,  True,  True,  True,  True,  True,\n",
       "         True,  True,  True,  True,  True,  True,  True,  True,  True,\n",
       "         True,  True,  True,  True],\n",
       "       [ True,  True,  True,  True,  True,  True,  True,  True,  True,\n",
       "         True,  True,  True,  True,  True,  True,  True,  True,  True,\n",
       "         True,  True,  True,  True,  True,  True,  True,  True,  True,\n",
       "         True,  True,  True,  True,  True,  True,  True,  True,  True,\n",
       "         True,  True,  True,  True,  True,  True,  True,  True,  True,\n",
       "         True,  True,  True,  True,  True,  True,  True,  True,  True,\n",
       "         True,  True,  True,  True,  True,  True,  True,  True,  True,\n",
       "         True,  True,  True,  True],\n",
       "       [ True,  True,  True,  True,  True,  True,  True,  True,  True,\n",
       "         True,  True,  True,  True,  True,  True,  True,  True,  True,\n",
       "         True,  True,  True,  True,  True,  True,  True,  True,  True,\n",
       "         True,  True,  True,  True,  True,  True,  True,  True,  True,\n",
       "         True,  True,  True,  True,  True,  True,  True,  True,  True,\n",
       "         True,  True,  True,  True,  True,  True,  True,  True,  True,\n",
       "         True,  True,  True,  True,  True,  True,  True,  True,  True,\n",
       "         True,  True,  True,  True],\n",
       "       [ True,  True,  True,  True,  True,  True,  True,  True,  True,\n",
       "         True,  True,  True,  True,  True,  True,  True,  True,  True,\n",
       "         True,  True,  True,  True,  True,  True,  True,  True,  True,\n",
       "         True,  True,  True,  True,  True,  True,  True,  True,  True,\n",
       "         True,  True,  True,  True,  True,  True,  True,  True,  True,\n",
       "         True,  True,  True,  True,  True,  True,  True,  True,  True,\n",
       "         True,  True,  True,  True,  True,  True,  True,  True,  True,\n",
       "         True,  True,  True,  True],\n",
       "       [ True,  True,  True,  True,  True,  True,  True,  True,  True,\n",
       "         True,  True,  True,  True,  True,  True,  True,  True,  True,\n",
       "         True,  True,  True,  True,  True,  True,  True,  True,  True,\n",
       "         True,  True,  True,  True,  True,  True,  True,  True,  True,\n",
       "         True,  True,  True,  True,  True,  True,  True,  True,  True,\n",
       "         True,  True,  True,  True,  True,  True,  True,  True,  True,\n",
       "         True,  True,  True,  True,  True,  True,  True,  True,  True,\n",
       "         True,  True,  True,  True],\n",
       "       [ True,  True,  True,  True,  True,  True,  True,  True,  True,\n",
       "         True,  True,  True,  True,  True,  True,  True,  True,  True,\n",
       "         True,  True,  True,  True,  True,  True,  True,  True,  True,\n",
       "         True,  True,  True,  True,  True,  True,  True,  True,  True,\n",
       "         True,  True,  True,  True,  True,  True,  True,  True,  True,\n",
       "         True,  True,  True,  True,  True,  True,  True,  True,  True,\n",
       "         True,  True,  True,  True,  True,  True,  True,  True,  True,\n",
       "         True,  True,  True,  True],\n",
       "       [ True,  True,  True,  True,  True,  True,  True,  True,  True,\n",
       "         True,  True,  True,  True,  True,  True,  True,  True,  True,\n",
       "         True,  True,  True,  True,  True,  True,  True,  True,  True,\n",
       "         True,  True,  True,  True,  True,  True,  True,  True,  True,\n",
       "         True,  True,  True,  True,  True,  True,  True,  True,  True,\n",
       "         True,  True,  True,  True,  True,  True,  True,  True,  True,\n",
       "         True,  True,  True,  True,  True,  True,  True,  True,  True,\n",
       "         True,  True,  True,  True],\n",
       "       [ True,  True,  True,  True,  True,  True,  True,  True,  True,\n",
       "         True,  True,  True,  True,  True,  True,  True,  True,  True,\n",
       "         True,  True,  True,  True,  True,  True,  True,  True,  True,\n",
       "         True,  True,  True,  True,  True,  True,  True,  True,  True,\n",
       "         True,  True,  True,  True,  True,  True,  True,  True,  True,\n",
       "         True,  True,  True,  True,  True,  True,  True,  True,  True,\n",
       "         True,  True,  True,  True,  True,  True,  True,  True,  True,\n",
       "         True,  True,  True,  True],\n",
       "       [ True,  True,  True,  True,  True,  True,  True,  True,  True,\n",
       "         True,  True,  True,  True,  True,  True,  True,  True,  True,\n",
       "         True,  True,  True,  True,  True,  True,  True,  True,  True,\n",
       "         True,  True,  True,  True,  True,  True,  True,  True,  True,\n",
       "         True,  True,  True,  True,  True,  True,  True,  True,  True,\n",
       "         True,  True,  True,  True,  True,  True,  True,  True,  True,\n",
       "         True,  True,  True,  True,  True,  True,  True,  True,  True,\n",
       "         True,  True,  True,  True],\n",
       "       [ True,  True,  True,  True,  True,  True,  True,  True,  True,\n",
       "         True,  True,  True,  True,  True,  True,  True,  True,  True,\n",
       "         True,  True,  True,  True,  True,  True,  True,  True,  True,\n",
       "         True,  True,  True,  True,  True,  True,  True,  True,  True,\n",
       "         True,  True,  True,  True,  True,  True,  True,  True,  True,\n",
       "         True,  True,  True,  True,  True,  True,  True,  True,  True,\n",
       "         True,  True,  True,  True,  True,  True,  True,  True,  True,\n",
       "         True,  True,  True,  True],\n",
       "       [ True,  True,  True,  True,  True,  True,  True,  True,  True,\n",
       "         True,  True,  True,  True,  True,  True,  True,  True,  True,\n",
       "         True,  True,  True,  True,  True,  True,  True,  True,  True,\n",
       "         True,  True,  True,  True,  True,  True,  True,  True,  True,\n",
       "         True,  True,  True,  True,  True,  True,  True,  True,  True,\n",
       "         True,  True,  True,  True,  True,  True,  True,  True,  True,\n",
       "         True,  True,  True,  True,  True,  True,  True,  True,  True,\n",
       "         True,  True,  True,  True],\n",
       "       [ True,  True,  True,  True,  True,  True,  True,  True,  True,\n",
       "         True,  True,  True,  True,  True,  True,  True,  True,  True,\n",
       "         True,  True,  True,  True,  True,  True,  True,  True,  True,\n",
       "         True,  True,  True,  True,  True,  True,  True,  True,  True,\n",
       "         True,  True,  True,  True,  True,  True,  True,  True,  True,\n",
       "         True,  True,  True,  True,  True,  True,  True,  True,  True,\n",
       "         True,  True,  True,  True,  True,  True,  True,  True,  True,\n",
       "         True,  True,  True,  True],\n",
       "       [ True,  True,  True,  True,  True,  True,  True,  True,  True,\n",
       "         True,  True,  True,  True,  True,  True,  True,  True,  True,\n",
       "         True,  True,  True,  True,  True,  True,  True,  True,  True,\n",
       "         True,  True,  True,  True,  True,  True,  True,  True,  True,\n",
       "         True,  True,  True,  True,  True,  True,  True,  True,  True,\n",
       "         True,  True,  True,  True,  True,  True,  True,  True,  True,\n",
       "         True,  True,  True,  True,  True,  True,  True,  True,  True,\n",
       "         True,  True,  True,  True]])"
      ]
     },
     "execution_count": 63,
     "metadata": {},
     "output_type": "execute_result"
    }
   ],
   "source": [
    "# unit_ids=decoder_coefs_pd.query(f'structure == \"{sel_structure}\" and repeat_idx == {sel_repeat} and time_aligned_to == \"{sel_time_aligned_to}\"')['unit_ids']\n",
    "\n",
    "# unit_ids=decoder_coefs_pd.query(f'structure == \"{sel_structure}\" and bin_center == {sel_time_bin} and \\\n",
    "#                                 repeat_idx == {sel_repeat} and time_aligned_to == \"{sel_time_aligned_to}\"')['unit_ids'].values\n",
    "\n",
    "unit_ids=decoder_coefs_pd.query(f'structure == \"{sel_structure}\" and shift_idx == {sel_shift_idx} and \\\n",
    "                                repeat_idx == {sel_repeat} and time_aligned_to == \"{sel_time_aligned_to}\"')['unit_ids'].values\n",
    "\n",
    "sorted_unit_ids=[]\n",
    "\n",
    "for uu in unit_ids:\n",
    "    sorted_unit_ids.append(np.sort(uu))\n",
    "\n",
    "sorted_unit_ids==sorted_unit_ids[0]"
   ]
  },
  {
   "cell_type": "code",
   "execution_count": 40,
   "metadata": {},
   "outputs": [],
   "source": [
    "# subsample=np.array([1,3,7,13,20])\n",
    "# full_array=np.arange(0,30)\n",
    "\n",
    "# np.where(np.isin(full_array, subsample))[0]\n",
    "# sel_rows['electrode_group_names'].iloc[0]\n"
   ]
  },
  {
   "cell_type": "code",
   "execution_count": null,
   "metadata": {},
   "outputs": [],
   "source": []
  },
  {
   "cell_type": "code",
   "execution_count": null,
   "metadata": {},
   "outputs": [
    {
     "data": {
      "text/plain": [
       "1"
      ]
     },
     "execution_count": 115,
     "metadata": {},
     "output_type": "execute_result"
    }
   ],
   "source": [
    "### TODO: deal with multiple probes per area\n",
    "decoder_coefs_pd['electrode_group_names'].iloc[0]"
   ]
  },
  {
   "cell_type": "code",
   "execution_count": null,
   "metadata": {},
   "outputs": [
    {
     "name": "stdout",
     "output_type": "stream",
     "text": [
      "ABC 3\n"
     ]
    }
   ],
   "source": [
    "probestr=''\n",
    "n_probes=0\n",
    "for pr in np.array(['probeA','probeB','probeC']):\n",
    "    probestr=probestr+pr[-1]\n",
    "    n_probes=n_probes+1\n",
    "\n",
    "print(probestr,n_probes)"
   ]
  },
  {
   "cell_type": "code",
   "execution_count": 124,
   "metadata": {},
   "outputs": [],
   "source": [
    "probe_str_list=[]\n",
    "n_probes_list=[]\n",
    "for rr, row in decoder_coefs_pd.iterrows():\n",
    "    n_probes=0\n",
    "    probe_str=''\n",
    "    for pr in row['electrode_group_names']:\n",
    "        probe_str=probe_str+pr[-1]\n",
    "        n_probes=n_probes+1\n",
    "\n",
    "    probe_str_list.append(probe_str)\n",
    "    n_probes_list.append(n_probes)\n",
    "\n",
    "decoder_coefs_pd['probe']=probe_str_list\n",
    "decoder_coefs_pd['n_probes']=n_probes_list"
   ]
  },
  {
   "cell_type": "code",
   "execution_count": 125,
   "metadata": {},
   "outputs": [
    {
     "data": {
      "text/html": [
       "<div>\n",
       "<style scoped>\n",
       "    .dataframe tbody tr th:only-of-type {\n",
       "        vertical-align: middle;\n",
       "    }\n",
       "\n",
       "    .dataframe tbody tr th {\n",
       "        vertical-align: top;\n",
       "    }\n",
       "\n",
       "    .dataframe thead th {\n",
       "        text-align: right;\n",
       "    }\n",
       "</style>\n",
       "<table border=\"1\" class=\"dataframe\">\n",
       "  <thead>\n",
       "    <tr style=\"text-align: right;\">\n",
       "      <th></th>\n",
       "      <th>electrode_group_names</th>\n",
       "      <th>probe</th>\n",
       "      <th>n_probes</th>\n",
       "    </tr>\n",
       "  </thead>\n",
       "  <tbody>\n",
       "    <tr>\n",
       "      <th>0</th>\n",
       "      <td>[probeA]</td>\n",
       "      <td>A</td>\n",
       "      <td>1</td>\n",
       "    </tr>\n",
       "    <tr>\n",
       "      <th>1</th>\n",
       "      <td>[probeA]</td>\n",
       "      <td>A</td>\n",
       "      <td>1</td>\n",
       "    </tr>\n",
       "    <tr>\n",
       "      <th>2</th>\n",
       "      <td>[probeA]</td>\n",
       "      <td>A</td>\n",
       "      <td>1</td>\n",
       "    </tr>\n",
       "    <tr>\n",
       "      <th>3</th>\n",
       "      <td>[probeA]</td>\n",
       "      <td>A</td>\n",
       "      <td>1</td>\n",
       "    </tr>\n",
       "    <tr>\n",
       "      <th>4</th>\n",
       "      <td>[probeA]</td>\n",
       "      <td>A</td>\n",
       "      <td>1</td>\n",
       "    </tr>\n",
       "    <tr>\n",
       "      <th>...</th>\n",
       "      <td>...</td>\n",
       "      <td>...</td>\n",
       "      <td>...</td>\n",
       "    </tr>\n",
       "    <tr>\n",
       "      <th>823195</th>\n",
       "      <td>[probeE]</td>\n",
       "      <td>E</td>\n",
       "      <td>1</td>\n",
       "    </tr>\n",
       "    <tr>\n",
       "      <th>823196</th>\n",
       "      <td>[probeE, probeF]</td>\n",
       "      <td>EF</td>\n",
       "      <td>2</td>\n",
       "    </tr>\n",
       "    <tr>\n",
       "      <th>823197</th>\n",
       "      <td>[probeE]</td>\n",
       "      <td>E</td>\n",
       "      <td>1</td>\n",
       "    </tr>\n",
       "    <tr>\n",
       "      <th>823198</th>\n",
       "      <td>[probeE, probeF]</td>\n",
       "      <td>EF</td>\n",
       "      <td>2</td>\n",
       "    </tr>\n",
       "    <tr>\n",
       "      <th>823199</th>\n",
       "      <td>[probeE]</td>\n",
       "      <td>E</td>\n",
       "      <td>1</td>\n",
       "    </tr>\n",
       "  </tbody>\n",
       "</table>\n",
       "<p>823200 rows × 3 columns</p>\n",
       "</div>"
      ],
      "text/plain": [
       "       electrode_group_names probe  n_probes\n",
       "0                   [probeA]     A         1\n",
       "1                   [probeA]     A         1\n",
       "2                   [probeA]     A         1\n",
       "3                   [probeA]     A         1\n",
       "4                   [probeA]     A         1\n",
       "...                      ...   ...       ...\n",
       "823195              [probeE]     E         1\n",
       "823196      [probeE, probeF]    EF         2\n",
       "823197              [probeE]     E         1\n",
       "823198      [probeE, probeF]    EF         2\n",
       "823199              [probeE]     E         1\n",
       "\n",
       "[823200 rows x 3 columns]"
      ]
     },
     "execution_count": 125,
     "metadata": {},
     "output_type": "execute_result"
    }
   ],
   "source": [
    "decoder_coefs_pd[['electrode_group_names','probe','n_probes']]"
   ]
  },
  {
   "cell_type": "code",
   "execution_count": null,
   "metadata": {},
   "outputs": [
    {
     "data": {
      "text/plain": [
       "array(['E', 'AEF', 'F', 'A'], dtype=object)"
      ]
     },
     "execution_count": 128,
     "metadata": {},
     "output_type": "execute_result"
    }
   ],
   "source": [
    "decoder_coefs_pd.query('structure==@sel_structure')['probe'].unique()"
   ]
  },
  {
   "cell_type": "code",
   "execution_count": 140,
   "metadata": {},
   "outputs": [
    {
     "data": {
      "text/plain": [
       "Text(0.5, 1.0, 'ACAd; 742903_2024-10-22; probeA')"
      ]
     },
     "execution_count": 140,
     "metadata": {},
     "output_type": "execute_result"
    },
    {
     "data": {
      "image/png": "[encoded data removed]",
      "text/plain": [
       "<Figure size 640x480 with 1 Axes>"
      ]
     },
     "metadata": {},
     "output_type": "display_data"
    }
   ],
   "source": [
    "sel_structure='ACAd'\n",
    "sel_repeat=0\n",
    "sel_shift_idx=0\n",
    "# sel_time_bin=-0.25\n",
    "sel_time_aligned_to='stim_start_time'\n",
    "\n",
    "#if multiple probes, select the first one\n",
    "sel_probe_ind=0\n",
    "unique_probes=decoder_coefs_pd.query('structure==@sel_structure')['probe'].unique()\n",
    "if len(unique_probes)>sel_probe_ind:\n",
    "    probe_str=unique_probes[sel_probe_ind]\n",
    "else:\n",
    "    probe_str=unique_probes[0]\n",
    "\n",
    "#select bin index to compare to\n",
    "sel_comp_ind=0\n",
    "\n",
    "sel_rows=decoder_coefs_pd.query(f'structure == \"{sel_structure}\" and shift_idx == {sel_shift_idx} and \\\n",
    "                                repeat_idx == {sel_repeat} and time_aligned_to == \"{sel_time_aligned_to}\"')\n",
    "\n",
    "if len(unique_probes)>1:\n",
    "    sel_rows=sel_rows.query('probe==@probe_str')\n",
    "\n",
    "corr_coefs=[]\n",
    "\n",
    "# initial_sort_inds=np.argsort(sel_rows['unit_ids'].values[sel_comp_ind])\n",
    "\n",
    "initial_coefs=sel_rows['coefs'].values[sel_comp_ind]\n",
    "initial_unit_ids=sel_rows['unit_ids'].values[sel_comp_ind]\n",
    "# initial_coefs=sel_rows['coefs'].values[sel_comp_ind][initial_sort_inds]\n",
    "# initial_unit_ids=sel_rows['unit_ids'].values[sel_comp_ind][initial_sort_inds]\n",
    "\n",
    "for idx, row in sel_rows.iterrows():\n",
    "    \n",
    "    # sort_inds=np.argsort(row['unit_ids'])\n",
    "    unit_ids=np.sort(row['unit_ids'])\n",
    "    coefs=row['coefs']\n",
    "    # unit_ids=row['unit_ids'][sort_inds]\n",
    "    # coefs=row['coefs'][sort_inds]\n",
    "    \n",
    "    if np.array_equal(np.sort(initial_unit_ids), unit_ids):\n",
    "    # if np.array_equal(initial_unit_ids, unit_ids):\n",
    "        corr_coefs.append(np.corrcoef(initial_coefs, coefs)[0,1])\n",
    "    else:\n",
    "        print(f\"Unit ids in time bin {row['bin_center']} do not match initial bin in \\n repeat {sel_repeat}, structure {sel_structure}, shift_idx {sel_shift_idx}, time_aligned_to {sel_time_aligned_to}\")\n",
    "        corr_coefs.append(np.nan)\n",
    "\n",
    "\n",
    "fig,ax=plt.subplots(1,1)\n",
    "ax.axvline(0,color='k',linestyle='--',alpha=0.5)\n",
    "ax.plot(sel_rows['bin_center'],np.array(corr_coefs),label='corr')\n",
    "ax.plot(sel_rows['bin_center'],sel_rows['balanced_accuracy_test'],label='test_accuracy')\n",
    "ax.plot(sel_rows['bin_center'],sel_rows['balanced_accuracy_train'],label='train_accuracy')\n",
    "\n",
    "ax.legend()\n",
    "ax.set_xlabel('time rel to '+sel_time_aligned_to)\n",
    "ax.set_title(sel_structure+'; '+sel_session+'; probe'+probe_str)"
   ]
  },
  {
   "cell_type": "code",
   "execution_count": null,
   "metadata": {},
   "outputs": [],
   "source": []
  },
  {
   "cell_type": "code",
   "execution_count": null,
   "metadata": {},
   "outputs": [],
   "source": []
  }
 ],
 "metadata": {
  "kernelspec": {
   "display_name": "dr_ibl_analysis",
   "language": "python",
   "name": "python3"
  },
  "language_info": {
   "codemirror_mode": {
    "name": "ipython",
    "version": 3
   },
   "file_extension": ".py",
   "mimetype": "text/x-python",
   "name": "python",
   "nbconvert_exporter": "python",
   "pygments_lexer": "ipython3",
   "version": "3.11.5"
  }
 },
 "nbformat": 4,
 "nbformat_minor": 2
}
