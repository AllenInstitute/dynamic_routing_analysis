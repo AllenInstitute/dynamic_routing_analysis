{
 "cells": [
  {
   "cell_type": "code",
   "execution_count": 1,
   "metadata": {},
   "outputs": [],
   "source": [
    "import numpy as np\n",
    "import scipy.stats as stats\n",
    "import pandas as pd\n",
    "import polars as pl\n",
    "import matplotlib.pyplot as plt\n",
    "# from dynamic_routing_analysis import decoding_utils\n",
    "# from dynamic_routing_analysis import plot_utils\n",
    "# import dynamic_routing_analysis as dra\n",
    "import pingouin as pg\n",
    "import os\n",
    "\n",
    "import matplotlib\n",
    "import matplotlib.font_manager as fm\n",
    "\n",
    "matplotlib.rcParams['font.size'] = 8\n",
    "matplotlib.rcParams['pdf.fonttype'] = 42\n",
    "matplotlib.rcParams['ps.fonttype'] = 42\n",
    "fm.FontProperties().set_family('arial')\n",
    "\n",
    "%load_ext autoreload\n",
    "%autoreload 2\n",
    "# %matplotlib inline\n",
    "%matplotlib widget"
   ]
  },
  {
   "cell_type": "code",
   "execution_count": 58,
   "metadata": {},
   "outputs": [],
   "source": [
    "results_path=\"s3://aind-scratch-data/dynamic-routing/decoding/results/keep_units_consistent_test_20250605_170828/\""
   ]
  },
  {
   "cell_type": "code",
   "execution_count": 3,
   "metadata": {},
   "outputs": [],
   "source": [
    "session_table_path=r\"\\\\allen\\programs\\mindscope\\workgroups\\dynamicrouting\\Ethan\\CO decoding results\\session_table_v0.265.csv\"\n",
    "session_table=pl.read_csv(session_table_path)\n",
    "\n",
    "dr_session_list=(\n",
    "    session_table.filter(\n",
    "    pl.col('project')==\"DynamicRouting\",\n",
    "    pl.col('is_production'),\n",
    "    pl.col('is_annotated'),\n",
    "    pl.col('issues')==\"\",\n",
    "    # pl.col('is_good_behavior').eq(True),\n",
    "    )['session_id'].to_list()\n",
    "    )"
   ]
  },
  {
   "cell_type": "code",
   "execution_count": null,
   "metadata": {},
   "outputs": [],
   "source": [
    "#define grouping columns\n",
    "grouping_cols = {\n",
    "    'session_id',\n",
    "    'structure',\n",
    "    'electrode_group_names',\n",
    "    'unit_subsample_size',\n",
    "    'bin_center',\n",
    "    'bin_size',\n",
    "    'time_aligned_to',\n",
    "    'coefs',\n",
    "    'unit_ids',\n",
    "}\n",
    "\n",
    "#toggle combine_multi_probe_rec\n",
    "combine_multi_probe_rec = True\n",
    "\n",
    "if combine_multi_probe_rec:\n",
    "    combine_multi_probe_expr = pl.col('electrode_group_names').list.len().gt(1) | pl.col('is_sole_recording').eq(True)\n",
    "else:\n",
    "    combine_multi_probe_expr = pl.col('electrode_group_names').list.len().eq(1) | pl.col('is_sole_recording').eq(True)\n"
   ]
  },
  {
   "cell_type": "code",
   "execution_count": 59,
   "metadata": {},
   "outputs": [],
   "source": [
    "#get single session, keep coefs (and unit ids?)\n",
    "\n",
    "#include repeats, but don't need predict_proba\n",
    "\n",
    "#one row per repeat, with coefs and unit ids\n",
    "\n",
    "### make separate query to include repeats - specify session\n",
    "sel_session='742903_2024-10-22' #the golden session\n",
    "# sel_session='670180_2023-07-27' #a templeton session\n",
    "decoder_coefs = (\n",
    "    pl.scan_parquet(results_path)\n",
    "    .with_columns(\n",
    "        pl.col('electrode_group_names').flatten().n_unique().eq(1).over(grouping_cols - {'electrode_group_names'}).alias('is_sole_recording'),     \n",
    "    )\n",
    "    .filter(\n",
    "        combine_multi_probe_expr,\n",
    "        pl.col('is_all_trials').not_(),\n",
    "        pl.col('session_id').eq(sel_session),\n",
    "        # pl.col('shift_idx').eq(0)\n",
    "    )\n",
    "    .drop('electrode_group_names', 'is_all_trials', 'is_sole_recording')\n",
    "    # .group_by(grouping_cols | {'shift_idx'}, maintain_order=True)\n",
    "    # .agg(\n",
    "    #     pl.col('balanced_accuracy_test').mean(), # over repeats\n",
    "    # )\n",
    "    # # get the aligned result and median over shifts:\n",
    "    # .group_by(grouping_cols - {'electrode_group_names'})\n",
    "    # .agg(\n",
    "    #     pl.col('balanced_accuracy_test').filter(pl.col('shift_idx') == 0).first().alias('mean_true'),\n",
    "    #     pl.col('balanced_accuracy_test').filter(pl.col('shift_idx') != 0).median().alias('median_null'),\n",
    "    #     pl.col('balanced_accuracy_test', 'shift_idx').sort_by('shift_idx'),\n",
    "    # )\n",
    "    # # get the difference between true and null:\n",
    "    # .with_columns(\n",
    "    #     pl.col('mean_true').sub(pl.col('median_null')).alias('mean_diff'),\n",
    "    # )\n",
    "    .sort('structure', 'shift_idx', 'repeat_idx', 'time_aligned_to', 'bin_center', descending=False, maintain_order=True)\n",
    "    .collect()\n",
    "\n",
    "    # .drop('shift_idx', 'is_all_trials', 'electrode_group_names', 'unit_criteria', 'is_sole_recording')\n",
    "    # .group_by('session_id', 'structure', 'unit_subsample_size', 'repeat_idx')\n",
    "    # .agg(\n",
    "    #     pl.col('balanced_accuracy_test', 'total_n_units').first(),\n",
    "    #     pl.col('predict_proba', 'trial_index', 'is_vis_context', 'stim_name', 'is_response', 'trial_index_in_block', 'block_index'),\n",
    "    # )\n",
    "    # .sort('session_id','structure', 'unit_subsample_size', 'repeat_idx')\n",
    "    # # .group_by('session_id','structure')\n",
    "    # .collect()\n",
    ")"
   ]
  },
  {
   "cell_type": "code",
   "execution_count": 61,
   "metadata": {},
   "outputs": [
    {
     "data": {
      "text/html": [
       "<div><style>\n",
       ".dataframe > thead > tr,\n",
       ".dataframe > tbody > tr {\n",
       "  text-align: right;\n",
       "  white-space: pre-wrap;\n",
       "}\n",
       "</style>\n",
       "<small>shape: (666_400, 15)</small><table border=\"1\" class=\"dataframe\"><thead><tr><th>balanced_accuracy_test</th><th>balanced_accuracy_train</th><th>time_aligned_to</th><th>bin_size</th><th>bin_center</th><th>shift_idx</th><th>repeat_idx</th><th>predict_proba</th><th>trial_indices</th><th>unit_ids</th><th>coefs</th><th>session_id</th><th>structure</th><th>unit_subsample_size</th><th>unit_criteria</th></tr><tr><td>f64</td><td>f64</td><td>enum</td><td>f64</td><td>f64</td><td>i16</td><td>u16</td><td>list[f64]</td><td>list[u16]</td><td>list[str]</td><td>list[f64]</td><td>str</td><td>str</td><td>u16</td><td>str</td></tr></thead><tbody><tr><td>0.583333</td><td>0.640945</td><td>&quot;stim_start_time&quot;</td><td>0.5</td><td>-1.25</td><td>-43</td><td>0</td><td>null</td><td>null</td><td>[&quot;742903_2024-10-22_A-119&quot;, &quot;742903_2024-10-22_A-367&quot;, … &quot;742903_2024-10-22_A-345&quot;]</td><td>[0.054951, 0.209828, … 0.118389]</td><td>&quot;742903_2024-10-22&quot;</td><td>&quot;ACAd&quot;</td><td>20</td><td>&quot;loose_drift&quot;</td></tr><tr><td>0.559034</td><td>0.641427</td><td>&quot;stim_start_time&quot;</td><td>0.5</td><td>-0.75</td><td>-43</td><td>0</td><td>null</td><td>null</td><td>[&quot;742903_2024-10-22_A-127&quot;, &quot;742903_2024-10-22_A-365&quot;, … &quot;742903_2024-10-22_A-351&quot;]</td><td>[0.330015, -0.142493, … -0.238176]</td><td>&quot;742903_2024-10-22&quot;</td><td>&quot;ACAd&quot;</td><td>20</td><td>&quot;loose_drift&quot;</td></tr><tr><td>0.614203</td><td>0.653527</td><td>&quot;stim_start_time&quot;</td><td>0.5</td><td>-0.25</td><td>-43</td><td>0</td><td>null</td><td>null</td><td>[&quot;742903_2024-10-22_A-373&quot;, &quot;742903_2024-10-22_A-117&quot;, … &quot;742903_2024-10-22_A-567&quot;]</td><td>[0.081674, -0.095195, … -0.123481]</td><td>&quot;742903_2024-10-22&quot;</td><td>&quot;ACAd&quot;</td><td>20</td><td>&quot;loose_drift&quot;</td></tr><tr><td>0.561304</td><td>0.62368</td><td>&quot;stim_start_time&quot;</td><td>0.5</td><td>0.25</td><td>-43</td><td>0</td><td>null</td><td>null</td><td>[&quot;742903_2024-10-22_A-351&quot;, &quot;742903_2024-10-22_A-567&quot;, … &quot;742903_2024-10-22_A-326&quot;]</td><td>[-0.214795, 0.531285, … -0.310547]</td><td>&quot;742903_2024-10-22&quot;</td><td>&quot;ACAd&quot;</td><td>20</td><td>&quot;loose_drift&quot;</td></tr><tr><td>0.571932</td><td>0.646289</td><td>&quot;stim_start_time&quot;</td><td>0.5</td><td>0.75</td><td>-43</td><td>0</td><td>null</td><td>null</td><td>[&quot;742903_2024-10-22_A-567&quot;, &quot;742903_2024-10-22_A-352&quot;, … &quot;742903_2024-10-22_A-107&quot;]</td><td>[0.189186, 0.207, … 0.179007]</td><td>&quot;742903_2024-10-22&quot;</td><td>&quot;ACAd&quot;</td><td>20</td><td>&quot;loose_drift&quot;</td></tr><tr><td>&hellip;</td><td>&hellip;</td><td>&hellip;</td><td>&hellip;</td><td>&hellip;</td><td>&hellip;</td><td>&hellip;</td><td>&hellip;</td><td>&hellip;</td><td>&hellip;</td><td>&hellip;</td><td>&hellip;</td><td>&hellip;</td><td>&hellip;</td><td>&hellip;</td></tr><tr><td>0.503285</td><td>0.563781</td><td>&quot;stim_start_time&quot;</td><td>0.5</td><td>3.25</td><td>44</td><td>24</td><td>null</td><td>null</td><td>[&quot;742903_2024-10-22_E-557&quot;, &quot;742903_2024-10-22_E-1005&quot;, … &quot;742903_2024-10-22_E-33&quot;]</td><td>[0.251334, 0.432435, … -0.246885]</td><td>&quot;742903_2024-10-22&quot;</td><td>&quot;TTd&quot;</td><td>20</td><td>&quot;loose_drift&quot;</td></tr><tr><td>0.534396</td><td>0.591421</td><td>&quot;stim_start_time&quot;</td><td>0.5</td><td>3.75</td><td>44</td><td>24</td><td>null</td><td>null</td><td>[&quot;742903_2024-10-22_E-1005&quot;, &quot;742903_2024-10-22_E-564&quot;, … &quot;742903_2024-10-22_E-18&quot;]</td><td>[-0.032576, -0.331939, … 0.017552]</td><td>&quot;742903_2024-10-22&quot;</td><td>&quot;TTd&quot;</td><td>20</td><td>&quot;loose_drift&quot;</td></tr><tr><td>0.5143</td><td>0.605835</td><td>&quot;stim_start_time&quot;</td><td>0.5</td><td>4.25</td><td>44</td><td>24</td><td>null</td><td>null</td><td>[&quot;742903_2024-10-22_E-18&quot;, &quot;742903_2024-10-22_E-557&quot;, … &quot;742903_2024-10-22_E-535&quot;]</td><td>[0.201722, -0.216877, … -0.11906]</td><td>&quot;742903_2024-10-22&quot;</td><td>&quot;TTd&quot;</td><td>20</td><td>&quot;loose_drift&quot;</td></tr><tr><td>0.461111</td><td>0.591958</td><td>&quot;stim_start_time&quot;</td><td>0.5</td><td>4.75</td><td>44</td><td>24</td><td>null</td><td>null</td><td>[&quot;742903_2024-10-22_E-573&quot;, &quot;742903_2024-10-22_E-557&quot;, … &quot;742903_2024-10-22_E-1005&quot;]</td><td>[-0.114095, -0.04092, … 0.53353]</td><td>&quot;742903_2024-10-22&quot;</td><td>&quot;TTd&quot;</td><td>20</td><td>&quot;loose_drift&quot;</td></tr><tr><td>0.610193</td><td>0.663428</td><td>&quot;stim_start_time&quot;</td><td>0.5</td><td>5.25</td><td>44</td><td>24</td><td>null</td><td>null</td><td>[&quot;742903_2024-10-22_E-5&quot;, &quot;742903_2024-10-22_E-564&quot;, … &quot;742903_2024-10-22_E-86&quot;]</td><td>[0.306179, 0.15046, … 0.716822]</td><td>&quot;742903_2024-10-22&quot;</td><td>&quot;TTd&quot;</td><td>20</td><td>&quot;loose_drift&quot;</td></tr></tbody></table></div>"
      ],
      "text/plain": [
       "shape: (666_400, 15)\n",
       "┌───────────┬───────────┬───────────┬──────────┬───┬───────────┬───────────┬───────────┬───────────┐\n",
       "│ balanced_ ┆ balanced_ ┆ time_alig ┆ bin_size ┆ … ┆ session_i ┆ structure ┆ unit_subs ┆ unit_crit │\n",
       "│ accuracy_ ┆ accuracy_ ┆ ned_to    ┆ ---      ┆   ┆ d         ┆ ---       ┆ ample_siz ┆ eria      │\n",
       "│ test      ┆ train     ┆ ---       ┆ f64      ┆   ┆ ---       ┆ str       ┆ e         ┆ ---       │\n",
       "│ ---       ┆ ---       ┆ enum      ┆          ┆   ┆ str       ┆           ┆ ---       ┆ str       │\n",
       "│ f64       ┆ f64       ┆           ┆          ┆   ┆           ┆           ┆ u16       ┆           │\n",
       "╞═══════════╪═══════════╪═══════════╪══════════╪═══╪═══════════╪═══════════╪═══════════╪═══════════╡\n",
       "│ 0.583333  ┆ 0.640945  ┆ stim_star ┆ 0.5      ┆ … ┆ 742903_20 ┆ ACAd      ┆ 20        ┆ loose_dri │\n",
       "│           ┆           ┆ t_time    ┆          ┆   ┆ 24-10-22  ┆           ┆           ┆ ft        │\n",
       "│ 0.559034  ┆ 0.641427  ┆ stim_star ┆ 0.5      ┆ … ┆ 742903_20 ┆ ACAd      ┆ 20        ┆ loose_dri │\n",
       "│           ┆           ┆ t_time    ┆          ┆   ┆ 24-10-22  ┆           ┆           ┆ ft        │\n",
       "│ 0.614203  ┆ 0.653527  ┆ stim_star ┆ 0.5      ┆ … ┆ 742903_20 ┆ ACAd      ┆ 20        ┆ loose_dri │\n",
       "│           ┆           ┆ t_time    ┆          ┆   ┆ 24-10-22  ┆           ┆           ┆ ft        │\n",
       "│ 0.561304  ┆ 0.62368   ┆ stim_star ┆ 0.5      ┆ … ┆ 742903_20 ┆ ACAd      ┆ 20        ┆ loose_dri │\n",
       "│           ┆           ┆ t_time    ┆          ┆   ┆ 24-10-22  ┆           ┆           ┆ ft        │\n",
       "│ 0.571932  ┆ 0.646289  ┆ stim_star ┆ 0.5      ┆ … ┆ 742903_20 ┆ ACAd      ┆ 20        ┆ loose_dri │\n",
       "│           ┆           ┆ t_time    ┆          ┆   ┆ 24-10-22  ┆           ┆           ┆ ft        │\n",
       "│ …         ┆ …         ┆ …         ┆ …        ┆ … ┆ …         ┆ …         ┆ …         ┆ …         │\n",
       "│ 0.503285  ┆ 0.563781  ┆ stim_star ┆ 0.5      ┆ … ┆ 742903_20 ┆ TTd       ┆ 20        ┆ loose_dri │\n",
       "│           ┆           ┆ t_time    ┆          ┆   ┆ 24-10-22  ┆           ┆           ┆ ft        │\n",
       "│ 0.534396  ┆ 0.591421  ┆ stim_star ┆ 0.5      ┆ … ┆ 742903_20 ┆ TTd       ┆ 20        ┆ loose_dri │\n",
       "│           ┆           ┆ t_time    ┆          ┆   ┆ 24-10-22  ┆           ┆           ┆ ft        │\n",
       "│ 0.5143    ┆ 0.605835  ┆ stim_star ┆ 0.5      ┆ … ┆ 742903_20 ┆ TTd       ┆ 20        ┆ loose_dri │\n",
       "│           ┆           ┆ t_time    ┆          ┆   ┆ 24-10-22  ┆           ┆           ┆ ft        │\n",
       "│ 0.461111  ┆ 0.591958  ┆ stim_star ┆ 0.5      ┆ … ┆ 742903_20 ┆ TTd       ┆ 20        ┆ loose_dri │\n",
       "│           ┆           ┆ t_time    ┆          ┆   ┆ 24-10-22  ┆           ┆           ┆ ft        │\n",
       "│ 0.610193  ┆ 0.663428  ┆ stim_star ┆ 0.5      ┆ … ┆ 742903_20 ┆ TTd       ┆ 20        ┆ loose_dri │\n",
       "│           ┆           ┆ t_time    ┆          ┆   ┆ 24-10-22  ┆           ┆           ┆ ft        │\n",
       "└───────────┴───────────┴───────────┴──────────┴───┴───────────┴───────────┴───────────┴───────────┘"
      ]
     },
     "execution_count": 61,
     "metadata": {},
     "output_type": "execute_result"
    }
   ],
   "source": [
    "decoder_coefs"
   ]
  },
  {
   "cell_type": "code",
   "execution_count": 68,
   "metadata": {},
   "outputs": [],
   "source": [
    "decoder_coefs_pd=decoder_coefs.to_pandas()"
   ]
  },
  {
   "cell_type": "code",
   "execution_count": 70,
   "metadata": {},
   "outputs": [],
   "source": [
    "savepath=r\"\\\\allen\\programs\\mindscope\\workgroups\\dynamicrouting\\Ethan\\CO decoding results\\keep_units_consistent_test_2025-06-05_170828\\decoder_coefs.parquet\"\n",
    "decoder_coefs_pd.to_parquet(savepath)"
   ]
  },
  {
   "cell_type": "code",
   "execution_count": 63,
   "metadata": {},
   "outputs": [],
   "source": [
    "# for each repeat, \n",
    "\n",
    "# get the balanced accuracy test & train, plus the coefs and unit ids across timebins\n",
    "\n",
    "# check the unit ids are the same across all timebins\n",
    "\n",
    "# compute the correlation of the coefs to the first timebin\n",
    "\n",
    "\n",
    "# start with one repeat, one structure\n",
    "\n",
    "sel_structure='ACAd'\n",
    "sel_repeat=0\n",
    "sel_shift_idx=0\n",
    "# sel_time_bin=-0.25\n",
    "sel_time_aligned_to='stim_start_time'\n"
   ]
  },
  {
   "cell_type": "code",
   "execution_count": 34,
   "metadata": {},
   "outputs": [],
   "source": [
    "# decoder_coefs_pd.query(f'structure == \"{sel_structure}\" and repeat_idx == {sel_repeat} and time_aligned_to == \"{sel_time_aligned_to}\"')['unit_ids']\n",
    "# decoder_coefs_pd.query(f'structure == \"{sel_structure}\" and bin_center == {sel_time_bin}')"
   ]
  },
  {
   "cell_type": "code",
   "execution_count": 64,
   "metadata": {},
   "outputs": [
    {
     "data": {
      "text/plain": [
       "array([[ True,  True,  True,  True,  True,  True,  True,  True,  True,\n",
       "         True,  True,  True,  True,  True,  True,  True,  True,  True,\n",
       "         True,  True],\n",
       "       [ True,  True,  True,  True,  True,  True,  True,  True,  True,\n",
       "         True,  True,  True,  True,  True,  True,  True,  True,  True,\n",
       "         True,  True],\n",
       "       [ True,  True,  True,  True,  True,  True,  True,  True,  True,\n",
       "         True,  True,  True,  True,  True,  True,  True,  True,  True,\n",
       "         True,  True],\n",
       "       [ True,  True,  True,  True,  True,  True,  True,  True,  True,\n",
       "         True,  True,  True,  True,  True,  True,  True,  True,  True,\n",
       "         True,  True],\n",
       "       [ True,  True,  True,  True,  True,  True,  True,  True,  True,\n",
       "         True,  True,  True,  True,  True,  True,  True,  True,  True,\n",
       "         True,  True],\n",
       "       [ True,  True,  True,  True,  True,  True,  True,  True,  True,\n",
       "         True,  True,  True,  True,  True,  True,  True,  True,  True,\n",
       "         True,  True],\n",
       "       [ True,  True,  True,  True,  True,  True,  True,  True,  True,\n",
       "         True,  True,  True,  True,  True,  True,  True,  True,  True,\n",
       "         True,  True],\n",
       "       [ True,  True,  True,  True,  True,  True,  True,  True,  True,\n",
       "         True,  True,  True,  True,  True,  True,  True,  True,  True,\n",
       "         True,  True],\n",
       "       [ True,  True,  True,  True,  True,  True,  True,  True,  True,\n",
       "         True,  True,  True,  True,  True,  True,  True,  True,  True,\n",
       "         True,  True],\n",
       "       [ True,  True,  True,  True,  True,  True,  True,  True,  True,\n",
       "         True,  True,  True,  True,  True,  True,  True,  True,  True,\n",
       "         True,  True],\n",
       "       [ True,  True,  True,  True,  True,  True,  True,  True,  True,\n",
       "         True,  True,  True,  True,  True,  True,  True,  True,  True,\n",
       "         True,  True],\n",
       "       [ True,  True,  True,  True,  True,  True,  True,  True,  True,\n",
       "         True,  True,  True,  True,  True,  True,  True,  True,  True,\n",
       "         True,  True],\n",
       "       [ True,  True,  True,  True,  True,  True,  True,  True,  True,\n",
       "         True,  True,  True,  True,  True,  True,  True,  True,  True,\n",
       "         True,  True],\n",
       "       [ True,  True,  True,  True,  True,  True,  True,  True,  True,\n",
       "         True,  True,  True,  True,  True,  True,  True,  True,  True,\n",
       "         True,  True]])"
      ]
     },
     "execution_count": 64,
     "metadata": {},
     "output_type": "execute_result"
    }
   ],
   "source": [
    "# unit_ids=decoder_coefs_pd.query(f'structure == \"{sel_structure}\" and repeat_idx == {sel_repeat} and time_aligned_to == \"{sel_time_aligned_to}\"')['unit_ids']\n",
    "\n",
    "# unit_ids=decoder_coefs_pd.query(f'structure == \"{sel_structure}\" and bin_center == {sel_time_bin} and \\\n",
    "#                                 repeat_idx == {sel_repeat} and time_aligned_to == \"{sel_time_aligned_to}\"')['unit_ids'].values\n",
    "\n",
    "unit_ids=decoder_coefs_pd.query(f'structure == \"{sel_structure}\" and shift_idx == {sel_shift_idx} and \\\n",
    "                                repeat_idx == {sel_repeat} and time_aligned_to == \"{sel_time_aligned_to}\"')['unit_ids'].values\n",
    "\n",
    "sorted_unit_ids=[]\n",
    "\n",
    "for uu in unit_ids:\n",
    "    sorted_unit_ids.append(np.sort(uu))\n",
    "\n",
    "sorted_unit_ids==sorted_unit_ids[0]"
   ]
  },
  {
   "cell_type": "code",
   "execution_count": 57,
   "metadata": {},
   "outputs": [
    {
     "data": {
      "text/plain": [
       "array([ 1,  3,  7, 13, 20], dtype=int64)"
      ]
     },
     "execution_count": 57,
     "metadata": {},
     "output_type": "execute_result"
    }
   ],
   "source": [
    "subsample=np.array([1,3,7,13,20])\n",
    "full_array=np.arange(0,30)\n",
    "\n",
    "np.where(np.isin(full_array, subsample))[0]\n"
   ]
  },
  {
   "cell_type": "code",
   "execution_count": null,
   "metadata": {},
   "outputs": [],
   "source": []
  }
 ],
 "metadata": {
  "kernelspec": {
   "display_name": "dr_ibl_analysis",
   "language": "python",
   "name": "python3"
  },
  "language_info": {
   "codemirror_mode": {
    "name": "ipython",
    "version": 3
   },
   "file_extension": ".py",
   "mimetype": "text/x-python",
   "name": "python",
   "nbconvert_exporter": "python",
   "pygments_lexer": "ipython3",
   "version": "3.11.5"
  }
 },
 "nbformat": 4,
 "nbformat_minor": 2
}
