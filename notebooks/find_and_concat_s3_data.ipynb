{
 "cells": [
  {
   "cell_type": "code",
   "execution_count": 1,
   "metadata": {},
   "outputs": [],
   "source": [
    "import upath\n",
    "from dynamic_routing_analysis import decoding_utils, path_utils"
   ]
  },
  {
   "cell_type": "code",
   "execution_count": null,
   "metadata": {},
   "outputs": [],
   "source": []
  },
  {
   "cell_type": "code",
   "execution_count": 14,
   "metadata": {},
   "outputs": [
    {
     "name": "stdout",
     "output_type": "stream",
     "text": [
      "s3://aind-scratch-data/dynamic-routing/ethan/decoding-results/full_logreg_medcrit_2024-11-26T16:45:38.919765\n",
      "s3://aind-scratch-data/dynamic-routing/ethan/decoding-results/full_logreg_medcrit_2024-11-26T23:54:35.702811\n",
      "s3://aind-scratch-data/dynamic-routing/ethan/decoding-results/full_test_LDA_medcrit_2024-11-09T00:33:11.111162\n",
      "s3://aind-scratch-data/dynamic-routing/ethan/decoding-results/full_test_logreg_medcrit_2024-11-11T18:39:59.601162\n",
      "s3://aind-scratch-data/dynamic-routing/ethan/decoding-results/logreg_many_nunits_0_2024-12-10-0\n",
      "s3://aind-scratch-data/dynamic-routing/ethan/decoding-results/logreg_many_nunits_0_2024-12-11-0\n",
      "s3://aind-scratch-data/dynamic-routing/ethan/decoding-results/logreg_many_nunits_ignore_errors_2024-12-11-1\n",
      "s3://aind-scratch-data/dynamic-routing/ethan/decoding-results/n_units_test_2024-11-06T00:18:30.855494\n",
      "s3://aind-scratch-data/dynamic-routing/ethan/decoding-results/n_units_test_ben_test_20241205\n",
      "s3://aind-scratch-data/dynamic-routing/ethan/decoding-results/n_units_test_ben_test_20241206\n",
      "s3://aind-scratch-data/dynamic-routing/ethan/decoding-results/n_units_test_medium_unit_criteria_2024-11-07T00:47:13.551561\n",
      "s3://aind-scratch-data/dynamic-routing/ethan/decoding-results/test\n",
      "s3://aind-scratch-data/dynamic-routing/ethan/decoding-results/test_all_sessions_2024-12-13_test\n",
      "s3://aind-scratch-data/dynamic-routing/ethan/decoding-results/test_ben_20241212\n",
      "s3://aind-scratch-data/dynamic-routing/ethan/decoding-results/test_test_12-09\n"
     ]
    }
   ],
   "source": [
    "#find folders/files on S3 with decoding results\n",
    "\n",
    "path=[]\n",
    "del path\n",
    "path=path_utils.DECODING_ROOT_PATH\n",
    "# path=path_utils.DECODING_ROOT_PATH / 'test'\n",
    "\n",
    "# path=path_utils.DECODING_ROOT_PATH / 'n_units_test_2024-11-06T00:18:30.855494'\n",
    "# path=path_utils.DECODING_ROOT_PATH / 'n_units_test_medium_unit_criteria_2024-11-07T00:47:13.551561'\n",
    "# path=path_utils.DECODING_ROOT_PATH / 'full_test_LDA_medcrit_2024-11-09T00:33:11.111162'\n",
    "# path=path_utils.DECODING_ROOT_PATH / 'full_test_logreg_medcrit_2024-11-11T18:39:59.601162' / 're_run'\n",
    "# path=path_utils.DECODING_ROOT_PATH / 'full_logreg_medcrit_2024-11-26T16:45:38.919765'###old###\n",
    "# path=path_utils.DECODING_ROOT_PATH / 'full_logreg_medcrit_2024-11-26T23:54:35.702811'\n",
    "# path=path_utils.DECODING_ROOT_PATH / 'full_logreg_medcrit_2024-11-26T23:54:35.702811' / 'summary_re_run_0'\n",
    "# path=path_utils.DECODING_ROOT_PATH / 'full_logreg_medcrit_2024-11-26T23:54:35.702811' / 'summary_re_run_1'\n",
    "# path=path_utils.DECODING_ROOT_PATH / 'logreg_many_nunits_0_2024-12-10-0'\n",
    "# path=path_utils.DECODING_ROOT_PATH / 'test_ben_20241212'\n",
    "# path=path_utils.DECODING_ROOT_PATH / 'test_all_sessions_2024-12-13_test'\n",
    "# path=path_utils.DECODING_ROOT_PATH / 'test_ben_20241214'\n",
    "\n",
    "# filename='decoding_results_test_2024_10_28.pkl'\n",
    "all_paths = []\n",
    "all_filenames = []\n",
    "csvs = []\n",
    "# all_paths_0 = []\n",
    "# all_filenames_0 = []\n",
    "# csvs_0 = []\n",
    "for file in path.glob('*'):\n",
    "    # if file.is_file():\n",
    "    all_paths.append(file)\n",
    "    print(file)\n",
    "    all_filenames.append(file.name)\n",
    "    if 'results.csv' in str(file):\n",
    "        csvs.append(file)\n",
    "\n",
    "# for file in path_0.iterdir():\n",
    "#     # if file.is_file():\n",
    "#     all_paths_0.append(file)\n",
    "#     print(file)\n",
    "#     all_filenames_0.append(file.name)\n",
    "#     if 'results.csv' in str(file):\n",
    "#         csvs_0.append(file)\n"
   ]
  },
  {
   "cell_type": "code",
   "execution_count": 13,
   "metadata": {},
   "outputs": [
    {
     "data": {
      "text/plain": [
       "0"
      ]
     },
     "execution_count": 13,
     "metadata": {},
     "output_type": "execute_result"
    }
   ],
   "source": [
    "len(csvs)"
   ]
  },
  {
   "cell_type": "code",
   "execution_count": null,
   "metadata": {},
   "outputs": [],
   "source": [
    "# savepath=r'D:\\decoding_results_from_CO\\n_units_test_2024-11-06'\n",
    "# savepath=r'D:\\decoding_results_from_CO\\n_units_test_medium_unit_criteria_2024-11-07'\n",
    "# savepath=r'D:\\decoding_results_from_CO\\lda_test_2024-11-11'\n",
    "# savepath=r'D:\\decoding_results_from_CO\\logreg_test_2024-11-13'\n",
    "# savepath=r'D:\\decoding_results_from_CO\\ben_test_12-12'\n",
    "decoding_utils.concat_decoder_summary_tables(path,savepath)"
   ]
  }
 ],
 "metadata": {
  "kernelspec": {
   "display_name": "dr_analysis",
   "language": "python",
   "name": "python3"
  },
  "language_info": {
   "codemirror_mode": {
    "name": "ipython",
    "version": 3
   },
   "file_extension": ".py",
   "mimetype": "text/x-python",
   "name": "python",
   "nbconvert_exporter": "python",
   "pygments_lexer": "ipython3",
   "version": "3.11.5"
  }
 },
 "nbformat": 4,
 "nbformat_minor": 2
}
