{
 "cells": [
  {
   "cell_type": "code",
   "execution_count": 1,
   "metadata": {},
   "outputs": [],
   "source": [
    "import upath\n",
    "import pandas as pd\n",
    "from dynamic_routing_analysis import decoding_utils, path_utils"
   ]
  },
  {
   "cell_type": "code",
   "execution_count": null,
   "metadata": {},
   "outputs": [],
   "source": []
  },
  {
   "cell_type": "code",
   "execution_count": 8,
   "metadata": {},
   "outputs": [
    {
     "name": "stdout",
     "output_type": "stream",
     "text": [
      "s3://aind-scratch-data/dynamic-routing/cache/nwb_components/v0.0.272/consolidated/licks.zarr\n",
      "s3://aind-scratch-data/dynamic-routing/cache/nwb_components/v0.0.272/consolidated/running_speed.zarr\n",
      "s3://aind-scratch-data/dynamic-routing/cache/nwb_components/v0.0.272/consolidated/spike_times.zarr\n"
     ]
    }
   ],
   "source": [
    "#find folders/files on S3 with decoding results\n",
    "\n",
    "path=[]\n",
    "del path\n",
    "# path=path_utils.DECODING_ROOT_PATH\n",
    "# path=path_utils.DECODING_ROOT_PATH / 'test'\n",
    "# path = upath.UPath(\"s3://aind-scratch-data/dynamic-routing/decoding/results\")\n",
    "path = upath.UPath(\"s3://aind-scratch-data/dynamic-routing/cache/nwb_components/v0.0.272/consolidated\")\n",
    "\n",
    "# path=path_utils.DECODING_ROOT_PATH / 'n_units_test_2024-11-06T00:18:30.855494'\n",
    "# path=path_utils.DECODING_ROOT_PATH / 'n_units_test_medium_unit_criteria_2024-11-07T00:47:13.551561'\n",
    "# path=path_utils.DECODING_ROOT_PATH / 'full_test_LDA_medcrit_2024-11-09T00:33:11.111162'\n",
    "# path=path_utils.DECODING_ROOT_PATH / 'full_test_logreg_medcrit_2024-11-11T18:39:59.601162' / 're_run'\n",
    "# path=path_utils.DECODING_ROOT_PATH / 'full_logreg_medcrit_2024-11-26T16:45:38.919765'###old###\n",
    "# path=path_utils.DECODING_ROOT_PATH / 'full_logreg_medcrit_2024-11-26T23:54:35.702811'\n",
    "# path=path_utils.DECODING_ROOT_PATH / 'full_logreg_medcrit_2024-11-26T23:54:35.702811' / 'summary_re_run_0'\n",
    "# path=path_utils.DECODING_ROOT_PATH / 'full_logreg_medcrit_2024-11-26T23:54:35.702811' / 'summary_re_run_1'\n",
    "# path=path_utils.DECODING_ROOT_PATH / 'logreg_many_nunits_0_2024-12-10-0'\n",
    "# path=path_utils.DECODING_ROOT_PATH / 'test_ben_20241212'\n",
    "# path=path_utils.DECODING_ROOT_PATH / 'test_all_sessions_2024-12-13_test'\n",
    "# path=path_utils.DECODING_ROOT_PATH / 'test_ben_20241214'\n",
    "# path=path_utils.DECODING_ROOT_PATH / 'logreg_many_n_units_medium_criteria_2024-12-18'\n",
    "# path=path_utils.DECODING_ROOT_PATH / 'logreg_many_n_units_strict_criteria_2024-12-19'\n",
    "# path=path_utils.DECODING_ROOT_PATH / 'logreg_many_n_units_sliding_rp_criteria_2024-12-20'\n",
    "# path=path_utils.DECODING_ROOT_PATH / 'logreg_many_n_units_medium_criteria_2025-01-08'\n",
    "\n",
    "# path=path_utils.DECODING_ROOT_PATH / 'test_recalc_metrics_test_recalc_metrics'\n",
    "# path=path_utils.DECODING_ROOT_PATH / 'recalc_presence_ratio_2024-01-31'\n",
    "\n",
    "# path = upath.UPath(\"s3://aind-scratch-data/dynamic-routing/decoding/results/validate_v260_20250401_030903\")\n",
    "\n",
    "# path = upath.UPath(\"s3://aind-scratch-data/dynamic-routing/decoding/results/time_mod_prod_0\")\n",
    "\n",
    "# path = upath.UPath(\"s3://aind-scratch-data/dynamic-routing/decoding/results/debug_vis_target_only_20250509_214453\")\n",
    "\n",
    "# filename='decoding_results_test_2024_10_28.pkl'\n",
    "all_paths = []\n",
    "all_filenames = []\n",
    "csvs = []\n",
    "# all_paths_0 = []\n",
    "# all_filenames_0 = []\n",
    "# csvs_0 = []\n",
    "for file in path.glob('*'):\n",
    "    # if file.is_file():\n",
    "    all_paths.append(file)\n",
    "    print(file)\n",
    "    all_filenames.append(file.name)\n",
    "    if 'results.csv' in str(file):\n",
    "        csvs.append(file)\n",
    "\n",
    "# for file in path_0.iterdir():\n",
    "#     # if file.is_file():\n",
    "#     all_paths_0.append(file)\n",
    "#     print(file)\n",
    "#     all_filenames_0.append(file.name)\n",
    "#     if 'results.csv' in str(file):\n",
    "#         csvs_0.append(file)\n"
   ]
  },
  {
   "cell_type": "code",
   "execution_count": null,
   "metadata": {},
   "outputs": [],
   "source": [
    "selected_paths=[]\n",
    "for path in all_paths:\n",
    "    if '686176_2023-12-07' in str(path):\n",
    "        print(f'Found path: {path}')\n",
    "        # print(f'Adding to selected_paths: {path}')\n",
    "        selected_paths.append(path)"
   ]
  },
  {
   "cell_type": "code",
   "execution_count": null,
   "metadata": {},
   "outputs": [],
   "source": [
    "len(csvs)"
   ]
  },
  {
   "cell_type": "code",
   "execution_count": null,
   "metadata": {},
   "outputs": [],
   "source": [
    "import pandas as pd\n",
    "pd.read_csv(csvs[0])"
   ]
  },
  {
   "cell_type": "code",
   "execution_count": null,
   "metadata": {},
   "outputs": [],
   "source": [
    "# savepath=r'D:\\decoding_results_from_CO\\n_units_test_2024-11-06'\n",
    "# savepath=r'D:\\decoding_results_from_CO\\n_units_test_medium_unit_criteria_2024-11-07'\n",
    "# savepath=r'D:\\decoding_results_from_CO\\lda_test_2024-11-11'\n",
    "# savepath=r'D:\\decoding_results_from_CO\\logreg_test_2024-11-13'\n",
    "# savepath=r'D:\\decoding_results_from_CO\\ben_test_12-12'\n",
    "# savepath=r'D:\\decoding_results_from_CO\\logreg_many_n_units_2024_12_17'\n",
    "# savepath=r'D:\\decoding_results_from_CO\\logreg_many_n_units_strict_criteria_2024_12_19'\n",
    "# savepath=r'D:\\decoding_results_from_CO\\logreg_many_n_units_medium_criteria_2024_12_18'\n",
    "# savepath=r'D:\\decoding_results_from_CO\\logreg_many_n_units_sliding_rp_criteria_2024-12-20'\n",
    "# savepath=r'D:\\decoding_results_from_CO\\logreg_many_n_units_medium_criteria_2025-01-08'\n",
    "savepath=r'D:\\decoding_results_from_CO\\recalc_presence_ratio_2024-01-31'\n",
    "\n",
    "decoding_utils.concat_decoder_summary_tables(path,savepath)"
   ]
  },
  {
   "cell_type": "code",
   "execution_count": null,
   "metadata": {},
   "outputs": [],
   "source": []
  },
  {
   "cell_type": "code",
   "execution_count": null,
   "metadata": {},
   "outputs": [],
   "source": [
    "logfiledir = r\"D:\\decoding_results_from_CO\\logs\\logs_medium_criteria_run_12_18\"\n",
    "\n",
    "check_strs=['ERROR','Traceback']\n",
    "\n",
    "#load each file in directory, and check if these strings are in the text\n",
    "# if they are, print the name of the file\n",
    "\n",
    "for file in upath.UPath(logfiledir).glob('*'):\n",
    "    if file.is_file():\n",
    "        with open(file, 'r') as f:\n",
    "            text = f.read()\n",
    "            if any(check_str in text for check_str in check_strs):\n",
    "                print(file.name)\n",
    "                \n",
    "                #find where in the file the error or traceback is:\n",
    "                for check_str in check_strs:\n",
    "                    if check_str in text:\n",
    "                        print('\\n'+text[text.find(check_str)-100:text.find(check_str)+len(check_str)+2000])"
   ]
  }
 ],
 "metadata": {
  "kernelspec": {
   "display_name": "dr_analysis",
   "language": "python",
   "name": "python3"
  },
  "language_info": {
   "codemirror_mode": {
    "name": "ipython",
    "version": 3
   },
   "file_extension": ".py",
   "mimetype": "text/x-python",
   "name": "python",
   "nbconvert_exporter": "python",
   "pygments_lexer": "ipython3",
   "version": "3.11.5"
  }
 },
 "nbformat": 4,
 "nbformat_minor": 2
}
