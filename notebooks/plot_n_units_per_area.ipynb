{
 "cells": [
  {
   "cell_type": "code",
   "execution_count": null,
   "metadata": {},
   "outputs": [],
   "source": [
    "# gather number of units per area from the data"
   ]
  },
  {
   "cell_type": "code",
   "execution_count": 2,
   "metadata": {},
   "outputs": [],
   "source": [
    "import os\n",
    "import pickle\n",
    "import pandas as pd\n",
    "import numpy as np\n",
    "import matplotlib.pyplot as plt\n",
    "import scipy.stats as st\n",
    "import time\n",
    "\n",
    "import npc_lims\n",
    "from npc_sessions import DynamicRoutingSession\n",
    "from dynamic_routing_analysis import data_utils, spike_utils\n",
    "\n",
    "# plt.rcParams['pdf.fonttype'] = 42 \n",
    "plt.rcParams.update({'font.size': 8,'pdf.fonttype':42})\n",
    "\n",
    "%load_ext autoreload\n",
    "%autoreload 2\n",
    "%matplotlib widget"
   ]
  },
  {
   "cell_type": "code",
   "execution_count": 3,
   "metadata": {},
   "outputs": [],
   "source": [
    "all_units=pd.read_parquet(npc_lims.get_cache_path('units',version='0.0.260'))"
   ]
  },
  {
   "cell_type": "code",
   "execution_count": 3,
   "metadata": {},
   "outputs": [
    {
     "data": {
      "text/plain": [
       "S3Path('s3://aind-scratch-data/dynamic-routing/cache/nwb_components/v0.0.261/consolidated/units.parquet')"
      ]
     },
     "execution_count": 3,
     "metadata": {},
     "output_type": "execute_result"
    }
   ],
   "source": [
    "npc_lims.get_cache_path('units')"
   ]
  },
  {
   "cell_type": "code",
   "execution_count": 4,
   "metadata": {},
   "outputs": [
    {
     "data": {
      "text/plain": [
       "118304"
      ]
     },
     "execution_count": 4,
     "metadata": {},
     "output_type": "execute_result"
    }
   ],
   "source": [
    "len(all_units)"
   ]
  },
  {
   "cell_type": "code",
   "execution_count": 4,
   "metadata": {},
   "outputs": [
    {
     "data": {
      "text/plain": [
       "Index(['amplitude_cutoff', 'amplitude_cv_median', 'amplitude_cv_range',\n",
       "       'amplitude_median', 'drift_ptp', 'drift_std', 'drift_mad',\n",
       "       'firing_range', 'firing_rate', 'isi_violations_ratio',\n",
       "       'isi_violations_count', 'num_spikes', 'presence_ratio',\n",
       "       'rp_contamination', 'rp_violations', 'sliding_rp_violation', 'snr',\n",
       "       'sync_spike_2', 'sync_spike_4', 'sync_spike_8', 'd_prime',\n",
       "       'isolation_distance', 'l_ratio', 'silhouette', 'nn_hit_rate',\n",
       "       'nn_miss_rate', 'exp_decay', 'half_width', 'num_negative_peaks',\n",
       "       'num_positive_peaks', 'peak_to_valley', 'peak_trough_ratio',\n",
       "       'recovery_slope', 'repolarization_slope', 'spread', 'velocity_above',\n",
       "       'velocity_below', 'electrode_group_name', 'peak_channel', 'cluster_id',\n",
       "       'default_qc', 'amplitude', 'unit_id', 'ccf_ap', 'ccf_dv', 'ccf_ml',\n",
       "       'structure', 'location', 'peak_electrode', 'obs_intervals',\n",
       "       'device_name', 'session_idx', 'date', 'subject_id', 'session_id'],\n",
       "      dtype='object')"
      ]
     },
     "execution_count": 4,
     "metadata": {},
     "output_type": "execute_result"
    }
   ],
   "source": [
    "all_units.columns"
   ]
  },
  {
   "cell_type": "code",
   "execution_count": 11,
   "metadata": {},
   "outputs": [],
   "source": [
    "medium_criteria_query='isi_violations_ratio<=0.5 and presence_ratio>=0.9 and amplitude_cutoff<=0.1'\n",
    "strict_criteria_query='isi_violations_ratio<=0.1 and presence_ratio>=0.99 and amplitude_cutoff<=0.1'\n",
    "sliding_rp_criteria_query='sliding_rp_violation<=0.1 and presence_ratio>=0.99 and amplitude_cutoff<=0.1'\n",
    "\n",
    "total_n_units=len(all_units)\n",
    "medium_units=all_units.query(medium_criteria_query)\n",
    "medium_n_units=len(medium_units)\n",
    "strict_units=all_units.query(strict_criteria_query)\n",
    "strict_n_units=len(strict_units)\n",
    "sliding_rp_units=all_units.query(sliding_rp_criteria_query)\n",
    "sliding_rp_n_units=len(sliding_rp_units)\n"
   ]
  },
  {
   "cell_type": "code",
   "execution_count": 17,
   "metadata": {},
   "outputs": [
    {
     "data": {
      "text/plain": [
       "Text(0.5, 1.0, 'Number of units passing different criteria')"
      ]
     },
     "execution_count": 17,
     "metadata": {},
     "output_type": "execute_result"
    },
    {
     "data": {
      "application/vnd.jupyter.widget-view+json": {
       "model_id": "b02231112a334705b1ab2899dfd22d54",
       "version_major": 2,
       "version_minor": 0
      },
      "image/png": "[encoded data removed]",
      "text/html": [
       "\n",
       "            <div style=\"display: inline-block;\">\n",
       "                <div class=\"jupyter-widgets widget-label\" style=\"text-align: center;\">\n",
       "                    Figure\n",
       "                </div>\n",
       "                <img src='data:image/png;base64,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' width=400.0/>\n",
       "            </div>\n",
       "        "
      ],
      "text/plain": [
       "Canvas(toolbar=Toolbar(toolitems=[('Home', 'Reset original view', 'home', 'home'), ('Back', 'Back to previous …"
      ]
     },
     "metadata": {},
     "output_type": "display_data"
    }
   ],
   "source": [
    "#plot fraction units passing criteria\n",
    "\n",
    "fig,ax=plt.subplots(figsize=(4,3))\n",
    "ax.bar(['All','Medium','Strict','Sliding RP'],[total_n_units,medium_n_units,strict_n_units,sliding_rp_n_units])\n",
    "ax.text(1,medium_n_units,str(np.round(medium_n_units/total_n_units,decimals=2)),ha='center',va='bottom')\n",
    "ax.text(2,strict_n_units,str(np.round(strict_n_units/total_n_units,decimals=2)),ha='center',va='bottom')\n",
    "ax.text(3,sliding_rp_n_units,str(np.round(sliding_rp_n_units/total_n_units,decimals=2)),ha='center',va='bottom')\n",
    "ax.set_ylabel('Number of units')\n",
    "ax.set_title('Number of units passing different criteria')\n",
    "\n",
    "\n"
   ]
  },
  {
   "cell_type": "code",
   "execution_count": null,
   "metadata": {},
   "outputs": [],
   "source": []
  },
  {
   "cell_type": "code",
   "execution_count": null,
   "metadata": {},
   "outputs": [],
   "source": [
    "ephys_sessions_path = r\"D:\\dr_ephys_sessions_list_2024_10_30_0.pkl\"\n",
    "\n",
    "#load from pickle\n",
    "with open(ephys_sessions_path, 'rb') as f:\n",
    "    ephys_sessions = pickle.load(f)"
   ]
  },
  {
   "cell_type": "code",
   "execution_count": null,
   "metadata": {},
   "outputs": [],
   "source": [
    "n_units_per_area = {\n",
    "    'session_id':[],\n",
    "    'project':[],\n",
    "    'area':[],\n",
    "    'n_units_no_criteria':[],\n",
    "    'metricsmedium_criteria':[],\n",
    "    'n_units_strict_criteria':[],\n",
    "    'grid_search_array':[],\n",
    "    'isi_viol_values':[],\n",
    "    'presence_ratio_values':[],\n",
    "    'amplitude_cutoff_values':[],\n",
    "}\n",
    "\n",
    "isi_viol_values=np.arange(0,0.55,0.05)\n",
    "presence_ratio_values=np.arange(0.9,1.01,0.01)\n",
    "amplitude_cutoff_values=np.arange(0.01,0.11,0.01)\n",
    "\n",
    "start_time=time.time()\n",
    "\n",
    "for ss in ephys_sessions[:2]:\n",
    "    session=DynamicRoutingSession(ss)\n",
    "    session_info=npc_lims.get_session_info(ss)\n",
    "    units=data_utils.load_trials_or_units(session,'units')\n",
    "    unique_areas = units['structure'].unique()\n",
    "\n",
    "    units_medium_criteria = units.query('isi_violations_ratio<=0.5 and presence_ratio>=0.9 and amplitude_cutoff<=0.1')\n",
    "    units_strict_criteria = units.query('isi_violations_ratio<=0.1 and presence_ratio>=0.99 and amplitude_cutoff<=0.1')\n",
    "\n",
    "    for area in unique_areas[:2]:\n",
    "\n",
    "        vary_isi_violations_ratio = []\n",
    "        vary_presence_ratio = []\n",
    "        vary_amplitude_cutoff = []\n",
    "\n",
    "        #make grid search an xarray\n",
    "        grid_search=np.zeros((len(isi_viol_values),len(presence_ratio_values),len(amplitude_cutoff_values)))\n",
    "\n",
    "        for iv,isi_viol in enumerate(isi_viol_values):\n",
    "            for pr,presence_ratio in enumerate(presence_ratio_values):\n",
    "                for ac,amplitude_cutoff in enumerate(amplitude_cutoff_values):\n",
    "                    print(f\"session {ss}, area {area}, isi_viol {isi_viol}, presence_ratio {presence_ratio}, amplitude_cutoff {amplitude_cutoff}\")\n",
    "                    units_vary_criteria = units.query('structure==@area and isi_violations_ratio<=@isi_viol and \\\n",
    "                                                      presence_ratio>=@presence_ratio and amplitude_cutoff<=@amplitude_cutoff')\n",
    "                    grid_search[iv,pr,ac]=len(units_vary_criteria)\n",
    "\n",
    "        n_units_per_area['session_id'].append(str(ss))\n",
    "        n_units_per_area['project'].append(str(session_info.project))\n",
    "        n_units_per_area['area'].append(area)\n",
    "        n_units_per_area['n_units_no_criteria'].append(np.sum(units['structure']==area))\n",
    "        n_units_per_area['n_units_medium_criteria'].append(np.sum(units_medium_criteria['structure']==area))\n",
    "        n_units_per_area['n_units_strict_criteria'].append(np.sum(units_strict_criteria['structure']==area))\n",
    "        n_units_per_area['grid_search_array'].append(grid_search)\n",
    "        n_units_per_area['isi_viol_values'].append(isi_viol_values)\n",
    "        n_units_per_area['presence_ratio_values'].append(presence_ratio_values)\n",
    "        n_units_per_area['amplitude_cutoff_values'].append(amplitude_cutoff_values)\n",
    "\n",
    "    print(f\"session {ss} done, {time.time()-start_time:.2f} seconds elapsed\")\n",
    "\n",
    "n_units_per_area_df = pd.DataFrame(n_units_per_area)"
   ]
  },
  {
   "cell_type": "code",
   "execution_count": null,
   "metadata": {},
   "outputs": [],
   "source": [
    "#save dataframe\n",
    "savepath = r\"D:\\n_units_vary_metrics\"\n",
    "n_units_per_area_df.to_pickle(os.path.join(savepath,'n_units_per_area_sliding_rp.pkl'))"
   ]
  },
  {
   "cell_type": "code",
   "execution_count": null,
   "metadata": {},
   "outputs": [],
   "source": [
    "#load dataframe\n",
    "savepath = r\"D:\\n_units_vary_metrics\"\n",
    "n_units_per_area_df = pd.read_pickle(os.path.join(savepath,'n_units_per_area_1.pkl'))"
   ]
  },
  {
   "cell_type": "code",
   "execution_count": null,
   "metadata": {},
   "outputs": [],
   "source": [
    "unique_areas = n_units_per_area_df['area'].unique()\n",
    "\n",
    "savepath=r\"C:\\Users\\ethan.mcbride\\OneDrive - Allen Institute\\quick figures\\2024-11-05-n_units_per_area\"\n",
    "\n",
    "for aa in unique_areas:\n",
    "    fig,ax=plt.subplots(3,1,sharex=True)\n",
    "    # max_n_units=n_units_per_area_df.query('area==@aa')['n_units_no_criteria'].max()\n",
    "    # max_n_units=100\n",
    "    n,xbins,patches=ax[0].hist(n_units_per_area_df.query('area==@aa')['n_units_no_criteria'],bins=20,color='b',alpha=0.5,label='no criteria')\n",
    "    ax[1].hist(n_units_per_area_df.query('area==@aa')['n_units_medium_criteria'],bins=xbins,color='g',alpha=0.5,label='medium criteria')\n",
    "    ax[2].hist(n_units_per_area_df.query('area==@aa')['n_units_strict_criteria'],bins=xbins,color='r',alpha=0.5,label='strict criteria')\n",
    "    ax[1].set_ylabel('number of sessions')\n",
    "    ax[2].set_xlabel('number of units')\n",
    "    ax[0].legend()\n",
    "    ax[1].legend()\n",
    "    ax[2].legend()\n",
    "    #save figure\n",
    "    fig.suptitle(f\"area {aa}\")\n",
    "    fig.tight_layout()\n",
    "    if '/' in aa:\n",
    "        aa=aa.replace('/','-')\n",
    "    \n",
    "    fig.savefig(os.path.join(savepath,'plots',f\"{aa}.png\"))\n",
    "    plt.close(fig)\n"
   ]
  },
  {
   "cell_type": "code",
   "execution_count": null,
   "metadata": {},
   "outputs": [],
   "source": [
    "n_units_per_area_df"
   ]
  },
  {
   "cell_type": "code",
   "execution_count": null,
   "metadata": {},
   "outputs": [],
   "source": [
    "aa='ACAd'\n",
    "\n",
    "area_df=n_units_per_area_df.query('area==@aa')\n",
    "\n",
    "area_df"
   ]
  },
  {
   "cell_type": "code",
   "execution_count": null,
   "metadata": {},
   "outputs": [],
   "source": [
    "# aa='ACAd'\n",
    "savepath=r\"C:\\Users\\ethan.mcbride\\OneDrive - Allen Institute\\quick figures\\2024-11-05-n_units_per_area\\fraction_of_units_by_criteria\"\n",
    "\n",
    "for aa in unique_areas:\n",
    "    area_df=n_units_per_area_df.query('area==@aa and project==\"DynamicRouting\"')\n",
    "\n",
    "    area_df['fraction_units_medium_criteria']=area_df['n_units_medium_criteria']/area_df['n_units_no_criteria']\n",
    "    area_df['fraction_units_strict_criteria']=area_df['n_units_strict_criteria']/area_df['n_units_no_criteria']\n",
    "\n",
    "    fig,ax=plt.subplots(1,1)\n",
    "    #boxplot of fraction of units that pass medium and strict criteria\n",
    "    area_df.boxplot(column=['fraction_units_medium_criteria','fraction_units_strict_criteria'],ax=ax,grid=False)\n",
    "    ax.set_ylabel('fraction of units')\n",
    "    ax.set_title(f\"area {aa}\")\n",
    "\n",
    "    if '/' in aa:\n",
    "        aa=aa.replace('/','-')\n",
    "\n",
    "    fig.savefig(os.path.join(savepath,f\"{aa}_boxplot.png\"))\n",
    "    plt.close(fig)"
   ]
  },
  {
   "cell_type": "code",
   "execution_count": null,
   "metadata": {},
   "outputs": [],
   "source": [
    "#average across areas\n",
    "savepath=r\"C:\\Users\\ethan.mcbride\\OneDrive - Allen Institute\\quick figures\\2024-11-05-n_units_per_area\\fraction_of_units_by_criteria\"\n",
    "\n",
    "\n",
    "area_df=n_units_per_area_df.query('project==\"DynamicRouting\"')\n",
    "\n",
    "area_df['fraction_units_medium_criteria']=area_df['n_units_medium_criteria']/area_df['n_units_no_criteria']\n",
    "area_df['fraction_units_strict_criteria']=area_df['n_units_strict_criteria']/area_df['n_units_no_criteria']\n",
    "\n",
    "fig,ax=plt.subplots(1,1,figsize=(5,4))\n",
    "#boxplot of fraction of units that pass medium and strict criteria\n",
    "area_df.boxplot(column=['fraction_units_medium_criteria','fraction_units_strict_criteria'],ax=ax,grid=False)\n",
    "ax.set_ylabel('fraction of units')\n",
    "ax.set_title(f\"all_areas\")\n",
    "\n",
    "fig.savefig(os.path.join(savepath,f\"all_areas_boxplot.png\"))\n",
    "plt.close(fig)"
   ]
  },
  {
   "cell_type": "code",
   "execution_count": null,
   "metadata": {},
   "outputs": [],
   "source": [
    "# aa='ACAd'\n",
    "savepath=r\"C:\\Users\\ethan.mcbride\\OneDrive - Allen Institute\\quick figures\\2024-11-05-n_units_per_area\\fraction_of_sessions_by_criteria\"\n",
    "\n",
    "for aa in unique_areas:\n",
    "\n",
    "    area_df=n_units_per_area_df.query('area==@aa and project==\"DynamicRouting\"')\n",
    "\n",
    "    xvect=np.arange(1,100)\n",
    "\n",
    "    no_criteria=[]\n",
    "    no_criteria_n=[]\n",
    "    medium_criteria=[]\n",
    "    medium_criteria_n=[]\n",
    "    strict_criteria=[]\n",
    "    strict_criteria_n=[]\n",
    "\n",
    "    for xx in xvect:\n",
    "        no_criteria.append(len(area_df.query('n_units_no_criteria>=@xx'))/len(area_df))\n",
    "        medium_criteria.append(len(area_df.query('n_units_medium_criteria>=@xx'))/len(area_df))\n",
    "        strict_criteria.append(len(area_df.query('n_units_strict_criteria>=@xx'))/len(area_df))\n",
    "\n",
    "        no_criteria_n.append(len(area_df.query('n_units_no_criteria>=@xx')))\n",
    "        medium_criteria_n.append(len(area_df.query('n_units_medium_criteria>=@xx')))\n",
    "        strict_criteria_n.append(len(area_df.query('n_units_strict_criteria>=@xx')))\n",
    "\n",
    "    no_criteria=np.array(no_criteria)\n",
    "    medium_criteria=np.array(medium_criteria)\n",
    "    strict_criteria=np.array(strict_criteria)\n",
    "\n",
    "    #plot markers and text at 10,20,40, 60 units\n",
    "    n_unit_list=[5,10,20,40,60,80]\n",
    "\n",
    "    fig,ax=plt.subplots(1,1)\n",
    "    ax.plot(xvect,no_criteria,label='no criteria')\n",
    "    ax.plot(xvect,medium_criteria,label='medium criteria')\n",
    "    ax.plot(xvect,strict_criteria,label='strict criteria')\n",
    "\n",
    "    for nn in n_unit_list:\n",
    "        ax.text(nn,no_criteria[nn],f\"{no_criteria_n[nn]}\",ha='left',va='bottom')\n",
    "        ax.text(nn,medium_criteria[nn],f\"{medium_criteria_n[nn]}\",ha='left',va='bottom')\n",
    "        ax.text(nn,strict_criteria[nn],f\"{strict_criteria_n[nn]}\",ha='left',va='bottom')\n",
    "\n",
    "        ax.plot(nn,no_criteria[nn],'.',color='tab:blue')\n",
    "        ax.plot(nn,medium_criteria[nn],'.',color='tab:orange')\n",
    "        ax.plot(nn,strict_criteria[nn],'.',color='tab:green')\n",
    "\n",
    "    ax.set_xlabel('number of units')\n",
    "    ax.set_ylabel('fraction of sessions')\n",
    "    ax.set_title(f\"area {aa}\")\n",
    "    ax.legend()\n",
    "\n",
    "    if '/' in aa:\n",
    "        aa=aa.replace('/','-')\n",
    "\n",
    "    # fig.savefig(os.path.join(savepath,f\"{aa}_fraction_of_sessions.png\"))\n",
    "    # plt.close(fig)"
   ]
  },
  {
   "cell_type": "code",
   "execution_count": null,
   "metadata": {},
   "outputs": [],
   "source": [
    "no_criteria[nn]"
   ]
  },
  {
   "cell_type": "code",
   "execution_count": null,
   "metadata": {},
   "outputs": [],
   "source": [
    "unique_areas[1239]"
   ]
  },
  {
   "cell_type": "code",
   "execution_count": null,
   "metadata": {},
   "outputs": [],
   "source": [
    "n_units_per_area_df"
   ]
  },
  {
   "cell_type": "code",
   "execution_count": null,
   "metadata": {},
   "outputs": [],
   "source": [
    "DR_10_units=n_units_per_area_df.query('project==\"DynamicRouting\" and n_units_no_criteria>=10')\n",
    "fraction_medium_10=len(DR_10_units.query('n_units_medium_criteria<10'))/len(DR_10_units)\n",
    "fraction_strict_10=len(DR_10_units.query('n_units_strict_criteria<10'))/len(DR_10_units)\n",
    "\n",
    "DR_20_units=n_units_per_area_df.query('project==\"DynamicRouting\" and n_units_no_criteria>=20')\n",
    "fraction_medium_20=len(DR_20_units.query('n_units_medium_criteria<20'))/len(DR_20_units)\n",
    "fraction_strict_20=len(DR_20_units.query('n_units_strict_criteria<20'))/len(DR_20_units)\n",
    "\n",
    "DR_40_units=n_units_per_area_df.query('project==\"DynamicRouting\" and n_units_no_criteria>=40')\n",
    "fraction_medium_40=len(DR_40_units.query('n_units_medium_criteria<40'))/len(DR_40_units)\n",
    "fraction_strict_40=len(DR_40_units.query('n_units_strict_criteria<40'))/len(DR_40_units)\n",
    "\n",
    "#plot fraction of sessions that don't meet criteria\n",
    "fig,ax=plt.subplots(1,1,figsize=(4,3))\n",
    "ax.bar(np.array([0,1,2])-0.2,[fraction_medium_10,fraction_medium_20,fraction_medium_40],color='tab:blue',label='medium unit criteria',width=0.4)\n",
    "ax.bar(np.array([0,1,2])+0.2,[fraction_strict_10,fraction_strict_20,fraction_strict_40],color='tab:red',label='strict unit criteria',width=0.4)\n",
    "\n",
    "ax.set_ylabel('fraction of area-sessions excluded')\n",
    "ax.set_xlabel('n units threshold')\n",
    "\n",
    "ax.set_xticks([0,1,2])\n",
    "ax.set_xticklabels(['10','20','40'])\n",
    "\n",
    "ax.legend()"
   ]
  },
  {
   "cell_type": "code",
   "execution_count": null,
   "metadata": {},
   "outputs": [],
   "source": [
    "# areas with highest fraction of sessions lost by diff criteria\n",
    "\n",
    "#with moderate criteria, what fraction of area-sessions have <10 and <20 units?\n",
    "#with strict criteria, what fraction of area-sessions have <10 and <20 units?\n",
    "\n",
    "unique_areas = n_units_per_area_df['area'].unique()\n",
    "\n",
    "area_sessions_excluded={\n",
    "    'area':[],\n",
    "    'none_10':[],\n",
    "    'none_20':[],\n",
    "    'medium_10':[],\n",
    "    'medium_20':[],\n",
    "    'strict_10':[],\n",
    "    'strict_20':[],\n",
    "    'medium_10_frac_excl':[],\n",
    "    'medium_20_frac_excl':[],\n",
    "    'strict_10_frac_excl':[],\n",
    "    'strict_20_frac_excl':[],\n",
    "}\n",
    "\n",
    "for aa in unique_areas:\n",
    "\n",
    "    area_df=n_units_per_area_df.query('area==@aa and project==\"DynamicRouting\"')\n",
    "\n",
    "    ten_units_df=area_df.query('n_units_no_criteria>=10')\n",
    "    if len(ten_units_df)<3:\n",
    "        continue\n",
    "    none_10=len(ten_units_df)\n",
    "    medium_10=len(ten_units_df.query('n_units_medium_criteria>=10'))\n",
    "    strict_10=len(ten_units_df.query('n_units_strict_criteria>=10'))\n",
    "\n",
    "    medium_10_frac_excl=len(ten_units_df.query('n_units_medium_criteria<10'))/len(ten_units_df)\n",
    "    strict_10_frac_excl=len(ten_units_df.query('n_units_strict_criteria<10'))/len(ten_units_df)\n",
    "\n",
    "    twenty_units_df=area_df.query('n_units_no_criteria>=20')\n",
    "    if len(twenty_units_df)<3:\n",
    "        none_20=np.nan\n",
    "        medium_20=np.nan\n",
    "        strict_20=np.nan\n",
    "\n",
    "        medium_20_frac_excl=np.nan\n",
    "        strict_20_frac_excl=np.nan\n",
    "    else:\n",
    "        none_20=len(twenty_units_df)\n",
    "        medium_20=len(twenty_units_df.query('n_units_medium_criteria>=20'))\n",
    "        strict_20=len(twenty_units_df.query('n_units_strict_criteria>=20'))\n",
    "\n",
    "        medium_20_frac_excl=len(twenty_units_df.query('n_units_medium_criteria<20'))/len(twenty_units_df)\n",
    "        strict_20_frac_excl=len(twenty_units_df.query('n_units_strict_criteria<20'))/len(twenty_units_df)\n",
    "\n",
    "    area_sessions_excluded['area'].append(aa)\n",
    "    area_sessions_excluded['none_10'].append(none_10)\n",
    "    area_sessions_excluded['none_20'].append(none_20)\n",
    "    area_sessions_excluded['medium_10'].append(medium_10)\n",
    "    area_sessions_excluded['medium_20'].append(medium_20)\n",
    "    area_sessions_excluded['strict_10'].append(strict_10)\n",
    "    area_sessions_excluded['strict_20'].append(strict_20)\n",
    "\n",
    "    area_sessions_excluded['medium_10_frac_excl'].append(medium_10_frac_excl)\n",
    "    area_sessions_excluded['medium_20_frac_excl'].append(medium_20_frac_excl)\n",
    "    area_sessions_excluded['strict_10_frac_excl'].append(strict_10_frac_excl)\n",
    "    area_sessions_excluded['strict_20_frac_excl'].append(strict_20_frac_excl)\n"
   ]
  },
  {
   "cell_type": "code",
   "execution_count": null,
   "metadata": {},
   "outputs": [],
   "source": [
    "area_sessions_excluded_df=pd.DataFrame(area_sessions_excluded)"
   ]
  },
  {
   "cell_type": "code",
   "execution_count": null,
   "metadata": {},
   "outputs": [],
   "source": [
    "area_sessions_excluded_df"
   ]
  },
  {
   "cell_type": "code",
   "execution_count": null,
   "metadata": {},
   "outputs": [],
   "source": [
    "# area_sessions_excluded_df.query('area==\"SCzo\"')"
   ]
  },
  {
   "cell_type": "code",
   "execution_count": null,
   "metadata": {},
   "outputs": [],
   "source": [
    "# areas with highest fraction of sessions lost by diff criteria\n",
    "\n",
    "column_list=['medium_10_frac_excl','medium_20_frac_excl','strict_10_frac_excl','strict_20_frac_excl']\n",
    "\n",
    "for cc in column_list:\n",
    "\n",
    "    frac_excl=area_sessions_excluded_df.sort_values(cc,ascending=False)\n",
    "    fig,ax=plt.subplots(1,1,figsize=(10,3))\n",
    "    frac_excl[:80].plot(x='area',y=cc,kind='bar',ax=ax,color='tab:blue',label=cc[:9])\n",
    "    ax.set_ylabel('fraction of sessions excluded')\n",
    "    fig.tight_layout()\n"
   ]
  },
  {
   "cell_type": "code",
   "execution_count": null,
   "metadata": {},
   "outputs": [],
   "source": [
    "area_sessions_excluded_df"
   ]
  },
  {
   "cell_type": "code",
   "execution_count": null,
   "metadata": {},
   "outputs": [],
   "source": [
    "area_sessions_excluded_df.query('none_10>=3 and medium_10<3')['area'].values"
   ]
  },
  {
   "cell_type": "code",
   "execution_count": null,
   "metadata": {},
   "outputs": [],
   "source": [
    "area_sessions_excluded_df.query('none_20>=3 and medium_20<3')['area'].values"
   ]
  },
  {
   "cell_type": "code",
   "execution_count": null,
   "metadata": {},
   "outputs": [],
   "source": [
    "area_sessions_excluded_df.query('none_40>=3 and medium_40<3')['area'].values"
   ]
  },
  {
   "cell_type": "code",
   "execution_count": null,
   "metadata": {},
   "outputs": [],
   "source": [
    "#examine grid search array for optimal combination of criteria\n",
    "\n",
    "# grid_search = [isi_viol, presence_ratio, amplitude_cutoff]\n",
    "isi_viol_values=np.arange(0,0.55,0.05)\n",
    "presence_ratio_values=np.arange(0.9,1.01,0.01)\n",
    "amplitude_cutoff_values=np.arange(0.01,0.11,0.01)\n",
    "\n",
    "sel_area='MOs'\n",
    "area_table=n_units_per_area_df.query('area==@sel_area and project==\"DynamicRouting\"')\n",
    "area_table"
   ]
  },
  {
   "cell_type": "code",
   "execution_count": null,
   "metadata": {},
   "outputs": [],
   "source": [
    "one_row=area_table.iloc[0]"
   ]
  },
  {
   "cell_type": "code",
   "execution_count": null,
   "metadata": {},
   "outputs": [],
   "source": [
    "test_array=(one_row['grid_search_array']/one_row['n_units_no_criteria'])\n",
    "test_array"
   ]
  },
  {
   "cell_type": "code",
   "execution_count": null,
   "metadata": {},
   "outputs": [],
   "source": [
    "# isi_viol_values\n",
    "presence_ratio_values"
   ]
  },
  {
   "cell_type": "code",
   "execution_count": null,
   "metadata": {},
   "outputs": [],
   "source": [
    "#fix one dimension\n",
    "# isi_viol_ind=2\n",
    "# test_array_fixed_isi=test_array[isi_viol_ind,:,:]\n",
    "presence_ratio_ind=-1\n",
    "test_array_fixed_isi=test_array[:,presence_ratio_ind,:]\n",
    "\n",
    "#make heatmap\n",
    "fig,ax=plt.subplots(1,1)\n",
    "cax=ax.imshow(test_array_fixed_isi,origin='lower',cmap='viridis',aspect='auto',interpolation='none')\n",
    "ax.set_xlabel('isi violations ratio')\n",
    "# ax.set_xlabel('presence ratio')\n",
    "ax.set_ylabel('amplitude cutoff')\n",
    "\n",
    "ax.set_xticks(np.arange(len(isi_viol_values)))\n",
    "ax.set_xticklabels(np.round(isi_viol_values,decimals=3))\n",
    "# ax.set_xticks(np.arange(len(presence_ratio_values)))\n",
    "# ax.set_xticklabels(np.round(presence_ratio_values,decimals=3))\n",
    "ax.set_yticks(np.arange(len(amplitude_cutoff_values)))\n",
    "ax.set_yticklabels(np.round(amplitude_cutoff_values,decimals=3))\n",
    "\n",
    "#colorbar\n",
    "cbar=fig.colorbar(cax,ax=ax)"
   ]
  },
  {
   "cell_type": "code",
   "execution_count": null,
   "metadata": {},
   "outputs": [],
   "source": [
    "# np.nanmean(area_table['grid_search_array'].values)\n",
    "test_array_fixed_isi"
   ]
  },
  {
   "cell_type": "code",
   "execution_count": null,
   "metadata": {},
   "outputs": [],
   "source": [
    "area_array=area_table['grid_search_array'].values/area_table['n_units_no_criteria'].values"
   ]
  },
  {
   "cell_type": "code",
   "execution_count": null,
   "metadata": {},
   "outputs": [],
   "source": [
    "area_array_mean=np.mean(area_array)"
   ]
  },
  {
   "cell_type": "code",
   "execution_count": null,
   "metadata": {},
   "outputs": [],
   "source": [
    "isi_viol_values"
   ]
  },
  {
   "cell_type": "code",
   "execution_count": null,
   "metadata": {},
   "outputs": [],
   "source": [
    "color_range=[0,0.6]\n",
    "##fix amplitude cutoff##\n",
    "amplitude_cutoff_ind=-1\n",
    "area_array_fixed=area_array_mean[:,:,amplitude_cutoff_ind]\n",
    "\n",
    "#make heatmap\n",
    "fig,ax=plt.subplots(1,1)\n",
    "cax=ax.imshow(area_array_fixed,origin='lower',cmap='viridis',aspect='auto',interpolation='none',vmin=color_range[0],vmax=color_range[1])\n",
    "ax.set_ylabel('isi violations ratio')\n",
    "ax.set_xlabel('presence ratio')\n",
    "ax.set_title(f\"area {sel_area}; amplitude cutoff={np.round(amplitude_cutoff_values[amplitude_cutoff_ind],decimals=3)}\")\n",
    "ax.set_yticks(np.arange(len(isi_viol_values)))\n",
    "ax.set_yticklabels(np.round(isi_viol_values,decimals=3))\n",
    "ax.set_xticks(np.arange(len(presence_ratio_values)))\n",
    "ax.set_xticklabels(np.round(presence_ratio_values,decimals=3))\n",
    "#colorbar\n",
    "cbar=fig.colorbar(cax,ax=ax)\n",
    "#colorbar label\n",
    "cbar.set_label('fraction of units passing criteria')\n",
    "\n",
    "\n",
    "##fix isi violations##\n",
    "isi_viol_ind=-1\n",
    "area_array_fixed=area_array_mean[isi_viol_ind,:,:]\n",
    "#make heatmap\n",
    "fig,ax=plt.subplots(1,1)\n",
    "cax=ax.imshow(area_array_fixed,origin='lower',cmap='viridis',aspect='auto',interpolation='none',vmin=color_range[0],vmax=color_range[1])\n",
    "ax.set_ylabel('presence ratio')\n",
    "ax.set_xlabel('amplitude cutoff')\n",
    "ax.set_title(f\"area {sel_area}; isi viol={np.round(isi_viol_values[isi_viol_ind],decimals=3)}\")\n",
    "ax.set_yticks(np.arange(len(presence_ratio_values)))\n",
    "ax.set_yticklabels(np.round(presence_ratio_values,decimals=3))\n",
    "ax.set_xticks(np.arange(len(amplitude_cutoff_values)))\n",
    "ax.set_xticklabels(np.round(amplitude_cutoff_values,decimals=3))\n",
    "#colorbar\n",
    "cbar=fig.colorbar(cax,ax=ax)\n",
    "#colorbar label\n",
    "cbar.set_label('fraction of units passing criteria')\n",
    "\n",
    "\n",
    "#fix presence ratio\n",
    "presence_ratio_ind=0\n",
    "area_array_fixed=area_array_mean[:,presence_ratio_ind,:]\n",
    "#make heatmap\n",
    "fig,ax=plt.subplots(1,1)\n",
    "cax=ax.imshow(area_array_fixed,origin='lower',cmap='viridis',aspect='auto',interpolation='none',vmin=color_range[0],vmax=color_range[1])\n",
    "ax.set_ylabel('isi violations ratio')\n",
    "ax.set_xlabel('amplitude cutoff')\n",
    "ax.set_title(f\"area {sel_area}; presence ratio={np.round(presence_ratio_values[presence_ratio_ind],decimals=3)}\")\n",
    "ax.set_yticks(np.arange(len(isi_viol_values)))\n",
    "ax.set_yticklabels(np.round(isi_viol_values,decimals=3))\n",
    "ax.set_xticks(np.arange(len(amplitude_cutoff_values)))\n",
    "ax.set_xticklabels(np.round(amplitude_cutoff_values,decimals=3))\n",
    "#colorbar\n",
    "cbar=fig.colorbar(cax,ax=ax)\n",
    "#colorbar label\n",
    "cbar.set_label('fraction of units passing criteria')\n"
   ]
  },
  {
   "cell_type": "code",
   "execution_count": null,
   "metadata": {},
   "outputs": [],
   "source": [
    "#examine grid search array for optimal combination of criteria\n",
    "\n",
    "figsavepath=r\"C:\\Users\\ethan.mcbride\\OneDrive - Allen Institute\\quick figures\\2024-12-16-ibl_si_unit_criteria\\heatmaps_for_all_areas\"\n",
    "\n",
    "# grid_search = [isi_viol, presence_ratio, amplitude_cutoff]\n",
    "isi_viol_values=np.arange(0,0.55,0.05)\n",
    "presence_ratio_values=np.arange(0.9,1.01,0.01)\n",
    "amplitude_cutoff_values=np.arange(0.01,0.11,0.01)\n",
    "\n",
    "areas=n_units_per_area_df['area'].unique()\n",
    "for sel_area in areas:\n",
    "    area_table=n_units_per_area_df.query('area==@sel_area and project==\"DynamicRouting\"')\n",
    "    area_array=area_table['grid_search_array'].values/area_table['n_units_no_criteria'].values\n",
    "    if len(area_array)==0:\n",
    "        print(f\"no data for {sel_area}\")\n",
    "        continue\n",
    "\n",
    "    area_array_mean=np.mean(area_array)\n",
    "\n",
    "    # color_range=[0,0.6]\n",
    "    ##fix amplitude cutoff##\n",
    "    amplitude_cutoff_ind=-1\n",
    "    area_array_fixed=area_array_mean[:,:,amplitude_cutoff_ind]\n",
    "\n",
    "    #make heatmap\n",
    "    fig,ax=plt.subplots(1,1)\n",
    "    cax=ax.imshow(area_array_fixed,origin='lower',cmap='viridis',aspect='auto',interpolation='none')\n",
    "    ax.set_ylabel('isi violations ratio')\n",
    "    ax.set_xlabel('presence ratio')\n",
    "    ax.set_title(f\"area {sel_area}; amplitude cutoff={np.round(amplitude_cutoff_values[amplitude_cutoff_ind],decimals=3)}\")\n",
    "    ax.set_yticks(np.arange(len(isi_viol_values)))\n",
    "    ax.set_yticklabels(np.round(isi_viol_values,decimals=3))\n",
    "    ax.set_xticks(np.arange(len(presence_ratio_values)))\n",
    "    ax.set_xticklabels(np.round(presence_ratio_values,decimals=3))\n",
    "    #colorbar\n",
    "    cbar=fig.colorbar(cax,ax=ax)\n",
    "    #colorbar label\n",
    "    cbar.set_label('fraction of units passing criteria')\n",
    "\n",
    "    #save figure\n",
    "    fig.savefig(os.path.join(figsavepath,f\"{sel_area.replace('/','-')}_isi_vs_presence.png\"))\n",
    "    plt.close(fig)\n",
    "\n",
    "    ##fix isi violations##\n",
    "    isi_viol_ind=-1\n",
    "    area_array_fixed=area_array_mean[isi_viol_ind,:,:]\n",
    "    #make heatmap\n",
    "    fig,ax=plt.subplots(1,1)\n",
    "    cax=ax.imshow(area_array_fixed,origin='lower',cmap='viridis',aspect='auto',interpolation='none')\n",
    "    ax.set_ylabel('presence ratio')\n",
    "    ax.set_xlabel('amplitude cutoff')\n",
    "    ax.set_title(f\"area {sel_area}; isi viol={np.round(isi_viol_values[isi_viol_ind],decimals=3)}\")\n",
    "    ax.set_yticks(np.arange(len(presence_ratio_values)))\n",
    "    ax.set_yticklabels(np.round(presence_ratio_values,decimals=3))\n",
    "    ax.set_xticks(np.arange(len(amplitude_cutoff_values)))\n",
    "    ax.set_xticklabels(np.round(amplitude_cutoff_values,decimals=3))\n",
    "    #colorbar\n",
    "    cbar=fig.colorbar(cax,ax=ax)\n",
    "    #colorbar label\n",
    "    cbar.set_label('fraction of units passing criteria')\n",
    "\n",
    "    #save figure\n",
    "    fig.savefig(os.path.join(figsavepath,f\"{sel_area.replace('/','-')}_isi_vs_amplitude.png\"))\n",
    "    plt.close(fig)\n",
    "\n",
    "\n",
    "    #fix presence ratio\n",
    "    presence_ratio_ind=0\n",
    "    area_array_fixed=area_array_mean[:,presence_ratio_ind,:]\n",
    "    #make heatmap\n",
    "    fig,ax=plt.subplots(1,1)\n",
    "    cax=ax.imshow(area_array_fixed,origin='lower',cmap='viridis',aspect='auto',interpolation='none')\n",
    "    ax.set_ylabel('isi violations ratio')\n",
    "    ax.set_xlabel('amplitude cutoff')\n",
    "    ax.set_title(f\"area {sel_area}; presence ratio={np.round(presence_ratio_values[presence_ratio_ind],decimals=3)}\")\n",
    "    ax.set_yticks(np.arange(len(isi_viol_values)))\n",
    "    ax.set_yticklabels(np.round(isi_viol_values,decimals=3))\n",
    "    ax.set_xticks(np.arange(len(amplitude_cutoff_values)))\n",
    "    ax.set_xticklabels(np.round(amplitude_cutoff_values,decimals=3))\n",
    "    #colorbar\n",
    "    cbar=fig.colorbar(cax,ax=ax)\n",
    "    #colorbar label\n",
    "    cbar.set_label('fraction of units passing criteria')\n",
    "\n",
    "    #save figure\n",
    "    fig.savefig(os.path.join(figsavepath,f\"{sel_area.replace('/','-')}_presence_vs_amplitude.png\"))\n",
    "    plt.close(fig)\n",
    "\n",
    "    print(f\"done with {sel_area}\")\n"
   ]
  },
  {
   "cell_type": "code",
   "execution_count": null,
   "metadata": {},
   "outputs": [],
   "source": [
    "sel_area"
   ]
  },
  {
   "cell_type": "code",
   "execution_count": null,
   "metadata": {},
   "outputs": [],
   "source": [
    "#compare across areas\n",
    "\n",
    "areas=['ORBl','ACAd','MOs','AUDp','VISp','CA1','MRN','LGd','CP','SCiw',]\n",
    "\n",
    "isi_viol_values=np.arange(0,0.55,0.05)\n",
    "presence_ratio_values=np.arange(0.9,1.01,0.01)\n",
    "amplitude_cutoff_values=np.arange(0.01,0.11,0.01)\n",
    "\n",
    "amplitude_cutoff_ind=-1\n",
    "isi_viol_ind=-1\n",
    "presence_ratio_ind=0\n",
    "\n",
    "isi_fig,isi_ax=plt.subplots(1,1)\n",
    "presence_fig,presence_ax=plt.subplots(1,1)\n",
    "\n",
    "\n",
    "for sel_area in areas:\n",
    "    area_table=n_units_per_area_df.query('area==@sel_area and project==\"DynamicRouting\"')\n",
    "    area_array=area_table['grid_search_array'].values/area_table['n_units_no_criteria'].values\n",
    "    if len(area_array)==0:\n",
    "        print(f\"no data for {sel_area}\")\n",
    "        continue\n",
    "\n",
    "    area_array_mean=np.mean(area_array)\n",
    "\n",
    "    isi_varying=area_array_mean[:,presence_ratio_ind,amplitude_cutoff_ind]\n",
    "    presence_varying=area_array_mean[isi_viol_ind,:,amplitude_cutoff_ind]\n",
    "\n",
    "    isi_ax.plot(isi_viol_values,isi_varying,label=sel_area)\n",
    "    presence_ax.plot(presence_ratio_values,presence_varying,label=sel_area)\n",
    "\n",
    "isi_ax.set_xlabel('isi violations ratio')\n",
    "isi_ax.set_ylabel('fraction of units passing criteria')\n",
    "isi_ax.set_title('amplitude_cutoff='+str(np.round(amplitude_cutoff_values[amplitude_cutoff_ind],decimals=3))\n",
    "                 +'; presence_ratio='+str(np.round(presence_ratio_values[presence_ratio_ind],decimals=3)))\n",
    "isi_ax.legend()\n",
    "\n",
    "presence_ax.set_xlabel('presence ratio')\n",
    "presence_ax.set_ylabel('fraction of units passing criteria')\n",
    "presence_ax.set_title('amplitude_cutoff='+str(np.round(amplitude_cutoff_values[amplitude_cutoff_ind],decimals=3))\n",
    "                      +'; isi_violations_ratio='+str(np.round(isi_viol_values[isi_viol_ind],decimals=3)))\n",
    "presence_ax.legend()\n",
    "\n",
    "\n"
   ]
  },
  {
   "cell_type": "code",
   "execution_count": null,
   "metadata": {},
   "outputs": [],
   "source": [
    "metrics_per_area = {\n",
    "    'session_id':[],\n",
    "    'project':[],\n",
    "    'area':[],\n",
    "    'n_units_no_criteria':[],\n",
    "    'sliding_rp_only_array':[],\n",
    "    'sliding_rp_plus_array':[],\n",
    "    'isi_viol_values':[],\n",
    "    'presence_ratio_values':[],\n",
    "    'amplitude_cutoff_values':[],\n",
    "    'sliding_rp_viol_values':[],\n",
    "}\n",
    "\n",
    "presence_ratio=0.9\n",
    "amplitude_cutoff=0.1\n",
    "\n",
    "sliding_rp_thresholds=np.arange(0,0.5,0.025)\n",
    "\n",
    "start_time=time.time()\n",
    "\n",
    "for ss in ephys_sessions[:]:\n",
    "    session=DynamicRoutingSession(ss)\n",
    "    session_info=npc_lims.get_session_info(ss)\n",
    "    units=data_utils.load_trials_or_units(session,'units')\n",
    "    unique_areas = units['structure'].unique()\n",
    "\n",
    "    for area in unique_areas[:]:\n",
    "\n",
    "        vary_sliding_rp_only = []\n",
    "        vary_sliding_rp_plus = []\n",
    "\n",
    "        isi_viol_values=units.query('structure==@area')['isi_violations_ratio'].values\n",
    "        presence_ratio_values=units.query('structure==@area')['presence_ratio'].values\n",
    "        amplitude_cutoff_values=units.query('structure==@area')['amplitude_cutoff'].values\n",
    "        sliding_rp_values=units.query('structure==@area')['sliding_rp_violation'].values\n",
    "\n",
    "        #make grid search an xarray\n",
    "        vary_sliding_rp_only =np.zeros(len(sliding_rp_thresholds))\n",
    "        vary_sliding_rp_plus =np.zeros(len(sliding_rp_thresholds))\n",
    "\n",
    "        for srp,sliding_rp in enumerate(sliding_rp_thresholds):\n",
    "            # print(f\"session {ss}, area {area}, sliding_rp_viol {sliding_rp}, presence_ratio {presence_ratio}, amplitude_cutoff {amplitude_cutoff}\")\n",
    "            sliding_rp_plus = units.query('structure==@area and sliding_rp_violation<=@sliding_rp and \\\n",
    "                                                presence_ratio>=@presence_ratio and amplitude_cutoff<=@amplitude_cutoff')\n",
    "            vary_sliding_rp_plus[srp]=len(sliding_rp_plus)\n",
    "\n",
    "            sliding_rp_only = units.query('structure==@area and sliding_rp_violation<=@sliding_rp')\n",
    "            vary_sliding_rp_only[srp]=len(sliding_rp_only)\n",
    "\n",
    "        metrics_per_area['session_id'].append(str(ss))\n",
    "        metrics_per_area['project'].append(str(session_info.project))\n",
    "        metrics_per_area['area'].append(area)\n",
    "        metrics_per_area['n_units_no_criteria'].append(np.sum(units['structure']==area))\n",
    "        metrics_per_area['sliding_rp_only_array'].append(vary_sliding_rp_only)\n",
    "        metrics_per_area['sliding_rp_plus_array'].append(vary_sliding_rp_plus)\n",
    "        metrics_per_area['isi_viol_values'].append(isi_viol_values)\n",
    "        metrics_per_area['presence_ratio_values'].append(presence_ratio_values)\n",
    "        metrics_per_area['amplitude_cutoff_values'].append(amplitude_cutoff_values)\n",
    "        metrics_per_area['sliding_rp_viol_values'].append(sliding_rp_values)\n",
    "\n",
    "    print(f\"session {ss} done, {time.time()-start_time:.2f} seconds elapsed\")\n",
    "\n",
    "metrics_per_area_df = pd.DataFrame(metrics_per_area)\n",
    "metrics_per_area_df.to_pickle(os.path.join(savepath,'metrics_per_area.pkl'))"
   ]
  },
  {
   "cell_type": "code",
   "execution_count": null,
   "metadata": {},
   "outputs": [],
   "source": [
    "savepath=r\"D:\\n_units_vary_metrics\"\n",
    "metrics_per_area_df.to_pickle(os.path.join(savepath,'metrics_per_area.pkl'))"
   ]
  },
  {
   "cell_type": "code",
   "execution_count": null,
   "metadata": {},
   "outputs": [],
   "source": [
    "loadpath=r\"D:\\n_units_vary_metrics\"\n",
    "metrics_per_area_df=pd.read_pickle(os.path.join(loadpath,'metrics_per_area.pkl'))"
   ]
  },
  {
   "cell_type": "code",
   "execution_count": null,
   "metadata": {},
   "outputs": [],
   "source": [
    "metrics_per_area_df"
   ]
  },
  {
   "cell_type": "code",
   "execution_count": null,
   "metadata": {},
   "outputs": [],
   "source": [
    "#plot distribution of different metrics by area\n",
    "\n",
    "unique_areas = metrics_per_area_df['area'].unique()\n",
    "\n",
    "savepath=r\"C:\\Users\\ethan.mcbride\\OneDrive - Allen Institute\\quick figures\\2024-12-16-ibl_si_unit_criteria\\metrics distributions\"\n",
    "\n",
    "for aa in unique_areas:\n",
    "\n",
    "    # aa='MOs'\n",
    "\n",
    "    area_df=metrics_per_area_df.query('area==@aa')\n",
    "\n",
    "    area_isi_viol=np.hstack(area_df['isi_viol_values'].values)\n",
    "    area_presence_ratio=np.hstack(area_df['presence_ratio_values'].values)\n",
    "    area_amplitude_cutoff=np.hstack(area_df['amplitude_cutoff_values'].values)\n",
    "    area_sliding_rp=np.hstack(area_df['sliding_rp_viol_values'].values)\n",
    "\n",
    "    fig,ax=plt.subplots(2,2,figsize=(6,6))\n",
    "    isi_bins=np.arange(0,1.05,0.01)\n",
    "    isi_thresh=0.1\n",
    "    frac_pass=np.nanmean(area_isi_viol<=isi_thresh)\n",
    "    ax[0,0].hist(area_isi_viol,bins=isi_bins)\n",
    "    ax[0,0].axvline(isi_thresh,color='k')\n",
    "    ax[0,0].set_xlabel('isi violations')\n",
    "    ax[0,0].set_yscale('log')\n",
    "    ax[0,0].set_title(f\"fraction pass={frac_pass:.2f}\")\n",
    "\n",
    "\n",
    "    presence_bins=np.arange(0,1.01,0.01)\n",
    "    presence_thresh=0.99\n",
    "    frac_pass=np.nanmean(area_presence_ratio>=presence_thresh)\n",
    "    ax[0,1].hist(area_presence_ratio,bins=presence_bins)\n",
    "    ax[0,1].axvline(presence_thresh,color='k')\n",
    "    ax[0,1].set_xlabel('presence ratio')\n",
    "    ax[0,1].set_yscale('log')\n",
    "    ax[0,1].set_title(f\"fraction pass={frac_pass:.2f}\")\n",
    "\n",
    "    amplitude_cutoff_bins=np.arange(0,0.51,0.01)\n",
    "    amplitude_cutoff_thresh=0.1\n",
    "    frac_pass=np.nanmean(area_amplitude_cutoff<=amplitude_cutoff_thresh)\n",
    "    ax[1,0].hist(area_amplitude_cutoff,bins=amplitude_cutoff_bins)\n",
    "    ax[1,0].axvline(amplitude_cutoff_thresh,color='k')\n",
    "    ax[1,0].set_xlabel('amplitude cutoff')\n",
    "    ax[1,0].set_yscale('log')\n",
    "    ax[1,0].set_title(f\"fraction pass={frac_pass:.2f}\")\n",
    "\n",
    "    ###\n",
    "    sliding_rp_bins=np.arange(0,0.51,0.01)\n",
    "    sliding_rp_thresh=0.1\n",
    "    frac_pass=np.nanmean(area_sliding_rp<=sliding_rp_thresh)\n",
    "    frac_nan=np.mean(np.isnan(area_sliding_rp))\n",
    "    ax[1,1].hist(area_sliding_rp,bins=sliding_rp_bins)\n",
    "    ax[1,1].axvline(sliding_rp_thresh,color='k')\n",
    "    ax[1,1].set_xlabel('sliding_rp')\n",
    "    ax[1,1].set_yscale('log')\n",
    "    ax[1,1].set_title(f\"fraction pass={frac_pass:.2f}; fraction nan={frac_nan:.2f}\")\n",
    "\n",
    "    fig.suptitle(f\"area {aa}\")\n",
    "    fig.tight_layout()\n",
    "\n",
    "    fig.savefig(os.path.join(savepath,f\"{aa.replace('/','-')}_metrics_distributions.png\"))\n",
    "    plt.close(fig)\n"
   ]
  },
  {
   "cell_type": "code",
   "execution_count": null,
   "metadata": {},
   "outputs": [],
   "source": [
    "#plot how changing the sliding_rp threshold affects the number of units that pass the criteria\n",
    "\n",
    "areas=['ORBl','ACAd','MOs','AUDp','VISp','CA1','MRN','LGd','CP','SCiw',]\n",
    "\n",
    "sliding_rp_thresholds=np.arange(0,0.5,0.025)\n",
    "fig,ax=plt.subplots(1,1)\n",
    "for aa in areas:\n",
    "    \n",
    "    area_df=metrics_per_area_df.query('area==@aa')\n",
    "\n",
    "    area_sliding_rp=(area_df['sliding_rp_plus_array']/area_df['n_units_no_criteria']).mean()\n",
    "\n",
    "    ax.plot(sliding_rp_thresholds,area_sliding_rp,label=aa)\n",
    "    \n",
    "ax.set_xlabel('sliding_rp threshold')\n",
    "ax.set_ylabel('number of units passing criteria')\n",
    "# ax.set_title(f\"area {aa}\")\n",
    "ax.legend()\n",
    "ax.set_xlim([0,0.5])\n",
    "ax.set_ylim([0,0.7])\n",
    "\n",
    "# fig.savefig(os.path.join(savepath,f\"{aa.replace('/','-')}_sliding_rp_threshold.png\"))\n",
    "\n",
    "# plt.close(fig)"
   ]
  },
  {
   "cell_type": "code",
   "execution_count": null,
   "metadata": {},
   "outputs": [],
   "source": [
    "metrics=['isi_viol','presence_ratio','amplitude_cutoff','sliding_rp_viol']\n",
    "areas=['ORBl','ACAd','MOs','AUDp','VISp','CA1','MRN','LGd','CP','SCiw',]\n",
    "\n",
    "\n",
    "# aa='CP'\n",
    "# metric='sliding_rp_viol'\n",
    "# metric_thresholds=np.arange(0,1.025,0.025)\n",
    "\n",
    "\n",
    "\n",
    "for metric in metrics:\n",
    "    fig,ax=plt.subplots(1,1)\n",
    "    for aa in areas:\n",
    "        area_df=metrics_per_area_df.query('area==@aa')\n",
    "        metric_values=np.hstack(area_df[metric+'_values'].values)\n",
    "\n",
    "        metric_passing=[]\n",
    "        if metric=='presence_ratio':\n",
    "            metric_thresholds=np.arange(0.0,1.01,0.01)\n",
    "        elif metric=='amplitude_cutoff':\n",
    "            metric_thresholds=np.arange(0.01,0.31,0.01)\n",
    "        else:\n",
    "            metric_thresholds=np.arange(0,0.5,0.025)\n",
    "        for mt in metric_thresholds:\n",
    "            if metric=='presence_ratio':\n",
    "                metric_passing.append(np.nanmean(metric_values>=mt))\n",
    "            else:\n",
    "                metric_passing.append(np.nanmean(metric_values<=mt))\n",
    "        metric_passing=np.array(metric_passing)\n",
    "\n",
    "        ax.plot(metric_thresholds,metric_passing,label=aa)\n",
    "    ax.set_xlabel(metric)\n",
    "    ax.set_ylabel('fraction of units passing criteria')\n",
    "    ax.legend()\n",
    "    ax.set_title(f\"{metric}\")\n",
    "    fig.tight_layout()"
   ]
  }
 ],
 "metadata": {
  "kernelspec": {
   "display_name": "dr_analysis",
   "language": "python",
   "name": "python3"
  },
  "language_info": {
   "codemirror_mode": {
    "name": "ipython",
    "version": 3
   },
   "file_extension": ".py",
   "mimetype": "text/x-python",
   "name": "python",
   "nbconvert_exporter": "python",
   "pygments_lexer": "ipython3",
   "version": "3.11.5"
  }
 },
 "nbformat": 4,
 "nbformat_minor": 2
}
