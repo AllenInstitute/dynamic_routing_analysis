{
 "cells": [
  {
   "cell_type": "code",
   "execution_count": null,
   "metadata": {},
   "outputs": [],
   "source": [
    "import pandas as pd\n",
    "import npc_lims\n",
    "from npc_sessions import DynamicRoutingSession\n",
    "from dynamic_routing_analysis import spike_utils, data_utils\n",
    "import os\n",
    "import pickle\n",
    "\n",
    "%load_ext autoreload\n",
    "%autoreload 2\n",
    "%matplotlib widget"
   ]
  },
  {
   "cell_type": "code",
   "execution_count": null,
   "metadata": {},
   "outputs": [],
   "source": [
    "ephys_sessions=tuple(s for s in npc_lims.get_session_info(is_ephys=True, is_uploaded=True, is_annotated=True,))"
   ]
  },
  {
   "cell_type": "code",
   "execution_count": null,
   "metadata": {},
   "outputs": [],
   "source": [
    "except_dict={}\n",
    "overwrite_files=False\n",
    "\n",
    "for session_info in ephys_sessions[:]:\n",
    "    \n",
    "    try:\n",
    "        trials=[]\n",
    "        units=[]\n",
    "        save_path=r\"\\\\allen\\programs\\mindscope\\workgroups\\dynamicrouting\\Ethan\\new_annotations\\single unit metrics\"\n",
    "        ##skip if file already exists\n",
    "        if overwrite_files==False and os.path.isfile(os.path.join(save_path,session_info.id+'_stim_context_modulation.pkl')):\n",
    "            print('session',session_info.id,'already processed; skipping')\n",
    "            continue\n",
    "        lick_save_path=os.path.join(save_path,'lick_modulation')\n",
    "        if not os.path.exists(save_path):\n",
    "            os.makedirs(save_path)\n",
    "        try:\n",
    "            session=DynamicRoutingSession(session_info.id)\n",
    "            trials=data_utils.load_trials_or_units(session, 'trials')\n",
    "            units=data_utils.load_trials_or_units(session, 'units')\n",
    "\n",
    "        except Exception as e:\n",
    "            print('failed to load trials or units, skipping session')\n",
    "            except_dict[session_info.id]=e\n",
    "            continue\n",
    "\n",
    "        spike_utils.compute_stim_context_modulation(trials, units, session_info, save_path)\n",
    "\n",
    "        spike_utils.compute_lick_modulation(trials, units, session_info, lick_save_path)\n",
    "\n",
    "        print(session_info.id,'done')\n",
    "\n",
    "    except Exception as e:\n",
    "        print(session_info.id,'failed')\n",
    "        except_dict[session_info.id]=e\n"
   ]
  },
  {
   "cell_type": "code",
   "execution_count": null,
   "metadata": {},
   "outputs": [],
   "source": [
    "except_dict"
   ]
  }
 ],
 "metadata": {
  "kernelspec": {
   "display_name": "urchin",
   "language": "python",
   "name": "python3"
  },
  "language_info": {
   "codemirror_mode": {
    "name": "ipython",
    "version": 3
   },
   "file_extension": ".py",
   "mimetype": "text/x-python",
   "name": "python",
   "nbconvert_exporter": "python",
   "pygments_lexer": "ipython3",
   "version": "3.11.5"
  }
 },
 "nbformat": 4,
 "nbformat_minor": 2
}
