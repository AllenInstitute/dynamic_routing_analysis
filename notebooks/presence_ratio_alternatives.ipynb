{
 "cells": [
  {
   "cell_type": "code",
   "execution_count": 1,
   "metadata": {},
   "outputs": [],
   "source": [
    "import os\n",
    "import pickle\n",
    "import pandas as pd\n",
    "import numpy as np\n",
    "import matplotlib.pyplot as plt\n",
    "import scipy.stats as st\n",
    "import time\n",
    "\n",
    "import npc_lims\n",
    "from npc_sessions import DynamicRoutingSession\n",
    "from dynamic_routing_analysis import data_utils, spike_utils\n",
    "\n",
    "# plt.rcParams['pdf.fonttype'] = 42 \n",
    "plt.rcParams.update({'font.size': 8,'pdf.fonttype':42})\n",
    "\n",
    "%load_ext autoreload\n",
    "%autoreload 2\n",
    "%matplotlib widget"
   ]
  },
  {
   "cell_type": "code",
   "execution_count": 2,
   "metadata": {},
   "outputs": [
    {
     "name": "stdout",
     "output_type": "stream",
     "text": [
      "668755_2023-08-30 cached units loaded\n",
      "668755_2023-08-30 cached trials loaded\n"
     ]
    }
   ],
   "source": [
    "#load sessions and units\n",
    "\n",
    "session_id='668755_2023-08-30'\n",
    "\n",
    "session_info=npc_lims.get_session_info(session_id)\n",
    "units=data_utils.load_trials_or_units(session_info,'units')\n",
    "trials=data_utils.load_trials_or_units(session_info,'trials')"
   ]
  },
  {
   "cell_type": "code",
   "execution_count": 3,
   "metadata": {},
   "outputs": [
    {
     "data": {
      "text/plain": [
       "Index(['amplitude_cutoff', 'amplitude_cv_median', 'amplitude_cv_range',\n",
       "       'amplitude_median', 'drift_ptp', 'drift_std', 'drift_mad',\n",
       "       'firing_range', 'firing_rate', 'isi_violations_ratio',\n",
       "       'isi_violations_count', 'num_spikes', 'presence_ratio',\n",
       "       'rp_contamination', 'rp_violations', 'sliding_rp_violation', 'snr',\n",
       "       'sync_spike_2', 'sync_spike_4', 'sync_spike_8', 'd_prime',\n",
       "       'isolation_distance', 'l_ratio', 'silhouette', 'nn_hit_rate',\n",
       "       'nn_miss_rate', 'exp_decay', 'half_width', 'num_negative_peaks',\n",
       "       'num_positive_peaks', 'peak_to_valley', 'peak_trough_ratio',\n",
       "       'recovery_slope', 'repolarization_slope', 'spread', 'velocity_above',\n",
       "       'velocity_below', 'electrode_group_name', 'peak_channel', 'cluster_id',\n",
       "       'default_qc', 'amplitude', 'unit_id', 'ccf_ap', 'ccf_dv', 'ccf_ml',\n",
       "       'structure', 'location', 'peak_electrode', 'spike_times',\n",
       "       'obs_intervals', 'device_name', 'session_idx', 'date', 'subject_id',\n",
       "       'session_id'],\n",
       "      dtype='object')"
      ]
     },
     "execution_count": 3,
     "metadata": {},
     "output_type": "execute_result"
    }
   ],
   "source": [
    "units.columns"
   ]
  },
  {
   "cell_type": "code",
   "execution_count": 4,
   "metadata": {},
   "outputs": [
    {
     "data": {
      "text/plain": [
       "id\n",
       "1603     True\n",
       "1610    False\n",
       "1611     True\n",
       "1612     True\n",
       "1613     True\n",
       "        ...  \n",
       "1010    False\n",
       "400     False\n",
       "399     False\n",
       "987     False\n",
       "1190    False\n",
       "Name: default_qc, Length: 3445, dtype: bool"
      ]
     },
     "execution_count": 4,
     "metadata": {},
     "output_type": "execute_result"
    }
   ],
   "source": [
    "units['default_qc']"
   ]
  },
  {
   "cell_type": "code",
   "execution_count": null,
   "metadata": {},
   "outputs": [],
   "source": [
    "trial_da = spike_utils.make_neuron_time_trials_tensor(units, trials, spikes_time_before, spikes_time_after, spikes_binsize)"
   ]
  },
  {
   "cell_type": "code",
   "execution_count": null,
   "metadata": {},
   "outputs": [],
   "source": [
    "#look at quiescent, stimulus time periods\n",
    "\n",
    "#average across trials\n",
    "\n",
    "#find good blocks\n",
    "\n",
    "#exclude trials from bad blocks\n",
    "\n",
    "#plot average f.r. in each time window for vis blocks and aud blocks separately\n",
    "\n",
    "##or 2-way anova for context and trial number/time"
   ]
  },
  {
   "cell_type": "code",
   "execution_count": 5,
   "metadata": {},
   "outputs": [],
   "source": [
    "all_units_metrics = pd.read_pickle(r\"\\\\allen\\programs\\mindscope\\workgroups\\dynamicrouting\\Ethan\\new_annotations\\single unit metrics\\combined\\all_data_plus_performance.pkl\")"
   ]
  },
  {
   "cell_type": "code",
   "execution_count": 13,
   "metadata": {},
   "outputs": [
    {
     "data": {
      "text/plain": [
       "0         ACAd\n",
       "1         ACAd\n",
       "2         ACAd\n",
       "3         ACAd\n",
       "4         ACAd\n",
       "          ... \n",
       "134920      PO\n",
       "134921      LP\n",
       "134922     CA1\n",
       "134923     CA1\n",
       "134924     CA1\n",
       "Name: structure, Length: 134925, dtype: object"
      ]
     },
     "execution_count": 13,
     "metadata": {},
     "output_type": "execute_result"
    }
   ],
   "source": [
    "all_units_metrics['structure']"
   ]
  }
 ],
 "metadata": {
  "kernelspec": {
   "display_name": "dr_ibl_analysis",
   "language": "python",
   "name": "python3"
  },
  "language_info": {
   "codemirror_mode": {
    "name": "ipython",
    "version": 3
   },
   "file_extension": ".py",
   "mimetype": "text/x-python",
   "name": "python",
   "nbconvert_exporter": "python",
   "pygments_lexer": "ipython3",
   "version": "3.11.5"
  }
 },
 "nbformat": 4,
 "nbformat_minor": 2
}
