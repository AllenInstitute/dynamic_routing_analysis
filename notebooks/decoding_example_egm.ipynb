{
 "cells": [
  {
   "cell_type": "code",
   "execution_count": null,
   "metadata": {},
   "outputs": [],
   "source": [
    "import numpy as np\n",
    "import matplotlib.pyplot as plt\n",
    "import npc_lims\n",
    "from npc_sessions import DynamicRoutingSession\n",
    "from dynamic_routing_analysis import decoding_utils\n",
    "\n",
    "import os\n",
    "\n",
    "%load_ext autoreload\n",
    "%autoreload 2"
   ]
  },
  {
   "cell_type": "code",
   "execution_count": null,
   "metadata": {},
   "outputs": [],
   "source": [
    "#load ephys sessions\n",
    "ephys_sessions = tuple(s for s in npc_lims.get_session_info(is_ephys=True, is_uploaded=True, is_annotated=True)) #, project='DynamicRouting', project='TempletonPilotSession'))\n"
   ]
  },
  {
   "cell_type": "code",
   "execution_count": null,
   "metadata": {},
   "outputs": [],
   "source": [
    "ephys_sessions[35]"
   ]
  },
  {
   "cell_type": "code",
   "execution_count": null,
   "metadata": {},
   "outputs": [],
   "source": [
    "\n",
    "savepath=r'\\\\allen\\programs\\mindscope\\workgroups\\templeton\\TTOC\\decoding results\\new_annotations\\linear_shift_20_units'\n",
    "filename='decoding_results_linear_shift_20_units.pkl'\n",
    "\n",
    "except_list={}\n",
    "\n",
    "spikes_binsize=0.1\n",
    "spikes_time_before=0.5\n",
    "spikes_time_after=0.5\n",
    "\n",
    "decoder_binsize=0.2\n",
    "decoder_time_before=0.2\n",
    "decoder_time_after=0.1\n",
    "\n",
    "params={\n",
    "    # 'predict':['block_ids','cr_vs_fa','mouse_response_context'],\n",
    "    # 'predict':['block_ids'],\n",
    "    # 'trnum':'all',\n",
    "    # 'n_units':[5,10,20,50,100,'all'],\n",
    "    'n_units':20,\n",
    "    # 'u_min':20,\n",
    "    'n_repeats':25, \n",
    "    'input_data_type':'spikes', #spikes or facemap\n",
    "    'vid_angle':'face', #behavior, face, eye\n",
    "    'central_section':'4_blocks_plus',\n",
    "    'exclude_cue_trials':False,\n",
    "    'n_unit_threshold':20,\n",
    "    'keep_n_SVDs':500,\n",
    "    'spikes_binsize':spikes_binsize,\n",
    "    'spikes_time_before':spikes_time_before,\n",
    "    'spikes_time_after':spikes_time_after,\n",
    "    'decoder_binsize':decoder_binsize,\n",
    "    'decoder_time_before':decoder_time_before,\n",
    "    'decoder_time_after':decoder_time_after,\n",
    "    # 'balance_labels':0,\n",
    "    'savepath':savepath,\n",
    "    'filename':filename,\n",
    "    'use_structure_probe':True,\n",
    "    'crossval':'5_fold',\n",
    "    # 'all_areas':True,\n",
    "    'labels_as_index':True,\n",
    "    'decoder_type':'linearSVC', # 'linearSVC' or 'LDA' or 'RandomForest' or 'LogisticRegression'\n",
    "    # 'generate_labels':False,\n",
    "}\n",
    "\n",
    "\n",
    "for ephys_session in ephys_sessions[:]:\n",
    "    try:\n",
    "        session = DynamicRoutingSession(ephys_session.id)\n",
    "        print(session.id+' loaded')\n",
    "        if 'structure' in session.electrodes[:].columns:\n",
    "            # decoding_utils.decode_context_from_units(session,params)\n",
    "            decoding_utils.decode_context_with_linear_shift(session,params)\n",
    "\n",
    "        else:\n",
    "            print('no structure column found in electrodes table, moving to next recording')\n",
    "        session=[]\n",
    "    except Exception as e:\n",
    "        except_list[session.id]=repr(e)\n"
   ]
  },
  {
   "cell_type": "code",
   "execution_count": null,
   "metadata": {},
   "outputs": [],
   "source": [
    "except_list"
   ]
  },
  {
   "cell_type": "code",
   "execution_count": null,
   "metadata": {},
   "outputs": [],
   "source": []
  }
 ],
 "metadata": {
  "kernelspec": {
   "display_name": "npc_analysis",
   "language": "python",
   "name": "python3"
  },
  "language_info": {
   "codemirror_mode": {
    "name": "ipython",
    "version": 3
   },
   "file_extension": ".py",
   "mimetype": "text/x-python",
   "name": "python",
   "nbconvert_exporter": "python",
   "pygments_lexer": "ipython3",
   "version": "3.11.5"
  }
 },
 "nbformat": 4,
 "nbformat_minor": 2
}
