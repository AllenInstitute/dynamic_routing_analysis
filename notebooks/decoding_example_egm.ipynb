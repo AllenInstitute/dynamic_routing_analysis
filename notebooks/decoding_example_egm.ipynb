{
 "cells": [
  {
   "cell_type": "code",
   "execution_count": 1,
   "metadata": {},
   "outputs": [],
   "source": [
    "import numpy as np\n",
    "import matplotlib.pyplot as plt\n",
    "import npc_lims\n",
    "from npc_sessions import DynamicRoutingSession\n",
    "from dynamic_routing_analysis import decoding_utils\n",
    "\n",
    "import os"
   ]
  },
  {
   "cell_type": "code",
   "execution_count": null,
   "metadata": {},
   "outputs": [],
   "source": [
    "#find all DR sessions with ephys\n",
    "DR_ephys_sessions = tuple(s for s in npc_lims.get_session_info() \n",
    "                          if s.is_ephys and s.is_uploaded and s.project=='DRPilotSession')\n",
    "\n",
    "savepath=r'C:\\Users\\ethan.mcbride\\OneDrive - Allen Institute\\DR decoding results\\by_session\\verify_npc_analysis'\n",
    "filename='verify_npc_analysis.pkl'\n",
    "\n",
    "except_list={}\n",
    "\n",
    "binsize=0.2\n",
    "\n",
    "params={\n",
    "    'trnum':'all',\n",
    "    'n_units':[5,10,20,50,100,'all'],\n",
    "    'u_min':20,\n",
    "    'n_repeats':25,\n",
    "    'binsize':binsize,\n",
    "    'time_bins':np.arange(-0.2,0.1,binsize),\n",
    "    'balance_labels':1,\n",
    "    'savepath':savepath,\n",
    "    'filename':filename,\n",
    "}\n",
    "\n",
    "\n",
    "for DR_session in DR_ephys_sessions:\n",
    "    # try:\n",
    "    session = DynamicRoutingSession(DR_session.id)\n",
    "    print(session.id+' loaded')\n",
    "    if 'structure' in session.electrodes[:].columns:\n",
    "        decoding_utils.decode_context_from_units(session,params)\n",
    "    else:\n",
    "        print('no structure column found in electrodes table, moving to next recording')\n",
    "    # except Exception as e:\n",
    "    #     except_list[session.id]=e"
   ]
  }
 ],
 "metadata": {
  "kernelspec": {
   "display_name": "npc_analysis",
   "language": "python",
   "name": "python3"
  },
  "language_info": {
   "codemirror_mode": {
    "name": "ipython",
    "version": 3
   },
   "file_extension": ".py",
   "mimetype": "text/x-python",
   "name": "python",
   "nbconvert_exporter": "python",
   "pygments_lexer": "ipython3",
   "version": "3.11.5"
  }
 },
 "nbformat": 4,
 "nbformat_minor": 2
}
