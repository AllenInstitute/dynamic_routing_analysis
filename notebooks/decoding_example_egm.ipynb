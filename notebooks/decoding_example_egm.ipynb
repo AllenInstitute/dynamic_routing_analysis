{
 "cells": [
  {
   "cell_type": "code",
   "execution_count": null,
   "metadata": {},
   "outputs": [],
   "source": [
    "import numpy as np\n",
    "import matplotlib.pyplot as plt\n",
    "import npc_lims\n",
    "from npc_sessions import DynamicRoutingSession\n",
    "from dynamic_routing_analysis import decoding_utils\n",
    "\n",
    "import os\n",
    "\n",
    "%load_ext autoreload\n",
    "%autoreload 2"
   ]
  },
  {
   "cell_type": "code",
   "execution_count": null,
   "metadata": {},
   "outputs": [],
   "source": [
    "# DR_ephys_sessions = tuple(s for s in npc_lims.get_session_info(is_ephys=True) \n",
    "#                           if s.is_uploaded and s.is_annotated and \n",
    "#                           s.project=='DynamicRouting')\n",
    "\n",
    "#load Templeton sessions\n",
    "ephys_sessions = tuple(s for s in npc_lims.get_session_info(is_ephys=True, is_uploaded=True, is_annotated=True)) #, project='DynamicRouting', project='TempletonPilotSession'))\n"
   ]
  },
  {
   "cell_type": "code",
   "execution_count": null,
   "metadata": {},
   "outputs": [],
   "source": [
    "ephys_sessions[3]"
   ]
  },
  {
   "cell_type": "code",
   "execution_count": null,
   "metadata": {},
   "outputs": [],
   "source": [
    "# #find all DR sessions with ephys\n",
    "# DR_ephys_sessions = tuple(s for s in npc_lims.get_session_info(is_ephys=True) \n",
    "                        #   if s.is_uploaded and s.is_annotated and \n",
    "                        #   s.project=='DynamicRouting')\n",
    "\n",
    "savepath=r'\\\\allen\\programs\\mindscope\\workgroups\\templeton\\TTOC\\decoding results\\forecasting_3'\n",
    "filename='forecasting_3.pkl'\n",
    "\n",
    "except_list={}\n",
    "\n",
    "spikes_binsize=0.1\n",
    "spikes_time_before=0.5\n",
    "spikes_time_after=0.5\n",
    "\n",
    "decoder_binsize=0.2\n",
    "decoder_time_before=0.2\n",
    "decoder_time_after=0.1\n",
    "\n",
    "params={\n",
    "    'trnum':'all',\n",
    "    # 'n_units':[5,10,20,50,100,'all'],\n",
    "    'n_units':['all'],\n",
    "    'u_min':20,\n",
    "    'n_repeats':1,\n",
    "    'spikes_binsize':spikes_binsize,\n",
    "    'spikes_time_before':spikes_time_before,\n",
    "    'spikes_time_after':spikes_time_after,\n",
    "    'decoder_binsize':decoder_binsize,\n",
    "    'decoder_time_before':decoder_time_before,\n",
    "    'decoder_time_after':decoder_time_after,\n",
    "    'balance_labels':0,\n",
    "    'savepath':savepath,\n",
    "    'filename':filename,\n",
    "    'use_structure_probe':True,\n",
    "    'crossval':'forecast_train_3',\n",
    "    'all_areas':True,\n",
    "    'labels_as_index':True,\n",
    "    'decoder_type':'linearSVC',\n",
    "    'generate_labels':True,\n",
    "}\n",
    "\n",
    "\n",
    "for ephys_session in ephys_sessions[:]:\n",
    "    try:\n",
    "        session = DynamicRoutingSession(ephys_session.id)\n",
    "        print(session.id+' loaded')\n",
    "        if 'structure' in session.electrodes[:].columns:\n",
    "            decoding_utils.decode_context_from_units(session,params)\n",
    "        else:\n",
    "            print('no structure column found in electrodes table, moving to next recording')\n",
    "        session=[]\n",
    "    except Exception as e:\n",
    "        except_list[session.id]=repr(e)\n"
   ]
  },
  {
   "cell_type": "code",
   "execution_count": null,
   "metadata": {},
   "outputs": [],
   "source": []
  }
 ],
 "metadata": {
  "kernelspec": {
   "display_name": "npc_analysis",
   "language": "python",
   "name": "python3"
  },
  "language_info": {
   "codemirror_mode": {
    "name": "ipython",
    "version": 3
   },
   "file_extension": ".py",
   "mimetype": "text/x-python",
   "name": "python",
   "nbconvert_exporter": "python",
   "pygments_lexer": "ipython3",
   "version": "3.11.5"
  }
 },
 "nbformat": 4,
 "nbformat_minor": 2
}
