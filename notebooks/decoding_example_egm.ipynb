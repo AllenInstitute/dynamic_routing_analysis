{
 "cells": [
  {
   "cell_type": "markdown",
   "metadata": {},
   "source": [
    "# Decode context from spikes or facemap\n",
    "\n",
    "1 - either use all annotated & uploaded ephys sessions as input or provide a list of session_ids\n",
    "\n",
    "2 - set a savepath and filename for the output - one .pkl file per session\n",
    "\n",
    "3 - set parameters - descriptions below\n",
    "\n",
    "4 - run decoding!"
   ]
  },
  {
   "cell_type": "code",
   "execution_count": 8,
   "metadata": {},
   "outputs": [
    {
     "name": "stdout",
     "output_type": "stream",
     "text": [
      "The autoreload extension is already loaded. To reload it, use:\n",
      "  %reload_ext autoreload\n"
     ]
    }
   ],
   "source": [
    "import sys\n",
    "# sys.path.append(r\"C:\\Users\\shailaja.akella\\Dropbox (Personal)\\DR\\dynamic_routing_analysis_ethan\\src\")\n",
    "\n",
    "import npc_lims\n",
    "from dynamic_routing_analysis import decoding_utils, path_utils\n",
    "from npc_sessions import DynamicRoutingSession\n",
    "import numpy as np\n",
    "import matplotlib.pyplot as plt\n",
    "import scipy.stats as stats\n",
    "import os\n",
    "import pandas as pd\n",
    "import upath\n",
    "\n",
    "%load_ext autoreload\n",
    "%autoreload 2"
   ]
  },
  {
   "cell_type": "code",
   "execution_count": null,
   "metadata": {},
   "outputs": [],
   "source": [
    "#1A get all uploaded & annotated ephys sessions\n",
    "\n",
    "ephys_sessions = tuple(s for s in npc_lims.get_session_info(is_ephys=True, is_uploaded=True, \n",
    "                                                            is_annotated=True, project='DynamicRouting', issues = []))"
   ]
  },
  {
   "cell_type": "code",
   "execution_count": 90,
   "metadata": {},
   "outputs": [
    {
     "data": {
      "text/plain": [
       "(SessionInfo(id='668755_2023-08-30', project='DynamicRouting', is_ephys=True, is_sync=True, allen_path=WindowsUPath('//allen/programs/mindscope/workgroups/dynamicrouting/PilotEphys/Task 2 pilot/DRpilot_668755_20230830'), experiment_day=3, session_kwargs={}, notes='', issues=[]),)"
      ]
     },
     "execution_count": 90,
     "metadata": {},
     "output_type": "execute_result"
    }
   ],
   "source": [
    "#1B alternatively, provide a list of session ids:\n",
    "# session_id_list=['733891_2024-09-19','712815_2024-05-22','708016_2024-05-01','664851_2023-11-14','702136_2024-03-05','686176_2023-12-05']\n",
    "# session_id_list=['703333_2024-04-08']\n",
    "session_id_list=['668755_2023-08-30']\n",
    "# session_id_list=['667252_2023-09-25'] #only 4 blocks - test error handling\n",
    "session_list=[]\n",
    "for ss in session_id_list:\n",
    "    session_list.append(npc_lims.get_session_info(ss))\n",
    "ephys_sessions=tuple(session_list)\n",
    "ephys_sessions"
   ]
  },
  {
   "cell_type": "code",
   "execution_count": 91,
   "metadata": {},
   "outputs": [
    {
     "name": "stdout",
     "output_type": "stream",
     "text": [
      "668755_2023-08-30_0 loaded\n"
     ]
    },
    {
     "name": "stderr",
     "output_type": "stream",
     "text": [
      "c:\\Anaconda3\\envs\\dr_analysis\\Lib\\site-packages\\sklearn\\metrics\\_classification.py:1497: UndefinedMetricWarning: Precision is ill-defined and being set to 0.0 in labels with no predicted samples. Use `zero_division` parameter to control this behavior.\n",
      "  _warn_prf(average, modifier, f\"{metric.capitalize()} is\", len(result))\n",
      "c:\\Anaconda3\\envs\\dr_analysis\\Lib\\site-packages\\sklearn\\metrics\\_classification.py:1497: UndefinedMetricWarning: Precision is ill-defined and being set to 0.0 in labels with no predicted samples. Use `zero_division` parameter to control this behavior.\n",
      "  _warn_prf(average, modifier, f\"{metric.capitalize()} is\", len(result))\n",
      "c:\\Anaconda3\\envs\\dr_analysis\\Lib\\site-packages\\sklearn\\metrics\\_classification.py:1497: UndefinedMetricWarning: Precision is ill-defined and being set to 0.0 in labels with no predicted samples. Use `zero_division` parameter to control this behavior.\n",
      "  _warn_prf(average, modifier, f\"{metric.capitalize()} is\", len(result))\n",
      "c:\\Anaconda3\\envs\\dr_analysis\\Lib\\site-packages\\sklearn\\metrics\\_classification.py:1497: UndefinedMetricWarning: Precision is ill-defined and being set to 0.0 in labels with no predicted samples. Use `zero_division` parameter to control this behavior.\n",
      "  _warn_prf(average, modifier, f\"{metric.capitalize()} is\", len(result))\n",
      "c:\\Anaconda3\\envs\\dr_analysis\\Lib\\site-packages\\sklearn\\metrics\\_classification.py:1497: UndefinedMetricWarning: Precision is ill-defined and being set to 0.0 in labels with no predicted samples. Use `zero_division` parameter to control this behavior.\n",
      "  _warn_prf(average, modifier, f\"{metric.capitalize()} is\", len(result))\n",
      "c:\\Anaconda3\\envs\\dr_analysis\\Lib\\site-packages\\sklearn\\metrics\\_classification.py:1497: UndefinedMetricWarning: Precision is ill-defined and being set to 0.0 in labels with no predicted samples. Use `zero_division` parameter to control this behavior.\n",
      "  _warn_prf(average, modifier, f\"{metric.capitalize()} is\", len(result))\n",
      "c:\\Anaconda3\\envs\\dr_analysis\\Lib\\site-packages\\sklearn\\metrics\\_classification.py:1497: UndefinedMetricWarning: Precision is ill-defined and being set to 0.0 in labels with no predicted samples. Use `zero_division` parameter to control this behavior.\n",
      "  _warn_prf(average, modifier, f\"{metric.capitalize()} is\", len(result))\n",
      "c:\\Anaconda3\\envs\\dr_analysis\\Lib\\site-packages\\sklearn\\metrics\\_classification.py:1497: UndefinedMetricWarning: Precision is ill-defined and being set to 0.0 in labels with no predicted samples. Use `zero_division` parameter to control this behavior.\n",
      "  _warn_prf(average, modifier, f\"{metric.capitalize()} is\", len(result))\n",
      "c:\\Anaconda3\\envs\\dr_analysis\\Lib\\site-packages\\sklearn\\metrics\\_classification.py:1497: UndefinedMetricWarning: Precision is ill-defined and being set to 0.0 in labels with no predicted samples. Use `zero_division` parameter to control this behavior.\n",
      "  _warn_prf(average, modifier, f\"{metric.capitalize()} is\", len(result))\n",
      "c:\\Anaconda3\\envs\\dr_analysis\\Lib\\site-packages\\sklearn\\metrics\\_classification.py:1497: UndefinedMetricWarning: Precision is ill-defined and being set to 0.0 in labels with no predicted samples. Use `zero_division` parameter to control this behavior.\n",
      "  _warn_prf(average, modifier, f\"{metric.capitalize()} is\", len(result))\n",
      "c:\\Anaconda3\\envs\\dr_analysis\\Lib\\site-packages\\sklearn\\metrics\\_classification.py:1497: UndefinedMetricWarning: Precision is ill-defined and being set to 0.0 in labels with no predicted samples. Use `zero_division` parameter to control this behavior.\n",
      "  _warn_prf(average, modifier, f\"{metric.capitalize()} is\", len(result))\n",
      "c:\\Anaconda3\\envs\\dr_analysis\\Lib\\site-packages\\sklearn\\metrics\\_classification.py:1497: UndefinedMetricWarning: Precision is ill-defined and being set to 0.0 in labels with no predicted samples. Use `zero_division` parameter to control this behavior.\n",
      "  _warn_prf(average, modifier, f\"{metric.capitalize()} is\", len(result))\n"
     ]
    },
    {
     "ename": "PermissionError",
     "evalue": "[Errno 13] Permission denied: '\\\\\\\\allen\\\\programs\\\\mindscope\\\\workgroups\\\\templeton\\\\TTOC\\\\decoding results\\\\test_stim_decoding\\\\668755_2023-08-30_test_stim_decoding.pkl'",
     "output_type": "error",
     "traceback": [
      "\u001b[1;31m---------------------------------------------------------------------------\u001b[0m",
      "\u001b[1;31mPermissionError\u001b[0m                           Traceback (most recent call last)",
      "Cell \u001b[1;32mIn[91], line 72\u001b[0m\n\u001b[0;32m     65\u001b[0m     trials\u001b[38;5;241m=\u001b[39mpd\u001b[38;5;241m.\u001b[39mread_parquet(\n\u001b[0;32m     66\u001b[0m         npc_lims\u001b[38;5;241m.\u001b[39mget_cache_path(\u001b[38;5;124m'\u001b[39m\u001b[38;5;124mtrials\u001b[39m\u001b[38;5;124m'\u001b[39m,session_id,\u001b[38;5;124m'\u001b[39m\u001b[38;5;124many\u001b[39m\u001b[38;5;124m'\u001b[39m)\n\u001b[0;32m     67\u001b[0m     )\n\u001b[0;32m     68\u001b[0m     units\u001b[38;5;241m=\u001b[39mpd\u001b[38;5;241m.\u001b[39mread_parquet(\n\u001b[0;32m     69\u001b[0m         npc_lims\u001b[38;5;241m.\u001b[39mget_cache_path(\u001b[38;5;124m'\u001b[39m\u001b[38;5;124munits\u001b[39m\u001b[38;5;124m'\u001b[39m,session_id,\u001b[38;5;124m'\u001b[39m\u001b[38;5;124many\u001b[39m\u001b[38;5;124m'\u001b[39m)\n\u001b[0;32m     70\u001b[0m     )\n\u001b[1;32m---> 72\u001b[0m     results\u001b[38;5;241m=\u001b[39m\u001b[43mdecoding_utils\u001b[49m\u001b[38;5;241;43m.\u001b[39;49m\u001b[43mdecode_stimulus_across_context\u001b[49m\u001b[43m(\u001b[49m\u001b[43msession\u001b[49m\u001b[38;5;241;43m=\u001b[39;49m\u001b[38;5;28;43;01mNone\u001b[39;49;00m\u001b[43m,\u001b[49m\u001b[43mparams\u001b[49m\u001b[38;5;241;43m=\u001b[39;49m\u001b[43mparams\u001b[49m\u001b[43m,\u001b[49m\u001b[43mtrials\u001b[49m\u001b[38;5;241;43m=\u001b[39;49m\u001b[43mtrials\u001b[49m\u001b[43m,\u001b[49m\u001b[43munits\u001b[49m\u001b[38;5;241;43m=\u001b[39;49m\u001b[43munits\u001b[49m\u001b[43m,\u001b[49m\u001b[43msession_info\u001b[49m\u001b[38;5;241;43m=\u001b[39;49m\u001b[43msession_info\u001b[49m\u001b[43m)\u001b[49m\n\u001b[0;32m     74\u001b[0m     \u001b[38;5;66;03m# decoding_utils.decode_context_with_linear_shift(session=None,params=params,trials=trials,units=units,session_info=session_info)\u001b[39;00m\n\u001b[0;32m     75\u001b[0m \n\u001b[0;32m     76\u001b[0m     \u001b[38;5;66;03m# #find path of decoder result\u001b[39;00m\n\u001b[1;32m   (...)\u001b[0m\n\u001b[0;32m     96\u001b[0m \n\u001b[0;32m     97\u001b[0m \u001b[38;5;28;01melse\u001b[39;00m:\n\u001b[0;32m     98\u001b[0m     \u001b[38;5;28mprint\u001b[39m(\u001b[38;5;124m'\u001b[39m\u001b[38;5;124mno structure column found in electrodes table, moving to next recording\u001b[39m\u001b[38;5;124m'\u001b[39m)\n",
      "File \u001b[1;32m~\\Code\\dynamic_routing_analysis\\src\\dynamic_routing_analysis\\decoding_utils.py:1576\u001b[0m, in \u001b[0;36mdecode_stimulus_across_context\u001b[1;34m(session, params, trials, units, session_info)\u001b[0m\n\u001b[0;32m   1574\u001b[0m path\u001b[38;5;241m.\u001b[39mmkdir(parents\u001b[38;5;241m=\u001b[39m\u001b[38;5;28;01mTrue\u001b[39;00m, exist_ok\u001b[38;5;241m=\u001b[39m\u001b[38;5;28;01mTrue\u001b[39;00m)\n\u001b[0;32m   1575\u001b[0m logger\u001b[38;5;241m.\u001b[39minfo(\u001b[38;5;124mf\u001b[39m\u001b[38;5;124m'\u001b[39m\u001b[38;5;132;01m{\u001b[39;00msession_id\u001b[38;5;132;01m}\u001b[39;00m\u001b[38;5;124m | Saving raw decoding results to \u001b[39m\u001b[38;5;132;01m{\u001b[39;00mpath\u001b[38;5;132;01m}\u001b[39;00m\u001b[38;5;124m'\u001b[39m)\n\u001b[1;32m-> 1576\u001b[0m \u001b[43mpath\u001b[49m\u001b[38;5;241;43m.\u001b[39;49m\u001b[43mwrite_bytes\u001b[49m\u001b[43m(\u001b[49m\n\u001b[0;32m   1577\u001b[0m \u001b[43m    \u001b[49m\u001b[43mpickle\u001b[49m\u001b[38;5;241;43m.\u001b[39;49m\u001b[43mdumps\u001b[49m\u001b[43m(\u001b[49m\u001b[43mdecoder_results\u001b[49m\u001b[43m,\u001b[49m\u001b[43m \u001b[49m\u001b[43mprotocol\u001b[49m\u001b[38;5;241;43m=\u001b[39;49m\u001b[43mpickle\u001b[49m\u001b[38;5;241;43m.\u001b[39;49m\u001b[43mHIGHEST_PROTOCOL\u001b[49m\u001b[43m)\u001b[49m\u001b[43m \u001b[49m\n\u001b[0;32m   1578\u001b[0m \u001b[43m\u001b[49m\u001b[43m)\u001b[49m\n\u001b[0;32m   1580\u001b[0m \u001b[38;5;28;01mdel\u001b[39;00m trial_da\n\u001b[0;32m   1581\u001b[0m \u001b[38;5;28;01mdel\u001b[39;00m units\n",
      "File \u001b[1;32mc:\\Anaconda3\\envs\\dr_analysis\\Lib\\pathlib.py:1067\u001b[0m, in \u001b[0;36mPath.write_bytes\u001b[1;34m(self, data)\u001b[0m\n\u001b[0;32m   1065\u001b[0m \u001b[38;5;66;03m# type-check for the buffer interface before truncating the file\u001b[39;00m\n\u001b[0;32m   1066\u001b[0m view \u001b[38;5;241m=\u001b[39m \u001b[38;5;28mmemoryview\u001b[39m(data)\n\u001b[1;32m-> 1067\u001b[0m \u001b[38;5;28;01mwith\u001b[39;00m \u001b[38;5;28;43mself\u001b[39;49m\u001b[38;5;241;43m.\u001b[39;49m\u001b[43mopen\u001b[49m\u001b[43m(\u001b[49m\u001b[43mmode\u001b[49m\u001b[38;5;241;43m=\u001b[39;49m\u001b[38;5;124;43m'\u001b[39;49m\u001b[38;5;124;43mwb\u001b[39;49m\u001b[38;5;124;43m'\u001b[39;49m\u001b[43m)\u001b[49m \u001b[38;5;28;01mas\u001b[39;00m f:\n\u001b[0;32m   1068\u001b[0m     \u001b[38;5;28;01mreturn\u001b[39;00m f\u001b[38;5;241m.\u001b[39mwrite(view)\n",
      "File \u001b[1;32mc:\\Anaconda3\\envs\\dr_analysis\\Lib\\pathlib.py:1044\u001b[0m, in \u001b[0;36mPath.open\u001b[1;34m(self, mode, buffering, encoding, errors, newline)\u001b[0m\n\u001b[0;32m   1042\u001b[0m \u001b[38;5;28;01mif\u001b[39;00m \u001b[38;5;124m\"\u001b[39m\u001b[38;5;124mb\u001b[39m\u001b[38;5;124m\"\u001b[39m \u001b[38;5;129;01mnot\u001b[39;00m \u001b[38;5;129;01min\u001b[39;00m mode:\n\u001b[0;32m   1043\u001b[0m     encoding \u001b[38;5;241m=\u001b[39m io\u001b[38;5;241m.\u001b[39mtext_encoding(encoding)\n\u001b[1;32m-> 1044\u001b[0m \u001b[38;5;28;01mreturn\u001b[39;00m \u001b[43mio\u001b[49m\u001b[38;5;241;43m.\u001b[39;49m\u001b[43mopen\u001b[49m\u001b[43m(\u001b[49m\u001b[38;5;28;43mself\u001b[39;49m\u001b[43m,\u001b[49m\u001b[43m \u001b[49m\u001b[43mmode\u001b[49m\u001b[43m,\u001b[49m\u001b[43m \u001b[49m\u001b[43mbuffering\u001b[49m\u001b[43m,\u001b[49m\u001b[43m \u001b[49m\u001b[43mencoding\u001b[49m\u001b[43m,\u001b[49m\u001b[43m \u001b[49m\u001b[43merrors\u001b[49m\u001b[43m,\u001b[49m\u001b[43m \u001b[49m\u001b[43mnewline\u001b[49m\u001b[43m)\u001b[49m\n",
      "\u001b[1;31mPermissionError\u001b[0m: [Errno 13] Permission denied: '\\\\\\\\allen\\\\programs\\\\mindscope\\\\workgroups\\\\templeton\\\\TTOC\\\\decoding results\\\\test_stim_decoding\\\\668755_2023-08-30_test_stim_decoding.pkl'"
     ]
    }
   ],
   "source": [
    "#2 set savepath and filename\n",
    "savepath=upath.UPath(r\"\\\\allen\\programs\\mindscope\\workgroups\\templeton\\TTOC\\decoding results\\test_stim_decoding\")\n",
    "filename='test_stim_decoding.pkl'\n",
    "\n",
    "# filename='2024_10_28'\n",
    "# savepath = path_utils.DECODING_ROOT_PATH / 'decoding_test_2024_10_28'\n",
    "\n",
    "except_list={}\n",
    "\n",
    "#3 set parameters\n",
    "#linear shift decoding currently just takes the average firing rate over all bins defined here\n",
    "# spikes_binsize=0.2 #bin size in seconds\n",
    "# spikes_time_before=0.2 #time before the stimulus per trial\n",
    "# spikes_time_after=0.01 #time after the stimulus per trial\n",
    "spikes_binsize=0.1 #bin size in seconds\n",
    "spikes_time_before=0.0 #time before the stimulus per trial\n",
    "spikes_time_after=0.11 #time after the stimulus per trial\n",
    "\n",
    "# #not used for linear shift decoding, were used in a previous iteration of decoding analysis\n",
    "# decoder_binsize=0.2\n",
    "# decoder_time_before=0.2\n",
    "# decoder_time_after=0.1\n",
    "\n",
    "\n",
    "params = {\n",
    "    'n_units': ['all'], #number of units to sample for each area (list)\n",
    "    'n_repeats': 25,  # number of times to repeat decoding with different randomly sampled units\n",
    "    'input_data_type': 'spikes',  # spikes or facemap or LP\n",
    "    'vid_angle_facemotion': 'face', # behavior, face, eye\n",
    "    'vid_angle_LP': 'behavior',\n",
    "    'central_section': '4_blocks_plus',\n",
    "    'predict': 'context', # 'context' or 'vis_appropriate_response'\n",
    "    # for linear shift decoding, how many trials to use for the shift. '4_blocks_plus' is best\n",
    "    'exclude_cue_trials': False,  # option to totally exclude autorewarded trials\n",
    "    'n_unit_threshold': 20,  # minimum number of units to include an area in the analysis\n",
    "    'keep_n_SVDs': 500,  # number of SVD components to keep for facemap data\n",
    "    'LP_parts_to_keep': ['ear_base_l', 'eye_bottom_l', 'jaw', 'nose_tip', 'whisker_pad_l_side'],\n",
    "    'spikes_binsize': spikes_binsize,\n",
    "    'spikes_time_before': spikes_time_before,\n",
    "    'spikes_time_after': spikes_time_after,\n",
    "    # 'decoder_binsize':decoder_binsize,\n",
    "    # 'decoder_time_before':decoder_time_before,\n",
    "    # 'decoder_time_after':decoder_time_after,\n",
    "    'savepath': savepath,\n",
    "    'filename': filename,\n",
    "    'use_structure_probe': True,  # if True, append probe name to area name when multiple probes in the same area\n",
    "    'crossval': '5_fold_constant',  # '5_fold', '5_fold_constant', or 'blockwise' - blockwise untested with linear shift\n",
    "    'labels_as_index': True,  # convert labels (context names) to index [0,1]\n",
    "    'decoder_type': 'LogisticRegression',  # 'linearSVC' or 'LDA' or 'RandomForest' or 'LogisticRegression'\n",
    "    'only_use_all_units': False, #if True, do not run decoding with different areas, only with all areas -- for debugging\n",
    "    'return_results': True,  # if True, return the results of the decoding analysis\n",
    "}\n",
    "\n",
    "\n",
    "for ephys_session in ephys_sessions[:1]:\n",
    "    # if os.path.exists(savepath + '/' + ephys_session.id[:17] + '_' + filename + '.pkl'): \n",
    "    #     print(ephys_session.id[:17] + ' completed, skipping...')    \n",
    "    #     continue\n",
    "    # try:\n",
    "        session = DynamicRoutingSession(ephys_session.id)\n",
    "        print(session.id+' loaded')\n",
    "        if 'structure' in session.electrodes[:].columns:\n",
    "            session_info=ephys_session\n",
    "            session_id=str(session_info.id)\n",
    "            trials=pd.read_parquet(\n",
    "                npc_lims.get_cache_path('trials',session_id,'any')\n",
    "            )\n",
    "            units=pd.read_parquet(\n",
    "                npc_lims.get_cache_path('units',session_id,'any')\n",
    "            )\n",
    "            \n",
    "            results=decoding_utils.decode_stimulus_across_context(session=None,params=params,trials=trials,units=units,session_info=session_info)\n",
    "            \n",
    "            # decoding_utils.decode_context_with_linear_shift(session=None,params=params,trials=trials,units=units,session_info=session_info)\n",
    "\n",
    "            # #find path of decoder result\n",
    "            # file_path= savepath / (ephys_session.id[:17] + '_' + filename)\n",
    "\n",
    "            # decoding_results=decoding_utils.concat_decoder_results(file_path,savepath=savepath,return_table=True,single_session=True)\n",
    "\n",
    "            # #find n_units to loop through for next step\n",
    "            # if decoding_results is not None:\n",
    "            #     n_units=[]\n",
    "            #     for col in decoding_results.filter(like='true_accuracy_').columns.values:\n",
    "            #         if len(col.split('_'))==3:\n",
    "            #             temp_n_units=col.split('_')[2]\n",
    "            #             try:\n",
    "            #                 n_units.append(int(temp_n_units))\n",
    "            #             except:\n",
    "            #                 n_units.append(temp_n_units)\n",
    "            #         else:\n",
    "            #             n_units.append(None)\n",
    "\n",
    "            #     for nu in n_units:\n",
    "            #         decoding_utils.concat_trialwise_decoder_results(file_path,savepath=savepath,return_table=False,n_units=nu,single_session=True)\n",
    "\n",
    "        else:\n",
    "            print('no structure column found in electrodes table, moving to next recording')\n",
    "        session=[]\n",
    "    # except Exception as e:\n",
    "        # except_list[session.id]=repr(e)\n"
   ]
  },
  {
   "cell_type": "code",
   "execution_count": 89,
   "metadata": {},
   "outputs": [
    {
     "data": {
      "text/plain": [
       "Text(0.5, 1.0, 'Decoding accuracy for ORBl')"
      ]
     },
     "execution_count": 89,
     "metadata": {},
     "output_type": "execute_result"
    },
    {
     "data": {
      "image/png": "[encoded data removed]",
      "text/plain": [
       "<Figure size 640x480 with 1 Axes>"
      ]
     },
     "metadata": {},
     "output_type": "display_data"
    }
   ],
   "source": [
    "sel_area='ORBl'\n",
    "\n",
    "vis_stim_vis_context=results['703333_2024-04-08']['results'][sel_area]['predict_vis_stim_vis_context']['all'][0]['balanced_accuracy_test']\n",
    "vis_stim_aud_context=results['703333_2024-04-08']['results'][sel_area]['predict_vis_stim_aud_context']['all'][0]['balanced_accuracy_test']\n",
    "aud_stim_aud_context=results['703333_2024-04-08']['results'][sel_area]['predict_aud_stim_aud_context']['all'][0]['balanced_accuracy_test']\n",
    "aud_stim_vis_context=results['703333_2024-04-08']['results'][sel_area]['predict_aud_stim_vis_context']['all'][0]['balanced_accuracy_test']\n",
    "\n",
    "fig,ax=plt.subplots(1,1)\n",
    "ax.bar(np.arange(0,4),[vis_stim_vis_context,vis_stim_aud_context,aud_stim_aud_context,aud_stim_vis_context])\n",
    "ax.axhline(0.5,color='black',linestyle='--',alpha=0.5)\n",
    "ax.set_xticks(np.arange(0,4))\n",
    "ax.set_xticklabels(['vis_stim_vis_context','vis_stim_aud_context','aud_stim_aud_context','aud_stim_vis_context'],rotation=45)\n",
    "ax.set_ylabel('balanced_accuracy')\n",
    "ax.set_ylim(0,1)\n",
    "\n",
    "ax.set_title('Decoding accuracy for '+sel_area)\n"
   ]
  },
  {
   "cell_type": "code",
   "execution_count": 31,
   "metadata": {},
   "outputs": [
    {
     "data": {
      "text/plain": [
       "array(['CA1', 'CA3_probeE', 'CA3_probeC', 'CA3_probeD', 'CM', 'CS',\n",
       "       'DG_probeD', 'DG_probeC', 'FRP', 'HPF', 'LGd', 'MB', 'MGd', 'MGm',\n",
       "       'MGv', 'MOs', 'MRN', 'OLF', 'ORBl', 'PAG', 'Pa4', 'RSPd',\n",
       "       'RSPv_probeF', 'RSPv_probeC', 'SCdg', 'SCdw', 'SCig', 'SCiw',\n",
       "       'SCop', 'SCsg', 'SCzo', 'SSp', 'V3', 'out of brain_probeA',\n",
       "       'out of brain_probeE'], dtype=object)"
      ]
     },
     "execution_count": 31,
     "metadata": {},
     "output_type": "execute_result"
    }
   ],
   "source": [
    "units['structure'].unique()"
   ]
  }
 ],
 "metadata": {
  "kernelspec": {
   "display_name": "dr_analysis",
   "language": "python",
   "name": "python3"
  },
  "language_info": {
   "codemirror_mode": {
    "name": "ipython",
    "version": 3
   },
   "file_extension": ".py",
   "mimetype": "text/x-python",
   "name": "python",
   "nbconvert_exporter": "python",
   "pygments_lexer": "ipython3",
   "version": "3.11.5"
  }
 },
 "nbformat": 4,
 "nbformat_minor": 4
}
