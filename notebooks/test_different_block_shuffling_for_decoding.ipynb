{
 "cells": [
  {
   "cell_type": "code",
   "execution_count": 1,
   "metadata": {},
   "outputs": [],
   "source": [
    "import os\n",
    "import pickle\n",
    "import glob\n",
    "import random\n",
    "\n",
    "import pandas as pd\n",
    "import numpy as np\n",
    "import xarray as xr\n",
    "import matplotlib.pyplot as plt\n",
    "from sklearn import ensemble, svm\n",
    "from sklearn.metrics import balanced_accuracy_score, classification_report\n",
    "from sklearn.model_selection import StratifiedKFold\n",
    "from sklearn.preprocessing import RobustScaler, StandardScaler\n",
    "\n",
    "import npc_lims\n",
    "from npc_sessions import DynamicRoutingSession\n",
    "from dynamic_routing_analysis import spike_utils, decoding_utils\n"
   ]
  },
  {
   "cell_type": "code",
   "execution_count": 2,
   "metadata": {},
   "outputs": [
    {
     "name": "stderr",
     "output_type": "stream",
     "text": [
      "c:\\Anaconda3\\envs\\npc_analysis\\Lib\\site-packages\\npc_lims\\metadata\\codeocean.py:201: UserWarning: There is more than one asset for session = '644866_2023-02-08'. Defaulting to most recent: ('ecephys_644866_2023-02-08_16-01-11', 'ecephys_644866_2023-02-08_16-01-11')\n",
      "  warnings.warn(\n",
      "c:\\Anaconda3\\envs\\npc_analysis\\Lib\\site-packages\\npc_lims\\metadata\\codeocean.py:201: UserWarning: There is more than one asset for session = '664851_2023-11-14'. Defaulting to most recent: ('ecephys_664851_2023-11-14_12-44-33', 'ecephys_664851_2023-11-14_12-44-33')\n",
      "  warnings.warn(\n",
      "c:\\Anaconda3\\envs\\npc_analysis\\Lib\\site-packages\\npc_lims\\metadata\\codeocean.py:201: UserWarning: There is more than one asset for session = '686176_2023-12-06'. Defaulting to most recent: ('ecephys_686176_2023-12-06_13-03-34', 'ecephys_686176_2023-12-06_13-03-34')\n",
      "  warnings.warn(\n"
     ]
    }
   ],
   "source": [
    "all_ephys_sessions = tuple(s for s in npc_lims.get_session_info(is_ephys=True, is_uploaded=True, is_annotated=True,))# project='DynamicRouting'))\n",
    "                            #(s.project=='DynamicRouting'))"
   ]
  },
  {
   "cell_type": "code",
   "execution_count": 9,
   "metadata": {},
   "outputs": [
    {
     "data": {
      "text/plain": [
       "SessionInfo(id='686740_2023-10-23', project='DynamicRouting', is_ephys=True, is_sync=True, allen_path=WindowsUPath('//allen/programs/mindscope/workgroups/dynamicrouting/PilotEphys/Task 2 pilot/DRpilot_686740_20231023'), experiment_day=1, session_kwargs={}, notes='', issues=[])"
      ]
     },
     "execution_count": 9,
     "metadata": {},
     "output_type": "execute_result"
    }
   ],
   "source": [
    "# import glob\n",
    "all_ephys_sessions[17]\n",
    "# os.path.split(glob.glob(os.path.join(all_ephys_sessions[-8].allen_path,\"Behavior_*.mp4\"))[0])"
   ]
  },
  {
   "cell_type": "code",
   "execution_count": 7,
   "metadata": {},
   "outputs": [
    {
     "name": "stderr",
     "output_type": "stream",
     "text": [
      "c:\\Anaconda3\\envs\\npc_analysis\\Lib\\site-packages\\pynwb\\base.py:193: UserWarning: TimeSeries 'Facemap Behavior Proc Output': Length of data does not match length of timestamps. Your data may be transposed. Time should be on the 0th dimension\n",
      "  warn(\"%s '%s': Length of data does not match length of timestamps. Your data may be transposed. \"\n"
     ]
    }
   ],
   "source": [
    "#convert load facemap to use data on s3\n",
    "#or at least add an option to do so\n",
    "# session=all_ephys_sessions[0]\n",
    "# behav_info = np.load(\n",
    "#             npc_lims.get_cache_path('facemap',session.id,version='any'),\n",
    "#             allow_pickle=True\n",
    "#         )\n",
    "session=DynamicRoutingSession(all_ephys_sessions[0])\n",
    "X=session._facemap_face_output"
   ]
  },
  {
   "cell_type": "code",
   "execution_count": 10,
   "metadata": {},
   "outputs": [
    {
     "data": {
      "text/html": [
       "\n",
       "        <style>\n",
       "            .container-fields {\n",
       "                font-family: \"Open Sans\", Arial, sans-serif;\n",
       "            }\n",
       "            .container-fields .field-value {\n",
       "                color: #00788E;\n",
       "            }\n",
       "            .container-fields details > summary {\n",
       "                cursor: pointer;\n",
       "                display: list-item;\n",
       "            }\n",
       "            .container-fields details > summary:hover {\n",
       "                color: #0A6EAA;\n",
       "            }\n",
       "        </style>\n",
       "        \n",
       "        <script>\n",
       "            function copyToClipboard(text) {\n",
       "                navigator.clipboard.writeText(text).then(function() {\n",
       "                    console.log('Copied to clipboard: ' + text);\n",
       "                }, function(err) {\n",
       "                    console.error('Could not copy text: ', err);\n",
       "                });\n",
       "            }\n",
       "\n",
       "            document.addEventListener('DOMContentLoaded', function() {\n",
       "                let fieldKeys = document.querySelectorAll('.container-fields .field-key');\n",
       "                fieldKeys.forEach(function(fieldKey) {\n",
       "                    fieldKey.addEventListener('click', function() {\n",
       "                        let accessCode = fieldKey.getAttribute('title').replace('Access code: ', '');\n",
       "                        copyToClipboard(accessCode);\n",
       "                    });\n",
       "                });\n",
       "            });\n",
       "        </script>\n",
       "        <div class='container-wrap'><div class='container-header'><div class='xr-obj-type'><h3>Facemap Behavior Proc Output (TimeSeries)</h3></div></div><div style=\"margin-left: 0px;\" class=\"container-fields\"><span class=\"field-key\" title=\".fields['resolution']\">resolution:</span> <span class=\"field-value\">-1.0</span></div><div style=\"margin-left: 0px;\" class=\"container-fields\"><span class=\"field-key\" title=\".fields['comments']\">comments:</span> <span class=\"field-value\">no comments</span></div><div style=\"margin-left: 0px;\" class=\"container-fields\"><span class=\"field-key\" title=\".fields['description']\">description:</span> <span class=\"field-value\">Motion SVD for behavior video. Shape is number of frames by number of components (500)</span></div><div style=\"margin-left: 0px;\" class=\"container-fields\"><span class=\"field-key\" title=\".fields['conversion']\">conversion:</span> <span class=\"field-value\">1.0</span></div><div style=\"margin-left: 0px;\" class=\"container-fields\"><span class=\"field-key\" title=\".fields['offset']\">offset:</span> <span class=\"field-value\">0.0</span></div><div style=\"margin-left: 0px;\" class=\"container-fields\"><span class=\"field-key\" title=\".fields['unit']\">unit:</span> <span class=\"field-value\">pixels</span></div><details><summary style=\"display: list-item; margin-left: 0px;\" class=\"container-fields field-key\" title=\".fields['data']\"><b>data</b></summary><div style=\"margin-left: 20px;\" class=\"container-fields\"><span class=\"field-value\" title=\".fields['data'][0]\">[]</span></div><div style=\"margin-left: 20px;\" class=\"container-fields\"><span class=\"field-value\" title=\".fields['data'][1]\">[[-240.36627      87.91644    -112.95393    ...    1.2362213\n",
       "     0.31949615    0.7431145 ]\n",
       " [-240.36627      87.91644    -112.95393    ...    1.2362213\n",
       "     0.31949615    0.7431145 ]\n",
       " [-173.37273     -71.2024        7.4035254  ...    4.853175\n",
       "    -2.7335627    -0.25878707]\n",
       " ...\n",
       " [ -50.632866     59.902767     84.93916    ...   -1.0510504\n",
       "    -4.3209944    -1.1825297 ]\n",
       " [  35.611534    -40.72782     158.99353    ...   -3.1724272\n",
       "     2.7279055    -4.2445292 ]\n",
       " [  36.8212        1.9601312    94.2237     ...   -0.30582383\n",
       "     7.3080015   -16.02786   ]]</span></div></details><details><summary style=\"display: list-item; margin-left: 0px;\" class=\"container-fields field-key\" title=\".fields['timestamps']\"><b>timestamps</b></summary><div style=\"margin-left: 20px;\" class=\"container-fields\">[       nan   14.1186    14.13527 ... 7208.4503  7208.46697 7208.48364]</div></details><div style=\"margin-left: 0px;\" class=\"container-fields\"><span class=\"field-key\" title=\".fields['timestamps_unit']\">timestamps_unit:</span> <span class=\"field-value\">seconds</span></div><div style=\"margin-left: 0px;\" class=\"container-fields\"><span class=\"field-key\" title=\".fields['interval']\">interval:</span> <span class=\"field-value\">1</span></div></div>"
      ],
      "text/plain": [
       "Facemap Behavior Proc Output pynwb.base.TimeSeries at 0x2114263093328\n",
       "Fields:\n",
       "  comments: no comments\n",
       "  conversion: 1.0\n",
       "  data: (\n",
       "    [],\n",
       "    [[-240.36627      87.91644    -112.95393    ...    1.2362213\n",
       "     0.31949615    0.7431145 ]\n",
       " [-240.36627      87.91644    -112.95393    ...    1.2362213\n",
       "     0.31949615    0.7431145 ]\n",
       " [-173.37273     -71.2024        7.4035254  ...    4.853175\n",
       "    -2.7335627    -0.25878707]\n",
       " ...\n",
       " [ -50.632866     59.902767     84.93916    ...   -1.0510504\n",
       "    -4.3209944    -1.1825297 ]\n",
       " [  35.611534    -40.72782     158.99353    ...   -3.1724272\n",
       "     2.7279055    -4.2445292 ]\n",
       " [  36.8212        1.9601312    94.2237     ...   -0.30582383\n",
       "     7.3080015   -16.02786   ]]\n",
       "  )\n",
       "  description: Motion SVD for behavior video. Shape is number of frames by number of components (500)\n",
       "  interval: 1\n",
       "  offset: 0.0\n",
       "  resolution: -1.0\n",
       "  timestamps: [       nan   14.1186    14.13527 ... 7208.4503  7208.46697 7208.48364]\n",
       "  timestamps_unit: seconds\n",
       "  unit: pixels"
      ]
     },
     "execution_count": 10,
     "metadata": {},
     "output_type": "execute_result"
    }
   ],
   "source": [
    "X"
   ]
  },
  {
   "cell_type": "code",
   "execution_count": 4,
   "metadata": {},
   "outputs": [],
   "source": [
    "def load_facemap_data(session,session_info,vid_angle,keep_n_SVDs=500,use_s3=True):\n",
    "\n",
    "    vid_angle_npc_names={\n",
    "            'behavior':'side',\n",
    "            'face':'front',\n",
    "            'eye':'eye',\n",
    "            }\n",
    "    \n",
    "    # path=os.path.join(session_info.allen_path,'processed')\n",
    "\n",
    "    if use_s3==False:\n",
    "        if vid_angle=='behavior':\n",
    "            multi_ROI_path=r\"D:\\DR Pilot Data\\full_video_multi_ROI\"\n",
    "            _dir,vidfilename=os.path.split(glob.glob(os.path.join(session_info.allen_path,\"Behavior_*.mp4\"))[0])\n",
    "        elif vid_angle=='face':\n",
    "            multi_ROI_path=r\"D:\\DR Pilot Data\\full_video_multi_ROI_face\"\n",
    "            _dir,vidfilename=os.path.split(glob.glob(os.path.join(session_info.allen_path,\"Face_*.mp4\"))[0])\n",
    "\n",
    "        behav_path = os.path.join(multi_ROI_path,vidfilename[:-4]+'_trimmed_proc.npy')\n",
    "        behav_info=np.load(behav_path,allow_pickle=True)\n",
    "\n",
    "        for frame_time in session._video_frame_times:\n",
    "            if vid_angle_npc_names[vid_angle] in frame_time.name:\n",
    "                cam_frames=frame_time.timestamps\n",
    "                break\n",
    "\n",
    "        facemap_info={}\n",
    "\n",
    "        #actually keep all ROIs\n",
    "        facemap_info['motion']=behav_info.item()['motion']\n",
    "        facemap_info['motSVD']=behav_info.item()['motSVD']\n",
    "    #use s3 data\n",
    "    else:\n",
    "        behav_info = np.load(\n",
    "            npc_lims.get_cache_path('facemap',session.id,version='any'),\n",
    "            allow_pickle=True\n",
    "        )\n",
    "        behav_info = behav_info.item()\n",
    "        cam_frames = behav_info['cam_frames']\n",
    "\n",
    "        facemap_info = {\n",
    "            'motion': behav_info['motion'],\n",
    "            'motSVD': behav_info['motSVD']\n",
    "        }\n",
    "\n",
    "\n",
    "    #calculate mean face motion, SVD in 1 sec prior to each trial\n",
    "    # 1 sec before stimulus onset\n",
    "    time_before=0.2\n",
    "    time_after=0\n",
    "    fps=60\n",
    "\n",
    "    behav_SVD_by_trial={}\n",
    "    behav_motion_by_trial={}\n",
    "    mean_trial_behav_SVD={}\n",
    "    mean_trial_behav_motion={}\n",
    "\n",
    "    trials=pd.read_parquet(\n",
    "                npc_lims.get_cache_path('trials',session.id,version='any')\n",
    "            )\n",
    "\n",
    "    for rr in range(0,len(behav_info.item()['motSVD'])):\n",
    "        behav_SVD_by_trial[rr] = np.zeros((int((time_before+time_after)*fps),keep_n_SVDs,len(trials)))\n",
    "        behav_motion_by_trial[rr] = np.zeros((int((time_before+time_after)*fps),len(trials)))\n",
    "\n",
    "        behav_SVD_by_trial[rr][:]=np.nan\n",
    "        behav_motion_by_trial[rr][:]=np.nan\n",
    "\n",
    "        for tt,stimStartTime in enumerate(trials[:]['stim_start_time']):\n",
    "            if len(np.where(cam_frames>=stimStartTime)[0])>0:\n",
    "                stim_start_frame=np.where(cam_frames>=stimStartTime)[0][0]\n",
    "                trial_start_frame=int(stim_start_frame-time_before*fps)\n",
    "                trial_end_frame=int(stim_start_frame+time_after*fps)\n",
    "\n",
    "                behav_SVD_by_trial[rr][:,:,tt] = facemap_info['motSVD'][rr][trial_start_frame:trial_end_frame,:keep_n_SVDs]    \n",
    "                behav_motion_by_trial[rr][:,tt] = facemap_info['motion'][rr][trial_start_frame:trial_end_frame]\n",
    "\n",
    "        mean_trial_behav_SVD[rr] = np.nanmean(behav_SVD_by_trial[rr],axis=0)\n",
    "        mean_trial_behav_motion[rr] = np.nanmean(behav_motion_by_trial[rr],axis=0)\n",
    "\n",
    "    return mean_trial_behav_SVD, mean_trial_behav_motion"
   ]
  },
  {
   "cell_type": "code",
   "execution_count": 13,
   "metadata": {},
   "outputs": [
    {
     "name": "stdout",
     "output_type": "stream",
     "text": [
      "block multiplier 1  done\n",
      "block multiplier 2  done\n",
      "block multiplier 3  done\n",
      "block multiplier 4  done\n",
      "block multiplier 5  done\n",
      "block multiplier 10  done\n",
      "686740_2023-10-24_0 done\n"
     ]
    },
    {
     "name": "stderr",
     "output_type": "stream",
     "text": [
      "c:\\Anaconda3\\envs\\npc_analysis\\Lib\\site-packages\\sklearn\\svm\\_base.py:1250: ConvergenceWarning: Liblinear failed to converge, increase the number of iterations.\n",
      "  warnings.warn(\n"
     ]
    },
    {
     "name": "stdout",
     "output_type": "stream",
     "text": [
      "block multiplier 1  done\n",
      "block multiplier 2  done\n",
      "block multiplier 3  done\n",
      "block multiplier 4  done\n",
      "block multiplier 5  done\n",
      "block multiplier 10  done\n",
      "686740_2023-10-23_0 done\n"
     ]
    }
   ],
   "source": [
    "##TODO:\n",
    "# change structure to not use block_multiplier variable as much\n",
    "# functionize more\n",
    "\n",
    "#set params\n",
    "savepath=r\"\\\\allen\\programs\\mindscope\\workgroups\\templeton\\TTOC\\decoding results\\multi_shuffled_blocks_facemap\"\n",
    "filename=\"multi_shuffled_blocks_facemap.pkl\"\n",
    "\n",
    "all_areas=True\n",
    "single_area=None\n",
    "n_block_repeats=100\n",
    "n_repeats=1\n",
    "balance_labels_overall=False #balances number of samples per condition for input into decoder function\n",
    "trnum='all'\n",
    "u_min=20\n",
    "n_units=['all']\n",
    "crossval='5_fold'\n",
    "\n",
    "input_data_type='facemap' #spikes or facemap\n",
    "vid_angle='behavior' #behavior, face, eye\n",
    "\n",
    "block_shuffle_type='subblocks' #variable or subblocks or exponential\n",
    "\n",
    "if (block_shuffle_type=='exponential')|(block_shuffle_type=='uniform'):\n",
    "    block_multipliers=[1]\n",
    "elif block_shuffle_type=='variable':\n",
    "    block_multipliers=[1,2,3]\n",
    "elif block_shuffle_type=='subblocks':\n",
    "    block_multipliers=[1,2,3,4,5,10]\n",
    "\n",
    "#define block lengths and varability\n",
    "block_duration_means=[300,400,600] #seconds\n",
    "block_duration_stds=[30,90,150]\n",
    "block_duration_min=100\n",
    "block_duration_max=1000\n",
    "\n",
    "# block_duration_mean=600 #seconds\n",
    "# block_duration_std=150\n",
    "# block_duration_min=200\n",
    "# block_duration_max=1000\n",
    "\n",
    "exp_block_duration_mean=150\n",
    "exp_block_duration_min=300\n",
    "exp_block_duration_max=900\n",
    "task_duration_min=3600\n",
    "\n",
    "spikes_binsize=0.1\n",
    "spikes_time_before=0.5\n",
    "spikes_time_after=0.5\n",
    "\n",
    "decoder_binsize=0.2\n",
    "decoder_time_before=0.2\n",
    "decoder_time_after=0.1\n",
    "\n",
    "time_bins = np.arange(-decoder_time_before,decoder_time_after,decoder_binsize)\n",
    "\n",
    "except_list={}\n",
    "\n",
    "#loop through sessions\n",
    "for sel_session in all_ephys_sessions[16:18]:\n",
    "    \n",
    "    # try:\n",
    "        # load data\n",
    "        session=DynamicRoutingSession(sel_session)\n",
    "        session_info=npc_lims.get_session_info(sel_session)\n",
    "        trials=pd.read_parquet(\n",
    "                    npc_lims.get_cache_path('trials',session.id,version='any')\n",
    "                )\n",
    "\n",
    "        if input_data_type=='spikes':\n",
    "            #make data array\n",
    "            units=pd.read_parquet(\n",
    "                        npc_lims.get_cache_path('units',session.id,version='any')\n",
    "                    )\n",
    "            trial_da = spike_utils.make_neuron_time_trials_tensor(units, trials, spikes_time_before, spikes_time_after, spikes_binsize)\n",
    "        elif input_data_type=='facemap':\n",
    "            mean_trial_behav_SVD,mean_trial_behav_motion = load_facemap_data(session,session_info,vid_angle)\n",
    "\n",
    "        # get input data for decoder\n",
    "        structure_probe=spike_utils.get_structure_probe(session)\n",
    "        area_counts=structure_probe['structure_probe'].value_counts()\n",
    "\n",
    "        # predict=['stim_ids','block_ids','trial_response']\n",
    "        predict=['block_ids']\n",
    "\n",
    "        if 'opto_power' in trials[:].columns:\n",
    "            trial_sel = trials[:].query('opto_power.isnull() and trial_index_in_block>=5').index\n",
    "        else:\n",
    "            trial_sel = trials[:].index\n",
    "\n",
    "        block_context_names=np.array(['vis','aud'])\n",
    "        start_time=trials[:]['start_time'].iloc[0]\n",
    "\n",
    "        svc_results={\n",
    "            'session_info' : session_info,\n",
    "        }\n",
    "        \n",
    "        #loop through block multipliers\n",
    "        for block_multiplier in block_multipliers:\n",
    "        # block_multiplier=5\n",
    "            svc_results[block_multiplier]={}\n",
    "\n",
    "            context=np.full(len(trials[:]), fill_value='nan')\n",
    "            block_nums=np.full(len(trials[:]), fill_value=np.nan)\n",
    "\n",
    "            # make \"real\" subdivided blocks\n",
    "            if session_info.project=='TempletonPilotSession':    \n",
    "                if np.random.choice(block_context_names,1)=='vis':\n",
    "                    block_context_index=([0]*block_multiplier+[1]*block_multiplier)*3\n",
    "                else:\n",
    "                    block_context_index=([1]*block_multiplier+[0]*block_multiplier)*3\n",
    "                block_contexts=block_context_names[block_context_index]\n",
    "                for block in range(0,6*block_multiplier):\n",
    "                    block_start_time=start_time+block*(10/block_multiplier)*60\n",
    "                    block_end_time=start_time+(block+1)*(10/block_multiplier)*60\n",
    "                    block_trials=trials[:].query('start_time>=@block_start_time').index\n",
    "                    context[block_trials]=block_contexts[block]\n",
    "                    block_nums[block_trials]=block\n",
    "                block_index=block_nums[trial_sel]\n",
    "                pred_var=context[trial_sel]\n",
    "                \n",
    "            elif session_info.project=='DynamicRouting':\n",
    "                if trials[:]['context_name'].iloc[0]=='vis':\n",
    "                    block_context_index=([0]*block_multiplier+[1]*block_multiplier)*3\n",
    "                elif trials[:]['context_name'].iloc[0]=='aud':\n",
    "                    block_context_index=([1]*block_multiplier+[0]*block_multiplier)*3\n",
    "                block_contexts=block_context_names[block_context_index]\n",
    "                for block in range(0,6*block_multiplier):\n",
    "                    block_start_time=start_time+block*(10/block_multiplier)*60\n",
    "                    block_end_time=start_time+(block+1)*(10/block_multiplier)*60\n",
    "                    block_trials=trials[:].query('start_time>=@block_start_time').index\n",
    "                    context[block_trials]=block_contexts[block]\n",
    "                    block_nums[block_trials]=block\n",
    "                block_index=block_nums[trial_sel]\n",
    "                pred_var=context[trial_sel]\n",
    "                # pred_var = trials[:]['context_name'][trial_sel].values\n",
    "\n",
    "            #make psuedo blocks\n",
    "            start_time=trials[:]['start_time'].iloc[0]\n",
    "            block_index_pseudo=[]\n",
    "            pred_var_pseudo=[]\n",
    "\n",
    "            if block_shuffle_type=='subblocks':\n",
    "                blocks=np.array([0,1]*3*block_multiplier)\n",
    "                \n",
    "                for nn in range(0,n_block_repeats):\n",
    "                    fake_context=np.full(len(trials[:]), fill_value='nan')\n",
    "                    fake_block_nums=np.full(len(trials[:]), fill_value=np.nan)\n",
    "                    block_contexts=np.random.choice(blocks,len(blocks),replace=False)\n",
    "                    for block in range(0,6*block_multiplier):\n",
    "                        block_start_time=start_time+block*(10/block_multiplier)*60\n",
    "                        block_end_time=start_time+(block+1)*(10/block_multiplier)*60\n",
    "                        block_trials=trials[:].query('start_time>=@block_start_time').index\n",
    "                        fake_context[block_trials]=block_context_names[block_contexts[block]]\n",
    "                        fake_block_nums[block_trials]=block\n",
    "                    block_index_pseudo.append(fake_block_nums[trial_sel])\n",
    "                    pred_var_pseudo.append(fake_context[trial_sel])\n",
    "\n",
    "            elif block_shuffle_type=='variable':\n",
    "                \n",
    "                block_duration_mean=block_duration_means[block_multiplier]\n",
    "                block_duration_std=block_duration_stds[block_multiplier]\n",
    "                \n",
    "                blocks=np.array([0,1]*3)\n",
    "\n",
    "                n_repeats_per_session=3 #draw 3 block lengths plus their counterparts\n",
    "\n",
    "                for nn in range(0,n_block_repeats):\n",
    "                    fake_context=np.full(len(trials[:]), fill_value='nan')\n",
    "                    fake_block_nums=np.full(len(trials[:]), fill_value=np.nan)\n",
    "                    block_lengths=[]\n",
    "                    #draw block lengths for this repeat\n",
    "                    for ii in range(0,n_repeats_per_session):\n",
    "                        append=False\n",
    "                        while append==False:\n",
    "                            s = np.random.default_rng().normal(block_duration_mean, block_duration_std, 1)\n",
    "                            t = block_duration_mean + block_duration_std-s\n",
    "                            if s>=block_duration_min and s<=block_duration_max and t>=block_duration_min and t<=block_duration_max:\n",
    "                                append=True\n",
    "                        block_lengths.append(s)\n",
    "                        block_lengths.append(t)\n",
    "                    block_lengths=np.hstack(block_lengths)\n",
    "                    block_lengths=np.random.choice(block_lengths,len(block_lengths),replace=False)\n",
    "                    block_lengths=np.hstack([0,block_lengths])\n",
    "                    block_lengths=np.cumsum(block_lengths)\n",
    "                    #get trial labels according to block lengths\n",
    "                    block_contexts=np.random.choice(blocks,len(blocks),replace=False)\n",
    "                    for block in range(0,6):\n",
    "                        block_start_time=start_time+block_lengths[block]\n",
    "                        # if block<5:\n",
    "                        #     block_end_time=start_time+(block_lengths[block+1])\n",
    "                        # if block==5:\n",
    "                        #     block_end_time=trials[:]['end_time'].iloc[-1]\n",
    "                        block_trials=trials[:].query('start_time>=@block_start_time').index\n",
    "                        fake_context[block_trials]=block_context_names[block_contexts[block]]\n",
    "                        fake_block_nums[block_trials]=block\n",
    "\n",
    "                    block_index_pseudo.append(fake_block_nums[trial_sel])\n",
    "                    pred_var_pseudo.append(fake_context[trial_sel])\n",
    "\n",
    "            elif (block_shuffle_type=='exponential') | (block_shuffle_type=='uniform'):\n",
    "                \n",
    "                all_block_index_psuedo=[]\n",
    "                all_block_lengths_pseudo=[]\n",
    "                all_block_contexts_pseudo=[]\n",
    "\n",
    "                block_index_pseudo=[]\n",
    "                pred_var_pseudo=[]\n",
    "\n",
    "                for nn in range(0,n_block_repeats):\n",
    "                    current_context=np.random.choice([0,1],1,replace=False)\n",
    "                    fake_context=np.full(len(trials[:]), fill_value='nan')\n",
    "                    fake_block_nums=np.full(len(trials[:]), fill_value=np.nan)\n",
    "                    # =block_context\n",
    "                    total_time=0\n",
    "                    current_block_index=0\n",
    "                    block_lengths=[]\n",
    "                    block_contexts=[]\n",
    "                    block_index=[]\n",
    "\n",
    "                    while total_time<=3600:\n",
    "                        if block_shuffle_type=='exponential':\n",
    "                            rando_block_length=random.expovariate(1/exp_block_duration_mean)+exp_block_duration_min\n",
    "                        elif block_shuffle_type=='uniform':\n",
    "                            rando_block_length=random.uniform(exp_block_duration_min,exp_block_duration_max)\n",
    "                        if rando_block_length>exp_block_duration_max:\n",
    "                            rando_block_length=exp_block_duration_max\n",
    "\n",
    "                        if current_context==0:\n",
    "                            current_context=1\n",
    "                        elif current_context==1:\n",
    "                            current_context=0\n",
    "                        \n",
    "                        block_lengths.append(rando_block_length)\n",
    "                        block_contexts.append(current_context)\n",
    "                        block_index.append(current_block_index)\n",
    "                        current_block_index+=1\n",
    "                        total_time+=rando_block_length\n",
    "\n",
    "                    all_block_lengths_pseudo.append(np.hstack(block_lengths))\n",
    "                    all_block_contexts_pseudo.append(np.hstack(block_contexts))\n",
    "                    all_block_index_psuedo.append(np.hstack(block_index))\n",
    "\n",
    "                    #apply to trials\n",
    "                    for block in range(0,len(block_lengths)):\n",
    "                        block_start_time=start_time+np.sum(block_lengths[:block])\n",
    "                        if block_start_time<=trials[:]['start_time'].iloc[-1]:\n",
    "                            block_trials=trials[:].query('start_time>=@block_start_time').index\n",
    "                            fake_context[block_trials]=block_context_names[block_contexts[block]]\n",
    "                            fake_block_nums[block_trials]=block\n",
    "\n",
    "                    block_index_pseudo.append(fake_block_nums[trial_sel])\n",
    "                    pred_var_pseudo.append(fake_context[trial_sel])\n",
    "\n",
    "            elif block_shuffle_type=='linear_shift':\n",
    "                all_block_index_psuedo=[]\n",
    "                all_block_lengths_pseudo=[]\n",
    "                all_block_contexts_pseudo=[]\n",
    "\n",
    "                #take middle 4 blocks, incrementally shift them by 1 trial\n",
    "                \n",
    "\n",
    "            svc_results[block_multiplier]['block_index']=block_index\n",
    "            svc_results[block_multiplier]['pred_var']=pred_var\n",
    "            svc_results[block_multiplier]['block_index_pseudo']=block_index_pseudo\n",
    "            svc_results[block_multiplier]['pred_var_pseudo']=pred_var_pseudo\n",
    "            \n",
    "            if input_data_type=='spikes':\n",
    "                if all_areas == False:\n",
    "                    area_sel = [single_area]\n",
    "                else:\n",
    "                    area_sel = ['all']+list(area_counts[area_counts>=u_min].index)\n",
    "            elif input_data_type=='facemap':\n",
    "                area_sel = list(mean_trial_behav_SVD.keys())\n",
    "\n",
    "            #loop through areas\n",
    "            for aa in area_sel:\n",
    "                svc_results[block_multiplier][aa]={}\n",
    "                \n",
    "                if input_data_type=='spikes':\n",
    "                    if aa=='all':\n",
    "                        unit_sel = units[:]['unit_id'].values\n",
    "                    else:\n",
    "                        # unit_sel = structure_probe.query('structure_probe==@aa')['unit_id'].values\n",
    "                        unit_sel = structure_probe.query('structure_probe.str.contains(@aa)')['unit_id'].values\n",
    "                    svc_results[block_multiplier][aa]['unit_sel']=unit_sel\n",
    "                    svc_results[block_multiplier][aa]['n_units']=len(unit_sel)\n",
    "\n",
    "                #loop through time bins\n",
    "                for tt,t_start in enumerate(time_bins[:-1]):\n",
    "                    for u_idx,u_num in enumerate(n_units):\n",
    "                        \n",
    "                        #loop through repeats\n",
    "                        for nn in range(0,n_repeats):\n",
    "                            \n",
    "                            if input_data_type=='spikes':\n",
    "                                if u_num=='all':\n",
    "                                    unit_subset = unit_sel #np.random.choice(unit_sel,len(unit_sel),replace=False)\n",
    "                                elif u_num<=len(unit_sel):\n",
    "                                    unit_subset = np.random.choice(unit_sel,u_num,replace=False)\n",
    "                                else:\n",
    "                                    continue\n",
    "\n",
    "                            #option to balance number of labels for training\n",
    "                            if balance_labels_overall:\n",
    "                                subset_ind=[]\n",
    "                                conds = np.unique(pred_var)\n",
    "                                cond_count=[]\n",
    "\n",
    "                                if trnum=='all':\n",
    "                                    for cc in conds:\n",
    "                                        cond_count.append(np.sum(pred_var==cc))\n",
    "                                    use_trnum=np.min(cond_count)\n",
    "                                else:\n",
    "                                    use_trnum = trnum\n",
    "\n",
    "                                for cc in conds:\n",
    "                                    cond_inds=np.where(pred_var==cc)[0]\n",
    "                                    # if len(cond_inds)<use_trnum:\n",
    "                                    #     use_trnum=len(cond_inds)\n",
    "                                    subset_ind.append(np.random.choice(cond_inds,use_trnum,replace=False)) \n",
    "                                subset_ind=np.sort(np.hstack(subset_ind))\n",
    "                            else:\n",
    "                                subset_ind=np.arange(0,len(trial_sel))\n",
    "\n",
    "                            if input_data_type=='spikes':\n",
    "                                sel_data = trial_da.sel(time=slice(t_start,time_bins[tt+1]),\n",
    "                                                        trials=trial_sel[subset_ind],\n",
    "                                                        unit_id=unit_subset).mean(dim='time').values\n",
    "                                input_data=sel_data.T\n",
    "                            elif input_data_type=='facemap':\n",
    "                                SVD=mean_trial_behav_SVD[aa][:,trial_sel]\n",
    "                                input_data = SVD[:,subset_ind].T\n",
    "\n",
    "                            labels=pred_var[subset_ind].flatten()\n",
    "                            \n",
    "                            svc_results[block_multiplier][aa]['real']={}\n",
    "                            svc_results[block_multiplier][aa]['pseudo']={}\n",
    "\n",
    "                            #fit decoder\n",
    "                            if crossval=='blockwise':\n",
    "                                crossval_index=block_index\n",
    "                            else:\n",
    "                                crossval_index=None\n",
    "                            labels_as_index=True\n",
    "\n",
    "                            # svc_results[block_multiplier][aa]['real']=decoding_utils.linearSVC_decoder(\n",
    "                            # input_data=input_data,\n",
    "                            # labels=labels,\n",
    "                            # crossval=crossval,\n",
    "                            # crossval_index=crossval_index,\n",
    "                            # labels_as_index=labels_as_index\n",
    "                            # )\n",
    "\n",
    "                        for bb in range(0,n_block_repeats):\n",
    "                            \n",
    "                            # if (block_shuffle_type!='exponential') | bb==0:\n",
    "                            svc_results[block_multiplier][aa]['real'][bb]=decoding_utils.linearSVC_decoder(\n",
    "                            input_data=input_data,\n",
    "                            labels=labels,\n",
    "                            crossval=crossval,\n",
    "                            crossval_index=crossval_index,\n",
    "                            labels_as_index=labels_as_index\n",
    "                            )\n",
    "                            \n",
    "                            temp_block_index=block_index_pseudo[bb]\n",
    "                            temp_pred_var=pred_var_pseudo[bb][subset_ind]\n",
    "                            if crossval=='blockwise':\n",
    "                                pseudo_crossval_index=temp_block_index\n",
    "                            else:\n",
    "                                pseudo_crossval_index=None\n",
    "\n",
    "                            svc_results[block_multiplier][aa]['pseudo'][bb]=decoding_utils.linearSVC_decoder(\n",
    "                                input_data=input_data,\n",
    "                                labels=temp_pred_var,\n",
    "                                crossval=crossval,\n",
    "                                crossval_index=pseudo_crossval_index,\n",
    "                                labels_as_index=labels_as_index\n",
    "                                )\n",
    "                    \n",
    "                    # plot area x block multiplier results\n",
    "                    fig_name=(session_info.id+'_'+str(aa)+'_block_multiplier_'+str(block_multiplier)+\n",
    "                            '_'+crossval+'.png')\n",
    "                    all_bal_acc_real=np.full((n_block_repeats),fill_value=np.nan)\n",
    "                    all_bal_acc_pseudo=np.full((n_block_repeats),fill_value=np.nan)\n",
    "                    for xx in range(0,n_block_repeats):\n",
    "                        all_bal_acc_real[xx]=svc_results[block_multiplier][aa]['real'][xx]['balanced_accuracy']\n",
    "                        all_bal_acc_pseudo[xx]=svc_results[block_multiplier][aa]['pseudo'][xx]['balanced_accuracy']\n",
    "                        \n",
    "                    xbins=np.arange(0,1.01,0.025)\n",
    "                    fig,ax=plt.subplots(1,1)\n",
    "                    ax.hist(all_bal_acc_pseudo,color='k',alpha=0.5,bins=xbins)\n",
    "                    ax.hist(all_bal_acc_real,color='r',alpha=0.5,bins=xbins)\n",
    "                    ax.axvline(np.median(all_bal_acc_pseudo),color='k')\n",
    "                    ax.axvline(np.median(all_bal_acc_real),color='r')\n",
    "\n",
    "                    ax.axvline(np.quantile(all_bal_acc_pseudo, 0.975), color='k',linestyle='--')\n",
    "                    ax.axvline(np.quantile(all_bal_acc_pseudo, 0.025), color='k',linestyle='--')\n",
    "\n",
    "                    ax.set_xlabel('Balanced Accuracy')\n",
    "                    ax.set_ylabel('shuffle count')\n",
    "\n",
    "                    ax.set_title(session_info.project+'; '+str(aa)+\n",
    "                                '; block_multiplier='+str(block_multiplier)+\n",
    "                                '; crossval='+crossval+'; n units='+\n",
    "                                str(unit_sel.shape[0])+'; '+session_info.id)\n",
    "\n",
    "                    fig.savefig(os.path.join(savepath,'figures',fig_name), \n",
    "                                dpi=300, facecolor='w', edgecolor='w',\n",
    "                                orientation='portrait', format='png',\n",
    "                                transparent=True, bbox_inches='tight', \n",
    "                                pad_inches=0.1, metadata=None)\n",
    "                    plt.close(fig)\n",
    "                \n",
    "                # print(aa+' done')\n",
    "            print('block multiplier',block_multiplier,' done')\n",
    "        # save session results\n",
    "        print(session.id+' done')\n",
    "        \n",
    "        with open(os.path.join(savepath,session.id+'_'+filename), 'wb') as handle:\n",
    "            pickle.dump(svc_results, handle, protocol=pickle.HIGHEST_PROTOCOL)\n",
    "\n",
    "        svc_results={}\n",
    "\n",
    "    # except Exception as e:\n",
    "    #     except_list[session.id]=repr(e)\n",
    "    #     print(session.id+' failed')\n",
    "    #     print(repr(e))\n",
    "                        \n"
   ]
  },
  {
   "cell_type": "code",
   "execution_count": 12,
   "metadata": {},
   "outputs": [
    {
     "data": {
      "text/plain": [
       "SessionInfo(id='686740_2023-10-24', project='DynamicRouting', is_ephys=True, is_sync=True, allen_path=WindowsUPath('//allen/programs/mindscope/workgroups/dynamicrouting/PilotEphys/Task 2 pilot/DRpilot_686740_20231024'), experiment_day=2, session_kwargs={}, notes='', issues=[])"
      ]
     },
     "execution_count": 12,
     "metadata": {},
     "output_type": "execute_result"
    }
   ],
   "source": [
    "all_ephys_sessions[16]"
   ]
  },
  {
   "cell_type": "code",
   "execution_count": 9,
   "metadata": {},
   "outputs": [
    {
     "data": {
      "text/plain": [
       "SessionInfo(id='686740_2023-10-24', project='DynamicRouting', is_ephys=True, is_sync=True, allen_path=WindowsUPath('//allen/programs/mindscope/workgroups/dynamicrouting/PilotEphys/Task 2 pilot/DRpilot_686740_20231024'), experiment_day=2, session_kwargs={}, notes='', issues=[])"
      ]
     },
     "execution_count": 9,
     "metadata": {},
     "output_type": "execute_result"
    }
   ],
   "source": [
    "# block_context_index\n",
    "session_info"
   ]
  },
  {
   "cell_type": "code",
   "execution_count": null,
   "metadata": {},
   "outputs": [],
   "source": [
    "list(mean_trial_behav_SVD.keys())"
   ]
  },
  {
   "cell_type": "code",
   "execution_count": null,
   "metadata": {},
   "outputs": [],
   "source": [
    "# plot area x block multiplier results\n",
    "fig_name=(session_info.id+'_'+str(aa)+'_block_multiplier_'+str(block_multiplier)+\n",
    "        '_'+crossval+'.png')\n",
    "all_bal_acc_real=np.full((n_block_repeats),fill_value=np.nan)\n",
    "all_bal_acc_pseudo=np.full((n_block_repeats),fill_value=np.nan)\n",
    "for xx in range(0,n_block_repeats):\n",
    "    all_bal_acc_real[xx]=svc_results[block_multiplier][aa]['real'][xx]['balanced_accuracy']\n",
    "    all_bal_acc_pseudo[xx]=svc_results[block_multiplier][aa]['pseudo'][xx]['balanced_accuracy']\n",
    "    \n",
    "xbins=np.arange(0,1.01,0.025)\n",
    "fig,ax=plt.subplots(1,1)\n",
    "ax.hist(all_bal_acc_pseudo,color='k',alpha=0.5,bins=xbins)\n",
    "ax.hist(all_bal_acc_real,color='r',alpha=0.5,bins=xbins)\n",
    "ax.axvline(np.median(all_bal_acc_pseudo),color='k')\n",
    "ax.axvline(np.median(all_bal_acc_real),color='r')\n",
    "\n",
    "ax.axvline(np.quantile(all_bal_acc_pseudo, 0.975), color='k',linestyle='--')\n",
    "ax.axvline(np.quantile(all_bal_acc_pseudo, 0.025), color='k',linestyle='--')\n",
    "\n",
    "ax.set_xlabel('Balanced Accuracy')\n",
    "ax.set_ylabel('shuffle count')\n",
    "\n",
    "ax.set_title(session_info.project+'; '+str(aa)+\n",
    "            '; block_multiplier='+str(block_multiplier)+\n",
    "            '; crossval='+crossval+'; n units='+\n",
    "            str(unit_sel.shape[0])+'; '+session_info.id)"
   ]
  },
  {
   "cell_type": "code",
   "execution_count": null,
   "metadata": {},
   "outputs": [],
   "source": [
    "except_list"
   ]
  },
  {
   "cell_type": "code",
   "execution_count": null,
   "metadata": {},
   "outputs": [],
   "source": [
    "test_vect=[]\n",
    "\n",
    "for xx in range(0,100):\n",
    "    test_vect.append(np.random.choice(block_context_names,1))\n",
    "    \n",
    "np.hstack(test_vect)"
   ]
  },
  {
   "cell_type": "code",
   "execution_count": null,
   "metadata": {},
   "outputs": [],
   "source": [
    "# # if session_info.project=='TempletonPilotSession':    \n",
    "# if np.random.choice(block_context_names,1)=='vis':\n",
    "#     block_context_index=([0]*block_multiplier+[1]*block_multiplier)*3\n",
    "# elif np.random.choice(block_context_names,1)=='aud':\n",
    "#     block_context_index=([1]*block_multiplier+[0]*block_multiplier)*3\n",
    "# block_contexts=block_context_names[block_context_index]\n",
    "# for block in range(0,6*block_multiplier):\n",
    "#     block_start_time=start_time+block*(10/block_multiplier)*60\n",
    "#     block_end_time=start_time+(block+1)*(10/block_multiplier)*60\n",
    "#     block_trials=session.trials[:].query('start_time>=@block_start_time').index\n",
    "#     context[block_trials]=block_contexts[block]\n",
    "#     block_nums[block_trials]=block\n",
    "# block_index=block_nums[trial_sel]\n",
    "# pred_var=context[trial_sel]"
   ]
  },
  {
   "cell_type": "code",
   "execution_count": null,
   "metadata": {},
   "outputs": [],
   "source": [
    "# context"
   ]
  },
  {
   "cell_type": "code",
   "execution_count": null,
   "metadata": {},
   "outputs": [],
   "source": [
    "# block_context_index"
   ]
  },
  {
   "cell_type": "code",
   "execution_count": null,
   "metadata": {},
   "outputs": [],
   "source": [
    "# block_multiplier"
   ]
  },
  {
   "cell_type": "code",
   "execution_count": null,
   "metadata": {},
   "outputs": [],
   "source": []
  },
  {
   "cell_type": "code",
   "execution_count": null,
   "metadata": {},
   "outputs": [],
   "source": []
  },
  {
   "cell_type": "code",
   "execution_count": null,
   "metadata": {},
   "outputs": [],
   "source": [
    "Templeton_ephys_sessions = tuple(s for s in npc_lims.get_session_info(is_ephys=True) \n",
    "                                if s.is_uploaded and s.is_annotated and \n",
    "                                s.project=='TempletonPilotSession')"
   ]
  },
  {
   "cell_type": "code",
   "execution_count": null,
   "metadata": {},
   "outputs": [],
   "source": [
    "X = getattr(session, \"_is_task\", None)\n",
    "X"
   ]
  },
  {
   "cell_type": "code",
   "execution_count": null,
   "metadata": {},
   "outputs": [],
   "source": [
    "\n",
    "for session_info in Templeton_ephys_sessions:\n",
    "    print(session_info.id)\n",
    "    session = DynamicRoutingSession(session_info)\n",
    "    print(getattr(session, \"_is_task\", None))\n"
   ]
  },
  {
   "cell_type": "code",
   "execution_count": null,
   "metadata": {},
   "outputs": [],
   "source": [
    "# npc_lims.get_hdf5_stim_files_from_s3('668759_2023-07-12')\n",
    "npc_lims.get_raw_data_paths_from_s3('668759_2023-07-12')"
   ]
  },
  {
   "cell_type": "code",
   "execution_count": null,
   "metadata": {},
   "outputs": [],
   "source": [
    "# sel_sessions=['2023-07-12_10-50-07_668759']\n",
    "# project='TempletonPilot'\n",
    "sel_sessions=['668755_20230830']"
   ]
  },
  {
   "cell_type": "code",
   "execution_count": null,
   "metadata": {},
   "outputs": [],
   "source": [
    "session=DynamicRoutingSession(sel_sessions[0])\n",
    "session.stim_data"
   ]
  },
  {
   "cell_type": "code",
   "execution_count": null,
   "metadata": {},
   "outputs": [],
   "source": [
    "# load data\n",
    "\n",
    "session=DynamicRoutingSession(sel_sessions[0])\n",
    "session_info=npc_lims.get_session_info(sel_sessions[0])\n",
    "\n",
    "session.trials[:]\n",
    "session.units[:]\n",
    "\n",
    "spikes_binsize=0.1\n",
    "spikes_time_before=0.5\n",
    "spikes_time_after=0.5\n",
    "\n",
    "decoder_binsize=0.2\n",
    "decoder_time_before=0.2\n",
    "decoder_time_after=0.1\n",
    "\n",
    "time_bins = np.arange(-decoder_time_before,decoder_time_after,decoder_binsize)\n",
    "\n",
    "trial_da = spike_utils.make_neuron_time_trials_tensor(session.units, session.trials, spikes_time_before, spikes_time_after, spikes_binsize)"
   ]
  },
  {
   "cell_type": "code",
   "execution_count": null,
   "metadata": {},
   "outputs": [],
   "source": [
    "session.units[:]['structure'].unique()"
   ]
  },
  {
   "cell_type": "code",
   "execution_count": null,
   "metadata": {},
   "outputs": [],
   "source": [
    "# get data and labels for decoder\n",
    "\n",
    "# get input data for decoder\n",
    "\n",
    "all_areas=False\n",
    "single_area='SCsg'\n",
    "n_block_repeats=100\n",
    "n_repeats=1\n",
    "balance_labels_overall=False #balances number of samples per condition for input into decoder function\n",
    "trnum='all'\n",
    "u_min=20\n",
    "n_units=['all']\n",
    "\n",
    "block_multiplier=5\n",
    "\n",
    "structure_probe=spike_utils.get_structure_probe(session)\n",
    "area_counts=structure_probe['structure_probe'].value_counts()\n",
    "\n",
    "# predict=['stim_ids','block_ids','trial_response']\n",
    "predict=['block_ids']\n",
    "\n",
    "if 'opto_power' in session.trials[:].columns:\n",
    "    trial_sel = session.trials[:].query('opto_power.isnull() and trial_index_in_block>=5').index\n",
    "else:\n",
    "    trial_sel = session.trials[:].index\n",
    "\n",
    "block_context_names=np.array(['vis','aud'])\n",
    "start_time=session.trials[:]['start_time'].iloc[0]\n",
    "context=np.full(len(session.trials[:]), fill_value='nan')\n",
    "block_nums=np.full(len(session.trials[:]), fill_value=np.nan)\n",
    "\n",
    "# make \"real\" subdivided blocks\n",
    "if session_info.project=='TempletonPilotSession':    \n",
    "    if np.random.choice(block_context_names,1)=='vis':\n",
    "        block_context_index=([0]*block_multiplier+[1]*block_multiplier)*3\n",
    "    elif np.random.choice(block_context_names,1)=='aud':\n",
    "        block_context_index=([1]*block_multiplier+[0]*block_multiplier)*3\n",
    "    block_contexts=block_context_names[block_context_index]\n",
    "    for block in range(0,6*block_multiplier):\n",
    "        block_start_time=start_time+block*(10/block_multiplier)*60\n",
    "        block_end_time=start_time+(block+1)*(10/block_multiplier)*60\n",
    "        block_trials=session.trials[:].query('start_time>=@block_start_time').index\n",
    "        context[block_trials]=block_contexts[block]\n",
    "        block_nums[block_trials]=block\n",
    "    block_index=block_nums[trial_sel]\n",
    "    pred_var=context[trial_sel]\n",
    "    \n",
    "elif session_info.project=='DynamicRouting':\n",
    "    if session.trials[:]['context_name'].iloc[0]=='vis':\n",
    "        block_context_index=([0]*block_multiplier+[1]*block_multiplier)*3\n",
    "    elif session.trials[:]['context_name'].iloc[0]=='aud':\n",
    "        block_context_index=([1]*block_multiplier+[0]*block_multiplier)*3\n",
    "    block_contexts=block_context_names[block_context_index]\n",
    "    for block in range(0,6*block_multiplier):\n",
    "        block_start_time=start_time+block*(10/block_multiplier)*60\n",
    "        block_end_time=start_time+(block+1)*(10/block_multiplier)*60\n",
    "        block_trials=session.trials[:].query('start_time>=@block_start_time').index\n",
    "        context[block_trials]=block_contexts[block]\n",
    "        block_nums[block_trials]=block\n",
    "    block_index=block_nums[trial_sel]\n",
    "    pred_var=context[trial_sel]\n",
    "    # pred_var = session.trials[:]['context_name'][trial_sel].values\n",
    "\n",
    "#make psuedo blocks\n",
    "start_time=session.trials[:]['start_time'].iloc[0]\n",
    "fake_context=np.full(len(session.trials[:]), fill_value='nan')\n",
    "fake_block_nums=np.full(len(session.trials[:]), fill_value=np.nan)\n",
    "blocks=np.array([0,1]*3*block_multiplier)\n",
    "block_context_names=['vis','aud']\n",
    "\n",
    "block_index_pseudo=[]\n",
    "pred_var_pseudo=[]\n",
    "\n",
    "for nn in range(0,n_block_repeats):\n",
    "    block_contexts=np.random.choice(blocks,len(blocks),replace=False)\n",
    "    for block in range(0,6*block_multiplier):\n",
    "        block_start_time=start_time+block*(10/block_multiplier)*60\n",
    "        block_end_time=start_time+(block+1)*(10/block_multiplier)*60\n",
    "        block_trials=session.trials[:].query('start_time>=@block_start_time').index\n",
    "        fake_context[block_trials]=block_context_names[block_contexts[block]]\n",
    "        fake_block_nums[block_trials]=block\n",
    "    block_index_pseudo.append(fake_block_nums[trial_sel])\n",
    "    pred_var_pseudo.append(fake_context[trial_sel])\n",
    "\n",
    "\n",
    "if all_areas == False:\n",
    "    area_sel = [single_area]\n",
    "else:\n",
    "    area_sel = ['all']+list(area_counts[area_counts>=u_min].index)\n",
    "\n",
    "#loop through areas\n",
    "for aa in area_sel:\n",
    "    if aa=='all':\n",
    "        unit_sel = session.units[:]['unit_id'].values\n",
    "    else:\n",
    "        # unit_sel = structure_probe.query('structure_probe==@aa')['unit_id'].values\n",
    "        unit_sel = structure_probe.query('structure_probe.str.contains(@aa)')['unit_id'].values\n",
    "    \n",
    "    #loop through time bins\n",
    "    for tt,t_start in enumerate(time_bins[:-1]):\n",
    "        for u_idx,u_num in enumerate(n_units):\n",
    "            \n",
    "            #loop through repeats\n",
    "            for nn in range(0,n_repeats):\n",
    "\n",
    "                if u_num=='all':\n",
    "                    unit_subset = unit_sel #np.random.choice(unit_sel,len(unit_sel),replace=False)\n",
    "                elif u_num<=len(unit_sel):\n",
    "                    unit_subset = np.random.choice(unit_sel,u_num,replace=False)\n",
    "                else:\n",
    "                    continue\n",
    "\n",
    "                #option to balance number of labels for training\n",
    "                if balance_labels_overall:\n",
    "                    subset_ind=[]\n",
    "                    conds = np.unique(pred_var)\n",
    "                    cond_count=[]\n",
    "\n",
    "                    if trnum=='all':\n",
    "                        for cc in conds:\n",
    "                            cond_count.append(np.sum(pred_var==cc))\n",
    "                        use_trnum=np.min(cond_count)\n",
    "                    else:\n",
    "                        use_trnum = trnum\n",
    "\n",
    "                    for cc in conds:\n",
    "                        cond_inds=np.where(pred_var==cc)[0]\n",
    "                        # if len(cond_inds)<use_trnum:\n",
    "                        #     use_trnum=len(cond_inds)\n",
    "                        subset_ind.append(np.random.choice(cond_inds,use_trnum,replace=False)) \n",
    "                    subset_ind=np.sort(np.hstack(subset_ind))\n",
    "                else:\n",
    "                    subset_ind=np.arange(0,len(trial_sel))\n",
    "\n",
    "                sel_data = trial_da.sel(time=slice(t_start,time_bins[tt+1]),\n",
    "                                        trials=trial_sel[subset_ind],\n",
    "                                        unit_id=unit_subset).mean(dim='time').values\n",
    "                \n",
    "                input_data=sel_data.T\n",
    "                \n",
    "                labels=pred_var[subset_ind].flatten()\n",
    "                # crossval_index_subset=crossval_index[subset_ind].flatten()\n",
    "                # block_index=session.trials[:]['block_index'][trial_sel[subset_ind]].values"
   ]
  },
  {
   "cell_type": "code",
   "execution_count": null,
   "metadata": {},
   "outputs": [],
   "source": [
    "#decode with different pseudo block labels, same units, versus \"real\" labels\n",
    "\n",
    "svc_results={\n",
    "    'pseudo':{\n",
    "        aa:{},\n",
    "    },\n",
    "    'real':{\n",
    "        aa:{},\n",
    "    },\n",
    "}\n",
    "crossval='5_fold'\n",
    "crossval_index=None\n",
    "labels_as_index=True\n",
    "\n",
    "svc_results['real'][aa][0]=decoding_utils.linearSVC_decoder(\n",
    "    input_data=input_data,\n",
    "    labels=labels,\n",
    "    crossval=crossval,\n",
    "    crossval_index=crossval_index,\n",
    "    labels_as_index=labels_as_index,\n",
    "    )\n",
    "\n",
    "for nn in range(0,n_block_repeats):\n",
    "    temp_block_index=block_index_pseudo[nn]\n",
    "    temp_pred_var=pred_var_pseudo[nn]\n",
    "\n",
    "    svc_results['pseudo'][aa][nn]=decoding_utils.linearSVC_decoder(\n",
    "        input_data=input_data,\n",
    "        labels=temp_pred_var,\n",
    "        crossval=crossval,\n",
    "        crossval_index=crossval_index,\n",
    "        labels_as_index=labels_as_index,\n",
    "        )"
   ]
  },
  {
   "cell_type": "code",
   "execution_count": null,
   "metadata": {},
   "outputs": [],
   "source": [
    "aa"
   ]
  },
  {
   "cell_type": "code",
   "execution_count": null,
   "metadata": {},
   "outputs": [],
   "source": [
    "all_bal_acc=np.full((n_block_repeats),fill_value=np.nan)\n",
    "for xx in range(0,n_block_repeats):\n",
    "    all_bal_acc[xx]=svc_results['pseudo'][aa][xx]['balanced_accuracy']\n",
    "\n",
    "fig,ax=plt.subplots(1,1)\n",
    "ax.hist(all_bal_acc)\n",
    "ax.axvline(svc_results['real'][aa][0]['balanced_accuracy'],color='r')\n",
    "\n",
    "ax.axvline(np.quantile(all_bal_acc, 0.975), color='k',linestyle='--')\n",
    "ax.axvline(np.quantile(all_bal_acc, 0.025), color='k',linestyle='--')\n",
    "\n",
    "ax.set_xlabel('Balanced Accuracy')\n",
    "ax.set_ylabel('shuffle count')\n",
    "\n",
    "ax.set_title(aa+'; block_multiplier='+str(block_multiplier)+'; crossval='+crossval+'; '+session_info.id)"
   ]
  },
  {
   "cell_type": "code",
   "execution_count": null,
   "metadata": {},
   "outputs": [],
   "source": [
    "\n"
   ]
  },
  {
   "cell_type": "code",
   "execution_count": null,
   "metadata": {},
   "outputs": [],
   "source": [
    "# pred_var_pseudo\n",
    "# block_index_pseudo\n",
    "# np.array(block_context_names)[block_context_index]\n",
    "\n",
    "all_bal_acc=np.full((n_block_repeats),fill_value=np.nan)\n",
    "for xx in range(0,n_block_repeats):\n",
    "    all_bal_acc[xx]=svc_results['pseudo'][aa][xx]['balanced_accuracy']\n",
    "\n",
    "label_accuracy=np.full((len(pred_var_pseudo)),fill_value=np.nan)\n",
    "for rr in range(0,len(pred_var_pseudo)):\n",
    "    label_accuracy[rr]=np.mean(pred_var_pseudo[rr]==pred_var)\n",
    "\n",
    "fig,ax=plt.subplots(1,1)\n",
    "ax.plot(label_accuracy,all_bal_acc,'.')\n",
    "ax.set_xlabel('label accuracy')\n",
    "ax.set_ylabel('balanced accuracy')"
   ]
  },
  {
   "cell_type": "code",
   "execution_count": null,
   "metadata": {},
   "outputs": [],
   "source": [
    "label_accuracy"
   ]
  },
  {
   "cell_type": "code",
   "execution_count": null,
   "metadata": {},
   "outputs": [],
   "source": [
    "fig,ax=plt.subplots(1,1)\n",
    "ax.hist(label_accuracy,bins=np.arange(0,1.1,0.05))"
   ]
  },
  {
   "cell_type": "code",
   "execution_count": null,
   "metadata": {},
   "outputs": [],
   "source": [
    "block_multiplier=2\n",
    "np.array([0,1]*3*block_multiplier)"
   ]
  },
  {
   "cell_type": "code",
   "execution_count": null,
   "metadata": {},
   "outputs": [],
   "source": [
    "([0]*block_multiplier+[1]*block_multiplier)*3"
   ]
  },
  {
   "cell_type": "code",
   "execution_count": null,
   "metadata": {},
   "outputs": [],
   "source": []
  },
  {
   "cell_type": "code",
   "execution_count": null,
   "metadata": {},
   "outputs": [],
   "source": [
    "import npc_lims\n",
    "from npc_sessions import DynamicRoutingSession\n",
    "\n",
    "#get list of all sessions with ephys data\n",
    "all_ephys_sessions = tuple(s for s in npc_lims.get_session_info(is_ephys=True)\n",
    "                           if s.project=='DynamicRouting')\n",
    "\n",
    "#select the first session - this also has basic info like the project\n",
    "session_info = all_ephys_sessions[0]\n",
    "\n",
    "#use the session info to create a session object\n",
    "session = DynamicRoutingSession(session_info)\n",
    "\n",
    "#get the session metadata, which includes genotype\n",
    "session.metadata\n"
   ]
  },
  {
   "cell_type": "code",
   "execution_count": null,
   "metadata": {},
   "outputs": [],
   "source": [
    "all_ephys_sessions"
   ]
  },
  {
   "cell_type": "code",
   "execution_count": null,
   "metadata": {},
   "outputs": [],
   "source": [
    "session_info = all_ephys_sessions[50]\n",
    "session_info"
   ]
  },
  {
   "cell_type": "code",
   "execution_count": null,
   "metadata": {},
   "outputs": [],
   "source": [
    "# trials=pd.read_parquet(\n",
    "#     npc_lims.get_cache_path('trials',session_id,version='v0.0.173')\n",
    "# )\n",
    "import pandas as pd\n",
    "subject=pd.read_parquet(\n",
    "    npc_lims.get_cache_path('subject',session_info,version='v0.0.173')\n",
    ")\n",
    "subject"
   ]
  },
  {
   "cell_type": "code",
   "execution_count": null,
   "metadata": {},
   "outputs": [],
   "source": [
    "metadata=pd.read_parquet(\n",
    "    npc_lims.get_cache_path('metadata',session_info,version='v0.0.173')\n",
    ")"
   ]
  },
  {
   "cell_type": "code",
   "execution_count": null,
   "metadata": {},
   "outputs": [],
   "source": [
    "# metadata about the session\n",
    "session_metadata=pd.read_parquet(\n",
    "    npc_lims.get_cache_path('session',session_info,version='v0.0.173')\n",
    ")\n",
    "session_metadata"
   ]
  },
  {
   "cell_type": "code",
   "execution_count": null,
   "metadata": {},
   "outputs": [],
   "source": [
    "#metadata about the subject\n",
    "subject=pd.read_parquet(\n",
    "    npc_lims.get_cache_path('subject',session_info,version='v0.0.173')\n",
    ")\n",
    "subject"
   ]
  },
  {
   "cell_type": "code",
   "execution_count": null,
   "metadata": {},
   "outputs": [],
   "source": [
    "epochs=pd.read_parquet(\n",
    "    npc_lims.get_cache_path('epochs',session_info,version='v0.0.173')\n",
    ")\n",
    "epochs"
   ]
  },
  {
   "cell_type": "code",
   "execution_count": null,
   "metadata": {},
   "outputs": [],
   "source": []
  },
  {
   "cell_type": "code",
   "execution_count": null,
   "metadata": {},
   "outputs": [],
   "source": [
    "session=DynamicRoutingSession(all_ephys_sessions[0])"
   ]
  },
  {
   "cell_type": "code",
   "execution_count": null,
   "metadata": {},
   "outputs": [],
   "source": [
    "session.metadata.stimulus_notes"
   ]
  },
  {
   "cell_type": "code",
   "execution_count": 54,
   "metadata": {},
   "outputs": [],
   "source": [
    "import matplotlib.pyplot as plt\n",
    "import numpy as np\n",
    "\n"
   ]
  },
  {
   "cell_type": "code",
   "execution_count": 43,
   "metadata": {},
   "outputs": [
    {
     "data": {
      "text/plain": [
       "<matplotlib.lines.Line2D at 0x1d92aed2f10>"
      ]
     },
     "execution_count": 43,
     "metadata": {},
     "output_type": "execute_result"
    },
    {
     "data": {
      "image/png": "[encoded data removed]",
      "text/plain": [
       "<Figure size 640x480 with 1 Axes>"
      ]
     },
     "metadata": {},
     "output_type": "display_data"
    }
   ],
   "source": [
    "exp_dist=np.random.default_rng().exponential(5.0, 5000)+5\n",
    "\n",
    "exp_dist=exp_dist[exp_dist<=15]\n",
    "\n",
    "fig,ax=plt.subplots(1,1)\n",
    "ax.hist(exp_dist)\n",
    "ax.axvline(np.median(exp_dist),color='r')\n",
    "ax.axvline(np.mean(exp_dist),color='k') "
   ]
  },
  {
   "cell_type": "code",
   "execution_count": 28,
   "metadata": {},
   "outputs": [
    {
     "data": {
      "text/plain": [
       "59.74834887646564"
      ]
     },
     "execution_count": 28,
     "metadata": {},
     "output_type": "execute_result"
    }
   ],
   "source": [
    "np.sum(exp_dist[0:8])"
   ]
  },
  {
   "cell_type": "code",
   "execution_count": 52,
   "metadata": {},
   "outputs": [],
   "source": [
    "time_bins=np.arange(0,70,0.1)\n",
    "\n",
    "rando_tracker=0\n",
    "current_context=0\n",
    "\n",
    "random_block_info={\n",
    "    'number of blocks':[],\n",
    "    'task_duration':[],\n",
    "    'average_block_length':[],\n",
    "}\n",
    "\n",
    "for ii in range(0,500):\n",
    "    context_bins=np.full((len(time_bins)),fill_value=np.nan)\n",
    "    total_time=0\n",
    "    lengths=[]\n",
    "\n",
    "    while total_time<55:\n",
    "        rando_block_length=exp_dist[rando_tracker]\n",
    "        context_bins[np.where(time_bins>total_time)[0][0]:np.where(time_bins>total_time+rando_block_length)[0][0]]=current_context\n",
    "\n",
    "        total_time+=rando_block_length\n",
    "        rando_tracker+=1\n",
    "\n",
    "        if current_context==0:\n",
    "            current_context=1\n",
    "        elif current_context==1:\n",
    "            current_context=0\n",
    "        \n",
    "        lengths.append(rando_block_length)\n",
    "\n",
    "    \n",
    "    random_block_info['number of blocks'].append(np.sum(np.abs(np.diff(context_bins[~np.isnan(context_bins)])))+1)\n",
    "    random_block_info['task_duration'].append(total_time)\n",
    "    random_block_info['average_block_length'].append(np.mean(lengths))\n",
    "\n",
    "    # fig,ax=plt.subplots(1,1)\n",
    "    # ax.plot(time_bins,context_bins)\n",
    "    # ax.set_xlim(0,70)\n",
    "    # ax.set_title('number of blocks='+str(np.sum(np.abs(np.diff(context_bins[~np.isnan(context_bins)])))+1)+\n",
    "    #             '; task duration='+str(np.round(total_time,decimals=2))+\n",
    "    #             '; average block length='+str(np.round(np.mean(lengths),decimals=2)))"
   ]
  },
  {
   "cell_type": "code",
   "execution_count": 53,
   "metadata": {},
   "outputs": [
    {
     "data": {
      "image/png": "[encoded data removed]",
      "text/plain": [
       "<Figure size 500x800 with 3 Axes>"
      ]
     },
     "metadata": {},
     "output_type": "display_data"
    }
   ],
   "source": [
    "fig,ax=plt.subplots(3,1,figsize=(5,8))\n",
    "ax[0].hist(random_block_info['number of blocks'],bins=np.arange(4,13,1))\n",
    "ax[0].set_title('number of blocks')\n",
    "\n",
    "ax[1].hist(random_block_info['task_duration'])\n",
    "ax[1].set_title('task duration')\n",
    "ax[1].set_xlabel('minutes')\n",
    "\n",
    "ax[2].hist(random_block_info['average_block_length'])\n",
    "ax[2].set_title('average block length')\n",
    "ax[2].set_xlabel('minutes')\n",
    "\n",
    "fig.tight_layout()"
   ]
  },
  {
   "cell_type": "code",
   "execution_count": 115,
   "metadata": {},
   "outputs": [
    {
     "data": {
      "text/plain": [
       "<matplotlib.lines.Line2D at 0x1d92b5e59d0>"
      ]
     },
     "execution_count": 115,
     "metadata": {},
     "output_type": "execute_result"
    },
    {
     "data": {
      "image/png": "[encoded data removed]",
      "text/plain": [
       "<Figure size 640x480 with 1 Axes>"
      ]
     },
     "metadata": {},
     "output_type": "display_data"
    }
   ],
   "source": [
    "import random\n",
    "\n",
    "expo_mean=90\n",
    "expo_min=300\n",
    "expo_max=900\n",
    "\n",
    "n_repeats=10000\n",
    "\n",
    "exp_dist=[]\n",
    "\n",
    "for xx in range(0,n_repeats):\n",
    "    exp_dist.append(random.expovariate(1/expo_mean)+expo_min)\n",
    "exp_dist=np.array(exp_dist)\n",
    "\n",
    "exp_dist[exp_dist>=expo_max]=expo_max\n",
    "# exp_dist=exp_dist[exp_dist<=expo_max]\n",
    "\n",
    "fig,ax=plt.subplots(1,1)\n",
    "ax.hist(exp_dist)\n",
    "# ax.axvline(np.median(exp_dist),color='r')\n",
    "ax.axvline(np.mean(exp_dist),color='k') "
   ]
  },
  {
   "cell_type": "code",
   "execution_count": 86,
   "metadata": {},
   "outputs": [],
   "source": [
    "time_bins=np.arange(0,4500,1.0)\n",
    "\n",
    "rando_tracker=0\n",
    "current_context=0\n",
    "\n",
    "random_block_info={\n",
    "    'number of blocks':[],\n",
    "    'task_duration':[],\n",
    "    'average_block_length':[],\n",
    "}\n",
    "\n",
    "for ii in range(0,500):\n",
    "    context_bins=np.full((len(time_bins)),fill_value=np.nan)\n",
    "    total_time=0\n",
    "    lengths=[]\n",
    "\n",
    "    while total_time<=3600:\n",
    "        rando_block_length=exp_dist[rando_tracker]\n",
    "        context_bins[np.where(time_bins>total_time)[0][0]:np.where(time_bins>total_time+rando_block_length)[0][0]]=current_context\n",
    "\n",
    "        total_time+=rando_block_length\n",
    "        rando_tracker+=1\n",
    "\n",
    "        if current_context==0:\n",
    "            current_context=1\n",
    "        elif current_context==1:\n",
    "            current_context=0\n",
    "        \n",
    "        lengths.append(rando_block_length)\n",
    "\n",
    "    \n",
    "    random_block_info['number of blocks'].append(np.sum(np.abs(np.diff(context_bins[~np.isnan(context_bins)])))+1)\n",
    "    random_block_info['task_duration'].append(total_time)\n",
    "    random_block_info['average_block_length'].append(np.mean(lengths))\n",
    "\n",
    "    # fig,ax=plt.subplots(1,1)\n",
    "    # ax.plot(time_bins,context_bins)\n",
    "    # ax.set_xlim(0,70)\n",
    "    # ax.set_title('number of blocks='+str(np.sum(np.abs(np.diff(context_bins[~np.isnan(context_bins)])))+1)+\n",
    "    #             '; task duration='+str(np.round(total_time,decimals=2))+\n",
    "    #             '; average block length='+str(np.round(np.mean(lengths),decimals=2)))"
   ]
  },
  {
   "cell_type": "code",
   "execution_count": 87,
   "metadata": {},
   "outputs": [
    {
     "data": {
      "image/png": "[encoded data removed]",
      "text/plain": [
       "<Figure size 500x800 with 3 Axes>"
      ]
     },
     "metadata": {},
     "output_type": "display_data"
    }
   ],
   "source": [
    "fig,ax=plt.subplots(3,1,figsize=(5,8))\n",
    "ax[0].hist(random_block_info['number of blocks'],bins=np.arange(4,13,1))\n",
    "ax[0].set_title('number of blocks')\n",
    "\n",
    "ax[1].hist(random_block_info['task_duration'])\n",
    "ax[1].set_title('task duration')\n",
    "ax[1].set_xlabel('seconds')\n",
    "\n",
    "ax[2].hist(random_block_info['average_block_length'])\n",
    "ax[2].set_title('average block length')\n",
    "ax[2].set_xlabel('seconds')\n",
    "\n",
    "fig.tight_layout()"
   ]
  },
  {
   "cell_type": "code",
   "execution_count": 57,
   "metadata": {},
   "outputs": [],
   "source": [
    "# np.sum(np.abs(np.diff(context_bins[~np.isnan(context_bins)])))+1"
   ]
  },
  {
   "cell_type": "code",
   "execution_count": 56,
   "metadata": {},
   "outputs": [],
   "source": [
    "# np.where(time_bins>total_time)[0]"
   ]
  },
  {
   "cell_type": "code",
   "execution_count": 107,
   "metadata": {},
   "outputs": [],
   "source": [
    "block_shuffle_type='exponential'\n",
    "all_block_index_psuedo=[]\n",
    "all_block_lengths_pseudo=[]\n",
    "all_block_contexts_pseudo=[]\n",
    "\n",
    "block_index_pseudo=[]\n",
    "pred_var_pseudo=[]\n",
    "\n",
    "for nn in range(0,n_block_repeats):\n",
    "    current_context=np.random.choice([0,1],1,replace=False)\n",
    "    fake_context=np.full(len(trials[:]), fill_value='nan')\n",
    "    fake_block_nums=np.full(len(trials[:]), fill_value=np.nan)\n",
    "    # =block_context\n",
    "    total_time=0\n",
    "    current_block_index=0\n",
    "    block_lengths=[]\n",
    "    block_contexts=[]\n",
    "    block_index=[]\n",
    "\n",
    "    while total_time<=3600:\n",
    "        if block_shuffle_type=='exponential':\n",
    "            rando_block_length=random.expovariate(1/exp_block_duration_mean)+exp_block_duration_min\n",
    "        elif block_shuffle_type=='uniform':\n",
    "            rando_block_length=random.uniform(exp_block_duration_min,exp_block_duration_max)\n",
    "        if rando_block_length>exp_block_duration_max:\n",
    "            rando_block_length=exp_block_duration_max\n",
    "\n",
    "        if current_context==0:\n",
    "            current_context=1\n",
    "        elif current_context==1:\n",
    "            current_context=0\n",
    "        \n",
    "        block_lengths.append(rando_block_length)\n",
    "        block_contexts.append(current_context)\n",
    "        block_index.append(current_block_index)\n",
    "        total_time+=rando_block_length\n",
    "        current_block_index+=1\n",
    "\n",
    "    all_block_lengths_pseudo.append(np.hstack(block_lengths))\n",
    "    all_block_contexts_pseudo.append(np.hstack(block_contexts))\n",
    "    all_block_index_psuedo.append(np.hstack(block_index))\n",
    "\n",
    "    #apply to trials\n",
    "    for block in range(0,len(block_lengths)):\n",
    "        block_start_time=start_time+np.sum(block_lengths[:block])\n",
    "        if block_start_time<=trials[:]['start_time'].iloc[-1]:\n",
    "            block_trials=trials[:].query('start_time>=@block_start_time').index\n",
    "            fake_context[block_trials]=block_context_names[block_contexts[block]]\n",
    "            fake_block_nums[block_trials]=block\n",
    "\n",
    "    block_index_pseudo.append(fake_block_nums[trial_sel])\n",
    "    pred_var_pseudo.append(fake_context[trial_sel])"
   ]
  },
  {
   "cell_type": "code",
   "execution_count": 110,
   "metadata": {},
   "outputs": [
    {
     "data": {
      "text/plain": [
       "[<matplotlib.lines.Line2D at 0x1d9869d4dd0>]"
      ]
     },
     "execution_count": 110,
     "metadata": {},
     "output_type": "execute_result"
    },
    {
     "data": {
      "image/png": "[encoded data removed]",
      "text/plain": [
       "<Figure size 640x480 with 1 Axes>"
      ]
     },
     "metadata": {},
     "output_type": "display_data"
    }
   ],
   "source": [
    "fig,ax=plt.subplots()\n",
    "ax.plot(fake_context=='vis')"
   ]
  }
 ],
 "metadata": {
  "kernelspec": {
   "display_name": "npc_analysis",
   "language": "python",
   "name": "python3"
  },
  "language_info": {
   "codemirror_mode": {
    "name": "ipython",
    "version": 3
   },
   "file_extension": ".py",
   "mimetype": "text/x-python",
   "name": "python",
   "nbconvert_exporter": "python",
   "pygments_lexer": "ipython3",
   "version": "3.11.5"
  }
 },
 "nbformat": 4,
 "nbformat_minor": 2
}
